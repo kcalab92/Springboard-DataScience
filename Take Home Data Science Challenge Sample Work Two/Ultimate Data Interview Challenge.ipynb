{
 "cells": [
  {
   "cell_type": "markdown",
   "metadata": {},
   "source": [
    "### Part One - Exploratory data analys"
   ]
  },
  {
   "cell_type": "code",
   "execution_count": 1,
   "metadata": {
    "collapsed": true
   },
   "outputs": [],
   "source": [
    "import pandas as pd\n",
    "import json\n",
    "from pandas.io.json import json_normalize\n",
    "import seaborn as sns\n",
    "import matplotlib.pyplot as plt\n",
    "from datetime import datetime\n",
    "import matplotlib.dates as d\n",
    "#import libraries\n",
    "import pandas as pd\n",
    "import matplotlib.pyplot as plt\n",
    "from datetime import date\n",
    "%matplotlib inline"
   ]
  },
  {
   "cell_type": "code",
   "execution_count": 2,
   "metadata": {
    "collapsed": true
   },
   "outputs": [],
   "source": [
    "logins = pd.read_json('logins.json')"
   ]
  },
  {
   "cell_type": "code",
   "execution_count": 3,
   "metadata": {},
   "outputs": [
    {
     "name": "stdout",
     "output_type": "stream",
     "text": [
      "<class 'pandas.core.frame.DataFrame'>\n",
      "Int64Index: 93142 entries, 0 to 93141\n",
      "Data columns (total 1 columns):\n",
      "login_time    93142 non-null datetime64[ns]\n",
      "dtypes: datetime64[ns](1)\n",
      "memory usage: 1.4 MB\n"
     ]
    }
   ],
   "source": [
    "logins.info()"
   ]
  },
  {
   "cell_type": "code",
   "execution_count": 4,
   "metadata": {},
   "outputs": [
    {
     "data": {
      "text/html": [
       "<div>\n",
       "<style>\n",
       "    .dataframe thead tr:only-child th {\n",
       "        text-align: right;\n",
       "    }\n",
       "\n",
       "    .dataframe thead th {\n",
       "        text-align: left;\n",
       "    }\n",
       "\n",
       "    .dataframe tbody tr th {\n",
       "        vertical-align: top;\n",
       "    }\n",
       "</style>\n",
       "<table border=\"1\" class=\"dataframe\">\n",
       "  <thead>\n",
       "    <tr style=\"text-align: right;\">\n",
       "      <th></th>\n",
       "      <th>login_time</th>\n",
       "    </tr>\n",
       "  </thead>\n",
       "  <tbody>\n",
       "    <tr>\n",
       "      <th>0</th>\n",
       "      <td>1970-01-01 20:13:18</td>\n",
       "    </tr>\n",
       "    <tr>\n",
       "      <th>1</th>\n",
       "      <td>1970-01-01 20:16:10</td>\n",
       "    </tr>\n",
       "    <tr>\n",
       "      <th>2</th>\n",
       "      <td>1970-01-01 20:16:37</td>\n",
       "    </tr>\n",
       "    <tr>\n",
       "      <th>3</th>\n",
       "      <td>1970-01-01 20:16:36</td>\n",
       "    </tr>\n",
       "    <tr>\n",
       "      <th>4</th>\n",
       "      <td>1970-01-01 20:26:21</td>\n",
       "    </tr>\n",
       "  </tbody>\n",
       "</table>\n",
       "</div>"
      ],
      "text/plain": [
       "           login_time\n",
       "0 1970-01-01 20:13:18\n",
       "1 1970-01-01 20:16:10\n",
       "2 1970-01-01 20:16:37\n",
       "3 1970-01-01 20:16:36\n",
       "4 1970-01-01 20:26:21"
      ]
     },
     "execution_count": 4,
     "metadata": {},
     "output_type": "execute_result"
    }
   ],
   "source": [
    "logins.head()"
   ]
  },
  {
   "cell_type": "code",
   "execution_count": 5,
   "metadata": {
    "collapsed": true
   },
   "outputs": [],
   "source": [
    "logins2 = logins\n",
    "logins2['count'] = 0"
   ]
  },
  {
   "cell_type": "code",
   "execution_count": 6,
   "metadata": {
    "collapsed": true
   },
   "outputs": [],
   "source": [
    "logins2 = logins2.set_index('login_time').groupby(pd.TimeGrouper('900s')).count()"
   ]
  },
  {
   "cell_type": "code",
   "execution_count": 7,
   "metadata": {
    "collapsed": true
   },
   "outputs": [],
   "source": [
    "logins2 = logins2.reset_index()"
   ]
  },
  {
   "cell_type": "code",
   "execution_count": 8,
   "metadata": {
    "collapsed": true
   },
   "outputs": [],
   "source": [
    "index = logins2.index.values.astype(str)"
   ]
  },
  {
   "cell_type": "code",
   "execution_count": 9,
   "metadata": {},
   "outputs": [
    {
     "name": "stderr",
     "output_type": "stream",
     "text": [
      "/anaconda/lib/python3.6/site-packages/pandas/core/frame.py:3055: FutureWarning: elementwise comparison failed; returning scalar instead, but in the future will perform elementwise comparison\n",
      "  if level is None or i in level:\n"
     ]
    },
    {
     "data": {
      "text/html": [
       "<div>\n",
       "<style>\n",
       "    .dataframe thead tr:only-child th {\n",
       "        text-align: right;\n",
       "    }\n",
       "\n",
       "    .dataframe thead th {\n",
       "        text-align: left;\n",
       "    }\n",
       "\n",
       "    .dataframe tbody tr th {\n",
       "        vertical-align: top;\n",
       "    }\n",
       "</style>\n",
       "<table border=\"1\" class=\"dataframe\">\n",
       "  <thead>\n",
       "    <tr style=\"text-align: right;\">\n",
       "      <th></th>\n",
       "      <th>login_time</th>\n",
       "      <th>count</th>\n",
       "    </tr>\n",
       "  </thead>\n",
       "  <tbody>\n",
       "    <tr>\n",
       "      <th>0</th>\n",
       "      <td>1970-01-01 20:00:00</td>\n",
       "      <td>2</td>\n",
       "    </tr>\n",
       "    <tr>\n",
       "      <th>1</th>\n",
       "      <td>1970-01-01 20:15:00</td>\n",
       "      <td>6</td>\n",
       "    </tr>\n",
       "    <tr>\n",
       "      <th>2</th>\n",
       "      <td>1970-01-01 20:30:00</td>\n",
       "      <td>9</td>\n",
       "    </tr>\n",
       "    <tr>\n",
       "      <th>3</th>\n",
       "      <td>1970-01-01 20:45:00</td>\n",
       "      <td>7</td>\n",
       "    </tr>\n",
       "    <tr>\n",
       "      <th>4</th>\n",
       "      <td>1970-01-01 21:00:00</td>\n",
       "      <td>1</td>\n",
       "    </tr>\n",
       "    <tr>\n",
       "      <th>5</th>\n",
       "      <td>1970-01-01 21:15:00</td>\n",
       "      <td>4</td>\n",
       "    </tr>\n",
       "    <tr>\n",
       "      <th>6</th>\n",
       "      <td>1970-01-01 21:30:00</td>\n",
       "      <td>0</td>\n",
       "    </tr>\n",
       "    <tr>\n",
       "      <th>7</th>\n",
       "      <td>1970-01-01 21:45:00</td>\n",
       "      <td>4</td>\n",
       "    </tr>\n",
       "    <tr>\n",
       "      <th>8</th>\n",
       "      <td>1970-01-01 22:00:00</td>\n",
       "      <td>9</td>\n",
       "    </tr>\n",
       "    <tr>\n",
       "      <th>9</th>\n",
       "      <td>1970-01-01 22:15:00</td>\n",
       "      <td>8</td>\n",
       "    </tr>\n",
       "    <tr>\n",
       "      <th>10</th>\n",
       "      <td>1970-01-01 22:30:00</td>\n",
       "      <td>1</td>\n",
       "    </tr>\n",
       "    <tr>\n",
       "      <th>11</th>\n",
       "      <td>1970-01-01 22:45:00</td>\n",
       "      <td>3</td>\n",
       "    </tr>\n",
       "    <tr>\n",
       "      <th>12</th>\n",
       "      <td>1970-01-01 23:00:00</td>\n",
       "      <td>16</td>\n",
       "    </tr>\n",
       "    <tr>\n",
       "      <th>13</th>\n",
       "      <td>1970-01-01 23:15:00</td>\n",
       "      <td>13</td>\n",
       "    </tr>\n",
       "    <tr>\n",
       "      <th>14</th>\n",
       "      <td>1970-01-01 23:30:00</td>\n",
       "      <td>14</td>\n",
       "    </tr>\n",
       "    <tr>\n",
       "      <th>15</th>\n",
       "      <td>1970-01-01 23:45:00</td>\n",
       "      <td>15</td>\n",
       "    </tr>\n",
       "    <tr>\n",
       "      <th>16</th>\n",
       "      <td>1970-01-02 00:00:00</td>\n",
       "      <td>10</td>\n",
       "    </tr>\n",
       "    <tr>\n",
       "      <th>17</th>\n",
       "      <td>1970-01-02 00:15:00</td>\n",
       "      <td>18</td>\n",
       "    </tr>\n",
       "    <tr>\n",
       "      <th>18</th>\n",
       "      <td>1970-01-02 00:30:00</td>\n",
       "      <td>12</td>\n",
       "    </tr>\n",
       "    <tr>\n",
       "      <th>19</th>\n",
       "      <td>1970-01-02 00:45:00</td>\n",
       "      <td>13</td>\n",
       "    </tr>\n",
       "    <tr>\n",
       "      <th>20</th>\n",
       "      <td>1970-01-02 01:00:00</td>\n",
       "      <td>9</td>\n",
       "    </tr>\n",
       "    <tr>\n",
       "      <th>21</th>\n",
       "      <td>1970-01-02 01:15:00</td>\n",
       "      <td>8</td>\n",
       "    </tr>\n",
       "    <tr>\n",
       "      <th>22</th>\n",
       "      <td>1970-01-02 01:30:00</td>\n",
       "      <td>10</td>\n",
       "    </tr>\n",
       "    <tr>\n",
       "      <th>23</th>\n",
       "      <td>1970-01-02 01:45:00</td>\n",
       "      <td>6</td>\n",
       "    </tr>\n",
       "    <tr>\n",
       "      <th>24</th>\n",
       "      <td>1970-01-02 02:00:00</td>\n",
       "      <td>7</td>\n",
       "    </tr>\n",
       "    <tr>\n",
       "      <th>25</th>\n",
       "      <td>1970-01-02 02:15:00</td>\n",
       "      <td>18</td>\n",
       "    </tr>\n",
       "    <tr>\n",
       "      <th>26</th>\n",
       "      <td>1970-01-02 02:30:00</td>\n",
       "      <td>12</td>\n",
       "    </tr>\n",
       "    <tr>\n",
       "      <th>27</th>\n",
       "      <td>1970-01-02 02:45:00</td>\n",
       "      <td>6</td>\n",
       "    </tr>\n",
       "    <tr>\n",
       "      <th>28</th>\n",
       "      <td>1970-01-02 03:00:00</td>\n",
       "      <td>12</td>\n",
       "    </tr>\n",
       "    <tr>\n",
       "      <th>29</th>\n",
       "      <td>1970-01-02 03:15:00</td>\n",
       "      <td>5</td>\n",
       "    </tr>\n",
       "    <tr>\n",
       "      <th>...</th>\n",
       "      <td>...</td>\n",
       "      <td>...</td>\n",
       "    </tr>\n",
       "    <tr>\n",
       "      <th>9758</th>\n",
       "      <td>1970-04-13 11:30:00</td>\n",
       "      <td>13</td>\n",
       "    </tr>\n",
       "    <tr>\n",
       "      <th>9759</th>\n",
       "      <td>1970-04-13 11:45:00</td>\n",
       "      <td>7</td>\n",
       "    </tr>\n",
       "    <tr>\n",
       "      <th>9760</th>\n",
       "      <td>1970-04-13 12:00:00</td>\n",
       "      <td>6</td>\n",
       "    </tr>\n",
       "    <tr>\n",
       "      <th>9761</th>\n",
       "      <td>1970-04-13 12:15:00</td>\n",
       "      <td>11</td>\n",
       "    </tr>\n",
       "    <tr>\n",
       "      <th>9762</th>\n",
       "      <td>1970-04-13 12:30:00</td>\n",
       "      <td>8</td>\n",
       "    </tr>\n",
       "    <tr>\n",
       "      <th>9763</th>\n",
       "      <td>1970-04-13 12:45:00</td>\n",
       "      <td>11</td>\n",
       "    </tr>\n",
       "    <tr>\n",
       "      <th>9764</th>\n",
       "      <td>1970-04-13 13:00:00</td>\n",
       "      <td>5</td>\n",
       "    </tr>\n",
       "    <tr>\n",
       "      <th>9765</th>\n",
       "      <td>1970-04-13 13:15:00</td>\n",
       "      <td>4</td>\n",
       "    </tr>\n",
       "    <tr>\n",
       "      <th>9766</th>\n",
       "      <td>1970-04-13 13:30:00</td>\n",
       "      <td>6</td>\n",
       "    </tr>\n",
       "    <tr>\n",
       "      <th>9767</th>\n",
       "      <td>1970-04-13 13:45:00</td>\n",
       "      <td>5</td>\n",
       "    </tr>\n",
       "    <tr>\n",
       "      <th>9768</th>\n",
       "      <td>1970-04-13 14:00:00</td>\n",
       "      <td>4</td>\n",
       "    </tr>\n",
       "    <tr>\n",
       "      <th>9769</th>\n",
       "      <td>1970-04-13 14:15:00</td>\n",
       "      <td>8</td>\n",
       "    </tr>\n",
       "    <tr>\n",
       "      <th>9770</th>\n",
       "      <td>1970-04-13 14:30:00</td>\n",
       "      <td>8</td>\n",
       "    </tr>\n",
       "    <tr>\n",
       "      <th>9771</th>\n",
       "      <td>1970-04-13 14:45:00</td>\n",
       "      <td>12</td>\n",
       "    </tr>\n",
       "    <tr>\n",
       "      <th>9772</th>\n",
       "      <td>1970-04-13 15:00:00</td>\n",
       "      <td>10</td>\n",
       "    </tr>\n",
       "    <tr>\n",
       "      <th>9773</th>\n",
       "      <td>1970-04-13 15:15:00</td>\n",
       "      <td>4</td>\n",
       "    </tr>\n",
       "    <tr>\n",
       "      <th>9774</th>\n",
       "      <td>1970-04-13 15:30:00</td>\n",
       "      <td>3</td>\n",
       "    </tr>\n",
       "    <tr>\n",
       "      <th>9775</th>\n",
       "      <td>1970-04-13 15:45:00</td>\n",
       "      <td>2</td>\n",
       "    </tr>\n",
       "    <tr>\n",
       "      <th>9776</th>\n",
       "      <td>1970-04-13 16:00:00</td>\n",
       "      <td>7</td>\n",
       "    </tr>\n",
       "    <tr>\n",
       "      <th>9777</th>\n",
       "      <td>1970-04-13 16:15:00</td>\n",
       "      <td>8</td>\n",
       "    </tr>\n",
       "    <tr>\n",
       "      <th>9778</th>\n",
       "      <td>1970-04-13 16:30:00</td>\n",
       "      <td>4</td>\n",
       "    </tr>\n",
       "    <tr>\n",
       "      <th>9779</th>\n",
       "      <td>1970-04-13 16:45:00</td>\n",
       "      <td>3</td>\n",
       "    </tr>\n",
       "    <tr>\n",
       "      <th>9780</th>\n",
       "      <td>1970-04-13 17:00:00</td>\n",
       "      <td>5</td>\n",
       "    </tr>\n",
       "    <tr>\n",
       "      <th>9781</th>\n",
       "      <td>1970-04-13 17:15:00</td>\n",
       "      <td>3</td>\n",
       "    </tr>\n",
       "    <tr>\n",
       "      <th>9782</th>\n",
       "      <td>1970-04-13 17:30:00</td>\n",
       "      <td>9</td>\n",
       "    </tr>\n",
       "    <tr>\n",
       "      <th>9783</th>\n",
       "      <td>1970-04-13 17:45:00</td>\n",
       "      <td>5</td>\n",
       "    </tr>\n",
       "    <tr>\n",
       "      <th>9784</th>\n",
       "      <td>1970-04-13 18:00:00</td>\n",
       "      <td>5</td>\n",
       "    </tr>\n",
       "    <tr>\n",
       "      <th>9785</th>\n",
       "      <td>1970-04-13 18:15:00</td>\n",
       "      <td>2</td>\n",
       "    </tr>\n",
       "    <tr>\n",
       "      <th>9786</th>\n",
       "      <td>1970-04-13 18:30:00</td>\n",
       "      <td>7</td>\n",
       "    </tr>\n",
       "    <tr>\n",
       "      <th>9787</th>\n",
       "      <td>1970-04-13 18:45:00</td>\n",
       "      <td>6</td>\n",
       "    </tr>\n",
       "  </tbody>\n",
       "</table>\n",
       "<p>9788 rows × 2 columns</p>\n",
       "</div>"
      ],
      "text/plain": [
       "              login_time  count\n",
       "0    1970-01-01 20:00:00      2\n",
       "1    1970-01-01 20:15:00      6\n",
       "2    1970-01-01 20:30:00      9\n",
       "3    1970-01-01 20:45:00      7\n",
       "4    1970-01-01 21:00:00      1\n",
       "5    1970-01-01 21:15:00      4\n",
       "6    1970-01-01 21:30:00      0\n",
       "7    1970-01-01 21:45:00      4\n",
       "8    1970-01-01 22:00:00      9\n",
       "9    1970-01-01 22:15:00      8\n",
       "10   1970-01-01 22:30:00      1\n",
       "11   1970-01-01 22:45:00      3\n",
       "12   1970-01-01 23:00:00     16\n",
       "13   1970-01-01 23:15:00     13\n",
       "14   1970-01-01 23:30:00     14\n",
       "15   1970-01-01 23:45:00     15\n",
       "16   1970-01-02 00:00:00     10\n",
       "17   1970-01-02 00:15:00     18\n",
       "18   1970-01-02 00:30:00     12\n",
       "19   1970-01-02 00:45:00     13\n",
       "20   1970-01-02 01:00:00      9\n",
       "21   1970-01-02 01:15:00      8\n",
       "22   1970-01-02 01:30:00     10\n",
       "23   1970-01-02 01:45:00      6\n",
       "24   1970-01-02 02:00:00      7\n",
       "25   1970-01-02 02:15:00     18\n",
       "26   1970-01-02 02:30:00     12\n",
       "27   1970-01-02 02:45:00      6\n",
       "28   1970-01-02 03:00:00     12\n",
       "29   1970-01-02 03:15:00      5\n",
       "...                  ...    ...\n",
       "9758 1970-04-13 11:30:00     13\n",
       "9759 1970-04-13 11:45:00      7\n",
       "9760 1970-04-13 12:00:00      6\n",
       "9761 1970-04-13 12:15:00     11\n",
       "9762 1970-04-13 12:30:00      8\n",
       "9763 1970-04-13 12:45:00     11\n",
       "9764 1970-04-13 13:00:00      5\n",
       "9765 1970-04-13 13:15:00      4\n",
       "9766 1970-04-13 13:30:00      6\n",
       "9767 1970-04-13 13:45:00      5\n",
       "9768 1970-04-13 14:00:00      4\n",
       "9769 1970-04-13 14:15:00      8\n",
       "9770 1970-04-13 14:30:00      8\n",
       "9771 1970-04-13 14:45:00     12\n",
       "9772 1970-04-13 15:00:00     10\n",
       "9773 1970-04-13 15:15:00      4\n",
       "9774 1970-04-13 15:30:00      3\n",
       "9775 1970-04-13 15:45:00      2\n",
       "9776 1970-04-13 16:00:00      7\n",
       "9777 1970-04-13 16:15:00      8\n",
       "9778 1970-04-13 16:30:00      4\n",
       "9779 1970-04-13 16:45:00      3\n",
       "9780 1970-04-13 17:00:00      5\n",
       "9781 1970-04-13 17:15:00      3\n",
       "9782 1970-04-13 17:30:00      9\n",
       "9783 1970-04-13 17:45:00      5\n",
       "9784 1970-04-13 18:00:00      5\n",
       "9785 1970-04-13 18:15:00      2\n",
       "9786 1970-04-13 18:30:00      7\n",
       "9787 1970-04-13 18:45:00      6\n",
       "\n",
       "[9788 rows x 2 columns]"
      ]
     },
     "execution_count": 9,
     "metadata": {},
     "output_type": "execute_result"
    }
   ],
   "source": [
    "logins2.reset_index(index)"
   ]
  },
  {
   "cell_type": "code",
   "execution_count": 10,
   "metadata": {},
   "outputs": [
    {
     "data": {
      "text/plain": [
       "Index(['login_time', 'count'], dtype='object')"
      ]
     },
     "execution_count": 10,
     "metadata": {},
     "output_type": "execute_result"
    }
   ],
   "source": [
    "logins2.columns"
   ]
  },
  {
   "cell_type": "code",
   "execution_count": 11,
   "metadata": {},
   "outputs": [
    {
     "name": "stdout",
     "output_type": "stream",
     "text": [
      "<class 'pandas.core.frame.DataFrame'>\n",
      "RangeIndex: 9788 entries, 0 to 9787\n",
      "Data columns (total 2 columns):\n",
      "login_time    9788 non-null datetime64[ns]\n",
      "count         9788 non-null int64\n",
      "dtypes: datetime64[ns](1), int64(1)\n",
      "memory usage: 153.0 KB\n"
     ]
    }
   ],
   "source": [
    "logins2.info()"
   ]
  },
  {
   "cell_type": "code",
   "execution_count": 12,
   "metadata": {
    "collapsed": true
   },
   "outputs": [],
   "source": [
    "df = pd.DataFrame({'my_dates':['2015-01-01','2015-01-02','2015-01-03'],'myvals':[1,2,3]})\n",
    "df['my_dates'] = pd.to_datetime(df['my_dates'])\n",
    "df['day_of_week'] = df['my_dates'].dt.weekday_name"
   ]
  },
  {
   "cell_type": "code",
   "execution_count": 13,
   "metadata": {},
   "outputs": [
    {
     "data": {
      "text/plain": [
       "pandas._libs.tslib.Timestamp"
      ]
     },
     "execution_count": 13,
     "metadata": {},
     "output_type": "execute_result"
    }
   ],
   "source": [
    "type(df['my_dates'][1])"
   ]
  },
  {
   "cell_type": "code",
   "execution_count": 14,
   "metadata": {},
   "outputs": [
    {
     "data": {
      "text/plain": [
       "pandas._libs.tslib.Timestamp"
      ]
     },
     "execution_count": 14,
     "metadata": {},
     "output_type": "execute_result"
    }
   ],
   "source": [
    "type(logins2['login_time'][1])"
   ]
  },
  {
   "cell_type": "code",
   "execution_count": 15,
   "metadata": {
    "collapsed": true
   },
   "outputs": [],
   "source": [
    "logins2['date_num'] = d.date2num(list(pd.to_datetime(logins2.login_time)))\n",
    "logins2['day_of_week'] = logins2['login_time'].dt.weekday_name\n",
    "logins2['day_week_num'] = logins2['login_time'].dt.weekday\n",
    "logins2['month'] = logins2['login_time'].apply(\n",
    "    lambda x: x.strftime(\"%B\"))\n",
    "logins2['time'] = logins2['login_time'].dt.time\n",
    "logins2['time'] = logins2['time'].apply(\n",
    "lambda x: datetime.strptime(str(x), '%H:%M:%S').strftime('%I:%M %p'))\n",
    "logins2['week'] = logins2['login_time'].dt.week"
   ]
  },
  {
   "cell_type": "code",
   "execution_count": 83,
   "metadata": {
    "collapsed": true
   },
   "outputs": [],
   "source": [
    "logins2['day_of_week'] = logins2['login_time'].dt.weekday_name"
   ]
  },
  {
   "cell_type": "code",
   "execution_count": 84,
   "metadata": {
    "collapsed": true
   },
   "outputs": [],
   "source": [
    "logins2['day_week_num'] = logins2['login_time'].dt.weekday"
   ]
  },
  {
   "cell_type": "code",
   "execution_count": 85,
   "metadata": {
    "collapsed": true
   },
   "outputs": [],
   "source": [
    "logins2['month'] = logins2['login_time'].apply(\n",
    "    lambda x: x.strftime(\"%B\"))"
   ]
  },
  {
   "cell_type": "code",
   "execution_count": 86,
   "metadata": {
    "collapsed": true
   },
   "outputs": [],
   "source": [
    "logins2['time'] = logins2['login_time'].dt.time"
   ]
  },
  {
   "cell_type": "code",
   "execution_count": 20,
   "metadata": {
    "collapsed": true
   },
   "outputs": [],
   "source": [
    "logins2['time'] = logins2['time'].apply(\n",
    "lambda x: datetime.strptime(str(x), '%H:%M:%S').strftime('%I:%M %p'))"
   ]
  },
  {
   "cell_type": "code",
   "execution_count": 21,
   "metadata": {
    "collapsed": true
   },
   "outputs": [],
   "source": [
    "logins2['time'] = logins2['login_time'].dt.time"
   ]
  },
  {
   "cell_type": "code",
   "execution_count": 22,
   "metadata": {
    "collapsed": true
   },
   "outputs": [],
   "source": [
    "logins2['week'] = logins2['login_time'].dt.week"
   ]
  },
  {
   "cell_type": "code",
   "execution_count": 23,
   "metadata": {},
   "outputs": [
    {
     "name": "stdout",
     "output_type": "stream",
     "text": [
      "<class 'pandas.core.frame.DataFrame'>\n",
      "RangeIndex: 9788 entries, 0 to 9787\n",
      "Data columns (total 8 columns):\n",
      "login_time      9788 non-null datetime64[ns]\n",
      "count           9788 non-null int64\n",
      "date_num        9788 non-null float64\n",
      "day_of_week     9788 non-null object\n",
      "day_week_num    9788 non-null int64\n",
      "month           9788 non-null object\n",
      "time            9788 non-null object\n",
      "week            9788 non-null int64\n",
      "dtypes: datetime64[ns](1), float64(1), int64(3), object(3)\n",
      "memory usage: 611.8+ KB\n"
     ]
    }
   ],
   "source": [
    "logins2.info()"
   ]
  },
  {
   "cell_type": "code",
   "execution_count": 24,
   "metadata": {},
   "outputs": [
    {
     "data": {
      "text/html": [
       "<div>\n",
       "<style>\n",
       "    .dataframe thead tr:only-child th {\n",
       "        text-align: right;\n",
       "    }\n",
       "\n",
       "    .dataframe thead th {\n",
       "        text-align: left;\n",
       "    }\n",
       "\n",
       "    .dataframe tbody tr th {\n",
       "        vertical-align: top;\n",
       "    }\n",
       "</style>\n",
       "<table border=\"1\" class=\"dataframe\">\n",
       "  <thead>\n",
       "    <tr style=\"text-align: right;\">\n",
       "      <th></th>\n",
       "      <th>login_time</th>\n",
       "      <th>count</th>\n",
       "      <th>date_num</th>\n",
       "      <th>day_of_week</th>\n",
       "      <th>day_week_num</th>\n",
       "      <th>month</th>\n",
       "      <th>time</th>\n",
       "      <th>week</th>\n",
       "    </tr>\n",
       "  </thead>\n",
       "  <tbody>\n",
       "    <tr>\n",
       "      <th>0</th>\n",
       "      <td>1970-01-01 20:00:00</td>\n",
       "      <td>2</td>\n",
       "      <td>719163.833333</td>\n",
       "      <td>Thursday</td>\n",
       "      <td>3</td>\n",
       "      <td>January</td>\n",
       "      <td>20:00:00</td>\n",
       "      <td>1</td>\n",
       "    </tr>\n",
       "    <tr>\n",
       "      <th>1</th>\n",
       "      <td>1970-01-01 20:15:00</td>\n",
       "      <td>6</td>\n",
       "      <td>719163.843750</td>\n",
       "      <td>Thursday</td>\n",
       "      <td>3</td>\n",
       "      <td>January</td>\n",
       "      <td>20:15:00</td>\n",
       "      <td>1</td>\n",
       "    </tr>\n",
       "    <tr>\n",
       "      <th>2</th>\n",
       "      <td>1970-01-01 20:30:00</td>\n",
       "      <td>9</td>\n",
       "      <td>719163.854167</td>\n",
       "      <td>Thursday</td>\n",
       "      <td>3</td>\n",
       "      <td>January</td>\n",
       "      <td>20:30:00</td>\n",
       "      <td>1</td>\n",
       "    </tr>\n",
       "    <tr>\n",
       "      <th>3</th>\n",
       "      <td>1970-01-01 20:45:00</td>\n",
       "      <td>7</td>\n",
       "      <td>719163.864583</td>\n",
       "      <td>Thursday</td>\n",
       "      <td>3</td>\n",
       "      <td>January</td>\n",
       "      <td>20:45:00</td>\n",
       "      <td>1</td>\n",
       "    </tr>\n",
       "    <tr>\n",
       "      <th>4</th>\n",
       "      <td>1970-01-01 21:00:00</td>\n",
       "      <td>1</td>\n",
       "      <td>719163.875000</td>\n",
       "      <td>Thursday</td>\n",
       "      <td>3</td>\n",
       "      <td>January</td>\n",
       "      <td>21:00:00</td>\n",
       "      <td>1</td>\n",
       "    </tr>\n",
       "  </tbody>\n",
       "</table>\n",
       "</div>"
      ],
      "text/plain": [
       "           login_time  count       date_num day_of_week  day_week_num  \\\n",
       "0 1970-01-01 20:00:00      2  719163.833333    Thursday             3   \n",
       "1 1970-01-01 20:15:00      6  719163.843750    Thursday             3   \n",
       "2 1970-01-01 20:30:00      9  719163.854167    Thursday             3   \n",
       "3 1970-01-01 20:45:00      7  719163.864583    Thursday             3   \n",
       "4 1970-01-01 21:00:00      1  719163.875000    Thursday             3   \n",
       "\n",
       "     month      time  week  \n",
       "0  January  20:00:00     1  \n",
       "1  January  20:15:00     1  \n",
       "2  January  20:30:00     1  \n",
       "3  January  20:45:00     1  \n",
       "4  January  21:00:00     1  "
      ]
     },
     "execution_count": 24,
     "metadata": {},
     "output_type": "execute_result"
    }
   ],
   "source": [
    "logins2.head()"
   ]
  },
  {
   "cell_type": "code",
   "execution_count": 25,
   "metadata": {
    "collapsed": true
   },
   "outputs": [],
   "source": [
    "week_count = logins2.groupby('week')['count'].sum()"
   ]
  },
  {
   "cell_type": "code",
   "execution_count": 26,
   "metadata": {},
   "outputs": [
    {
     "data": {
      "image/png": "[encoded data removed]",
      "text/plain": [
       "<matplotlib.figure.Figure at 0x107fc34a8>"
      ]
     },
     "metadata": {},
     "output_type": "display_data"
    }
   ],
   "source": [
    "type(week_count)\n",
    "plt.plot(week_count.index, week_count)\n",
    "plt.show()"
   ]
  },
  {
   "cell_type": "code",
   "execution_count": 27,
   "metadata": {},
   "outputs": [
    {
     "data": {
      "text/html": [
       "<div>\n",
       "<style>\n",
       "    .dataframe thead tr:only-child th {\n",
       "        text-align: right;\n",
       "    }\n",
       "\n",
       "    .dataframe thead th {\n",
       "        text-align: left;\n",
       "    }\n",
       "\n",
       "    .dataframe tbody tr th {\n",
       "        vertical-align: top;\n",
       "    }\n",
       "</style>\n",
       "<table border=\"1\" class=\"dataframe\">\n",
       "  <thead>\n",
       "    <tr style=\"text-align: right;\">\n",
       "      <th></th>\n",
       "      <th>day_of_week</th>\n",
       "      <th>count</th>\n",
       "    </tr>\n",
       "  </thead>\n",
       "  <tbody>\n",
       "    <tr>\n",
       "      <th>0</th>\n",
       "      <td>Friday</td>\n",
       "      <td>15208</td>\n",
       "    </tr>\n",
       "    <tr>\n",
       "      <th>1</th>\n",
       "      <td>Monday</td>\n",
       "      <td>8823</td>\n",
       "    </tr>\n",
       "    <tr>\n",
       "      <th>2</th>\n",
       "      <td>Saturday</td>\n",
       "      <td>19377</td>\n",
       "    </tr>\n",
       "    <tr>\n",
       "      <th>3</th>\n",
       "      <td>Sunday</td>\n",
       "      <td>18167</td>\n",
       "    </tr>\n",
       "    <tr>\n",
       "      <th>4</th>\n",
       "      <td>Thursday</td>\n",
       "      <td>11960</td>\n",
       "    </tr>\n",
       "    <tr>\n",
       "      <th>5</th>\n",
       "      <td>Tuesday</td>\n",
       "      <td>9268</td>\n",
       "    </tr>\n",
       "    <tr>\n",
       "      <th>6</th>\n",
       "      <td>Wednesday</td>\n",
       "      <td>10339</td>\n",
       "    </tr>\n",
       "  </tbody>\n",
       "</table>\n",
       "</div>"
      ],
      "text/plain": [
       "  day_of_week  count\n",
       "0      Friday  15208\n",
       "1      Monday   8823\n",
       "2    Saturday  19377\n",
       "3      Sunday  18167\n",
       "4    Thursday  11960\n",
       "5     Tuesday   9268\n",
       "6   Wednesday  10339"
      ]
     },
     "execution_count": 27,
     "metadata": {},
     "output_type": "execute_result"
    }
   ],
   "source": [
    "day_week_count = logins2.groupby('day_of_week')['count'].sum()\n",
    "dwc_df = pd.DataFrame(day_week_count)\n",
    "dwc = dwc_df.reset_index()\n",
    "\n",
    "dwc"
   ]
  },
  {
   "cell_type": "code",
   "execution_count": 28,
   "metadata": {},
   "outputs": [
    {
     "data": {
      "image/png": "[encoded data removed]",
      "text/plain": [
       "<matplotlib.figure.Figure at 0x1a16d874a8>"
      ]
     },
     "metadata": {},
     "output_type": "display_data"
    }
   ],
   "source": [
    "sns.barplot(x='day_of_week', y='count', data=dwc)\n",
    "plt.show()"
   ]
  },
  {
   "cell_type": "code",
   "execution_count": 29,
   "metadata": {},
   "outputs": [
    {
     "data": {
      "text/html": [
       "<div>\n",
       "<style>\n",
       "    .dataframe thead tr:only-child th {\n",
       "        text-align: right;\n",
       "    }\n",
       "\n",
       "    .dataframe thead th {\n",
       "        text-align: left;\n",
       "    }\n",
       "\n",
       "    .dataframe tbody tr th {\n",
       "        vertical-align: top;\n",
       "    }\n",
       "</style>\n",
       "<table border=\"1\" class=\"dataframe\">\n",
       "  <thead>\n",
       "    <tr style=\"text-align: right;\">\n",
       "      <th></th>\n",
       "      <th>month</th>\n",
       "      <th>count</th>\n",
       "    </tr>\n",
       "  </thead>\n",
       "  <tbody>\n",
       "    <tr>\n",
       "      <th>0</th>\n",
       "      <td>April</td>\n",
       "      <td>13507</td>\n",
       "    </tr>\n",
       "    <tr>\n",
       "      <th>1</th>\n",
       "      <td>February</td>\n",
       "      <td>24673</td>\n",
       "    </tr>\n",
       "    <tr>\n",
       "      <th>2</th>\n",
       "      <td>January</td>\n",
       "      <td>21239</td>\n",
       "    </tr>\n",
       "    <tr>\n",
       "      <th>3</th>\n",
       "      <td>March</td>\n",
       "      <td>33723</td>\n",
       "    </tr>\n",
       "  </tbody>\n",
       "</table>\n",
       "</div>"
      ],
      "text/plain": [
       "      month  count\n",
       "0     April  13507\n",
       "1  February  24673\n",
       "2   January  21239\n",
       "3     March  33723"
      ]
     },
     "execution_count": 29,
     "metadata": {},
     "output_type": "execute_result"
    }
   ],
   "source": [
    "mo_count = logins2.groupby('month')['count'].sum()\n",
    "mo_df = pd.DataFrame(mo_count)\n",
    "mo = mo_df.reset_index()\n",
    "mo"
   ]
  },
  {
   "cell_type": "code",
   "execution_count": 30,
   "metadata": {},
   "outputs": [
    {
     "data": {
      "image/png": "[encoded data removed]",
      "text/plain": [
       "<matplotlib.figure.Figure at 0x1a18095710>"
      ]
     },
     "metadata": {},
     "output_type": "display_data"
    }
   ],
   "source": [
    "sns.barplot(x='month', y='count', data=mo)\n",
    "plt.show()"
   ]
  },
  {
   "cell_type": "code",
   "execution_count": 87,
   "metadata": {
    "scrolled": true
   },
   "outputs": [
    {
     "data": {
      "text/plain": [
       "time\n",
       "00:00:00    1439\n",
       "00:15:00    1547\n",
       "00:30:00    1525\n",
       "00:45:00    1482\n",
       "01:00:00    1549\n",
       "01:15:00    1598\n",
       "01:30:00    1673\n",
       "01:45:00    1497\n",
       "02:00:00    1509\n",
       "02:15:00    1526\n",
       "02:30:00    1429\n",
       "02:45:00    1336\n",
       "03:00:00    1275\n",
       "03:15:00    1302\n",
       "03:30:00    1162\n",
       "03:45:00    1092\n",
       "04:00:00    1132\n",
       "04:15:00    1164\n",
       "04:30:00    1334\n",
       "04:45:00    1404\n",
       "05:00:00    1173\n",
       "05:15:00     770\n",
       "05:30:00     545\n",
       "05:45:00     457\n",
       "06:00:00     369\n",
       "06:15:00     320\n",
       "06:30:00     235\n",
       "06:45:00     214\n",
       "07:00:00     219\n",
       "07:15:00     229\n",
       "            ... \n",
       "16:30:00     700\n",
       "16:45:00     714\n",
       "17:00:00     637\n",
       "17:15:00     612\n",
       "17:30:00     644\n",
       "17:45:00     691\n",
       "18:00:00     697\n",
       "18:15:00     690\n",
       "18:30:00     767\n",
       "18:45:00     826\n",
       "19:00:00     768\n",
       "19:15:00     744\n",
       "19:30:00     842\n",
       "19:45:00     881\n",
       "20:00:00     849\n",
       "20:15:00     970\n",
       "20:30:00    1069\n",
       "20:45:00    1215\n",
       "21:00:00    1252\n",
       "21:15:00    1325\n",
       "21:30:00    1492\n",
       "21:45:00    1554\n",
       "22:00:00    1634\n",
       "22:15:00    1652\n",
       "22:30:00    1684\n",
       "22:45:00    1637\n",
       "23:00:00    1573\n",
       "23:15:00    1552\n",
       "23:30:00    1456\n",
       "23:45:00    1477\n",
       "Name: count, Length: 96, dtype: int64"
      ]
     },
     "execution_count": 87,
     "metadata": {},
     "output_type": "execute_result"
    }
   ],
   "source": [
    "time = logins2.groupby('time')['count'].sum()\n",
    "time"
   ]
  },
  {
   "cell_type": "code",
   "execution_count": 91,
   "metadata": {},
   "outputs": [
    {
     "data": {
      "text/plain": [
       "numpy.int64"
      ]
     },
     "execution_count": 91,
     "metadata": {},
     "output_type": "execute_result"
    }
   ],
   "source": [
    "type(time[1])"
   ]
  },
  {
   "cell_type": "code",
   "execution_count": 90,
   "metadata": {},
   "outputs": [
    {
     "data": {
      "image/png": "[encoded data removed]",
      "text/plain": [
       "<matplotlib.figure.Figure at 0x1a27060390>"
      ]
     },
     "metadata": {},
     "output_type": "display_data"
    }
   ],
   "source": [
    "plt.plot(time)\n",
    "plt.show()"
   ]
  },
  {
   "cell_type": "code",
   "execution_count": 33,
   "metadata": {
    "collapsed": true
   },
   "outputs": [],
   "source": [
    "# filters weekdays into groupings based on similar/unique characteristics\n",
    "mon_thurs = logins2[logins2['day_week_num'] < 4]\n",
    "fri = logins2[logins2['day_week_num'] == 4]\n",
    "sat = logins2[logins2['day_week_num'] == 5]\n",
    "sun = logins2[logins2['day_week_num'] == 6]"
   ]
  },
  {
   "cell_type": "code",
   "execution_count": 35,
   "metadata": {},
   "outputs": [
    {
     "data": {
      "image/png": "[encoded data removed]",
      "text/plain": [
       "<matplotlib.figure.Figure at 0x1a17ab86a0>"
      ]
     },
     "metadata": {},
     "output_type": "display_data"
    }
   ],
   "source": [
    "# average number of pickups per fifteen minute time period on Mon-Thurs\n",
    "m_th_time =mon_thurs.groupby('time')['count'].sum()\n",
    "fig, ax = plt.subplots(figsize=(15,7))\n",
    "\n",
    "ax.plot(m_th_time)\n",
    "\n",
    "#ax.xaxis.set_major_locator(d.MinuteLocator(15))   #to get a tick every 15 minutes\n",
    "#ax.xaxis.set_major_formatter(d.DateFormatter('%H:%M'))     #optional formatting \n",
    "\n",
    "plt.show()"
   ]
  },
  {
   "cell_type": "code",
   "execution_count": 36,
   "metadata": {},
   "outputs": [
    {
     "data": {
      "text/plain": [
       "datetime.time"
      ]
     },
     "execution_count": 36,
     "metadata": {},
     "output_type": "execute_result"
    }
   ],
   "source": [
    "type(m_th_time.index[1])"
   ]
  },
  {
   "cell_type": "code",
   "execution_count": 37,
   "metadata": {},
   "outputs": [
    {
     "data": {
      "text/plain": [
       "<matplotlib.figure.Figure at 0x108fcdd30>"
      ]
     },
     "metadata": {},
     "output_type": "display_data"
    },
    {
     "data": {
      "image/png": "[encoded data removed]",
      "text/plain": [
       "<matplotlib.figure.Figure at 0x108fcdb00>"
      ]
     },
     "metadata": {},
     "output_type": "display_data"
    }
   ],
   "source": [
    "plt.gcf().clear()\n",
    "\n",
    "fig = plt.figure(num=None, figsize=(10, 8), dpi=80, facecolor='w', edgecolor='k')\n",
    "\n",
    "colors = ['red', 'blue', 'green']\n",
    "i = 1\n",
    "\n",
    "\n",
    "ax = fig.add_subplot(3,2,1)\n",
    "m_th_time =mon_thurs.groupby('time')['count'].sum()\n",
    "plt.plot(m_th_time)\n",
    "plt.title('Avg Num Rides per 15 Mins on Mon-Thurs', fontsize = 10)\n",
    "plt.xlabel('Time')\n",
    "plt.xticks(rotation='vertical')\n",
    "plt.ylabel('Count')\n",
    "\n",
    "ax.xaxis.set_major_locator(d.MinuteLocator())   #to get a tick every 15 minutes\n",
    "ax.xaxis.set_major_formatter(d.DateFormatter('%H:%M'))     #optional formatting \n",
    "\n",
    "plt.subplot(3,2,2)\n",
    "m_th_time_2 = mon_thurs[mon_thurs.week == 2]\n",
    "m_th_time_2 =m_th_time_2.groupby('time')['count'].sum()\n",
    "\n",
    "plt.plot(m_th_time_2)\n",
    "plt.title('Avg Num Rides per 15 Mins on Mon-Thurs in Wk 2', fontsize = 10)\n",
    "plt.xlabel('Time')\n",
    "plt.xticks(rotation='vertical')\n",
    "plt.ylabel('Count')\n",
    "\n",
    "plt.subplot(3,2,3)\n",
    "m_th_time_m = mon_thurs[(mon_thurs.week == 2) & (mon_thurs.day_of_week == 'Monday')]\n",
    "m_th_time_m =m_th_time_m.groupby('time')['count'].sum()\n",
    "\n",
    "plt.plot(m_th_time_m)\n",
    "plt.title('Avg Num Rides per 15 Mins on Mon in Wk 2', fontsize = 10)\n",
    "plt.xlabel('Time')\n",
    "plt.xticks(rotation='vertical')\n",
    "plt.ylabel('Count')\n",
    "\n",
    "plt.subplot(3,2,4)\n",
    "m_th_time_t = mon_thurs[(mon_thurs.week == 2) & (mon_thurs.day_of_week == 'Tuesday')]\n",
    "m_th_time_t =m_th_time_t.groupby('time')['count'].sum()\n",
    "\n",
    "plt.plot(m_th_time_t)\n",
    "plt.title('Avg Num Rides per 15 Mins on Tues in Wk 2', fontsize = 10)\n",
    "plt.xlabel('Time')\n",
    "plt.xticks(rotation='vertical')\n",
    "plt.ylabel('Count')\n",
    "\n",
    "plt.subplot(3,2,5)\n",
    "m_th_time_w = mon_thurs[(mon_thurs.week == 2) & (mon_thurs.day_of_week == 'Wednesday')]\n",
    "m_th_time_w =m_th_time_w.groupby('time')['count'].sum()\n",
    "\n",
    "plt.plot(m_th_time_w)\n",
    "plt.title('Avg Num Rides per 15 Mins on Weds in Wk 2', fontsize = 10)\n",
    "plt.xlabel('Time')\n",
    "plt.xticks(rotation='vertical')\n",
    "plt.ylabel('Count')\n",
    "\n",
    "plt.subplot(3,2,6)\n",
    "m_th_time_th = mon_thurs[(mon_thurs.week == 2) & (mon_thurs.day_of_week == 'Thursday')]\n",
    "m_th_time_th =m_th_time_th.groupby('time')['count'].sum()\n",
    "\n",
    "plt.plot(m_th_time_th)\n",
    "plt.title('Avg Num Rides per 15 Mins on Thurs in Wk 2', fontsize = 10)\n",
    "plt.xlabel('Time')\n",
    "plt.xticks(rotation='vertical')\n",
    "plt.ylabel('Count')\n",
    "\n",
    "\n",
    "    \n",
    "plt.tight_layout()\n",
    "plt.show()"
   ]
  },
  {
   "cell_type": "code",
   "execution_count": 38,
   "metadata": {},
   "outputs": [
    {
     "data": {
      "text/plain": [
       "<matplotlib.figure.Figure at 0x1a17955c50>"
      ]
     },
     "metadata": {},
     "output_type": "display_data"
    },
    {
     "data": {
      "image/png": "[encoded data removed]",
      "text/plain": [
       "<matplotlib.figure.Figure at 0x1a1bc1c828>"
      ]
     },
     "metadata": {},
     "output_type": "display_data"
    }
   ],
   "source": [
    "plt.gcf().clear()\n",
    "\n",
    "fig = plt.figure(num=None, figsize=(10, 8), dpi=80, facecolor='w', edgecolor='k')\n",
    "\n",
    "colors = ['red', 'blue', 'green']\n",
    "i = 1\n",
    "\n",
    "\n",
    "plt.subplot(3,2,1)\n",
    "friday =fri.groupby('time')['count'].sum()\n",
    "plt.plot(friday)\n",
    "plt.title('Avg Num Rides per 15 Mins on all Fridays', fontsize = 10)\n",
    "plt.xlabel('Time')\n",
    "plt.xticks(rotation='vertical')\n",
    "plt.ylabel('Count')\n",
    "\n",
    "plt.subplot(3,2,2)\n",
    "friday = fri[fri.week == 2]\n",
    "\n",
    "plt.plot(friday['time'], friday['count'])\n",
    "plt.title('Num Rides per 15 Mins on Friday Wk 2', fontsize = 10)\n",
    "plt.xlabel('Time')\n",
    "plt.xticks(rotation='vertical')\n",
    "plt.ylabel('Count')\n",
    "\n",
    "plt.subplot(3,2,3)\n",
    "friday = fri[fri.week == 3]\n",
    "\n",
    "plt.plot(friday['time'], friday['count'])\n",
    "plt.title('Num Rides per 15 Mins on Friday Wk 3', fontsize = 10)\n",
    "plt.xlabel('Time')\n",
    "plt.xticks(rotation='vertical')\n",
    "plt.ylabel('Count')\n",
    "\n",
    "plt.subplot(3,2,4)\n",
    "friday = fri[fri.week == 4]\n",
    "\n",
    "plt.plot(friday['time'], friday['count'])\n",
    "plt.title('Num Rides per 15 Mins on Friday Wk 4', fontsize = 10)\n",
    "plt.xlabel('Time')\n",
    "plt.xticks(rotation='vertical')\n",
    "plt.ylabel('Count')\n",
    "\n",
    "plt.subplot(3,2,5)\n",
    "friday = fri[fri.week == 5]\n",
    "\n",
    "plt.plot(friday['time'], friday['count'])\n",
    "plt.title('Num Rides per 15 Mins on Friday Wk 5', fontsize = 10)\n",
    "plt.xlabel('Time')\n",
    "plt.xticks(rotation='vertical')\n",
    "plt.ylabel('Count')\n",
    "\n",
    "plt.subplot(3,2,6)\n",
    "friday = fri[fri.week == 6]\n",
    "\n",
    "plt.plot(friday['time'], friday['count'])\n",
    "plt.title('Num Rides per 15 Mins on Friday Wk 6', fontsize = 10)\n",
    "plt.xlabel('Time')\n",
    "plt.xticks(rotation='vertical')\n",
    "plt.ylabel('Count')\n",
    "\n",
    "    \n",
    "plt.tight_layout()\n",
    "plt.show()"
   ]
  },
  {
   "cell_type": "code",
   "execution_count": 39,
   "metadata": {},
   "outputs": [
    {
     "data": {
      "text/plain": [
       "<matplotlib.figure.Figure at 0x1a1793e2e8>"
      ]
     },
     "metadata": {},
     "output_type": "display_data"
    },
    {
     "data": {
      "image/png": "[encoded data removed]",
      "text/plain": [
       "<matplotlib.figure.Figure at 0x1a1793ea58>"
      ]
     },
     "metadata": {},
     "output_type": "display_data"
    }
   ],
   "source": [
    "plt.gcf().clear()\n",
    "\n",
    "fig = plt.figure(num=None, figsize=(10, 8), dpi=80, facecolor='w', edgecolor='k')\n",
    "\n",
    "colors = ['red', 'blue', 'green']\n",
    "i = 1\n",
    "\n",
    "\n",
    "plt.subplot(3,2,1)\n",
    "saturday =sat.groupby('time')['count'].sum()\n",
    "plt.plot(saturday)\n",
    "plt.title('Avg Num Rides per 15 Mins on all saturdays', fontsize = 10)\n",
    "plt.xlabel('Time')\n",
    "plt.xticks(rotation='vertical')\n",
    "plt.ylabel('Count')\n",
    "\n",
    "plt.subplot(3,2,2)\n",
    "saturday = sat[sat.week == 2]\n",
    "\n",
    "plt.plot(saturday['time'], saturday['count'])\n",
    "plt.title('Num Rides per 15 Mins on saturday Wk 2', fontsize = 10)\n",
    "plt.xlabel('Time')\n",
    "plt.xticks(rotation='vertical')\n",
    "plt.ylabel('Count')\n",
    "\n",
    "plt.subplot(3,2,3)\n",
    "saturday = sat[sat.week == 3]\n",
    "\n",
    "plt.plot(saturday['time'], saturday['count'])\n",
    "plt.title('Num Rides per 15 Mins on saturday Wk 3', fontsize = 10)\n",
    "plt.xlabel('Time')\n",
    "plt.xticks(rotation='vertical')\n",
    "plt.ylabel('Count')\n",
    "\n",
    "plt.subplot(3,2,4)\n",
    "saturday = sat[sat.week == 4]\n",
    "\n",
    "plt.plot(saturday['time'], saturday['count'])\n",
    "plt.title('Num Rides per 15 Mins on saturday Wk 4', fontsize = 10)\n",
    "plt.xlabel('Time')\n",
    "plt.xticks(rotation='vertical')\n",
    "plt.ylabel('Count')\n",
    "\n",
    "plt.subplot(3,2,5)\n",
    "saturday = sat[sat.week == 5]\n",
    "\n",
    "plt.plot(saturday['time'], saturday['count'])\n",
    "plt.title('Num Rides per 15 Mins on saturday Wk 5', fontsize = 10)\n",
    "plt.xlabel('Time')\n",
    "plt.xticks(rotation='vertical')\n",
    "plt.ylabel('Count')\n",
    "\n",
    "plt.subplot(3,2,6)\n",
    "saturday = sat[sat.week == 6]\n",
    "\n",
    "plt.plot(saturday['time'], saturday['count'])\n",
    "plt.title('Num Rides per 15 Mins on sat Wk 6', fontsize = 10)\n",
    "plt.xlabel('Time')\n",
    "plt.xticks(rotation='vertical')\n",
    "plt.ylabel('Count')\n",
    "\n",
    "    \n",
    "plt.tight_layout()\n",
    "plt.show()"
   ]
  },
  {
   "cell_type": "code",
   "execution_count": 41,
   "metadata": {},
   "outputs": [
    {
     "data": {
      "text/plain": [
       "<matplotlib.figure.Figure at 0x1a1650aef0>"
      ]
     },
     "metadata": {},
     "output_type": "display_data"
    },
    {
     "data": {
      "image/png": "[encoded data removed]",
      "text/plain": [
       "<matplotlib.figure.Figure at 0x1a1650a278>"
      ]
     },
     "metadata": {},
     "output_type": "display_data"
    }
   ],
   "source": [
    "plt.gcf().clear()\n",
    "\n",
    "fig = plt.figure(num=None, figsize=(10, 8), dpi=80, facecolor='w', edgecolor='k')\n",
    "\n",
    "colors = ['red', 'blue', 'green']\n",
    "i = 1\n",
    "\n",
    "\n",
    "plt.subplot(3,2,1)\n",
    "sunday =sun.groupby('time')['count'].sum()\n",
    "plt.plot(sunday)\n",
    "plt.title('Avg Num Rides per 15 Mins on all sundays', fontsize = 10)\n",
    "plt.xlabel('Time')\n",
    "plt.xticks(rotation='vertical')\n",
    "plt.ylabel('Count')\n",
    "\n",
    "plt.subplot(3,2,2)\n",
    "sunday = sun[sun.week == 2]\n",
    "\n",
    "plt.plot(sunday['time'], sunday['count'])\n",
    "plt.title('Num Rides per 15 Mins on sunday Wk 2', fontsize = 10)\n",
    "plt.xlabel('Time')\n",
    "plt.xticks(rotation='vertical')\n",
    "plt.ylabel('Count')\n",
    "\n",
    "plt.subplot(3,2,3)\n",
    "sunday = sun[sun.week == 3]\n",
    "\n",
    "plt.plot(sunday['time'], sunday['count'])\n",
    "plt.title('Num Rides per 15 Mins on sunday Wk 3', fontsize = 10)\n",
    "plt.xlabel('Time')\n",
    "plt.xticks(rotation='vertical')\n",
    "plt.ylabel('Count')\n",
    "\n",
    "plt.subplot(3,2,4)\n",
    "sunday = sun[sun.week == 4]\n",
    "\n",
    "plt.plot(sunday['time'], sunday['count'])\n",
    "plt.title('Num Rides per 15 Mins on sunday Wk 4', fontsize = 10)\n",
    "plt.xlabel('Time')\n",
    "plt.xticks(rotation='vertical')\n",
    "plt.ylabel('Count')\n",
    "\n",
    "plt.subplot(3,2,5)\n",
    "sunday = sun[sun.week == 5]\n",
    "\n",
    "plt.plot(sunday['time'], sunday['count'])\n",
    "plt.title('Num Rides per 15 Mins on sunday Wk 5', fontsize = 10)\n",
    "plt.xlabel('Time')\n",
    "plt.xticks(rotation='vertical')\n",
    "plt.ylabel('Count')\n",
    "\n",
    "plt.subplot(3,2,6)\n",
    "sunday = sun[sun.week == 6]\n",
    "\n",
    "plt.plot(sunday['time'], sunday['count'])\n",
    "plt.title('Num Rides per 15 Mins on sun Wk 6', fontsize = 10)\n",
    "plt.xlabel('Time')\n",
    "plt.xticks(rotation='vertical')\n",
    "plt.ylabel('Count')\n",
    "\n",
    "    \n",
    "plt.tight_layout()\n",
    "plt.show()"
   ]
  },
  {
   "cell_type": "code",
   "execution_count": 42,
   "metadata": {},
   "outputs": [
    {
     "data": {
      "image/png": "[encoded data removed]",
      "text/plain": [
       "<matplotlib.figure.Figure at 0x10911b240>"
      ]
     },
     "metadata": {},
     "output_type": "display_data"
    }
   ],
   "source": [
    "# average number of pickups per fifteen minute time period on\n",
    "m_th_time =mon_thurs.groupby('time')['count'].sum()\n",
    "plt.plot(m_th_time)\n",
    "plt.show()"
   ]
  },
  {
   "cell_type": "code",
   "execution_count": null,
   "metadata": {
    "collapsed": true
   },
   "outputs": [],
   "source": []
  },
  {
   "cell_type": "code",
   "execution_count": 46,
   "metadata": {
    "collapsed": true
   },
   "outputs": [],
   "source": [
    "# Daily cycles \n",
    "# Weekday daily\n",
    "# Weekends "
   ]
  },
  {
   "cell_type": "code",
   "execution_count": 47,
   "metadata": {
    "collapsed": true
   },
   "outputs": [],
   "source": [
    "logins2.week[-1:]\n",
    "import numpy as np"
   ]
  },
  {
   "cell_type": "code",
   "execution_count": 48,
   "metadata": {},
   "outputs": [
    {
     "data": {
      "text/plain": [
       "{1, 2, 3, 4, 5, 6, 7, 8, 9, 10, 11, 12, 13, 14, 15, 16}"
      ]
     },
     "execution_count": 48,
     "metadata": {},
     "output_type": "execute_result"
    }
   ],
   "source": [
    "set(logins2.week)"
   ]
  },
  {
   "cell_type": "code",
   "execution_count": 49,
   "metadata": {},
   "outputs": [
    {
     "name": "stdout",
     "output_type": "stream",
     "text": [
      "Object `matplotlib.dates` not found.\n"
     ]
    }
   ],
   "source": [
    "matplotlib.dates?"
   ]
  },
  {
   "cell_type": "code",
   "execution_count": 50,
   "metadata": {},
   "outputs": [
    {
     "name": "stdout",
     "output_type": "stream",
     "text": [
      "Object `matplotlib.dates.WeekdayLocator` not found.\n"
     ]
    }
   ],
   "source": [
    "matplotlib.dates.WeekdayLocator?"
   ]
  },
  {
   "cell_type": "code",
   "execution_count": 52,
   "metadata": {
    "collapsed": true
   },
   "outputs": [],
   "source": [
    "data = logins2[['login_time', 'count']]\n",
    "data.set_index('login_time', inplace=True)"
   ]
  },
  {
   "cell_type": "code",
   "execution_count": 53,
   "metadata": {},
   "outputs": [
    {
     "name": "stdout",
     "output_type": "stream",
     "text": [
      "<class 'pandas.core.frame.DataFrame'>\n",
      "DatetimeIndex: 9788 entries, 1970-01-01 20:00:00 to 1970-04-13 18:45:00\n",
      "Data columns (total 1 columns):\n",
      "count    9788 non-null int64\n",
      "dtypes: int64(1)\n",
      "memory usage: 152.9 KB\n"
     ]
    },
    {
     "data": {
      "text/plain": [
       "Timestamp('1970-01-01 20:15:00')"
      ]
     },
     "execution_count": 53,
     "metadata": {},
     "output_type": "execute_result"
    }
   ],
   "source": [
    "data.info()\n",
    "data.index[1]"
   ]
  },
  {
   "cell_type": "code",
   "execution_count": 54,
   "metadata": {},
   "outputs": [
    {
     "data": {
      "text/plain": [
       "<matplotlib.figure.Figure at 0x1a1bef7da0>"
      ]
     },
     "metadata": {},
     "output_type": "display_data"
    },
    {
     "data": {
      "image/png": "[encoded data removed]",
      "text/plain": [
       "<matplotlib.figure.Figure at 0x1a1bef7d30>"
      ]
     },
     "metadata": {},
     "output_type": "display_data"
    }
   ],
   "source": [
    "import pylab\n",
    "import matplotlib\n",
    "import matplotlib.dates\n",
    "\n",
    "plt.clf()\n",
    "\n",
    "fig = pylab.figure()\n",
    "ax = fig.gca()\n",
    "\n",
    "# Plotting stuff here ...\n",
    "ax.bar(data.index, data['count'])\n",
    "\n",
    "# Set major x ticks on Mondays.\n",
    "ax.xaxis.set_major_locator(\n",
    "    matplotlib.dates.WeekdayLocator(byweekday=[matplotlib.dates.TH], interval=1)\n",
    ")\n",
    "ax.xaxis.set_major_formatter(\n",
    "    matplotlib.dates.DateFormatter('%a, %b %d')\n",
    ")\n",
    "\n",
    "plt.xticks(rotation='vertical')\n",
    "\n",
    "\n",
    "plt.show()"
   ]
  },
  {
   "cell_type": "code",
   "execution_count": 55,
   "metadata": {
    "collapsed": true
   },
   "outputs": [],
   "source": [
    "from datetime import datetime\n",
    "from datetime import date "
   ]
  },
  {
   "cell_type": "code",
   "execution_count": 56,
   "metadata": {},
   "outputs": [
    {
     "name": "stdout",
     "output_type": "stream",
     "text": [
      "2896\n",
      "2896\n"
     ]
    }
   ],
   "source": [
    "hold = logins2[(logins2.login_time > date(1969,12,31)) &\n",
    "       (logins2.login_time < date(1970,2,1))]\n",
    "jan = hold.drop(['date_num', 'day_of_week', 'month', 'time', 'week'], axis=1)\n",
    "\n",
    "jan.set_index('login_time', inplace=True)\n",
    "\n",
    "print(len(jan['count']))\n",
    "print(len(jan.index))"
   ]
  },
  {
   "cell_type": "code",
   "execution_count": 57,
   "metadata": {},
   "outputs": [
    {
     "ename": "AttributeError",
     "evalue": "type object 'datetime.date' has no attribute 'WeekdayLocator'",
     "output_type": "error",
     "traceback": [
      "\u001b[0;31m---------------------------------------------------------------------------\u001b[0m",
      "\u001b[0;31mAttributeError\u001b[0m                            Traceback (most recent call last)",
      "\u001b[0;32m<ipython-input-57-9a90a5dd1695>\u001b[0m in \u001b[0;36m<module>\u001b[0;34m()\u001b[0m\n\u001b[1;32m      6\u001b[0m \u001b[0;34m\u001b[0m\u001b[0m\n\u001b[1;32m      7\u001b[0m \u001b[0;31m#set ticks every week\u001b[0m\u001b[0;34m\u001b[0m\u001b[0;34m\u001b[0m\u001b[0m\n\u001b[0;32m----> 8\u001b[0;31m \u001b[0max\u001b[0m\u001b[0;34m.\u001b[0m\u001b[0mxaxis\u001b[0m\u001b[0;34m.\u001b[0m\u001b[0mset_major_locator\u001b[0m\u001b[0;34m(\u001b[0m\u001b[0mdate\u001b[0m\u001b[0;34m.\u001b[0m\u001b[0mWeekdayLocator\u001b[0m\u001b[0;34m(\u001b[0m\u001b[0mbyweekday\u001b[0m\u001b[0;34m=\u001b[0m\u001b[0mmatplotlib\u001b[0m\u001b[0;34m.\u001b[0m\u001b[0mdates\u001b[0m\u001b[0;34m.\u001b[0m\u001b[0mTH\u001b[0m\u001b[0;34m)\u001b[0m\u001b[0;34m)\u001b[0m\u001b[0;34m\u001b[0m\u001b[0m\n\u001b[0m\u001b[1;32m      9\u001b[0m \u001b[0;34m\u001b[0m\u001b[0m\n\u001b[1;32m     10\u001b[0m \u001b[0;31m#set major ticks format\u001b[0m\u001b[0;34m\u001b[0m\u001b[0;34m\u001b[0m\u001b[0m\n",
      "\u001b[0;31mAttributeError\u001b[0m: type object 'datetime.date' has no attribute 'WeekdayLocator'"
     ]
    },
    {
     "data": {
      "text/plain": [
       "<matplotlib.figure.Figure at 0x1a1bf1ac88>"
      ]
     },
     "metadata": {},
     "output_type": "display_data"
    },
    {
     "data": {
      "image/png": "[encoded data removed]",
      "text/plain": [
       "<matplotlib.figure.Figure at 0x1a17ae5b70>"
      ]
     },
     "metadata": {},
     "output_type": "display_data"
    }
   ],
   "source": [
    "plt.clf()\n",
    "\n",
    "#plot data\n",
    "fig, ax = plt.subplots(figsize=(15,7))\n",
    "ax.bar(jan.index, jan['count'], width=.025)\n",
    "\n",
    "#set ticks every week\n",
    "ax.xaxis.set_major_locator(date.WeekdayLocator(byweekday=matplotlib.dates.TH))\n",
    "\n",
    "#set major ticks format\n",
    "ax.xaxis.set_major_formatter(date.DateFormatter('%b %d'))\n",
    "\n",
    "plt.show()"
   ]
  },
  {
   "cell_type": "code",
   "execution_count": null,
   "metadata": {
    "collapsed": true
   },
   "outputs": [],
   "source": [
    "#import libraries\n",
    "import pandas as pd\n",
    "import matplotlib.pyplot as plt\n",
    "import matplotlib.dates as mdates\n",
    "from datetime import datetime\n",
    "from datetime import date\n",
    "%matplotlib inline"
   ]
  },
  {
   "cell_type": "code",
   "execution_count": null,
   "metadata": {},
   "outputs": [],
   "source": [
    "hold = logins2[(logins2.login_time > date(1969,12,31)) &\n",
    "       (logins2.login_time < date(1970,1,15))]\n",
    "weeks_1_2 = hold.drop(['date_num', 'day_of_week', 'month', 'time', 'week'], axis=1)\n",
    "\n",
    "weeks_1_2.set_index('login_time', inplace=True)\n",
    "\n",
    "print(len(weeks_1_2['count']))\n",
    "print(len(weeks_1_2.index))"
   ]
  },
  {
   "cell_type": "code",
   "execution_count": null,
   "metadata": {},
   "outputs": [],
   "source": [
    "weeks_1_2.info()"
   ]
  },
  {
   "cell_type": "code",
   "execution_count": null,
   "metadata": {},
   "outputs": [],
   "source": [
    "weeks_1_2.head()"
   ]
  },
  {
   "cell_type": "code",
   "execution_count": null,
   "metadata": {},
   "outputs": [],
   "source": [
    "plt.clf()\n",
    "\n",
    "#plot data\n",
    "fig, ax = plt.subplots(figsize=(15,7))\n",
    "ax.bar(weeks_1_2.index, weeks_1_2['count'], width=.025)\n",
    "\n",
    "#set ticks every week\n",
    "ax.xaxis.set_major_locator(mdates.WeekdayLocator(byweekday=matplotlib.dates.TH))\n",
    "\n",
    "#set major ticks format\n",
    "ax.xaxis.set_major_formatter(mdates.DateFormatter('%b %d'))\n",
    "\n",
    "plt.show()"
   ]
  },
  {
   "cell_type": "code",
   "execution_count": null,
   "metadata": {
    "collapsed": true
   },
   "outputs": [],
   "source": [
    "# Pattern is still difficult to pick up on\n",
    "# Appears to be spikes in user ridership every seven days \n",
    "# Which I am predicting are weekend days\n",
    "# Subsetting weeks one and two\n",
    "weeks_1_2 = logins2[(logins2.login_time > date(1969,12,31)) &\n",
    "       (logins2.login_time < date(1970,1,15))]\n"
   ]
  },
  {
   "cell_type": "code",
   "execution_count": null,
   "metadata": {},
   "outputs": [],
   "source": [
    "plt.clf()\n",
    "plt.plot_date(weeks_1_2.date_num, weeks_1_2['count'], fmt='-')\n",
    "plt.tight_layout()\n",
    "plt.show()"
   ]
  },
  {
   "cell_type": "code",
   "execution_count": null,
   "metadata": {},
   "outputs": [],
   "source": [
    "hold = logins2[(logins2.login_time > date(1969,12,31)) &\n",
    "       (logins2.login_time < date(1970,1,7))]\n",
    "week1 = hold.drop(['date_num', 'day_of_week', 'month', 'time', 'week'], axis=1)\n",
    "\n",
    "week1.set_index('login_time', inplace=True)\n",
    "\n",
    "print(len(week1['count']))\n",
    "print(len(week1.index))"
   ]
  },
  {
   "cell_type": "code",
   "execution_count": null,
   "metadata": {},
   "outputs": [],
   "source": [
    "plt.clf()\n",
    "\n",
    "#plot data\n",
    "fig, ax = plt.subplots(figsize=(15,7))\n",
    "ax.bar(week1.index, week1['count'], width=.005)\n",
    "\n",
    "#set ticks every week\n",
    "ax.xaxis.set_major_locator(mdates.WeekdayLocator(byweekday=matplotlib.dates.TH))\n",
    "\n",
    "#set major ticks format\n",
    "ax.xaxis.set_major_formatter(mdates.DateFormatter('%b %d'))\n",
    "\n",
    "plt.show()"
   ]
  },
  {
   "cell_type": "code",
   "execution_count": null,
   "metadata": {
    "collapsed": true
   },
   "outputs": [],
   "source": [
    "# Appears t"
   ]
  },
  {
   "cell_type": "code",
   "execution_count": null,
   "metadata": {
    "collapsed": true
   },
   "outputs": [],
   "source": [
    "week1 = logins2[(logins2.login_time > date(1969,12,31)) &\n",
    "       (logins2.login_time < date(1970,1,8))]\n"
   ]
  },
  {
   "cell_type": "code",
   "execution_count": null,
   "metadata": {},
   "outputs": [],
   "source": [
    "plt.clf()\n",
    "plt.plot_date(week1.login_time, week1['count'], fmt='-')\n",
    "plt.tight_layout()\n",
    "plt.show()"
   ]
  },
  {
   "cell_type": "code",
   "execution_count": null,
   "metadata": {
    "collapsed": true
   },
   "outputs": [],
   "source": [
    "days3  = logins2[(logins2.login_time > datetime.date(1969,12,31)) &\n",
    "       (logins2.login_time < datetime.date(1970,1,4))]\n"
   ]
  },
  {
   "cell_type": "code",
   "execution_count": null,
   "metadata": {},
   "outputs": [],
   "source": [
    "plt.clf()\n",
    "plt.plot_date(days3.date_str, days3['count'], fmt='-')\n",
    "plt.tight_layout()\n",
    "plt.show()"
   ]
  },
  {
   "cell_type": "code",
   "execution_count": null,
   "metadata": {
    "collapsed": true
   },
   "outputs": [],
   "source": [
    "day1 = logins2[(logins2.login_time > datetime.date(1969,12,31)) &\n",
    "       (logins2.login_time < datetime.date(1970,1,2))]"
   ]
  },
  {
   "cell_type": "code",
   "execution_count": null,
   "metadata": {},
   "outputs": [],
   "source": [
    "plt.clf()\n",
    "plt.plot_date(day1.date_str, day1['count'], fmt='-')\n",
    "plt.tight_layout()\n",
    "plt.show()"
   ]
  },
  {
   "cell_type": "code",
   "execution_count": null,
   "metadata": {},
   "outputs": [],
   "source": [
    "day1"
   ]
  },
  {
   "cell_type": "code",
   "execution_count": null,
   "metadata": {
    "collapsed": true
   },
   "outputs": [],
   "source": [
    "day2 = logins2[(logins2.login_time < datetime.date(1970,1,3))&\n",
    "    (logins2.login_time > datetime.date(1970,1,2)) \n",
    "       ]"
   ]
  },
  {
   "cell_type": "code",
   "execution_count": null,
   "metadata": {
    "collapsed": true
   },
   "outputs": [],
   "source": [
    "import numpy as np"
   ]
  },
  {
   "cell_type": "code",
   "execution_count": null,
   "metadata": {},
   "outputs": [],
   "source": [
    "plt.clf()\n",
    "plt.plot_date(day2.date_str, day2['count'], fmt='-')\n",
    "plt.tight_layout()\n",
    "plt.show()"
   ]
  },
  {
   "cell_type": "code",
   "execution_count": null,
   "metadata": {
    "collapsed": true
   },
   "outputs": [],
   "source": [
    "i = 1\n",
    "hold = []\n",
    "for e in np.arange(30):\n",
    "    day = logins2[(logins2.login_time < datetime.date(1970,1,i+1))&(logins2.login_time > datetime.date(1970,1,i))]\n",
    "    hold.append(day)\n",
    "    i+=1\n",
    "    "
   ]
  },
  {
   "cell_type": "code",
   "execution_count": null,
   "metadata": {},
   "outputs": [],
   "source": [
    "plt.gcf().clear()\n",
    "\n",
    "fig = plt.figure(num=None, figsize=(10, 8), dpi=80, facecolor='w', edgecolor='k')\n",
    "\n",
    "colors = ['red', 'blue', 'green']\n",
    "i = 1\n",
    "for a in np.arange(1,5):\n",
    "    plt.subplot(3,2,i)\n",
    "    plt.plot_date(hold[a*7].date_str, hold[a*7]['count'], fmt='-')\n",
    "    plt.title('Number of rides per 15 minute period on Monday', fontsize = 10)\n",
    "    plt.xlabel('Time')\n",
    "    plt.xticks(rotation='vertical')\n",
    "    plt.ylabel('Count')\n",
    "    i+=1\n",
    "    \n",
    "plt.tight_layout()\n",
    "plt.show()"
   ]
  },
  {
   "cell_type": "markdown",
   "metadata": {},
   "source": [
    "### Part Two - Experiment and metrics design"
   ]
  },
  {
   "cell_type": "markdown",
   "metadata": {},
   "source": [
    "#### One: KPI of dual city drivership program\n",
    "\n",
    "* Prortion of Rides in or to non-home city (previously exclusive city) i.e.  proportion of rides driver based in city A gave to or within city B (rides to city b + rides within city b ) / (total rides) and vice-versa  \n",
    "       \n",
    "       A) Pull driver data from several time periods  (1 month, 3 months, 6 months, 1 year, 2 years) prior to reimbursement program and calculate the average proportion of non-home city rides. Pull driver data for the matching time period (assuming we have the data) after the reimbursement program occurred and calculate the average proportion of non-home city rides. Adjust the numbers for any long term growth patterns or seasonality trends. \n",
    "       B) Prior to testing statistical significance, I would compare the two proportions and check for practical significance i.e. did non-home city rides increase at all and if so did it incrase by enough for management to care about? If the answer to this question is yes, then I would conduct a hypothesis test / significance testing by calculating the two-sample z test statistic\n",
    "       C) First I would look at the percentage increase in proportion of non-home city rides from before to after the reimbursement program. I would compare both the raw proportions as well as the proportions adjusted for seasonality and long term growth. I would run the two-sample z test for both the raw proportions and the adjust and determine whether any incrase was significant at a 95% confidence level or greater. \n",
    "              \n",
    "       \n",
    "\n",
    "* Total amount of reimbursements - this metric would be easier to calculate, but would not capture intra-city rides. If timestamp data was available for the fair crossings the number of non-home intra-city rides might be forecasted.\n",
    "        "
   ]
  },
  {
   "cell_type": "markdown",
   "metadata": {},
   "source": [
    "### Part Three - Predictive modeling"
   ]
  },
  {
   "cell_type": "code",
   "execution_count": 61,
   "metadata": {
    "collapsed": true
   },
   "outputs": [],
   "source": [
    "file=open('ultimate_data_challenge.json', 'r')\n",
    "\n",
    "file_content=file.read()\n",
    "\n",
    "file.close()\n",
    "\n",
    "data=json.loads(file_content)\n",
    "\n",
    "udc=pd.DataFrame(data)"
   ]
  },
  {
   "cell_type": "code",
   "execution_count": 62,
   "metadata": {
    "scrolled": true
   },
   "outputs": [
    {
     "name": "stdout",
     "output_type": "stream",
     "text": [
      "<class 'pandas.core.frame.DataFrame'>\n",
      "RangeIndex: 50000 entries, 0 to 49999\n",
      "Data columns (total 12 columns):\n",
      "avg_dist                  50000 non-null float64\n",
      "avg_rating_by_driver      49799 non-null float64\n",
      "avg_rating_of_driver      41878 non-null float64\n",
      "avg_surge                 50000 non-null float64\n",
      "city                      50000 non-null object\n",
      "last_trip_date            50000 non-null object\n",
      "phone                     49604 non-null object\n",
      "signup_date               50000 non-null object\n",
      "surge_pct                 50000 non-null float64\n",
      "trips_in_first_30_days    50000 non-null int64\n",
      "ultimate_black_user       50000 non-null bool\n",
      "weekday_pct               50000 non-null float64\n",
      "dtypes: bool(1), float64(6), int64(1), object(4)\n",
      "memory usage: 4.2+ MB\n"
     ]
    }
   ],
   "source": [
    "udc.info()"
   ]
  },
  {
   "cell_type": "code",
   "execution_count": 63,
   "metadata": {},
   "outputs": [
    {
     "data": {
      "text/html": [
       "<div>\n",
       "<style>\n",
       "    .dataframe thead tr:only-child th {\n",
       "        text-align: right;\n",
       "    }\n",
       "\n",
       "    .dataframe thead th {\n",
       "        text-align: left;\n",
       "    }\n",
       "\n",
       "    .dataframe tbody tr th {\n",
       "        vertical-align: top;\n",
       "    }\n",
       "</style>\n",
       "<table border=\"1\" class=\"dataframe\">\n",
       "  <thead>\n",
       "    <tr style=\"text-align: right;\">\n",
       "      <th></th>\n",
       "      <th>avg_dist</th>\n",
       "      <th>avg_rating_by_driver</th>\n",
       "      <th>avg_rating_of_driver</th>\n",
       "      <th>avg_surge</th>\n",
       "      <th>city</th>\n",
       "      <th>last_trip_date</th>\n",
       "      <th>phone</th>\n",
       "      <th>signup_date</th>\n",
       "      <th>surge_pct</th>\n",
       "      <th>trips_in_first_30_days</th>\n",
       "      <th>ultimate_black_user</th>\n",
       "      <th>weekday_pct</th>\n",
       "    </tr>\n",
       "  </thead>\n",
       "  <tbody>\n",
       "    <tr>\n",
       "      <th>0</th>\n",
       "      <td>3.67</td>\n",
       "      <td>5.0</td>\n",
       "      <td>4.7</td>\n",
       "      <td>1.10</td>\n",
       "      <td>King's Landing</td>\n",
       "      <td>2014-06-17</td>\n",
       "      <td>iPhone</td>\n",
       "      <td>2014-01-25</td>\n",
       "      <td>15.4</td>\n",
       "      <td>4</td>\n",
       "      <td>True</td>\n",
       "      <td>46.2</td>\n",
       "    </tr>\n",
       "    <tr>\n",
       "      <th>1</th>\n",
       "      <td>8.26</td>\n",
       "      <td>5.0</td>\n",
       "      <td>5.0</td>\n",
       "      <td>1.00</td>\n",
       "      <td>Astapor</td>\n",
       "      <td>2014-05-05</td>\n",
       "      <td>Android</td>\n",
       "      <td>2014-01-29</td>\n",
       "      <td>0.0</td>\n",
       "      <td>0</td>\n",
       "      <td>False</td>\n",
       "      <td>50.0</td>\n",
       "    </tr>\n",
       "    <tr>\n",
       "      <th>2</th>\n",
       "      <td>0.77</td>\n",
       "      <td>5.0</td>\n",
       "      <td>4.3</td>\n",
       "      <td>1.00</td>\n",
       "      <td>Astapor</td>\n",
       "      <td>2014-01-07</td>\n",
       "      <td>iPhone</td>\n",
       "      <td>2014-01-06</td>\n",
       "      <td>0.0</td>\n",
       "      <td>3</td>\n",
       "      <td>False</td>\n",
       "      <td>100.0</td>\n",
       "    </tr>\n",
       "    <tr>\n",
       "      <th>3</th>\n",
       "      <td>2.36</td>\n",
       "      <td>4.9</td>\n",
       "      <td>4.6</td>\n",
       "      <td>1.14</td>\n",
       "      <td>King's Landing</td>\n",
       "      <td>2014-06-29</td>\n",
       "      <td>iPhone</td>\n",
       "      <td>2014-01-10</td>\n",
       "      <td>20.0</td>\n",
       "      <td>9</td>\n",
       "      <td>True</td>\n",
       "      <td>80.0</td>\n",
       "    </tr>\n",
       "    <tr>\n",
       "      <th>4</th>\n",
       "      <td>3.13</td>\n",
       "      <td>4.9</td>\n",
       "      <td>4.4</td>\n",
       "      <td>1.19</td>\n",
       "      <td>Winterfell</td>\n",
       "      <td>2014-03-15</td>\n",
       "      <td>Android</td>\n",
       "      <td>2014-01-27</td>\n",
       "      <td>11.8</td>\n",
       "      <td>14</td>\n",
       "      <td>False</td>\n",
       "      <td>82.4</td>\n",
       "    </tr>\n",
       "  </tbody>\n",
       "</table>\n",
       "</div>"
      ],
      "text/plain": [
       "   avg_dist  avg_rating_by_driver  avg_rating_of_driver  avg_surge  \\\n",
       "0      3.67                   5.0                   4.7       1.10   \n",
       "1      8.26                   5.0                   5.0       1.00   \n",
       "2      0.77                   5.0                   4.3       1.00   \n",
       "3      2.36                   4.9                   4.6       1.14   \n",
       "4      3.13                   4.9                   4.4       1.19   \n",
       "\n",
       "             city last_trip_date    phone signup_date  surge_pct  \\\n",
       "0  King's Landing     2014-06-17   iPhone  2014-01-25       15.4   \n",
       "1         Astapor     2014-05-05  Android  2014-01-29        0.0   \n",
       "2         Astapor     2014-01-07   iPhone  2014-01-06        0.0   \n",
       "3  King's Landing     2014-06-29   iPhone  2014-01-10       20.0   \n",
       "4      Winterfell     2014-03-15  Android  2014-01-27       11.8   \n",
       "\n",
       "   trips_in_first_30_days  ultimate_black_user  weekday_pct  \n",
       "0                       4                 True         46.2  \n",
       "1                       0                False         50.0  \n",
       "2                       3                False        100.0  \n",
       "3                       9                 True         80.0  \n",
       "4                      14                False         82.4  "
      ]
     },
     "execution_count": 63,
     "metadata": {},
     "output_type": "execute_result"
    }
   ],
   "source": [
    "udc.head()"
   ]
  },
  {
   "cell_type": "code",
   "execution_count": 64,
   "metadata": {
    "collapsed": true
   },
   "outputs": [],
   "source": [
    "udc.fillna(0, axis=1, inplace=True)"
   ]
  },
  {
   "cell_type": "code",
   "execution_count": 65,
   "metadata": {},
   "outputs": [
    {
     "name": "stdout",
     "output_type": "stream",
     "text": [
      "<class 'pandas.core.frame.DataFrame'>\n",
      "RangeIndex: 50000 entries, 0 to 49999\n",
      "Data columns (total 12 columns):\n",
      "avg_dist                  50000 non-null float64\n",
      "avg_rating_by_driver      50000 non-null float64\n",
      "avg_rating_of_driver      50000 non-null float64\n",
      "avg_surge                 50000 non-null float64\n",
      "city                      50000 non-null object\n",
      "last_trip_date            50000 non-null object\n",
      "phone                     50000 non-null object\n",
      "signup_date               50000 non-null object\n",
      "surge_pct                 50000 non-null float64\n",
      "trips_in_first_30_days    50000 non-null int64\n",
      "ultimate_black_user       50000 non-null bool\n",
      "weekday_pct               50000 non-null float64\n",
      "dtypes: bool(1), float64(6), int64(1), object(4)\n",
      "memory usage: 4.2+ MB\n"
     ]
    }
   ],
   "source": [
    "udc.info()"
   ]
  },
  {
   "cell_type": "code",
   "execution_count": 66,
   "metadata": {},
   "outputs": [
    {
     "data": {
      "text/html": [
       "<div>\n",
       "<style>\n",
       "    .dataframe thead tr:only-child th {\n",
       "        text-align: right;\n",
       "    }\n",
       "\n",
       "    .dataframe thead th {\n",
       "        text-align: left;\n",
       "    }\n",
       "\n",
       "    .dataframe tbody tr th {\n",
       "        vertical-align: top;\n",
       "    }\n",
       "</style>\n",
       "<table border=\"1\" class=\"dataframe\">\n",
       "  <thead>\n",
       "    <tr style=\"text-align: right;\">\n",
       "      <th></th>\n",
       "      <th>avg_dist</th>\n",
       "      <th>avg_rating_by_driver</th>\n",
       "      <th>avg_rating_of_driver</th>\n",
       "      <th>avg_surge</th>\n",
       "      <th>city</th>\n",
       "      <th>last_trip_date</th>\n",
       "      <th>phone</th>\n",
       "      <th>signup_date</th>\n",
       "      <th>surge_pct</th>\n",
       "      <th>trips_in_first_30_days</th>\n",
       "      <th>ultimate_black_user</th>\n",
       "      <th>weekday_pct</th>\n",
       "    </tr>\n",
       "  </thead>\n",
       "  <tbody>\n",
       "    <tr>\n",
       "      <th>31425</th>\n",
       "      <td>4.31</td>\n",
       "      <td>5.0</td>\n",
       "      <td>0.0</td>\n",
       "      <td>1.00</td>\n",
       "      <td>Winterfell</td>\n",
       "      <td>2014-01-01</td>\n",
       "      <td>iPhone</td>\n",
       "      <td>2014-01-01</td>\n",
       "      <td>0.0</td>\n",
       "      <td>1</td>\n",
       "      <td>False</td>\n",
       "      <td>100.0</td>\n",
       "    </tr>\n",
       "    <tr>\n",
       "      <th>10729</th>\n",
       "      <td>19.67</td>\n",
       "      <td>5.0</td>\n",
       "      <td>3.0</td>\n",
       "      <td>1.00</td>\n",
       "      <td>Winterfell</td>\n",
       "      <td>2014-01-01</td>\n",
       "      <td>iPhone</td>\n",
       "      <td>2014-01-01</td>\n",
       "      <td>0.0</td>\n",
       "      <td>1</td>\n",
       "      <td>False</td>\n",
       "      <td>100.0</td>\n",
       "    </tr>\n",
       "    <tr>\n",
       "      <th>40336</th>\n",
       "      <td>5.98</td>\n",
       "      <td>5.0</td>\n",
       "      <td>5.0</td>\n",
       "      <td>1.00</td>\n",
       "      <td>Winterfell</td>\n",
       "      <td>2014-01-01</td>\n",
       "      <td>iPhone</td>\n",
       "      <td>2014-01-01</td>\n",
       "      <td>0.0</td>\n",
       "      <td>1</td>\n",
       "      <td>False</td>\n",
       "      <td>100.0</td>\n",
       "    </tr>\n",
       "    <tr>\n",
       "      <th>34828</th>\n",
       "      <td>2.45</td>\n",
       "      <td>5.0</td>\n",
       "      <td>5.0</td>\n",
       "      <td>1.25</td>\n",
       "      <td>Astapor</td>\n",
       "      <td>2014-01-01</td>\n",
       "      <td>iPhone</td>\n",
       "      <td>2014-01-01</td>\n",
       "      <td>100.0</td>\n",
       "      <td>1</td>\n",
       "      <td>False</td>\n",
       "      <td>100.0</td>\n",
       "    </tr>\n",
       "    <tr>\n",
       "      <th>37295</th>\n",
       "      <td>0.77</td>\n",
       "      <td>5.0</td>\n",
       "      <td>3.0</td>\n",
       "      <td>1.00</td>\n",
       "      <td>Winterfell</td>\n",
       "      <td>2014-01-01</td>\n",
       "      <td>iPhone</td>\n",
       "      <td>2014-01-01</td>\n",
       "      <td>0.0</td>\n",
       "      <td>1</td>\n",
       "      <td>False</td>\n",
       "      <td>100.0</td>\n",
       "    </tr>\n",
       "    <tr>\n",
       "      <th>9941</th>\n",
       "      <td>1.61</td>\n",
       "      <td>5.0</td>\n",
       "      <td>0.0</td>\n",
       "      <td>2.00</td>\n",
       "      <td>Winterfell</td>\n",
       "      <td>2014-01-01</td>\n",
       "      <td>Android</td>\n",
       "      <td>2014-01-01</td>\n",
       "      <td>100.0</td>\n",
       "      <td>1</td>\n",
       "      <td>False</td>\n",
       "      <td>100.0</td>\n",
       "    </tr>\n",
       "    <tr>\n",
       "      <th>13542</th>\n",
       "      <td>3.08</td>\n",
       "      <td>5.0</td>\n",
       "      <td>0.0</td>\n",
       "      <td>1.50</td>\n",
       "      <td>Winterfell</td>\n",
       "      <td>2014-01-01</td>\n",
       "      <td>iPhone</td>\n",
       "      <td>2014-01-01</td>\n",
       "      <td>100.0</td>\n",
       "      <td>1</td>\n",
       "      <td>False</td>\n",
       "      <td>100.0</td>\n",
       "    </tr>\n",
       "    <tr>\n",
       "      <th>39857</th>\n",
       "      <td>9.97</td>\n",
       "      <td>5.0</td>\n",
       "      <td>5.0</td>\n",
       "      <td>1.00</td>\n",
       "      <td>Winterfell</td>\n",
       "      <td>2014-01-01</td>\n",
       "      <td>iPhone</td>\n",
       "      <td>2014-01-01</td>\n",
       "      <td>0.0</td>\n",
       "      <td>1</td>\n",
       "      <td>False</td>\n",
       "      <td>100.0</td>\n",
       "    </tr>\n",
       "    <tr>\n",
       "      <th>19976</th>\n",
       "      <td>4.74</td>\n",
       "      <td>5.0</td>\n",
       "      <td>5.0</td>\n",
       "      <td>1.00</td>\n",
       "      <td>Winterfell</td>\n",
       "      <td>2014-01-01</td>\n",
       "      <td>iPhone</td>\n",
       "      <td>2014-01-01</td>\n",
       "      <td>0.0</td>\n",
       "      <td>1</td>\n",
       "      <td>False</td>\n",
       "      <td>100.0</td>\n",
       "    </tr>\n",
       "    <tr>\n",
       "      <th>48271</th>\n",
       "      <td>8.05</td>\n",
       "      <td>5.0</td>\n",
       "      <td>0.0</td>\n",
       "      <td>1.00</td>\n",
       "      <td>Winterfell</td>\n",
       "      <td>2014-01-01</td>\n",
       "      <td>iPhone</td>\n",
       "      <td>2014-01-01</td>\n",
       "      <td>0.0</td>\n",
       "      <td>1</td>\n",
       "      <td>True</td>\n",
       "      <td>100.0</td>\n",
       "    </tr>\n",
       "    <tr>\n",
       "      <th>11259</th>\n",
       "      <td>5.23</td>\n",
       "      <td>5.0</td>\n",
       "      <td>5.0</td>\n",
       "      <td>1.00</td>\n",
       "      <td>King's Landing</td>\n",
       "      <td>2014-01-01</td>\n",
       "      <td>Android</td>\n",
       "      <td>2014-01-01</td>\n",
       "      <td>0.0</td>\n",
       "      <td>1</td>\n",
       "      <td>False</td>\n",
       "      <td>100.0</td>\n",
       "    </tr>\n",
       "    <tr>\n",
       "      <th>3112</th>\n",
       "      <td>3.00</td>\n",
       "      <td>5.0</td>\n",
       "      <td>5.0</td>\n",
       "      <td>1.00</td>\n",
       "      <td>Winterfell</td>\n",
       "      <td>2014-01-01</td>\n",
       "      <td>iPhone</td>\n",
       "      <td>2014-01-01</td>\n",
       "      <td>0.0</td>\n",
       "      <td>1</td>\n",
       "      <td>False</td>\n",
       "      <td>100.0</td>\n",
       "    </tr>\n",
       "    <tr>\n",
       "      <th>9242</th>\n",
       "      <td>0.97</td>\n",
       "      <td>5.0</td>\n",
       "      <td>5.0</td>\n",
       "      <td>1.00</td>\n",
       "      <td>Astapor</td>\n",
       "      <td>2014-01-01</td>\n",
       "      <td>Android</td>\n",
       "      <td>2014-01-01</td>\n",
       "      <td>0.0</td>\n",
       "      <td>1</td>\n",
       "      <td>False</td>\n",
       "      <td>100.0</td>\n",
       "    </tr>\n",
       "    <tr>\n",
       "      <th>33809</th>\n",
       "      <td>6.03</td>\n",
       "      <td>5.0</td>\n",
       "      <td>5.0</td>\n",
       "      <td>1.00</td>\n",
       "      <td>Winterfell</td>\n",
       "      <td>2014-01-01</td>\n",
       "      <td>iPhone</td>\n",
       "      <td>2014-01-01</td>\n",
       "      <td>0.0</td>\n",
       "      <td>1</td>\n",
       "      <td>False</td>\n",
       "      <td>100.0</td>\n",
       "    </tr>\n",
       "    <tr>\n",
       "      <th>15256</th>\n",
       "      <td>4.86</td>\n",
       "      <td>5.0</td>\n",
       "      <td>4.0</td>\n",
       "      <td>1.00</td>\n",
       "      <td>Winterfell</td>\n",
       "      <td>2014-01-01</td>\n",
       "      <td>iPhone</td>\n",
       "      <td>2014-01-01</td>\n",
       "      <td>0.0</td>\n",
       "      <td>1</td>\n",
       "      <td>False</td>\n",
       "      <td>100.0</td>\n",
       "    </tr>\n",
       "    <tr>\n",
       "      <th>6052</th>\n",
       "      <td>6.69</td>\n",
       "      <td>4.0</td>\n",
       "      <td>0.0</td>\n",
       "      <td>1.00</td>\n",
       "      <td>Winterfell</td>\n",
       "      <td>2014-01-01</td>\n",
       "      <td>iPhone</td>\n",
       "      <td>2014-01-01</td>\n",
       "      <td>0.0</td>\n",
       "      <td>1</td>\n",
       "      <td>False</td>\n",
       "      <td>100.0</td>\n",
       "    </tr>\n",
       "    <tr>\n",
       "      <th>5080</th>\n",
       "      <td>6.17</td>\n",
       "      <td>4.0</td>\n",
       "      <td>4.0</td>\n",
       "      <td>1.00</td>\n",
       "      <td>Winterfell</td>\n",
       "      <td>2014-01-01</td>\n",
       "      <td>iPhone</td>\n",
       "      <td>2014-01-01</td>\n",
       "      <td>0.0</td>\n",
       "      <td>1</td>\n",
       "      <td>False</td>\n",
       "      <td>100.0</td>\n",
       "    </tr>\n",
       "    <tr>\n",
       "      <th>5582</th>\n",
       "      <td>2.42</td>\n",
       "      <td>3.0</td>\n",
       "      <td>4.0</td>\n",
       "      <td>1.00</td>\n",
       "      <td>Winterfell</td>\n",
       "      <td>2014-01-01</td>\n",
       "      <td>Android</td>\n",
       "      <td>2014-01-01</td>\n",
       "      <td>0.0</td>\n",
       "      <td>1</td>\n",
       "      <td>False</td>\n",
       "      <td>100.0</td>\n",
       "    </tr>\n",
       "    <tr>\n",
       "      <th>6650</th>\n",
       "      <td>3.00</td>\n",
       "      <td>5.0</td>\n",
       "      <td>5.0</td>\n",
       "      <td>1.00</td>\n",
       "      <td>Astapor</td>\n",
       "      <td>2014-01-01</td>\n",
       "      <td>Android</td>\n",
       "      <td>2014-01-01</td>\n",
       "      <td>0.0</td>\n",
       "      <td>1</td>\n",
       "      <td>False</td>\n",
       "      <td>100.0</td>\n",
       "    </tr>\n",
       "    <tr>\n",
       "      <th>34898</th>\n",
       "      <td>3.02</td>\n",
       "      <td>5.0</td>\n",
       "      <td>5.0</td>\n",
       "      <td>1.00</td>\n",
       "      <td>Winterfell</td>\n",
       "      <td>2014-01-01</td>\n",
       "      <td>iPhone</td>\n",
       "      <td>2014-01-01</td>\n",
       "      <td>0.0</td>\n",
       "      <td>2</td>\n",
       "      <td>False</td>\n",
       "      <td>100.0</td>\n",
       "    </tr>\n",
       "    <tr>\n",
       "      <th>37344</th>\n",
       "      <td>2.14</td>\n",
       "      <td>5.0</td>\n",
       "      <td>0.0</td>\n",
       "      <td>1.00</td>\n",
       "      <td>Winterfell</td>\n",
       "      <td>2014-01-01</td>\n",
       "      <td>Android</td>\n",
       "      <td>2014-01-01</td>\n",
       "      <td>0.0</td>\n",
       "      <td>1</td>\n",
       "      <td>False</td>\n",
       "      <td>100.0</td>\n",
       "    </tr>\n",
       "    <tr>\n",
       "      <th>39490</th>\n",
       "      <td>1.25</td>\n",
       "      <td>2.0</td>\n",
       "      <td>2.0</td>\n",
       "      <td>1.00</td>\n",
       "      <td>Winterfell</td>\n",
       "      <td>2014-01-01</td>\n",
       "      <td>iPhone</td>\n",
       "      <td>2014-01-01</td>\n",
       "      <td>0.0</td>\n",
       "      <td>1</td>\n",
       "      <td>False</td>\n",
       "      <td>100.0</td>\n",
       "    </tr>\n",
       "    <tr>\n",
       "      <th>16039</th>\n",
       "      <td>4.45</td>\n",
       "      <td>5.0</td>\n",
       "      <td>2.0</td>\n",
       "      <td>1.00</td>\n",
       "      <td>Winterfell</td>\n",
       "      <td>2014-01-01</td>\n",
       "      <td>iPhone</td>\n",
       "      <td>2014-01-01</td>\n",
       "      <td>0.0</td>\n",
       "      <td>1</td>\n",
       "      <td>False</td>\n",
       "      <td>100.0</td>\n",
       "    </tr>\n",
       "    <tr>\n",
       "      <th>20806</th>\n",
       "      <td>6.49</td>\n",
       "      <td>5.0</td>\n",
       "      <td>0.0</td>\n",
       "      <td>1.00</td>\n",
       "      <td>Winterfell</td>\n",
       "      <td>2014-01-01</td>\n",
       "      <td>Android</td>\n",
       "      <td>2014-01-01</td>\n",
       "      <td>0.0</td>\n",
       "      <td>1</td>\n",
       "      <td>True</td>\n",
       "      <td>100.0</td>\n",
       "    </tr>\n",
       "    <tr>\n",
       "      <th>33241</th>\n",
       "      <td>6.83</td>\n",
       "      <td>3.0</td>\n",
       "      <td>4.0</td>\n",
       "      <td>1.00</td>\n",
       "      <td>Winterfell</td>\n",
       "      <td>2014-01-01</td>\n",
       "      <td>iPhone</td>\n",
       "      <td>2014-01-01</td>\n",
       "      <td>0.0</td>\n",
       "      <td>1</td>\n",
       "      <td>False</td>\n",
       "      <td>100.0</td>\n",
       "    </tr>\n",
       "    <tr>\n",
       "      <th>22924</th>\n",
       "      <td>13.84</td>\n",
       "      <td>5.0</td>\n",
       "      <td>4.0</td>\n",
       "      <td>1.00</td>\n",
       "      <td>King's Landing</td>\n",
       "      <td>2014-01-01</td>\n",
       "      <td>Android</td>\n",
       "      <td>2014-01-01</td>\n",
       "      <td>0.0</td>\n",
       "      <td>1</td>\n",
       "      <td>False</td>\n",
       "      <td>100.0</td>\n",
       "    </tr>\n",
       "    <tr>\n",
       "      <th>12840</th>\n",
       "      <td>2.74</td>\n",
       "      <td>5.0</td>\n",
       "      <td>5.0</td>\n",
       "      <td>1.00</td>\n",
       "      <td>Winterfell</td>\n",
       "      <td>2014-01-01</td>\n",
       "      <td>Android</td>\n",
       "      <td>2014-01-01</td>\n",
       "      <td>0.0</td>\n",
       "      <td>1</td>\n",
       "      <td>True</td>\n",
       "      <td>100.0</td>\n",
       "    </tr>\n",
       "    <tr>\n",
       "      <th>29219</th>\n",
       "      <td>7.67</td>\n",
       "      <td>4.0</td>\n",
       "      <td>0.0</td>\n",
       "      <td>1.00</td>\n",
       "      <td>Winterfell</td>\n",
       "      <td>2014-01-01</td>\n",
       "      <td>iPhone</td>\n",
       "      <td>2014-01-01</td>\n",
       "      <td>0.0</td>\n",
       "      <td>1</td>\n",
       "      <td>False</td>\n",
       "      <td>100.0</td>\n",
       "    </tr>\n",
       "    <tr>\n",
       "      <th>5276</th>\n",
       "      <td>3.77</td>\n",
       "      <td>5.0</td>\n",
       "      <td>5.0</td>\n",
       "      <td>1.00</td>\n",
       "      <td>Winterfell</td>\n",
       "      <td>2014-01-01</td>\n",
       "      <td>Android</td>\n",
       "      <td>2014-01-01</td>\n",
       "      <td>0.0</td>\n",
       "      <td>1</td>\n",
       "      <td>True</td>\n",
       "      <td>100.0</td>\n",
       "    </tr>\n",
       "    <tr>\n",
       "      <th>44807</th>\n",
       "      <td>2.69</td>\n",
       "      <td>5.0</td>\n",
       "      <td>0.0</td>\n",
       "      <td>1.00</td>\n",
       "      <td>King's Landing</td>\n",
       "      <td>2014-01-01</td>\n",
       "      <td>iPhone</td>\n",
       "      <td>2014-01-01</td>\n",
       "      <td>0.0</td>\n",
       "      <td>1</td>\n",
       "      <td>True</td>\n",
       "      <td>100.0</td>\n",
       "    </tr>\n",
       "    <tr>\n",
       "      <th>...</th>\n",
       "      <td>...</td>\n",
       "      <td>...</td>\n",
       "      <td>...</td>\n",
       "      <td>...</td>\n",
       "      <td>...</td>\n",
       "      <td>...</td>\n",
       "      <td>...</td>\n",
       "      <td>...</td>\n",
       "      <td>...</td>\n",
       "      <td>...</td>\n",
       "      <td>...</td>\n",
       "      <td>...</td>\n",
       "    </tr>\n",
       "    <tr>\n",
       "      <th>22453</th>\n",
       "      <td>3.15</td>\n",
       "      <td>4.9</td>\n",
       "      <td>4.0</td>\n",
       "      <td>1.00</td>\n",
       "      <td>Astapor</td>\n",
       "      <td>2014-07-01</td>\n",
       "      <td>iPhone</td>\n",
       "      <td>2014-01-23</td>\n",
       "      <td>0.0</td>\n",
       "      <td>2</td>\n",
       "      <td>True</td>\n",
       "      <td>100.0</td>\n",
       "    </tr>\n",
       "    <tr>\n",
       "      <th>3824</th>\n",
       "      <td>2.86</td>\n",
       "      <td>4.8</td>\n",
       "      <td>5.0</td>\n",
       "      <td>1.02</td>\n",
       "      <td>Winterfell</td>\n",
       "      <td>2014-07-01</td>\n",
       "      <td>iPhone</td>\n",
       "      <td>2014-01-06</td>\n",
       "      <td>8.3</td>\n",
       "      <td>1</td>\n",
       "      <td>False</td>\n",
       "      <td>58.3</td>\n",
       "    </tr>\n",
       "    <tr>\n",
       "      <th>4313</th>\n",
       "      <td>5.86</td>\n",
       "      <td>4.8</td>\n",
       "      <td>4.7</td>\n",
       "      <td>1.25</td>\n",
       "      <td>Winterfell</td>\n",
       "      <td>2014-07-01</td>\n",
       "      <td>iPhone</td>\n",
       "      <td>2014-01-11</td>\n",
       "      <td>11.1</td>\n",
       "      <td>0</td>\n",
       "      <td>False</td>\n",
       "      <td>100.0</td>\n",
       "    </tr>\n",
       "    <tr>\n",
       "      <th>23010</th>\n",
       "      <td>3.97</td>\n",
       "      <td>4.8</td>\n",
       "      <td>3.0</td>\n",
       "      <td>1.00</td>\n",
       "      <td>Winterfell</td>\n",
       "      <td>2014-07-01</td>\n",
       "      <td>iPhone</td>\n",
       "      <td>2014-01-22</td>\n",
       "      <td>0.0</td>\n",
       "      <td>2</td>\n",
       "      <td>False</td>\n",
       "      <td>92.3</td>\n",
       "    </tr>\n",
       "    <tr>\n",
       "      <th>38779</th>\n",
       "      <td>4.07</td>\n",
       "      <td>5.0</td>\n",
       "      <td>5.0</td>\n",
       "      <td>1.00</td>\n",
       "      <td>King's Landing</td>\n",
       "      <td>2014-07-01</td>\n",
       "      <td>iPhone</td>\n",
       "      <td>2014-01-26</td>\n",
       "      <td>0.0</td>\n",
       "      <td>0</td>\n",
       "      <td>False</td>\n",
       "      <td>100.0</td>\n",
       "    </tr>\n",
       "    <tr>\n",
       "      <th>48590</th>\n",
       "      <td>3.35</td>\n",
       "      <td>4.9</td>\n",
       "      <td>5.0</td>\n",
       "      <td>1.00</td>\n",
       "      <td>Winterfell</td>\n",
       "      <td>2014-07-01</td>\n",
       "      <td>iPhone</td>\n",
       "      <td>2014-01-04</td>\n",
       "      <td>0.0</td>\n",
       "      <td>0</td>\n",
       "      <td>False</td>\n",
       "      <td>41.7</td>\n",
       "    </tr>\n",
       "    <tr>\n",
       "      <th>32935</th>\n",
       "      <td>7.38</td>\n",
       "      <td>4.4</td>\n",
       "      <td>4.2</td>\n",
       "      <td>1.00</td>\n",
       "      <td>Astapor</td>\n",
       "      <td>2014-07-01</td>\n",
       "      <td>Android</td>\n",
       "      <td>2014-01-31</td>\n",
       "      <td>0.0</td>\n",
       "      <td>0</td>\n",
       "      <td>True</td>\n",
       "      <td>60.0</td>\n",
       "    </tr>\n",
       "    <tr>\n",
       "      <th>4212</th>\n",
       "      <td>1.53</td>\n",
       "      <td>4.7</td>\n",
       "      <td>4.3</td>\n",
       "      <td>1.00</td>\n",
       "      <td>King's Landing</td>\n",
       "      <td>2014-07-01</td>\n",
       "      <td>iPhone</td>\n",
       "      <td>2014-01-04</td>\n",
       "      <td>0.0</td>\n",
       "      <td>4</td>\n",
       "      <td>False</td>\n",
       "      <td>89.5</td>\n",
       "    </tr>\n",
       "    <tr>\n",
       "      <th>48601</th>\n",
       "      <td>2.97</td>\n",
       "      <td>4.6</td>\n",
       "      <td>4.7</td>\n",
       "      <td>1.08</td>\n",
       "      <td>Winterfell</td>\n",
       "      <td>2014-07-01</td>\n",
       "      <td>iPhone</td>\n",
       "      <td>2014-01-30</td>\n",
       "      <td>13.3</td>\n",
       "      <td>6</td>\n",
       "      <td>False</td>\n",
       "      <td>53.3</td>\n",
       "    </tr>\n",
       "    <tr>\n",
       "      <th>32962</th>\n",
       "      <td>4.91</td>\n",
       "      <td>4.3</td>\n",
       "      <td>5.0</td>\n",
       "      <td>1.00</td>\n",
       "      <td>Astapor</td>\n",
       "      <td>2014-07-01</td>\n",
       "      <td>iPhone</td>\n",
       "      <td>2014-01-10</td>\n",
       "      <td>0.0</td>\n",
       "      <td>1</td>\n",
       "      <td>False</td>\n",
       "      <td>66.7</td>\n",
       "    </tr>\n",
       "    <tr>\n",
       "      <th>14172</th>\n",
       "      <td>3.80</td>\n",
       "      <td>4.6</td>\n",
       "      <td>4.9</td>\n",
       "      <td>1.05</td>\n",
       "      <td>King's Landing</td>\n",
       "      <td>2014-07-01</td>\n",
       "      <td>iPhone</td>\n",
       "      <td>2014-01-17</td>\n",
       "      <td>6.3</td>\n",
       "      <td>4</td>\n",
       "      <td>False</td>\n",
       "      <td>71.9</td>\n",
       "    </tr>\n",
       "    <tr>\n",
       "      <th>32982</th>\n",
       "      <td>2.42</td>\n",
       "      <td>3.3</td>\n",
       "      <td>0.0</td>\n",
       "      <td>1.00</td>\n",
       "      <td>Winterfell</td>\n",
       "      <td>2014-07-01</td>\n",
       "      <td>iPhone</td>\n",
       "      <td>2014-01-23</td>\n",
       "      <td>0.0</td>\n",
       "      <td>0</td>\n",
       "      <td>False</td>\n",
       "      <td>100.0</td>\n",
       "    </tr>\n",
       "    <tr>\n",
       "      <th>33003</th>\n",
       "      <td>3.69</td>\n",
       "      <td>5.0</td>\n",
       "      <td>4.7</td>\n",
       "      <td>1.04</td>\n",
       "      <td>Winterfell</td>\n",
       "      <td>2014-07-01</td>\n",
       "      <td>iPhone</td>\n",
       "      <td>2014-01-12</td>\n",
       "      <td>8.3</td>\n",
       "      <td>3</td>\n",
       "      <td>False</td>\n",
       "      <td>33.3</td>\n",
       "    </tr>\n",
       "    <tr>\n",
       "      <th>33035</th>\n",
       "      <td>4.82</td>\n",
       "      <td>4.9</td>\n",
       "      <td>5.0</td>\n",
       "      <td>1.21</td>\n",
       "      <td>King's Landing</td>\n",
       "      <td>2014-07-01</td>\n",
       "      <td>iPhone</td>\n",
       "      <td>2014-01-30</td>\n",
       "      <td>30.9</td>\n",
       "      <td>19</td>\n",
       "      <td>False</td>\n",
       "      <td>54.6</td>\n",
       "    </tr>\n",
       "    <tr>\n",
       "      <th>14041</th>\n",
       "      <td>2.20</td>\n",
       "      <td>4.8</td>\n",
       "      <td>5.0</td>\n",
       "      <td>1.00</td>\n",
       "      <td>Winterfell</td>\n",
       "      <td>2014-07-01</td>\n",
       "      <td>Android</td>\n",
       "      <td>2014-01-15</td>\n",
       "      <td>0.0</td>\n",
       "      <td>0</td>\n",
       "      <td>False</td>\n",
       "      <td>50.0</td>\n",
       "    </tr>\n",
       "    <tr>\n",
       "      <th>4080</th>\n",
       "      <td>2.77</td>\n",
       "      <td>4.7</td>\n",
       "      <td>4.6</td>\n",
       "      <td>1.01</td>\n",
       "      <td>Winterfell</td>\n",
       "      <td>2014-07-01</td>\n",
       "      <td>iPhone</td>\n",
       "      <td>2014-01-10</td>\n",
       "      <td>2.2</td>\n",
       "      <td>6</td>\n",
       "      <td>False</td>\n",
       "      <td>66.7</td>\n",
       "    </tr>\n",
       "    <tr>\n",
       "      <th>4013</th>\n",
       "      <td>1.90</td>\n",
       "      <td>4.7</td>\n",
       "      <td>5.0</td>\n",
       "      <td>1.16</td>\n",
       "      <td>King's Landing</td>\n",
       "      <td>2014-07-01</td>\n",
       "      <td>iPhone</td>\n",
       "      <td>2014-01-25</td>\n",
       "      <td>24.6</td>\n",
       "      <td>1</td>\n",
       "      <td>True</td>\n",
       "      <td>68.9</td>\n",
       "    </tr>\n",
       "    <tr>\n",
       "      <th>4002</th>\n",
       "      <td>2.75</td>\n",
       "      <td>4.6</td>\n",
       "      <td>4.1</td>\n",
       "      <td>1.06</td>\n",
       "      <td>Winterfell</td>\n",
       "      <td>2014-07-01</td>\n",
       "      <td>iPhone</td>\n",
       "      <td>2014-01-04</td>\n",
       "      <td>7.4</td>\n",
       "      <td>13</td>\n",
       "      <td>True</td>\n",
       "      <td>63.0</td>\n",
       "    </tr>\n",
       "    <tr>\n",
       "      <th>22625</th>\n",
       "      <td>7.60</td>\n",
       "      <td>5.0</td>\n",
       "      <td>5.0</td>\n",
       "      <td>1.00</td>\n",
       "      <td>Winterfell</td>\n",
       "      <td>2014-07-01</td>\n",
       "      <td>iPhone</td>\n",
       "      <td>2014-01-28</td>\n",
       "      <td>0.0</td>\n",
       "      <td>1</td>\n",
       "      <td>False</td>\n",
       "      <td>100.0</td>\n",
       "    </tr>\n",
       "    <tr>\n",
       "      <th>42346</th>\n",
       "      <td>6.19</td>\n",
       "      <td>4.7</td>\n",
       "      <td>5.0</td>\n",
       "      <td>1.00</td>\n",
       "      <td>Winterfell</td>\n",
       "      <td>2014-07-01</td>\n",
       "      <td>iPhone</td>\n",
       "      <td>2014-01-28</td>\n",
       "      <td>0.0</td>\n",
       "      <td>5</td>\n",
       "      <td>False</td>\n",
       "      <td>75.0</td>\n",
       "    </tr>\n",
       "    <tr>\n",
       "      <th>45155</th>\n",
       "      <td>5.24</td>\n",
       "      <td>4.6</td>\n",
       "      <td>4.8</td>\n",
       "      <td>1.03</td>\n",
       "      <td>Winterfell</td>\n",
       "      <td>2014-07-01</td>\n",
       "      <td>iPhone</td>\n",
       "      <td>2014-01-28</td>\n",
       "      <td>5.7</td>\n",
       "      <td>3</td>\n",
       "      <td>False</td>\n",
       "      <td>66.0</td>\n",
       "    </tr>\n",
       "    <tr>\n",
       "      <th>45154</th>\n",
       "      <td>8.14</td>\n",
       "      <td>5.0</td>\n",
       "      <td>5.0</td>\n",
       "      <td>1.00</td>\n",
       "      <td>King's Landing</td>\n",
       "      <td>2014-07-01</td>\n",
       "      <td>Android</td>\n",
       "      <td>2014-01-19</td>\n",
       "      <td>0.0</td>\n",
       "      <td>1</td>\n",
       "      <td>True</td>\n",
       "      <td>60.0</td>\n",
       "    </tr>\n",
       "    <tr>\n",
       "      <th>45143</th>\n",
       "      <td>4.37</td>\n",
       "      <td>4.8</td>\n",
       "      <td>4.9</td>\n",
       "      <td>1.08</td>\n",
       "      <td>King's Landing</td>\n",
       "      <td>2014-07-01</td>\n",
       "      <td>iPhone</td>\n",
       "      <td>2014-01-29</td>\n",
       "      <td>7.7</td>\n",
       "      <td>4</td>\n",
       "      <td>False</td>\n",
       "      <td>76.9</td>\n",
       "    </tr>\n",
       "    <tr>\n",
       "      <th>38661</th>\n",
       "      <td>4.07</td>\n",
       "      <td>4.7</td>\n",
       "      <td>4.4</td>\n",
       "      <td>1.16</td>\n",
       "      <td>Winterfell</td>\n",
       "      <td>2014-07-01</td>\n",
       "      <td>iPhone</td>\n",
       "      <td>2014-01-18</td>\n",
       "      <td>28.1</td>\n",
       "      <td>4</td>\n",
       "      <td>False</td>\n",
       "      <td>65.6</td>\n",
       "    </tr>\n",
       "    <tr>\n",
       "      <th>14419</th>\n",
       "      <td>5.98</td>\n",
       "      <td>4.8</td>\n",
       "      <td>3.8</td>\n",
       "      <td>1.07</td>\n",
       "      <td>Astapor</td>\n",
       "      <td>2014-07-01</td>\n",
       "      <td>iPhone</td>\n",
       "      <td>2014-01-25</td>\n",
       "      <td>6.1</td>\n",
       "      <td>3</td>\n",
       "      <td>True</td>\n",
       "      <td>78.8</td>\n",
       "    </tr>\n",
       "    <tr>\n",
       "      <th>45126</th>\n",
       "      <td>6.13</td>\n",
       "      <td>4.6</td>\n",
       "      <td>4.6</td>\n",
       "      <td>1.02</td>\n",
       "      <td>Winterfell</td>\n",
       "      <td>2014-07-01</td>\n",
       "      <td>Android</td>\n",
       "      <td>2014-01-10</td>\n",
       "      <td>6.3</td>\n",
       "      <td>1</td>\n",
       "      <td>False</td>\n",
       "      <td>56.3</td>\n",
       "    </tr>\n",
       "    <tr>\n",
       "      <th>38651</th>\n",
       "      <td>10.19</td>\n",
       "      <td>5.0</td>\n",
       "      <td>4.9</td>\n",
       "      <td>1.00</td>\n",
       "      <td>King's Landing</td>\n",
       "      <td>2014-07-01</td>\n",
       "      <td>iPhone</td>\n",
       "      <td>2014-01-13</td>\n",
       "      <td>0.0</td>\n",
       "      <td>0</td>\n",
       "      <td>True</td>\n",
       "      <td>92.3</td>\n",
       "    </tr>\n",
       "    <tr>\n",
       "      <th>14473</th>\n",
       "      <td>5.06</td>\n",
       "      <td>5.0</td>\n",
       "      <td>5.0</td>\n",
       "      <td>1.00</td>\n",
       "      <td>King's Landing</td>\n",
       "      <td>2014-07-01</td>\n",
       "      <td>Android</td>\n",
       "      <td>2014-01-02</td>\n",
       "      <td>0.0</td>\n",
       "      <td>0</td>\n",
       "      <td>False</td>\n",
       "      <td>100.0</td>\n",
       "    </tr>\n",
       "    <tr>\n",
       "      <th>22735</th>\n",
       "      <td>8.71</td>\n",
       "      <td>5.0</td>\n",
       "      <td>5.0</td>\n",
       "      <td>1.00</td>\n",
       "      <td>Winterfell</td>\n",
       "      <td>2014-07-01</td>\n",
       "      <td>iPhone</td>\n",
       "      <td>2014-01-08</td>\n",
       "      <td>0.0</td>\n",
       "      <td>0</td>\n",
       "      <td>True</td>\n",
       "      <td>75.0</td>\n",
       "    </tr>\n",
       "    <tr>\n",
       "      <th>45357</th>\n",
       "      <td>3.90</td>\n",
       "      <td>4.9</td>\n",
       "      <td>4.4</td>\n",
       "      <td>1.02</td>\n",
       "      <td>Astapor</td>\n",
       "      <td>2014-07-01</td>\n",
       "      <td>iPhone</td>\n",
       "      <td>2014-01-28</td>\n",
       "      <td>1.4</td>\n",
       "      <td>5</td>\n",
       "      <td>False</td>\n",
       "      <td>76.4</td>\n",
       "    </tr>\n",
       "  </tbody>\n",
       "</table>\n",
       "<p>50000 rows × 12 columns</p>\n",
       "</div>"
      ],
      "text/plain": [
       "       avg_dist  avg_rating_by_driver  avg_rating_of_driver  avg_surge  \\\n",
       "31425      4.31                   5.0                   0.0       1.00   \n",
       "10729     19.67                   5.0                   3.0       1.00   \n",
       "40336      5.98                   5.0                   5.0       1.00   \n",
       "34828      2.45                   5.0                   5.0       1.25   \n",
       "37295      0.77                   5.0                   3.0       1.00   \n",
       "9941       1.61                   5.0                   0.0       2.00   \n",
       "13542      3.08                   5.0                   0.0       1.50   \n",
       "39857      9.97                   5.0                   5.0       1.00   \n",
       "19976      4.74                   5.0                   5.0       1.00   \n",
       "48271      8.05                   5.0                   0.0       1.00   \n",
       "11259      5.23                   5.0                   5.0       1.00   \n",
       "3112       3.00                   5.0                   5.0       1.00   \n",
       "9242       0.97                   5.0                   5.0       1.00   \n",
       "33809      6.03                   5.0                   5.0       1.00   \n",
       "15256      4.86                   5.0                   4.0       1.00   \n",
       "6052       6.69                   4.0                   0.0       1.00   \n",
       "5080       6.17                   4.0                   4.0       1.00   \n",
       "5582       2.42                   3.0                   4.0       1.00   \n",
       "6650       3.00                   5.0                   5.0       1.00   \n",
       "34898      3.02                   5.0                   5.0       1.00   \n",
       "37344      2.14                   5.0                   0.0       1.00   \n",
       "39490      1.25                   2.0                   2.0       1.00   \n",
       "16039      4.45                   5.0                   2.0       1.00   \n",
       "20806      6.49                   5.0                   0.0       1.00   \n",
       "33241      6.83                   3.0                   4.0       1.00   \n",
       "22924     13.84                   5.0                   4.0       1.00   \n",
       "12840      2.74                   5.0                   5.0       1.00   \n",
       "29219      7.67                   4.0                   0.0       1.00   \n",
       "5276       3.77                   5.0                   5.0       1.00   \n",
       "44807      2.69                   5.0                   0.0       1.00   \n",
       "...         ...                   ...                   ...        ...   \n",
       "22453      3.15                   4.9                   4.0       1.00   \n",
       "3824       2.86                   4.8                   5.0       1.02   \n",
       "4313       5.86                   4.8                   4.7       1.25   \n",
       "23010      3.97                   4.8                   3.0       1.00   \n",
       "38779      4.07                   5.0                   5.0       1.00   \n",
       "48590      3.35                   4.9                   5.0       1.00   \n",
       "32935      7.38                   4.4                   4.2       1.00   \n",
       "4212       1.53                   4.7                   4.3       1.00   \n",
       "48601      2.97                   4.6                   4.7       1.08   \n",
       "32962      4.91                   4.3                   5.0       1.00   \n",
       "14172      3.80                   4.6                   4.9       1.05   \n",
       "32982      2.42                   3.3                   0.0       1.00   \n",
       "33003      3.69                   5.0                   4.7       1.04   \n",
       "33035      4.82                   4.9                   5.0       1.21   \n",
       "14041      2.20                   4.8                   5.0       1.00   \n",
       "4080       2.77                   4.7                   4.6       1.01   \n",
       "4013       1.90                   4.7                   5.0       1.16   \n",
       "4002       2.75                   4.6                   4.1       1.06   \n",
       "22625      7.60                   5.0                   5.0       1.00   \n",
       "42346      6.19                   4.7                   5.0       1.00   \n",
       "45155      5.24                   4.6                   4.8       1.03   \n",
       "45154      8.14                   5.0                   5.0       1.00   \n",
       "45143      4.37                   4.8                   4.9       1.08   \n",
       "38661      4.07                   4.7                   4.4       1.16   \n",
       "14419      5.98                   4.8                   3.8       1.07   \n",
       "45126      6.13                   4.6                   4.6       1.02   \n",
       "38651     10.19                   5.0                   4.9       1.00   \n",
       "14473      5.06                   5.0                   5.0       1.00   \n",
       "22735      8.71                   5.0                   5.0       1.00   \n",
       "45357      3.90                   4.9                   4.4       1.02   \n",
       "\n",
       "                 city last_trip_date    phone signup_date  surge_pct  \\\n",
       "31425      Winterfell     2014-01-01   iPhone  2014-01-01        0.0   \n",
       "10729      Winterfell     2014-01-01   iPhone  2014-01-01        0.0   \n",
       "40336      Winterfell     2014-01-01   iPhone  2014-01-01        0.0   \n",
       "34828         Astapor     2014-01-01   iPhone  2014-01-01      100.0   \n",
       "37295      Winterfell     2014-01-01   iPhone  2014-01-01        0.0   \n",
       "9941       Winterfell     2014-01-01  Android  2014-01-01      100.0   \n",
       "13542      Winterfell     2014-01-01   iPhone  2014-01-01      100.0   \n",
       "39857      Winterfell     2014-01-01   iPhone  2014-01-01        0.0   \n",
       "19976      Winterfell     2014-01-01   iPhone  2014-01-01        0.0   \n",
       "48271      Winterfell     2014-01-01   iPhone  2014-01-01        0.0   \n",
       "11259  King's Landing     2014-01-01  Android  2014-01-01        0.0   \n",
       "3112       Winterfell     2014-01-01   iPhone  2014-01-01        0.0   \n",
       "9242          Astapor     2014-01-01  Android  2014-01-01        0.0   \n",
       "33809      Winterfell     2014-01-01   iPhone  2014-01-01        0.0   \n",
       "15256      Winterfell     2014-01-01   iPhone  2014-01-01        0.0   \n",
       "6052       Winterfell     2014-01-01   iPhone  2014-01-01        0.0   \n",
       "5080       Winterfell     2014-01-01   iPhone  2014-01-01        0.0   \n",
       "5582       Winterfell     2014-01-01  Android  2014-01-01        0.0   \n",
       "6650          Astapor     2014-01-01  Android  2014-01-01        0.0   \n",
       "34898      Winterfell     2014-01-01   iPhone  2014-01-01        0.0   \n",
       "37344      Winterfell     2014-01-01  Android  2014-01-01        0.0   \n",
       "39490      Winterfell     2014-01-01   iPhone  2014-01-01        0.0   \n",
       "16039      Winterfell     2014-01-01   iPhone  2014-01-01        0.0   \n",
       "20806      Winterfell     2014-01-01  Android  2014-01-01        0.0   \n",
       "33241      Winterfell     2014-01-01   iPhone  2014-01-01        0.0   \n",
       "22924  King's Landing     2014-01-01  Android  2014-01-01        0.0   \n",
       "12840      Winterfell     2014-01-01  Android  2014-01-01        0.0   \n",
       "29219      Winterfell     2014-01-01   iPhone  2014-01-01        0.0   \n",
       "5276       Winterfell     2014-01-01  Android  2014-01-01        0.0   \n",
       "44807  King's Landing     2014-01-01   iPhone  2014-01-01        0.0   \n",
       "...               ...            ...      ...         ...        ...   \n",
       "22453         Astapor     2014-07-01   iPhone  2014-01-23        0.0   \n",
       "3824       Winterfell     2014-07-01   iPhone  2014-01-06        8.3   \n",
       "4313       Winterfell     2014-07-01   iPhone  2014-01-11       11.1   \n",
       "23010      Winterfell     2014-07-01   iPhone  2014-01-22        0.0   \n",
       "38779  King's Landing     2014-07-01   iPhone  2014-01-26        0.0   \n",
       "48590      Winterfell     2014-07-01   iPhone  2014-01-04        0.0   \n",
       "32935         Astapor     2014-07-01  Android  2014-01-31        0.0   \n",
       "4212   King's Landing     2014-07-01   iPhone  2014-01-04        0.0   \n",
       "48601      Winterfell     2014-07-01   iPhone  2014-01-30       13.3   \n",
       "32962         Astapor     2014-07-01   iPhone  2014-01-10        0.0   \n",
       "14172  King's Landing     2014-07-01   iPhone  2014-01-17        6.3   \n",
       "32982      Winterfell     2014-07-01   iPhone  2014-01-23        0.0   \n",
       "33003      Winterfell     2014-07-01   iPhone  2014-01-12        8.3   \n",
       "33035  King's Landing     2014-07-01   iPhone  2014-01-30       30.9   \n",
       "14041      Winterfell     2014-07-01  Android  2014-01-15        0.0   \n",
       "4080       Winterfell     2014-07-01   iPhone  2014-01-10        2.2   \n",
       "4013   King's Landing     2014-07-01   iPhone  2014-01-25       24.6   \n",
       "4002       Winterfell     2014-07-01   iPhone  2014-01-04        7.4   \n",
       "22625      Winterfell     2014-07-01   iPhone  2014-01-28        0.0   \n",
       "42346      Winterfell     2014-07-01   iPhone  2014-01-28        0.0   \n",
       "45155      Winterfell     2014-07-01   iPhone  2014-01-28        5.7   \n",
       "45154  King's Landing     2014-07-01  Android  2014-01-19        0.0   \n",
       "45143  King's Landing     2014-07-01   iPhone  2014-01-29        7.7   \n",
       "38661      Winterfell     2014-07-01   iPhone  2014-01-18       28.1   \n",
       "14419         Astapor     2014-07-01   iPhone  2014-01-25        6.1   \n",
       "45126      Winterfell     2014-07-01  Android  2014-01-10        6.3   \n",
       "38651  King's Landing     2014-07-01   iPhone  2014-01-13        0.0   \n",
       "14473  King's Landing     2014-07-01  Android  2014-01-02        0.0   \n",
       "22735      Winterfell     2014-07-01   iPhone  2014-01-08        0.0   \n",
       "45357         Astapor     2014-07-01   iPhone  2014-01-28        1.4   \n",
       "\n",
       "       trips_in_first_30_days  ultimate_black_user  weekday_pct  \n",
       "31425                       1                False        100.0  \n",
       "10729                       1                False        100.0  \n",
       "40336                       1                False        100.0  \n",
       "34828                       1                False        100.0  \n",
       "37295                       1                False        100.0  \n",
       "9941                        1                False        100.0  \n",
       "13542                       1                False        100.0  \n",
       "39857                       1                False        100.0  \n",
       "19976                       1                False        100.0  \n",
       "48271                       1                 True        100.0  \n",
       "11259                       1                False        100.0  \n",
       "3112                        1                False        100.0  \n",
       "9242                        1                False        100.0  \n",
       "33809                       1                False        100.0  \n",
       "15256                       1                False        100.0  \n",
       "6052                        1                False        100.0  \n",
       "5080                        1                False        100.0  \n",
       "5582                        1                False        100.0  \n",
       "6650                        1                False        100.0  \n",
       "34898                       2                False        100.0  \n",
       "37344                       1                False        100.0  \n",
       "39490                       1                False        100.0  \n",
       "16039                       1                False        100.0  \n",
       "20806                       1                 True        100.0  \n",
       "33241                       1                False        100.0  \n",
       "22924                       1                False        100.0  \n",
       "12840                       1                 True        100.0  \n",
       "29219                       1                False        100.0  \n",
       "5276                        1                 True        100.0  \n",
       "44807                       1                 True        100.0  \n",
       "...                       ...                  ...          ...  \n",
       "22453                       2                 True        100.0  \n",
       "3824                        1                False         58.3  \n",
       "4313                        0                False        100.0  \n",
       "23010                       2                False         92.3  \n",
       "38779                       0                False        100.0  \n",
       "48590                       0                False         41.7  \n",
       "32935                       0                 True         60.0  \n",
       "4212                        4                False         89.5  \n",
       "48601                       6                False         53.3  \n",
       "32962                       1                False         66.7  \n",
       "14172                       4                False         71.9  \n",
       "32982                       0                False        100.0  \n",
       "33003                       3                False         33.3  \n",
       "33035                      19                False         54.6  \n",
       "14041                       0                False         50.0  \n",
       "4080                        6                False         66.7  \n",
       "4013                        1                 True         68.9  \n",
       "4002                       13                 True         63.0  \n",
       "22625                       1                False        100.0  \n",
       "42346                       5                False         75.0  \n",
       "45155                       3                False         66.0  \n",
       "45154                       1                 True         60.0  \n",
       "45143                       4                False         76.9  \n",
       "38661                       4                False         65.6  \n",
       "14419                       3                 True         78.8  \n",
       "45126                       1                False         56.3  \n",
       "38651                       0                 True         92.3  \n",
       "14473                       0                False        100.0  \n",
       "22735                       0                 True         75.0  \n",
       "45357                       5                False         76.4  \n",
       "\n",
       "[50000 rows x 12 columns]"
      ]
     },
     "execution_count": 66,
     "metadata": {},
     "output_type": "execute_result"
    }
   ],
   "source": [
    "udc.sort_values('last_trip_date', ascending=True)"
   ]
  },
  {
   "cell_type": "code",
   "execution_count": 67,
   "metadata": {
    "collapsed": true
   },
   "outputs": [],
   "source": [
    "# Unless I missed it, I don't see a date provided for when the data\n",
    "# was pulled, so I will assume the most recent ride taken was the day\n",
    "# the data was pulled July 1st 2014. \n"
   ]
  },
  {
   "cell_type": "code",
   "execution_count": 71,
   "metadata": {},
   "outputs": [],
   "source": [
    "retained = udc[pd.to_datetime(udc.last_trip_date) > date(2014,6,1)]"
   ]
  },
  {
   "cell_type": "code",
   "execution_count": 72,
   "metadata": {
    "collapsed": true
   },
   "outputs": [],
   "source": [
    "udc['Retained'] = udc.last_trip_date.apply(lambda x: True if x > '2014-06-01' else False)"
   ]
  },
  {
   "cell_type": "code",
   "execution_count": 73,
   "metadata": {},
   "outputs": [
    {
     "data": {
      "text/plain": [
       "0.3662"
      ]
     },
     "execution_count": 73,
     "metadata": {},
     "output_type": "execute_result"
    }
   ],
   "source": [
    "len(retained) / len(udc)"
   ]
  },
  {
   "cell_type": "code",
   "execution_count": 74,
   "metadata": {},
   "outputs": [
    {
     "data": {
      "text/html": [
       "<div>\n",
       "<style>\n",
       "    .dataframe thead tr:only-child th {\n",
       "        text-align: right;\n",
       "    }\n",
       "\n",
       "    .dataframe thead th {\n",
       "        text-align: left;\n",
       "    }\n",
       "\n",
       "    .dataframe tbody tr th {\n",
       "        vertical-align: top;\n",
       "    }\n",
       "</style>\n",
       "<table border=\"1\" class=\"dataframe\">\n",
       "  <thead>\n",
       "    <tr style=\"text-align: right;\">\n",
       "      <th></th>\n",
       "      <th>avg_dist</th>\n",
       "      <th>avg_rating_by_driver</th>\n",
       "      <th>avg_rating_of_driver</th>\n",
       "      <th>avg_surge</th>\n",
       "      <th>city</th>\n",
       "      <th>last_trip_date</th>\n",
       "      <th>phone</th>\n",
       "      <th>signup_date</th>\n",
       "      <th>surge_pct</th>\n",
       "      <th>trips_in_first_30_days</th>\n",
       "      <th>ultimate_black_user</th>\n",
       "      <th>weekday_pct</th>\n",
       "      <th>Retained</th>\n",
       "    </tr>\n",
       "  </thead>\n",
       "  <tbody>\n",
       "    <tr>\n",
       "      <th>0</th>\n",
       "      <td>3.67</td>\n",
       "      <td>5.0</td>\n",
       "      <td>4.7</td>\n",
       "      <td>1.10</td>\n",
       "      <td>King's Landing</td>\n",
       "      <td>2014-06-17</td>\n",
       "      <td>iPhone</td>\n",
       "      <td>2014-01-25</td>\n",
       "      <td>15.4</td>\n",
       "      <td>4</td>\n",
       "      <td>True</td>\n",
       "      <td>46.2</td>\n",
       "      <td>True</td>\n",
       "    </tr>\n",
       "    <tr>\n",
       "      <th>1</th>\n",
       "      <td>8.26</td>\n",
       "      <td>5.0</td>\n",
       "      <td>5.0</td>\n",
       "      <td>1.00</td>\n",
       "      <td>Astapor</td>\n",
       "      <td>2014-05-05</td>\n",
       "      <td>Android</td>\n",
       "      <td>2014-01-29</td>\n",
       "      <td>0.0</td>\n",
       "      <td>0</td>\n",
       "      <td>False</td>\n",
       "      <td>50.0</td>\n",
       "      <td>False</td>\n",
       "    </tr>\n",
       "    <tr>\n",
       "      <th>2</th>\n",
       "      <td>0.77</td>\n",
       "      <td>5.0</td>\n",
       "      <td>4.3</td>\n",
       "      <td>1.00</td>\n",
       "      <td>Astapor</td>\n",
       "      <td>2014-01-07</td>\n",
       "      <td>iPhone</td>\n",
       "      <td>2014-01-06</td>\n",
       "      <td>0.0</td>\n",
       "      <td>3</td>\n",
       "      <td>False</td>\n",
       "      <td>100.0</td>\n",
       "      <td>False</td>\n",
       "    </tr>\n",
       "    <tr>\n",
       "      <th>3</th>\n",
       "      <td>2.36</td>\n",
       "      <td>4.9</td>\n",
       "      <td>4.6</td>\n",
       "      <td>1.14</td>\n",
       "      <td>King's Landing</td>\n",
       "      <td>2014-06-29</td>\n",
       "      <td>iPhone</td>\n",
       "      <td>2014-01-10</td>\n",
       "      <td>20.0</td>\n",
       "      <td>9</td>\n",
       "      <td>True</td>\n",
       "      <td>80.0</td>\n",
       "      <td>True</td>\n",
       "    </tr>\n",
       "    <tr>\n",
       "      <th>4</th>\n",
       "      <td>3.13</td>\n",
       "      <td>4.9</td>\n",
       "      <td>4.4</td>\n",
       "      <td>1.19</td>\n",
       "      <td>Winterfell</td>\n",
       "      <td>2014-03-15</td>\n",
       "      <td>Android</td>\n",
       "      <td>2014-01-27</td>\n",
       "      <td>11.8</td>\n",
       "      <td>14</td>\n",
       "      <td>False</td>\n",
       "      <td>82.4</td>\n",
       "      <td>False</td>\n",
       "    </tr>\n",
       "  </tbody>\n",
       "</table>\n",
       "</div>"
      ],
      "text/plain": [
       "   avg_dist  avg_rating_by_driver  avg_rating_of_driver  avg_surge  \\\n",
       "0      3.67                   5.0                   4.7       1.10   \n",
       "1      8.26                   5.0                   5.0       1.00   \n",
       "2      0.77                   5.0                   4.3       1.00   \n",
       "3      2.36                   4.9                   4.6       1.14   \n",
       "4      3.13                   4.9                   4.4       1.19   \n",
       "\n",
       "             city last_trip_date    phone signup_date  surge_pct  \\\n",
       "0  King's Landing     2014-06-17   iPhone  2014-01-25       15.4   \n",
       "1         Astapor     2014-05-05  Android  2014-01-29        0.0   \n",
       "2         Astapor     2014-01-07   iPhone  2014-01-06        0.0   \n",
       "3  King's Landing     2014-06-29   iPhone  2014-01-10       20.0   \n",
       "4      Winterfell     2014-03-15  Android  2014-01-27       11.8   \n",
       "\n",
       "   trips_in_first_30_days  ultimate_black_user  weekday_pct  Retained  \n",
       "0                       4                 True         46.2      True  \n",
       "1                       0                False         50.0     False  \n",
       "2                       3                False        100.0     False  \n",
       "3                       9                 True         80.0      True  \n",
       "4                      14                False         82.4     False  "
      ]
     },
     "execution_count": 74,
     "metadata": {},
     "output_type": "execute_result"
    }
   ],
   "source": [
    "udc.head()"
   ]
  },
  {
   "cell_type": "code",
   "execution_count": 75,
   "metadata": {
    "collapsed": true
   },
   "outputs": [],
   "source": [
    "from sklearn.model_selection import train_test_split\n",
    "from sklearn.model_selection import cross_val_score\n",
    "from sklearn.linear_model import Lasso\n",
    "from sklearn.linear_model import Ridge\n",
    "from sklearn.ensemble import RandomForestClassifier"
   ]
  },
  {
   "cell_type": "code",
   "execution_count": 76,
   "metadata": {},
   "outputs": [],
   "source": [
    "cities = pd.get_dummies(udc.city)"
   ]
  },
  {
   "cell_type": "code",
   "execution_count": 77,
   "metadata": {
    "collapsed": true
   },
   "outputs": [],
   "source": [
    "udc = pd.concat([udc, cities],axis=1)"
   ]
  },
  {
   "cell_type": "code",
   "execution_count": 78,
   "metadata": {},
   "outputs": [
    {
     "name": "stdout",
     "output_type": "stream",
     "text": [
      "<class 'pandas.core.frame.DataFrame'>\n",
      "RangeIndex: 50000 entries, 0 to 49999\n",
      "Data columns (total 16 columns):\n",
      "avg_dist                  50000 non-null float64\n",
      "avg_rating_by_driver      50000 non-null float64\n",
      "avg_rating_of_driver      50000 non-null float64\n",
      "avg_surge                 50000 non-null float64\n",
      "city                      50000 non-null object\n",
      "last_trip_date            50000 non-null object\n",
      "phone                     50000 non-null object\n",
      "signup_date               50000 non-null object\n",
      "surge_pct                 50000 non-null float64\n",
      "trips_in_first_30_days    50000 non-null int64\n",
      "ultimate_black_user       50000 non-null bool\n",
      "weekday_pct               50000 non-null float64\n",
      "Retained                  50000 non-null bool\n",
      "Astapor                   50000 non-null uint8\n",
      "King's Landing            50000 non-null uint8\n",
      "Winterfell                50000 non-null uint8\n",
      "dtypes: bool(2), float64(6), int64(1), object(4), uint8(3)\n",
      "memory usage: 4.4+ MB\n"
     ]
    }
   ],
   "source": [
    "udc.info()"
   ]
  },
  {
   "cell_type": "code",
   "execution_count": null,
   "metadata": {
    "collapsed": true
   },
   "outputs": [],
   "source": []
  },
  {
   "cell_type": "code",
   "execution_count": 79,
   "metadata": {
    "collapsed": true
   },
   "outputs": [],
   "source": [
    "y = udc.Retained\n",
    "x = udc.drop(['Retained', 'city', 'last_trip_date','phone','signup_date'],axis=1)"
   ]
  },
  {
   "cell_type": "code",
   "execution_count": 80,
   "metadata": {
    "collapsed": true
   },
   "outputs": [],
   "source": [
    "X_train, X_test, y_train, y_test = train_test_split(x, y, test_size = .3, random_state=42)\n"
   ]
  },
  {
   "cell_type": "code",
   "execution_count": 81,
   "metadata": {},
   "outputs": [
    {
     "name": "stdout",
     "output_type": "stream",
     "text": [
      "Feature importance determined from random forest\n",
      "                   Feature  Importance\n",
      "0                 avg_dist    0.314750\n",
      "1     avg_rating_by_driver    0.142750\n",
      "7              weekday_pct    0.125512\n",
      "2     avg_rating_of_driver    0.083557\n",
      "5   trips_in_first_30_days    0.078062\n",
      "4                surge_pct    0.076378\n",
      "3                avg_surge    0.061226\n",
      "9           King's Landing    0.047867\n",
      "6      ultimate_black_user    0.036455\n",
      "8                  Astapor    0.017307\n",
      "10              Winterfell    0.016136\n"
     ]
    }
   ],
   "source": [
    "rfc = RandomForestClassifier()\n",
    "\n",
    "rfc.fit(X_train, y_train)\n",
    "\n",
    "importance = list(rfc.feature_importances_)\n",
    "feature = list(X_train.columns)\n",
    "\n",
    "feature_importance = pd.DataFrame({'Feature': feature, 'Importance': importance})\n",
    "\n",
    "print('Feature importance determined from random forest')\n",
    "print(feature_importance.sort_values('Importance', ascending=False))"
   ]
  },
  {
   "cell_type": "code",
   "execution_count": 82,
   "metadata": {},
   "outputs": [
    {
     "name": "stdout",
     "output_type": "stream",
     "text": [
      "Train: 0.9764571428571429\n",
      "Test: 0.7330666666666666\n"
     ]
    }
   ],
   "source": [
    "train_score = rfc.score(X_train, y_train)\n",
    "print(\"Train: {}\".format(train_score))\n",
    "\n",
    "test_score = rfc.score(X_test, y_test)\n",
    "print(\"Test: {}\".format(test_score))"
   ]
  },
  {
   "cell_type": "code",
   "execution_count": null,
   "metadata": {
    "collapsed": true
   },
   "outputs": [],
   "source": []
  },
  {
   "cell_type": "markdown",
   "metadata": {},
   "source": [
    "missing values in average rating by and of user and in phone \n",
    "\n",
    "retained if they were “active” (i.e. took a trip) in the preceding 30 days."
   ]
  },
  {
   "cell_type": "code",
   "execution_count": null,
   "metadata": {
    "collapsed": true
   },
   "outputs": [],
   "source": []
  },
  {
   "cell_type": "code",
   "execution_count": null,
   "metadata": {
    "collapsed": true
   },
   "outputs": [],
   "source": []
  }
 ],
 "metadata": {
  "kernelspec": {
   "display_name": "Python 3",
   "language": "python",
   "name": "python3"
  },
  "language_info": {
   "codemirror_mode": {
    "name": "ipython",
    "version": 3
   },
   "file_extension": ".py",
   "mimetype": "text/x-python",
   "name": "python",
   "nbconvert_exporter": "python",
   "pygments_lexer": "ipython3",
   "version": "3.6.1"
  }
 },
 "nbformat": 4,
 "nbformat_minor": 2
}
