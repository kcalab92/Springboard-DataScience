{
 "cells": [
  {
   "cell_type": "code",
   "execution_count": 1,
   "metadata": {
    "collapsed": true
   },
   "outputs": [],
   "source": [
    "import pandas as pd\n",
    "import numpy as np\n",
    "import matplotlib.pyplot as plt\n",
    "from sklearn.preprocessing import StandardScaler\n",
    "from sklearn.linear_model import LinearRegression\n",
    "from sklearn.metrics import mean_squared_error\n",
    "from sklearn.model_selection import train_test_split\n",
    "from sklearn.model_selection import cross_val_score\n",
    "from sklearn.linear_model import Lasso\n",
    "from sklearn.linear_model import Ridge\n",
    "from sklearn.ensemble import RandomForestClassifier\n",
    "from sklearn.linear_model import SGDRegressor\n",
    "from sklearn.model_selection import GridSearchCV\n",
    "from sklearn.model_selection import RandomizedSearchCV\n",
    "from sklearn.linear_model import SGDRegressor\n",
    "from sklearn.ensemble import GradientBoostingRegressor\n",
    "from sklearn.neural_network import MLPRegressor\n",
    "import datetime"
   ]
  },
  {
   "cell_type": "code",
   "execution_count": 2,
   "metadata": {
    "collapsed": true
   },
   "outputs": [],
   "source": [
    "from sklearn.linear_model import LogisticRegression\n",
    "from sklearn.neural_network import MLPClassifier\n",
    "from sklearn.neighbors import KNeighborsClassifier\n",
    "from sklearn.svm import SVC"
   ]
  },
  {
   "cell_type": "code",
   "execution_count": 3,
   "metadata": {
    "collapsed": true
   },
   "outputs": [],
   "source": [
    "df = pd.read_csv('Hold/df2.csv')"
   ]
  },
  {
   "cell_type": "code",
   "execution_count": 4,
   "metadata": {},
   "outputs": [
    {
     "data": {
      "text/html": [
       "<div>\n",
       "<style>\n",
       "    .dataframe thead tr:only-child th {\n",
       "        text-align: right;\n",
       "    }\n",
       "\n",
       "    .dataframe thead th {\n",
       "        text-align: left;\n",
       "    }\n",
       "\n",
       "    .dataframe tbody tr th {\n",
       "        vertical-align: top;\n",
       "    }\n",
       "</style>\n",
       "<table border=\"1\" class=\"dataframe\">\n",
       "  <thead>\n",
       "    <tr style=\"text-align: right;\">\n",
       "      <th></th>\n",
       "      <th>age</th>\n",
       "      <th>job</th>\n",
       "      <th>marital</th>\n",
       "      <th>education</th>\n",
       "      <th>default</th>\n",
       "      <th>housing</th>\n",
       "      <th>loan</th>\n",
       "      <th>contact</th>\n",
       "      <th>month</th>\n",
       "      <th>day_of_week</th>\n",
       "      <th>...</th>\n",
       "      <th>pdays_3</th>\n",
       "      <th>pdays_4</th>\n",
       "      <th>pdays_5</th>\n",
       "      <th>previous_1</th>\n",
       "      <th>previous_2</th>\n",
       "      <th>previous_3</th>\n",
       "      <th>prop_previous_by_age</th>\n",
       "      <th>prop_previous_by_job</th>\n",
       "      <th>prop_previous_by_marital</th>\n",
       "      <th>prop_previous_by_education</th>\n",
       "    </tr>\n",
       "  </thead>\n",
       "  <tbody>\n",
       "    <tr>\n",
       "      <th>0</th>\n",
       "      <td>56</td>\n",
       "      <td>housemaid</td>\n",
       "      <td>married</td>\n",
       "      <td>basic.4y</td>\n",
       "      <td>no</td>\n",
       "      <td>no</td>\n",
       "      <td>no</td>\n",
       "      <td>telephone</td>\n",
       "      <td>may</td>\n",
       "      <td>mon</td>\n",
       "      <td>...</td>\n",
       "      <td>0</td>\n",
       "      <td>0</td>\n",
       "      <td>1</td>\n",
       "      <td>0</td>\n",
       "      <td>0</td>\n",
       "      <td>1</td>\n",
       "      <td>0.133523</td>\n",
       "      <td>0.137736</td>\n",
       "      <td>0.155608</td>\n",
       "      <td>0.147031</td>\n",
       "    </tr>\n",
       "    <tr>\n",
       "      <th>1</th>\n",
       "      <td>56</td>\n",
       "      <td>housemaid</td>\n",
       "      <td>married</td>\n",
       "      <td>basic.4y</td>\n",
       "      <td>no</td>\n",
       "      <td>no</td>\n",
       "      <td>no</td>\n",
       "      <td>telephone</td>\n",
       "      <td>may</td>\n",
       "      <td>mon</td>\n",
       "      <td>...</td>\n",
       "      <td>0</td>\n",
       "      <td>0</td>\n",
       "      <td>1</td>\n",
       "      <td>0</td>\n",
       "      <td>0</td>\n",
       "      <td>1</td>\n",
       "      <td>0.133523</td>\n",
       "      <td>0.137736</td>\n",
       "      <td>0.155608</td>\n",
       "      <td>0.147031</td>\n",
       "    </tr>\n",
       "    <tr>\n",
       "      <th>2</th>\n",
       "      <td>56</td>\n",
       "      <td>housemaid</td>\n",
       "      <td>married</td>\n",
       "      <td>basic.4y</td>\n",
       "      <td>no</td>\n",
       "      <td>yes</td>\n",
       "      <td>no</td>\n",
       "      <td>telephone</td>\n",
       "      <td>may</td>\n",
       "      <td>fri</td>\n",
       "      <td>...</td>\n",
       "      <td>0</td>\n",
       "      <td>0</td>\n",
       "      <td>1</td>\n",
       "      <td>0</td>\n",
       "      <td>0</td>\n",
       "      <td>1</td>\n",
       "      <td>0.133523</td>\n",
       "      <td>0.137736</td>\n",
       "      <td>0.155608</td>\n",
       "      <td>0.147031</td>\n",
       "    </tr>\n",
       "    <tr>\n",
       "      <th>3</th>\n",
       "      <td>56</td>\n",
       "      <td>housemaid</td>\n",
       "      <td>married</td>\n",
       "      <td>basic.4y</td>\n",
       "      <td>no</td>\n",
       "      <td>no</td>\n",
       "      <td>no</td>\n",
       "      <td>telephone</td>\n",
       "      <td>jun</td>\n",
       "      <td>wed</td>\n",
       "      <td>...</td>\n",
       "      <td>0</td>\n",
       "      <td>0</td>\n",
       "      <td>1</td>\n",
       "      <td>0</td>\n",
       "      <td>0</td>\n",
       "      <td>1</td>\n",
       "      <td>0.133523</td>\n",
       "      <td>0.137736</td>\n",
       "      <td>0.155608</td>\n",
       "      <td>0.147031</td>\n",
       "    </tr>\n",
       "    <tr>\n",
       "      <th>4</th>\n",
       "      <td>56</td>\n",
       "      <td>housemaid</td>\n",
       "      <td>married</td>\n",
       "      <td>basic.4y</td>\n",
       "      <td>no</td>\n",
       "      <td>no</td>\n",
       "      <td>yes</td>\n",
       "      <td>cellular</td>\n",
       "      <td>jul</td>\n",
       "      <td>mon</td>\n",
       "      <td>...</td>\n",
       "      <td>0</td>\n",
       "      <td>0</td>\n",
       "      <td>1</td>\n",
       "      <td>0</td>\n",
       "      <td>0</td>\n",
       "      <td>1</td>\n",
       "      <td>0.133523</td>\n",
       "      <td>0.137736</td>\n",
       "      <td>0.155608</td>\n",
       "      <td>0.147031</td>\n",
       "    </tr>\n",
       "  </tbody>\n",
       "</table>\n",
       "<p>5 rows × 118 columns</p>\n",
       "</div>"
      ],
      "text/plain": [
       "   age        job  marital education default housing loan    contact month  \\\n",
       "0   56  housemaid  married  basic.4y      no      no   no  telephone   may   \n",
       "1   56  housemaid  married  basic.4y      no      no   no  telephone   may   \n",
       "2   56  housemaid  married  basic.4y      no     yes   no  telephone   may   \n",
       "3   56  housemaid  married  basic.4y      no      no   no  telephone   jun   \n",
       "4   56  housemaid  married  basic.4y      no      no  yes   cellular   jul   \n",
       "\n",
       "  day_of_week             ...              pdays_3  pdays_4  pdays_5  \\\n",
       "0         mon             ...                    0        0        1   \n",
       "1         mon             ...                    0        0        1   \n",
       "2         fri             ...                    0        0        1   \n",
       "3         wed             ...                    0        0        1   \n",
       "4         mon             ...                    0        0        1   \n",
       "\n",
       "   previous_1 previous_2  previous_3  prop_previous_by_age  \\\n",
       "0           0          0           1              0.133523   \n",
       "1           0          0           1              0.133523   \n",
       "2           0          0           1              0.133523   \n",
       "3           0          0           1              0.133523   \n",
       "4           0          0           1              0.133523   \n",
       "\n",
       "   prop_previous_by_job  prop_previous_by_marital  prop_previous_by_education  \n",
       "0              0.137736                  0.155608                    0.147031  \n",
       "1              0.137736                  0.155608                    0.147031  \n",
       "2              0.137736                  0.155608                    0.147031  \n",
       "3              0.137736                  0.155608                    0.147031  \n",
       "4              0.137736                  0.155608                    0.147031  \n",
       "\n",
       "[5 rows x 118 columns]"
      ]
     },
     "execution_count": 4,
     "metadata": {},
     "output_type": "execute_result"
    }
   ],
   "source": [
    "df.head()"
   ]
  },
  {
   "cell_type": "code",
   "execution_count": 5,
   "metadata": {
    "collapsed": true
   },
   "outputs": [],
   "source": [
    "cols = list(df.iloc[:,74:114].columns)"
   ]
  },
  {
   "cell_type": "code",
   "execution_count": 6,
   "metadata": {
    "collapsed": true
   },
   "outputs": [],
   "source": [
    "df1 = df.drop(cols, axis=1)"
   ]
  },
  {
   "cell_type": "code",
   "execution_count": 28,
   "metadata": {
    "collapsed": true
   },
   "outputs": [],
   "source": [
    "\n",
    "y = df1.y\n",
    "x2 = df1.drop(['y', 'duration', 'emp.var.rate', 'euribor3m', 'previous_campaign_nonexistent', 'job', 'marital', 'education', 'contact', 'month', 'day_of_week','poutcome','default','housing','loan'], axis=1)\n",
    "X_train, X_test, y_train, y_test = train_test_split(x2, y, test_size = .3, random_state=42)"
   ]
  },
  {
   "cell_type": "code",
   "execution_count": 26,
   "metadata": {},
   "outputs": [
    {
     "ename": "IndentationError",
     "evalue": "unexpected indent (<ipython-input-26-1d58174bf6e9>, line 6)",
     "output_type": "error",
     "traceback": [
      "\u001b[0;36m  File \u001b[0;32m\"<ipython-input-26-1d58174bf6e9>\"\u001b[0;36m, line \u001b[0;32m6\u001b[0m\n\u001b[0;31m    'contact', 'month', 'day_of_week','poutcome'], axis=1)\u001b[0m\n\u001b[0m    ^\u001b[0m\n\u001b[0;31mIndentationError\u001b[0m\u001b[0;31m:\u001b[0m unexpected indent\n"
     ]
    }
   ],
   "source": [
    "# Alternative set of features\n",
    "# drop target variable y, and the following due to \n",
    "# high correlation: emp.var.rate, euribor3m, and previous_campaign_nonexistent\n",
    "\n",
    "#x3 = df1.drop(['y', 'duration', 'emp.var.rate', 'euribor3m', 'previous_campaign_nonexistent', 'default', 'housing', 'loan',\n",
    "#     'contact', 'month', 'day_of_week','poutcome'], axis=1)"
   ]
  },
  {
   "cell_type": "code",
   "execution_count": 27,
   "metadata": {},
   "outputs": [],
   "source": [
    "X_train, X_test, y_train, y_test = train_test_split(x3, y, test_size = .3, random_state=42)\n",
    "\n",
    "X_train = pd.concat([X_train, y_train], axis=1)\n",
    "\n",
    "a = X_train.groupby('age')['y'].sum()\n",
    "b = X_train.groupby('age')['y'].count()\n",
    "c = a/b\n",
    "c = c.reset_index().rename(columns={'y': 'prop_y_by_age'})\n",
    "X_train = X_train.merge(c, on='age')\n",
    "X_test = X_test.merge(c, on='age')\n",
    "\n",
    "a = X_train.groupby('job')['y'].sum()\n",
    "b = X_train.groupby('job')['y'].count()\n",
    "c = a/b\n",
    "c = c.reset_index().rename(columns={'y': 'prop_y_by_job'})\n",
    "X_train = X_train.merge(c, on='job')\n",
    "X_test = X_test.merge(c, on='job')\n",
    "\n",
    "a = X_train.groupby('marital')['y'].sum()\n",
    "b = X_train.groupby('marital')['y'].count()\n",
    "c = a/b\n",
    "c = c.reset_index().rename(columns={'y': 'prop_y_by_marital'})\n",
    "X_train = X_train.merge(c, on='marital')\n",
    "X_test = X_test.merge(c, on='marital')\n",
    "\n",
    "a = X_train.groupby('education')['y'].sum()\n",
    "b = X_train.groupby('education')['y'].count()\n",
    "c = a/b\n",
    "c = c.reset_index().rename(columns={'y': 'prop_y_by_education'})\n",
    "X_train = X_train.merge(c, on='education')\n",
    "X_test = X_test.merge(c, on='education')\n",
    "\n",
    "X_train=X_train.drop(['y', 'job','marital','education'], axis=1)\n",
    "\n",
    "X_train.iloc[:,:4] = X_train.iloc[:,:4].astype(int)\n",
    "X_train.iloc[:,7:59] = X_train.iloc[:,7:59].astype(int)"
   ]
  },
  {
   "cell_type": "code",
   "execution_count": 29,
   "metadata": {
    "collapsed": true
   },
   "outputs": [],
   "source": [
    "rfc = RandomForestClassifier(random_state=0)"
   ]
  },
  {
   "cell_type": "code",
   "execution_count": 30,
   "metadata": {},
   "outputs": [
    {
     "data": {
      "text/plain": [
       "RandomForestClassifier(bootstrap=True, class_weight=None, criterion='gini',\n",
       "            max_depth=None, max_features='auto', max_leaf_nodes=None,\n",
       "            min_impurity_split=1e-07, min_samples_leaf=1,\n",
       "            min_samples_split=2, min_weight_fraction_leaf=0.0,\n",
       "            n_estimators=10, n_jobs=1, oob_score=False, random_state=0,\n",
       "            verbose=0, warm_start=False)"
      ]
     },
     "execution_count": 30,
     "metadata": {},
     "output_type": "execute_result"
    }
   ],
   "source": [
    "rfc.fit(X_train, y_train)"
   ]
  },
  {
   "cell_type": "code",
   "execution_count": 31,
   "metadata": {},
   "outputs": [
    {
     "data": {
      "text/plain": [
       "array([  1.07728860e-01,   7.19112406e-02,   2.27456921e-02,\n",
       "         1.63406116e-02,   4.46913306e-02,   2.27682984e-02,\n",
       "         8.56386571e-02,   1.09655030e-02,   7.83289391e-03,\n",
       "         4.21423683e-03,   3.14899155e-03,   6.84808487e-03,\n",
       "         3.86357669e-03,   5.16590808e-03,   7.04725115e-03,\n",
       "         3.49248108e-03,   1.01531158e-02,   4.06327752e-03,\n",
       "         1.44226799e-03,   7.79831256e-03,   1.02628573e-02,\n",
       "         9.64491284e-03,   3.38816905e-04,   5.84146387e-03,\n",
       "         4.06991615e-03,   8.15550711e-03,   1.29963163e-02,\n",
       "         3.05483061e-04,   8.83192291e-03,   1.12593723e-02,\n",
       "         5.21229571e-03,   7.64653473e-03,   8.51145342e-03,\n",
       "         7.99207730e-08,   2.04761427e-02,   1.97096936e-03,\n",
       "         1.87367164e-02,   1.29214805e-02,   2.55391117e-03,\n",
       "         1.37006230e-02,   9.10767022e-03,   7.99603522e-03,\n",
       "         3.45331191e-03,   4.10513007e-03,   1.09804575e-03,\n",
       "         3.52799082e-03,   3.89312024e-03,   8.11432512e-03,\n",
       "         4.93971634e-03,   3.39565788e-03,   7.94146805e-03,\n",
       "         2.39443653e-03,   1.82674687e-02,   1.95416966e-02,\n",
       "         1.81836566e-02,   1.77423331e-02,   1.86015477e-02,\n",
       "         9.69527056e-03,   4.01488097e-02,   1.08286388e-01,\n",
       "         3.36353394e-02,   1.49037600e-02,   2.97294543e-02])"
      ]
     },
     "execution_count": 31,
     "metadata": {},
     "output_type": "execute_result"
    }
   ],
   "source": [
    "rfc.feature_importances_"
   ]
  },
  {
   "cell_type": "code",
   "execution_count": 32,
   "metadata": {},
   "outputs": [
    {
     "data": {
      "text/plain": [
       "Index(['age', 'campaign', 'pdays', 'previous', 'cons.price.idx',\n",
       "       'cons.conf.idx', 'nr.employed', 'entrepreneur', 'blue-collar',\n",
       "       'services', 'management', 'unemployed', 'student', 'self-employed',\n",
       "       'housemaid', 'admin.', 'technician', 'retired', 'unknown_profession',\n",
       "       'divorced', 'married', 'single', 'unknown_marital_status', 'illiterate',\n",
       "       'basic.6y', 'university.degree', 'basic.4y', 'basic.9y', 'high.school',\n",
       "       'unknown_education', 'professional.course', 'yes_default',\n",
       "       'unknown_default', 'no_default', 'yes_housing', 'unknown_housing',\n",
       "       'no_housing', 'yes_loan', 'unknown_loan', 'no_loan', 'telephone',\n",
       "       'cellular', 'oct', 'jul', 'jun', 'mar', 'nov', 'dec', 'apr', 'aug',\n",
       "       'may', 'sep', 'mon', 'tue', 'fri', 'thu', 'wed',\n",
       "       'previous_campaign_failure', 'previous_campaign_success',\n",
       "       'prop_previous_by_age', 'prop_previous_by_job',\n",
       "       'prop_previous_by_marital', 'prop_previous_by_education'],\n",
       "      dtype='object')"
      ]
     },
     "execution_count": 32,
     "metadata": {},
     "output_type": "execute_result"
    }
   ],
   "source": [
    "X_train.columns"
   ]
  },
  {
   "cell_type": "code",
   "execution_count": 33,
   "metadata": {},
   "outputs": [
    {
     "name": "stdout",
     "output_type": "stream",
     "text": [
      "Feature importance determined from random forest\n",
      "                       Feature    Importance\n",
      "59        prop_previous_by_age  1.082864e-01\n",
      "0                          age  1.077289e-01\n",
      "6                  nr.employed  8.563866e-02\n",
      "1                     campaign  7.191124e-02\n",
      "4               cons.price.idx  4.469133e-02\n",
      "58   previous_campaign_success  4.014881e-02\n",
      "60        prop_previous_by_job  3.363534e-02\n",
      "62  prop_previous_by_education  2.972945e-02\n",
      "5                cons.conf.idx  2.276830e-02\n",
      "2                        pdays  2.274569e-02\n",
      "34                 yes_housing  2.047614e-02\n",
      "53                         tue  1.954170e-02\n",
      "36                  no_housing  1.873672e-02\n",
      "56                         wed  1.860155e-02\n",
      "52                         mon  1.826747e-02\n",
      "54                         fri  1.818366e-02\n",
      "55                         thu  1.774233e-02\n",
      "3                     previous  1.634061e-02\n",
      "61    prop_previous_by_marital  1.490376e-02\n",
      "39                     no_loan  1.370062e-02\n",
      "26                    basic.4y  1.299632e-02\n",
      "37                    yes_loan  1.292148e-02\n",
      "29           unknown_education  1.125937e-02\n",
      "7                 entrepreneur  1.096550e-02\n",
      "20                     married  1.026286e-02\n",
      "16                  technician  1.015312e-02\n",
      "57   previous_campaign_failure  9.695271e-03\n",
      "21                      single  9.644913e-03\n",
      "40                   telephone  9.107670e-03\n",
      "28                 high.school  8.831923e-03\n",
      "..                         ...           ...\n",
      "41                    cellular  7.996035e-03\n",
      "50                         may  7.941468e-03\n",
      "8                  blue-collar  7.832894e-03\n",
      "19                    divorced  7.798313e-03\n",
      "31                 yes_default  7.646535e-03\n",
      "14                   housemaid  7.047251e-03\n",
      "11                  unemployed  6.848085e-03\n",
      "23                  illiterate  5.841464e-03\n",
      "30         professional.course  5.212296e-03\n",
      "13               self-employed  5.165908e-03\n",
      "48                         apr  4.939716e-03\n",
      "9                     services  4.214237e-03\n",
      "43                         jul  4.105130e-03\n",
      "24                    basic.6y  4.069916e-03\n",
      "17                     retired  4.063278e-03\n",
      "46                         nov  3.893120e-03\n",
      "12                     student  3.863577e-03\n",
      "45                         mar  3.527991e-03\n",
      "15                      admin.  3.492481e-03\n",
      "42                         oct  3.453312e-03\n",
      "49                         aug  3.395658e-03\n",
      "10                  management  3.148992e-03\n",
      "38                unknown_loan  2.553911e-03\n",
      "51                         sep  2.394437e-03\n",
      "35             unknown_housing  1.970969e-03\n",
      "18          unknown_profession  1.442268e-03\n",
      "44                         jun  1.098046e-03\n",
      "22      unknown_marital_status  3.388169e-04\n",
      "27                    basic.9y  3.054831e-04\n",
      "33                  no_default  7.992077e-08\n",
      "\n",
      "[63 rows x 2 columns]\n"
     ]
    }
   ],
   "source": [
    "importance = list(rfc.feature_importances_)\n",
    "feature = list(X_train.columns)\n",
    "\n",
    "feature_importance = pd.DataFrame({'Feature': feature, 'Importance': importance})\n",
    "\n",
    "print('Feature importance determined from random forest')\n",
    "print(feature_importance.sort_values('Importance', ascending=False))"
   ]
  },
  {
   "cell_type": "code",
   "execution_count": 22,
   "metadata": {},
   "outputs": [],
   "source": [
    "X_test = X_test.drop(['job', 'marital', 'education'],axis=1)"
   ]
  },
  {
   "cell_type": "code",
   "execution_count": 34,
   "metadata": {},
   "outputs": [
    {
     "name": "stdout",
     "output_type": "stream",
     "text": [
      "Train: 0.9816863792445631\n",
      "Test: 0.8890507404709881\n"
     ]
    }
   ],
   "source": [
    "train_score = rfc.score(X_train, y_train)\n",
    "print(\"Train: {}\".format(train_score))\n",
    "\n",
    "test_score = rfc.score(X_test, y_test)\n",
    "print(\"Test: {}\".format(test_score))"
   ]
  },
  {
   "cell_type": "code",
   "execution_count": 35,
   "metadata": {},
   "outputs": [
    {
     "name": "stdout",
     "output_type": "stream",
     "text": [
      "Starting random search on RFC at:  2018-04-19 23:10:24.171250\n",
      "classifier substantiated\n",
      "search substantiated\n",
      "Start random fit:  2018-04-19 23:10:24.172186\n",
      "End random fit:  2018-04-19 23:12:16.810177\n",
      "Best Params:  {'n_estimators': 330, 'min_samples_leaf': 8, 'max_features': 'auto', 'max_depth': 30}\n",
      "Classifier with best parameters set\n",
      "Start rfr fit:  2018-04-19 23:12:16.815271\n",
      "End rfr fit:  2018-04-19 23:12:26.794812\n",
      "Train: 0.9099580312857688\n",
      "Test: 0.9007040543821316\n",
      "Ending random search on RFR at:  2018-04-19 23:12:29.949358\n"
     ]
    }
   ],
   "source": [
    "# Running random search on RFC\n",
    "print('Starting random search on RFC at: ', datetime.datetime.now())\n",
    "\n",
    "param_grid = { \n",
    "              \"n_estimators\": np.arange(300, 400, 10),\n",
    "              \"max_features\" : ['auto'],\n",
    "              \"min_samples_leaf\": np.arange(7,13,1),\n",
    "              'max_depth' : np.arange(25, 55, 5)\n",
    "}\n",
    "\n",
    "rfc = RandomForestClassifier(n_jobs=-1, oob_score= True, random_state = 0)\n",
    "print('classifier substantiated')\n",
    "    \n",
    "CV_rfr = RandomizedSearchCV(estimator=rfc, param_distributions=param_grid, cv=3)\n",
    "print('search substantiated')\n",
    "    \n",
    "print(\"Start random fit: \", datetime.datetime.now())\n",
    "CV_rfr.fit(X_train, y_train)\n",
    "print(\"End random fit: \", datetime.datetime.now())\n",
    "\n",
    "print('Best Params: ', CV_rfr.best_params_)\n",
    "bp = CV_rfr.best_params_ # best parameters\n",
    "\n",
    "rfc = RandomForestClassifier(\n",
    "n_estimators = bp['n_estimators'], \n",
    "max_features= bp['max_features'],\n",
    "min_samples_leaf= bp['min_samples_leaf'], \n",
    "max_depth=bp['max_depth'])\n",
    "    \n",
    "print('Classifier with best parameters set')\n",
    "     \n",
    "print(\"Start rfr fit: \", datetime.datetime.now())\n",
    "rfc.fit(X_train, y_train)\n",
    "print(\"End rfr fit: \", datetime.datetime.now())\n",
    "\n",
    "train_score = rfc.score(X_train, y_train)\n",
    "print(\"Train: {}\".format(train_score))\n",
    "\n",
    "test_score = rfc.score(X_test, y_test)\n",
    "print(\"Test: {}\".format(test_score))\n",
    "\n",
    "print('Ending random search on RFR at: ', datetime.datetime.now())\n"
   ]
  },
  {
   "cell_type": "code",
   "execution_count": 37,
   "metadata": {},
   "outputs": [
    {
     "name": "stdout",
     "output_type": "stream",
     "text": [
      "Train: 0.8989282369671534\n",
      "Test: 0.9015133122926277\n"
     ]
    }
   ],
   "source": [
    "lr = LogisticRegression()\n",
    "lr.fit(X_train, y_train)\n",
    "train_score = lr.score(X_train, y_train)\n",
    "print(\"Train: {}\".format(train_score))\n",
    "\n",
    "test_score = lr.score(X_test, y_test)\n",
    "print(\"Test: {}\".format(test_score))"
   ]
  },
  {
   "cell_type": "code",
   "execution_count": 38,
   "metadata": {},
   "outputs": [
    {
     "name": "stdout",
     "output_type": "stream",
     "text": [
      "Starting random search on RFC at:  2018-04-19 23:12:50.683171\n",
      "classifier substantiated\n",
      "search substantiated\n",
      "Start random fit:  2018-04-19 23:12:50.684944\n",
      "End random fit:  2018-04-19 23:12:55.062084\n",
      "Best Params:  {'C': 0.1}\n",
      "Classifier with best parameters set\n",
      "Start rfr fit:  2018-04-19 23:12:55.063033\n",
      "End rfr fit:  2018-04-19 23:12:55.388998\n",
      "Train: 0.8989976067427422\n",
      "Test: 0.9016751638747269\n",
      "Ending random search on RFR at:  2018-04-19 23:12:55.410525\n"
     ]
    }
   ],
   "source": [
    "print('Starting random search on RFC at: ', datetime.datetime.now())\n",
    "\n",
    "param_grid = { \n",
    "              \"C\": [0.001,0.01,0.1,1,10,100]\n",
    "}\n",
    "\n",
    "lr = LogisticRegression(n_jobs=-1, random_state = 0)\n",
    "print('classifier substantiated')\n",
    "    \n",
    "CV_lr = GridSearchCV(estimator=lr, param_grid=param_grid, cv=3)\n",
    "print('search substantiated')\n",
    "    \n",
    "print(\"Start random fit: \", datetime.datetime.now())\n",
    "CV_lr.fit(X_train, y_train)\n",
    "print(\"End random fit: \", datetime.datetime.now())\n",
    "\n",
    "print('Best Params: ', CV_lr.best_params_)\n",
    "bp = CV_lr.best_params_ # best parameters\n",
    "\n",
    "lr = LogisticRegression(\n",
    "C = bp['C'],  \n",
    "penalty = 'l2')\n",
    "    \n",
    "print('Classifier with best parameters set')\n",
    "     \n",
    "print(\"Start rfr fit: \", datetime.datetime.now())\n",
    "lr.fit(X_train, y_train)\n",
    "print(\"End rfr fit: \", datetime.datetime.now())\n",
    "\n",
    "train_score = lr.score(X_train, y_train)\n",
    "print(\"Train: {}\".format(train_score))\n",
    "\n",
    "test_score = lr.score(X_test, y_test)\n",
    "print(\"Test: {}\".format(test_score))\n",
    "\n",
    "print('Ending random search on RFR at: ', datetime.datetime.now())"
   ]
  },
  {
   "cell_type": "code",
   "execution_count": 39,
   "metadata": {},
   "outputs": [
    {
     "name": "stdout",
     "output_type": "stream",
     "text": [
      "Train: 0.8904651243453228\n",
      "Test: 0.8910738852472283\n"
     ]
    }
   ],
   "source": [
    "mlpc = MLPClassifier()\n",
    "mlpc.fit(X_train, y_train)\n",
    "train_score = mlpc.score(X_train, y_train)\n",
    "print(\"Train: {}\".format(train_score))\n",
    "\n",
    "test_score = mlpc.score(X_test, y_test)\n",
    "print(\"Test: {}\".format(test_score))"
   ]
  },
  {
   "cell_type": "code",
   "execution_count": 40,
   "metadata": {},
   "outputs": [
    {
     "name": "stdout",
     "output_type": "stream",
     "text": [
      "Starting MLPR random search at:  2018-04-19 23:12:59.180167\n",
      "data fitted\n",
      "{'max_iter': 1750, 'hidden_layer_sizes': 2, 'batch_size': 250, 'alpha': 0.001}\n",
      "regressor substantiated with best params\n",
      "data fitted with best params\n",
      "Train: 0.8952169539731539\n",
      "Test: 0.8999757222626851\n",
      "Ending MLPR random search at:  2018-04-19 23:20:00.697450\n"
     ]
    }
   ],
   "source": [
    "# Running random search on MLPR\n",
    "print('Starting MLPR random search at: ', datetime.datetime.now())\n",
    "\n",
    "param_grid = { \n",
    "    \"hidden_layer_sizes\" : [1 ,2, 3],\n",
    "    \"alpha\" : [.0001, .001, .01],\n",
    "    \"batch_size\" : [1, 10, 50, 100, 250],\n",
    "    \"max_iter\"  : np.arange(1250, 2250, 250)\n",
    "            }\n",
    "\n",
    "mlpc = MLPClassifier(random_state = 0) \n",
    "\n",
    "rs_mlpc = RandomizedSearchCV(estimator=mlpc, param_distributions=param_grid, cv= 3)\n",
    "\n",
    "rs_mlpc.fit(X_train, y_train)\n",
    "print('data fitted')\n",
    "    \n",
    "bp = rs_mlpc.best_params_ # best parameters\n",
    "print(rs_mlpc.best_params_)\n",
    "\n",
    "    \n",
    "mlpc = MLPClassifier(random_state=0, hidden_layer_sizes = bp['hidden_layer_sizes'], \n",
    "alpha=bp['alpha'],\n",
    "batch_size=bp['batch_size'], \n",
    "max_iter=bp['max_iter'])\n",
    "\n",
    "print('regressor substantiated with best params')\n",
    "    \n",
    "mlpc.fit(X_train, y_train)\n",
    "print('data fitted with best params')\n",
    "\n",
    "train_score = mlpc.score(X_train, y_train)\n",
    "print(\"Train: {}\".format(train_score))\n",
    "\n",
    "test_score = mlpc.score(X_test, y_test)\n",
    "print(\"Test: {}\".format(test_score))\n",
    "\n",
    "print('Ending MLPR random search at: ', datetime.datetime.now())\n"
   ]
  },
  {
   "cell_type": "code",
   "execution_count": 41,
   "metadata": {},
   "outputs": [
    {
     "name": "stdout",
     "output_type": "stream",
     "text": [
      "Train: 0.9133918351774132\n",
      "Test: 0.8898599983814842\n"
     ]
    }
   ],
   "source": [
    "knnc = KNeighborsClassifier()\n",
    "knnc.fit(X_train, y_train)\n",
    "train_score = knnc.score(X_train, y_train)\n",
    "print(\"Train: {}\".format(train_score))\n",
    "\n",
    "test_score = knnc.score(X_test, y_test)\n",
    "print(\"Test: {}\".format(test_score))"
   ]
  },
  {
   "cell_type": "code",
   "execution_count": 42,
   "metadata": {},
   "outputs": [
    {
     "name": "stdout",
     "output_type": "stream",
     "text": [
      "Starting KNN random search at:  2018-04-19 23:20:18.996934\n",
      "data fitted\n",
      "{'n_neighbors': 8, 'leaf_size': 40}\n"
     ]
    }
   ],
   "source": [
    "# Running random search on MLPR\n",
    "print('Starting KNN random search at: ', datetime.datetime.now())\n",
    "\n",
    "param_grid = { \n",
    "    'n_neighbors' : np.arange(2,10,2),\n",
    "    'leaf_size' : np.arange(15,45,5)\n",
    "            }\n",
    "\n",
    "knnc = KNeighborsClassifier() \n",
    "\n",
    "rs_knnc = RandomizedSearchCV(estimator=knnc, param_distributions = param_grid, cv= 3)\n",
    "\n",
    "rs_knnc.fit(X_train, y_train)\n",
    "print('data fitted')\n",
    "    \n",
    "bp = rs_knnc.best_params_ # best parameters\n",
    "print(rs_knnc.best_params_)\n"
   ]
  },
  {
   "cell_type": "code",
   "execution_count": 43,
   "metadata": {},
   "outputs": [
    {
     "name": "stdout",
     "output_type": "stream",
     "text": [
      "regressor substantiated with best params\n",
      "data fitted with best params\n",
      "Train: 0.9057264749748535\n",
      "Test: 0.8954438779639071\n",
      "Ending MLPR random search at:  2018-04-19 23:25:31.252976\n"
     ]
    }
   ],
   "source": [
    "knnc = KNeighborsClassifier(n_neighbors = bp['n_neighbors'], \n",
    "leaf_size=bp['leaf_size'])\n",
    "\n",
    "print('regressor substantiated with best params')\n",
    "    \n",
    "knnc.fit(X_train, y_train)\n",
    "print('data fitted with best params')\n",
    "\n",
    "train_score = knnc.score(X_train, y_train)\n",
    "print(\"Train: {}\".format(train_score))\n",
    "\n",
    "test_score = knnc.score(X_test, y_test)\n",
    "print(\"Test: {}\".format(test_score))\n",
    "\n",
    "print('Ending MLPR random search at: ', datetime.datetime.now())\n"
   ]
  },
  {
   "cell_type": "code",
   "execution_count": 44,
   "metadata": {},
   "outputs": [
    {
     "name": "stdout",
     "output_type": "stream",
     "text": [
      "Train: 0.9046859283410218\n",
      "Test: 0.8998138706805859\n"
     ]
    }
   ],
   "source": [
    "svc = SVC()\n",
    "svc.fit(X_train, y_train)\n",
    "train_score = svc.score(X_train, y_train)\n",
    "print(\"Train: {}\".format(train_score))\n",
    "\n",
    "test_score = svc.score(X_test, y_test)\n",
    "print(\"Test: {}\".format(test_score))"
   ]
  },
  {
   "cell_type": "code",
   "execution_count": 45,
   "metadata": {},
   "outputs": [
    {
     "name": "stdout",
     "output_type": "stream",
     "text": [
      "Starting SVC random search at:  2018-04-19 23:28:15.714341\n",
      "data fitted\n",
      "{'gamma': 0.001, 'C': 0.1}\n",
      "regressor substantiated with best params\n",
      "data fitted with best params\n",
      "Train: 0.8990322916305366\n",
      "Test: 0.900623128591082\n",
      "Ending MLPR random search at:  2018-04-20 00:00:57.777211\n"
     ]
    }
   ],
   "source": [
    "# Running random search on \n",
    "print('Starting SVC random search at: ', datetime.datetime.now())\n",
    "\n",
    "param_grid = { \n",
    "    'C' : [0.001, 0.01, 0.1, 1, 10],\n",
    "    'gamma' : [0.001, 0.01, 0.1, 1]\n",
    "            }\n",
    "\n",
    "\n",
    "svc = SVC()\n",
    "\n",
    "rs_svc = RandomizedSearchCV(estimator=svc, param_distributions = param_grid, cv= 3)\n",
    "\n",
    "rs_svc.fit(X_train, y_train)\n",
    "print('data fitted')\n",
    "    \n",
    "bp = rs_svc.best_params_ # best parameters\n",
    "print(rs_svc.best_params_)\n",
    "\n",
    "svc = SVC(C = bp['C'], \n",
    "gamma=bp['gamma'])\n",
    "\n",
    "print('regressor substantiated with best params')\n",
    "    \n",
    "svc.fit(X_train, y_train)\n",
    "print('data fitted with best params')\n",
    "\n",
    "train_score = svc.score(X_train, y_train)\n",
    "print(\"Train: {}\".format(train_score))\n",
    "\n",
    "test_score = svc.score(X_test, y_test)\n",
    "print(\"Test: {}\".format(test_score))\n",
    "\n",
    "print('Ending MLPR random search at: ', datetime.datetime.now())\n",
    "\n"
   ]
  },
  {
   "cell_type": "code",
   "execution_count": null,
   "metadata": {
    "collapsed": true
   },
   "outputs": [],
   "source": []
  }
 ],
 "metadata": {
  "kernelspec": {
   "display_name": "Python 3",
   "language": "python",
   "name": "python3"
  },
  "language_info": {
   "codemirror_mode": {
    "name": "ipython",
    "version": 3
   },
   "file_extension": ".py",
   "mimetype": "text/x-python",
   "name": "python",
   "nbconvert_exporter": "python",
   "pygments_lexer": "ipython3",
   "version": "3.6.1"
  }
 },
 "nbformat": 4,
 "nbformat_minor": 2
}
