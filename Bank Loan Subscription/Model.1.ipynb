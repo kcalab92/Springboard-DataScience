{
 "cells": [
  {
   "cell_type": "code",
   "execution_count": 1,
   "metadata": {
    "collapsed": true
   },
   "outputs": [],
   "source": [
    "import pandas as pd\n",
    "import numpy as np\n",
    "import matplotlib.pyplot as plt\n",
    "from sklearn.preprocessing import StandardScaler\n",
    "from sklearn.linear_model import LinearRegression\n",
    "from sklearn.metrics import mean_squared_error\n",
    "from sklearn.model_selection import train_test_split\n",
    "from sklearn.model_selection import cross_val_score\n",
    "from sklearn.linear_model import Lasso\n",
    "from sklearn.linear_model import Ridge\n",
    "from sklearn.ensemble import RandomForestClassifier\n",
    "from sklearn.linear_model import SGDRegressor\n",
    "from sklearn.model_selection import GridSearchCV\n",
    "from sklearn.model_selection import RandomizedSearchCV\n",
    "from sklearn.linear_model import SGDRegressor\n",
    "from sklearn.ensemble import GradientBoostingRegressor\n",
    "from sklearn.neural_network import MLPRegressor\n",
    "import datetime\n",
    "from sklearn.utils import resample\n",
    "from sklearn.metrics import roc_curve, auc\n",
    "from sklearn.metrics import average_precision_score\n",
    "from sklearn.metrics import precision_recall_curve"
   ]
  },
  {
   "cell_type": "code",
   "execution_count": 2,
   "metadata": {
    "collapsed": true
   },
   "outputs": [],
   "source": [
    "from sklearn.linear_model import LogisticRegression\n",
    "from sklearn.neural_network import MLPClassifier\n",
    "from sklearn.neighbors import KNeighborsClassifier\n",
    "from sklearn.svm import SVC"
   ]
  },
  {
   "cell_type": "code",
   "execution_count": 3,
   "metadata": {
    "collapsed": true
   },
   "outputs": [],
   "source": [
    "from imblearn.over_sampling import SMOTE"
   ]
  },
  {
   "cell_type": "code",
   "execution_count": 4,
   "metadata": {
    "collapsed": true
   },
   "outputs": [],
   "source": [
    "df = pd.read_csv('Hold/df2.csv')"
   ]
  },
  {
   "cell_type": "code",
   "execution_count": 5,
   "metadata": {},
   "outputs": [
    {
     "data": {
      "text/html": [
       "<div>\n",
       "<style>\n",
       "    .dataframe thead tr:only-child th {\n",
       "        text-align: right;\n",
       "    }\n",
       "\n",
       "    .dataframe thead th {\n",
       "        text-align: left;\n",
       "    }\n",
       "\n",
       "    .dataframe tbody tr th {\n",
       "        vertical-align: top;\n",
       "    }\n",
       "</style>\n",
       "<table border=\"1\" class=\"dataframe\">\n",
       "  <thead>\n",
       "    <tr style=\"text-align: right;\">\n",
       "      <th></th>\n",
       "      <th>age</th>\n",
       "      <th>job</th>\n",
       "      <th>marital</th>\n",
       "      <th>education</th>\n",
       "      <th>default</th>\n",
       "      <th>housing</th>\n",
       "      <th>loan</th>\n",
       "      <th>contact</th>\n",
       "      <th>month</th>\n",
       "      <th>day_of_week</th>\n",
       "      <th>...</th>\n",
       "      <th>campaign_3</th>\n",
       "      <th>campaign_4</th>\n",
       "      <th>pdays_1</th>\n",
       "      <th>pdays_2</th>\n",
       "      <th>pdays_3</th>\n",
       "      <th>pdays_4</th>\n",
       "      <th>pdays_5</th>\n",
       "      <th>previous_1</th>\n",
       "      <th>previous_2</th>\n",
       "      <th>previous_3</th>\n",
       "    </tr>\n",
       "  </thead>\n",
       "  <tbody>\n",
       "    <tr>\n",
       "      <th>0</th>\n",
       "      <td>56</td>\n",
       "      <td>housemaid</td>\n",
       "      <td>married</td>\n",
       "      <td>basic.4y</td>\n",
       "      <td>no</td>\n",
       "      <td>no</td>\n",
       "      <td>no</td>\n",
       "      <td>telephone</td>\n",
       "      <td>may</td>\n",
       "      <td>mon</td>\n",
       "      <td>...</td>\n",
       "      <td>0</td>\n",
       "      <td>0</td>\n",
       "      <td>0</td>\n",
       "      <td>0</td>\n",
       "      <td>0</td>\n",
       "      <td>0</td>\n",
       "      <td>1</td>\n",
       "      <td>0</td>\n",
       "      <td>0</td>\n",
       "      <td>1</td>\n",
       "    </tr>\n",
       "    <tr>\n",
       "      <th>1</th>\n",
       "      <td>56</td>\n",
       "      <td>housemaid</td>\n",
       "      <td>married</td>\n",
       "      <td>basic.4y</td>\n",
       "      <td>no</td>\n",
       "      <td>no</td>\n",
       "      <td>no</td>\n",
       "      <td>telephone</td>\n",
       "      <td>may</td>\n",
       "      <td>mon</td>\n",
       "      <td>...</td>\n",
       "      <td>1</td>\n",
       "      <td>0</td>\n",
       "      <td>0</td>\n",
       "      <td>0</td>\n",
       "      <td>0</td>\n",
       "      <td>0</td>\n",
       "      <td>1</td>\n",
       "      <td>0</td>\n",
       "      <td>0</td>\n",
       "      <td>1</td>\n",
       "    </tr>\n",
       "    <tr>\n",
       "      <th>2</th>\n",
       "      <td>56</td>\n",
       "      <td>housemaid</td>\n",
       "      <td>married</td>\n",
       "      <td>basic.4y</td>\n",
       "      <td>no</td>\n",
       "      <td>yes</td>\n",
       "      <td>no</td>\n",
       "      <td>telephone</td>\n",
       "      <td>may</td>\n",
       "      <td>fri</td>\n",
       "      <td>...</td>\n",
       "      <td>1</td>\n",
       "      <td>0</td>\n",
       "      <td>0</td>\n",
       "      <td>0</td>\n",
       "      <td>0</td>\n",
       "      <td>0</td>\n",
       "      <td>1</td>\n",
       "      <td>0</td>\n",
       "      <td>0</td>\n",
       "      <td>1</td>\n",
       "    </tr>\n",
       "    <tr>\n",
       "      <th>3</th>\n",
       "      <td>56</td>\n",
       "      <td>housemaid</td>\n",
       "      <td>married</td>\n",
       "      <td>basic.4y</td>\n",
       "      <td>no</td>\n",
       "      <td>no</td>\n",
       "      <td>no</td>\n",
       "      <td>telephone</td>\n",
       "      <td>jun</td>\n",
       "      <td>wed</td>\n",
       "      <td>...</td>\n",
       "      <td>0</td>\n",
       "      <td>0</td>\n",
       "      <td>0</td>\n",
       "      <td>0</td>\n",
       "      <td>0</td>\n",
       "      <td>0</td>\n",
       "      <td>1</td>\n",
       "      <td>0</td>\n",
       "      <td>0</td>\n",
       "      <td>1</td>\n",
       "    </tr>\n",
       "    <tr>\n",
       "      <th>4</th>\n",
       "      <td>56</td>\n",
       "      <td>housemaid</td>\n",
       "      <td>married</td>\n",
       "      <td>basic.4y</td>\n",
       "      <td>no</td>\n",
       "      <td>no</td>\n",
       "      <td>yes</td>\n",
       "      <td>cellular</td>\n",
       "      <td>jul</td>\n",
       "      <td>mon</td>\n",
       "      <td>...</td>\n",
       "      <td>0</td>\n",
       "      <td>0</td>\n",
       "      <td>0</td>\n",
       "      <td>0</td>\n",
       "      <td>0</td>\n",
       "      <td>0</td>\n",
       "      <td>1</td>\n",
       "      <td>0</td>\n",
       "      <td>0</td>\n",
       "      <td>1</td>\n",
       "    </tr>\n",
       "  </tbody>\n",
       "</table>\n",
       "<p>5 rows × 114 columns</p>\n",
       "</div>"
      ],
      "text/plain": [
       "   age        job  marital education default housing loan    contact month  \\\n",
       "0   56  housemaid  married  basic.4y      no      no   no  telephone   may   \n",
       "1   56  housemaid  married  basic.4y      no      no   no  telephone   may   \n",
       "2   56  housemaid  married  basic.4y      no     yes   no  telephone   may   \n",
       "3   56  housemaid  married  basic.4y      no      no   no  telephone   jun   \n",
       "4   56  housemaid  married  basic.4y      no      no  yes   cellular   jul   \n",
       "\n",
       "  day_of_week     ...      campaign_3  campaign_4  pdays_1  pdays_2 pdays_3  \\\n",
       "0         mon     ...               0           0        0        0       0   \n",
       "1         mon     ...               1           0        0        0       0   \n",
       "2         fri     ...               1           0        0        0       0   \n",
       "3         wed     ...               0           0        0        0       0   \n",
       "4         mon     ...               0           0        0        0       0   \n",
       "\n",
       "   pdays_4  pdays_5  previous_1  previous_2  previous_3  \n",
       "0        0        1           0           0           1  \n",
       "1        0        1           0           0           1  \n",
       "2        0        1           0           0           1  \n",
       "3        0        1           0           0           1  \n",
       "4        0        1           0           0           1  \n",
       "\n",
       "[5 rows x 114 columns]"
      ]
     },
     "execution_count": 5,
     "metadata": {},
     "output_type": "execute_result"
    }
   ],
   "source": [
    "df.head()         "
   ]
  },
  {
   "cell_type": "code",
   "execution_count": 6,
   "metadata": {},
   "outputs": [
    {
     "data": {
      "text/plain": [
       "Index(['age_1', 'age_2', 'age_3', 'age_4', 'age_5', 'age_6', 'age_7', 'age_8',\n",
       "       'age_9', 'age_10', 'age_11', 'age_12', 'age_13', 'jobs_1', 'jobs_2',\n",
       "       'jobs_3', 'jobs_4', 'married_1', 'married_2', 'education_1',\n",
       "       'education_2', 'education_3', 'education_4', 'month_1', 'month_2',\n",
       "       'month_3', 'month_4', 'month_5', 'campaign_1', 'campaign_2',\n",
       "       'campaign_3', 'campaign_4', 'pdays_1', 'pdays_2', 'pdays_3', 'pdays_4',\n",
       "       'pdays_5', 'previous_1', 'previous_2', 'previous_3'],\n",
       "      dtype='object')"
      ]
     },
     "execution_count": 6,
     "metadata": {},
     "output_type": "execute_result"
    }
   ],
   "source": [
    "df.iloc[:,74:114].columns"
   ]
  },
  {
   "cell_type": "code",
   "execution_count": 7,
   "metadata": {
    "collapsed": true
   },
   "outputs": [],
   "source": [
    "cols = list(df.iloc[:,74:114].columns)"
   ]
  },
  {
   "cell_type": "code",
   "execution_count": 8,
   "metadata": {
    "collapsed": true
   },
   "outputs": [],
   "source": [
    "df1 = df.drop(cols, axis=1)"
   ]
  },
  {
   "cell_type": "code",
   "execution_count": 9,
   "metadata": {
    "collapsed": true
   },
   "outputs": [],
   "source": [
    "x_cb = df.drop(['duration', 'emp.var.rate', 'euribor3m', 'previous_campaign_nonexistent', 'default', 'housing', 'loan',\n",
    "     'marital', 'job', 'education', 'contact', 'month', 'day_of_week','poutcome'], axis=1)"
   ]
  },
  {
   "cell_type": "code",
   "execution_count": 10,
   "metadata": {
    "collapsed": true
   },
   "outputs": [],
   "source": [
    "# Alternative set of features\n",
    "# drop target variable y, and the following due to \n",
    "# high correlation: emp.var.rate, euribor3m, and previous_campaign_nonexistent\n",
    "x = df1.drop(['duration', 'emp.var.rate', 'euribor3m', 'previous_campaign_nonexistent', 'default', 'housing', 'loan',\n",
    "     'marital', 'job', 'education', 'contact', 'month', 'day_of_week','poutcome'], axis=1)"
   ]
  },
  {
   "cell_type": "code",
   "execution_count": 16,
   "metadata": {
    "collapsed": true
   },
   "outputs": [],
   "source": [
    "df_majority = x[x.y == 0]\n",
    "df_minority = x[x.y == 1]"
   ]
  },
  {
   "cell_type": "code",
   "execution_count": 17,
   "metadata": {},
   "outputs": [
    {
     "name": "stdout",
     "output_type": "stream",
     "text": [
      "36548\n",
      "4640\n",
      "0.11265417111780131\n",
      "18560\n"
     ]
    }
   ],
   "source": [
    "print(len(df_majority))\n",
    "print(len(df_minority))\n",
    "print(len(df_minority) / len(x))\n",
    "print(len(df_minority) * 4)"
   ]
  },
  {
   "cell_type": "code",
   "execution_count": 18,
   "metadata": {
    "collapsed": true
   },
   "outputs": [],
   "source": [
    "df_minority_upsampled = resample(df_minority, replace=True, n_samples=18560, random_state=42)"
   ]
  },
  {
   "cell_type": "code",
   "execution_count": 19,
   "metadata": {
    "collapsed": true
   },
   "outputs": [],
   "source": [
    "df_upsampled = pd.concat([df_majority, df_minority_upsampled])"
   ]
  },
  {
   "cell_type": "code",
   "execution_count": 20,
   "metadata": {},
   "outputs": [
    {
     "name": "stdout",
     "output_type": "stream",
     "text": [
      "0    36548\n",
      "1    18560\n",
      "Name: y, dtype: int64\n",
      "0.3367932060680845\n"
     ]
    }
   ],
   "source": [
    "print(df_upsampled.y.value_counts())\n",
    "print(len(df_upsampled[df_upsampled.y==1])/len(df_upsampled))"
   ]
  },
  {
   "cell_type": "code",
   "execution_count": 21,
   "metadata": {
    "collapsed": true
   },
   "outputs": [],
   "source": [
    "# Start here working in custom columns"
   ]
  },
  {
   "cell_type": "code",
   "execution_count": 22,
   "metadata": {
    "collapsed": true
   },
   "outputs": [],
   "source": [
    "age = df.iloc[:, [0]].columns\n",
    "prof = df.iloc[:,21:33].columns\n",
    "marital = df.iloc[:, 33:37].columns\n",
    "edu = df.iloc[:, 37:45].columns\n",
    "months = df.iloc[:, 56:66].columns\n",
    "campaign_pdays_previous = df.iloc[:, 11:14].columns\n",
    "new = months.append([campaign_pdays_previous,months, edu, marital, prof, age] )"
   ]
  },
  {
   "cell_type": "code",
   "execution_count": 23,
   "metadata": {
    "collapsed": true
   },
   "outputs": [],
   "source": [
    "y = x.y\n",
    "x.drop('y', axis=1, inplace=True)"
   ]
  },
  {
   "cell_type": "code",
   "execution_count": 24,
   "metadata": {},
   "outputs": [],
   "source": [
    "X_train, X_test, y_train, y_test = train_test_split(x, y, test_size = .3, random_state=42)"
   ]
  },
  {
   "cell_type": "code",
   "execution_count": 25,
   "metadata": {},
   "outputs": [],
   "source": [
    "y_us = df_upsampled.y\n",
    "x_us = df_upsampled.drop('y', axis=1)"
   ]
  },
  {
   "cell_type": "code",
   "execution_count": 26,
   "metadata": {},
   "outputs": [
    {
     "name": "stdout",
     "output_type": "stream",
     "text": [
      "(55108,)\n",
      "(55108, 59)\n"
     ]
    }
   ],
   "source": [
    "print(y_us.shape)\n",
    "print(x_us.shape)"
   ]
  },
  {
   "cell_type": "code",
   "execution_count": 27,
   "metadata": {
    "collapsed": true
   },
   "outputs": [],
   "source": [
    "X_train_us, X_test_us, y_train_us, y_test_us = train_test_split(x_us, y_us, test_size = .3, random_state=42)"
   ]
  },
  {
   "cell_type": "code",
   "execution_count": 28,
   "metadata": {
    "collapsed": true
   },
   "outputs": [],
   "source": [
    "y_cb = x_cb.y\n",
    "x_cb.drop('y', axis=1, inplace=True)"
   ]
  },
  {
   "cell_type": "code",
   "execution_count": 29,
   "metadata": {
    "collapsed": true
   },
   "outputs": [],
   "source": [
    "X_train_cb, X_test_cb, y_train_cb, y_test_cb = train_test_split(x_cb, y_cb, test_size = .3, random_state=42)"
   ]
  },
  {
   "cell_type": "code",
   "execution_count": 30,
   "metadata": {},
   "outputs": [
    {
     "data": {
      "text/plain": [
       "28831"
      ]
     },
     "execution_count": 30,
     "metadata": {},
     "output_type": "execute_result"
    }
   ],
   "source": [
    "len(y_train_cb)"
   ]
  },
  {
   "cell_type": "markdown",
   "metadata": {
    "collapsed": true
   },
   "source": [
    "temp = x[x.unknown_profession > .5]\n",
    "temp = temp[temp.unknown_profession < 1]\n",
    "temp.sort_values('unknown_profession', ascending=False)\n",
    "sm = SMOTE(ratio='minority')\n",
    "x_, y_ = sm.fit_sample(x, y)\n",
    "print(len(x_))\n",
    "print(len(y_))\n",
    "#new_header = x.iloc[0] #grab the first row for the header\n",
    "#x = x[1:] #take the data less the header row\n",
    "#x.columns = new_header #set the header row as the df header\n",
    "x2 = pd.DataFrame(x_, columns = x.columns)\n",
    "temp = x2[x2.unknown_profession > .5]\n",
    "temp = temp[temp.unknown_profession < 1]\n",
    "temp.sort_values('unknown_profession', ascending=False)\n",
    "X_train, X_test, y_train, y_test = train_test_split(x2, y_, test_size = .3, random_state=42)\n",
    "print(len(X_train))\n",
    "print(len(X_test))\n",
    "print(len(y_train))\n",
    "print(len(y_test))\n",
    "X_train.columns\n",
    "y_train = pd.DataFrame(y_train)\n",
    "y_train.rename(columns={0: 'y'}, inplace=True)\n",
    "y_train.reset_index(inplace=True)\n",
    "X_train.reset_index(inplace=True)\n",
    "X_train = pd.concat([X_train, y_train], axis=1, join ='inner')\n",
    "X_train.columns\n",
    "len(X_train)\n",
    "X_train.drop('index', axis=1, inplace=True)\n",
    "X_train = X_train.copy()\n",
    "X_test = X_test.copy()"
   ]
  },
  {
   "cell_type": "code",
   "execution_count": 31,
   "metadata": {
    "collapsed": true
   },
   "outputs": [],
   "source": [
    "y_train = pd.DataFrame(y_train)\n",
    "y_train.rename(columns={0: 'y'}, inplace=True)\n",
    "y_train.reset_index(inplace=True)\n",
    "X_train.reset_index(inplace=True)\n",
    "X_train = pd.concat([X_train, y_train], axis=1, join ='inner')\n",
    "X_train.drop('index', axis=1, inplace=True)\n",
    "\n",
    "X_train = X_train.copy()\n",
    "X_test = X_test.copy()"
   ]
  },
  {
   "cell_type": "code",
   "execution_count": 32,
   "metadata": {
    "collapsed": true
   },
   "outputs": [],
   "source": [
    "y_train_us = pd.DataFrame(y_train_us)\n",
    "y_train_us.rename(columns={0: 'y'}, inplace=True)\n",
    "y_train_us.reset_index(inplace=True)\n",
    "X_train_us.reset_index(inplace=True)\n",
    "X_train_us = pd.concat([X_train_us, y_train_us], axis=1, join ='inner')\n",
    "X_train_us.drop('index', axis=1, inplace=True)\n",
    "\n",
    "X_train_us = X_train_us.copy()\n",
    "X_test_us = X_test_us.copy()"
   ]
  },
  {
   "cell_type": "code",
   "execution_count": 33,
   "metadata": {
    "collapsed": true
   },
   "outputs": [],
   "source": [
    "y_train_cb = pd.DataFrame(y_train_cb)\n",
    "y_train_cb.rename(columns={0: 'y'}, inplace=True)\n",
    "y_train_cb.reset_index(inplace=True)\n",
    "X_train_cb.reset_index(inplace=True)\n",
    "X_train_cb = pd.concat([X_train_cb, y_train_cb], axis=1, join ='inner')\n",
    "X_train_cb.drop('index', axis=1, inplace=True)\n",
    "\n",
    "X_train_cb = X_train_cb.copy()\n",
    "X_test_cb = X_test_cb.copy()"
   ]
  },
  {
   "cell_type": "code",
   "execution_count": 34,
   "metadata": {},
   "outputs": [
    {
     "data": {
      "text/plain": [
       "28831"
      ]
     },
     "execution_count": 34,
     "metadata": {},
     "output_type": "execute_result"
    }
   ],
   "source": [
    "len(y_train_cb)"
   ]
  },
  {
   "cell_type": "code",
   "execution_count": 35,
   "metadata": {},
   "outputs": [
    {
     "name": "stdout",
     "output_type": "stream",
     "text": [
      "unknown_profession\n",
      "length of group 7332\n",
      "sum of y:  951\n",
      "count of y:  7332\n",
      "0.129705400982\n",
      "\n",
      "self-employed\n",
      "length of group 6451\n",
      "sum of y:  446\n",
      "count of y:  6451\n",
      "0.069136567974\n",
      "\n",
      "admin.\n",
      "length of group 1024\n",
      "sum of y:  95\n",
      "count of y:  1024\n",
      "0.0927734375\n",
      "\n",
      "services\n",
      "length of group 737\n",
      "sum of y:  72\n",
      "count of y:  737\n",
      "0.0976933514247\n",
      "\n",
      "housemaid\n",
      "length of group 2056\n",
      "sum of y:  233\n",
      "count of y:  2056\n",
      "0.113326848249\n",
      "\n",
      "retired\n",
      "length of group 1178\n",
      "sum of y:  299\n",
      "count of y:  1178\n",
      "0.253820033956\n",
      "\n",
      "unemployed\n",
      "length of group 1009\n",
      "sum of y:  107\n",
      "count of y:  1009\n",
      "0.106045589693\n",
      "\n",
      "management\n",
      "length of group 2832\n",
      "sum of y:  232\n",
      "count of y:  2832\n",
      "0.0819209039548\n",
      "\n",
      "technician\n",
      "length of group 606\n",
      "sum of y:  197\n",
      "count of y:  606\n",
      "0.325082508251\n",
      "\n",
      "entrepreneur\n",
      "length of group 4683\n",
      "sum of y:  495\n",
      "count of y:  4683\n",
      "0.105701473414\n",
      "\n",
      "student\n",
      "length of group 691\n",
      "sum of y:  102\n",
      "count of y:  691\n",
      "0.147612156295\n",
      "\n",
      "blue-collar\n",
      "length of group 232\n",
      "sum of y:  26\n",
      "count of y:  232\n",
      "0.112068965517\n",
      "\n"
     ]
    }
   ],
   "source": [
    "cols = list(X_train.columns[7:19])\n",
    "\n",
    "for e in cols: \n",
    "    print(e)\n",
    "    group = X_train[X_train[e] == 1]\n",
    "    print('length of group', len(group))\n",
    "  \n",
    "    a = group['y'].sum()\n",
    "    print('sum of y: ', a)\n",
    "    b = group['y'].count()\n",
    "    print('count of y: ', b)\n",
    "    c = a/b\n",
    "    print(c)\n",
    "    if(c == 'NaN'): print(\"Nan\")\n",
    "    print('')\n",
    "    \n",
    "    X_train.loc[X_train[e] == 1, 'prop_yes_by_job'] = c\n",
    "    \n",
    "    X_test.loc[X_test[e] == 1, 'prop_yes_by_job'] = c"
   ]
  },
  {
   "cell_type": "code",
   "execution_count": 36,
   "metadata": {},
   "outputs": [
    {
     "name": "stdout",
     "output_type": "stream",
     "text": [
      "unknown_profession\n",
      "length of group 10171\n",
      "sum of y:  3800\n",
      "count of y:  10171\n",
      "0.373611247665\n",
      "\n",
      "self-employed\n",
      "length of group 7792\n",
      "sum of y:  1778\n",
      "count of y:  7792\n",
      "0.22818275154\n",
      "\n",
      "admin.\n",
      "length of group 1265\n",
      "sum of y:  351\n",
      "count of y:  1265\n",
      "0.277470355731\n",
      "\n",
      "services\n",
      "length of group 946\n",
      "sum of y:  278\n",
      "count of y:  946\n",
      "0.293868921776\n",
      "\n",
      "housemaid\n",
      "length of group 2791\n",
      "sum of y:  951\n",
      "count of y:  2791\n",
      "0.340738086707\n",
      "\n",
      "retired\n",
      "length of group 2084\n",
      "sum of y:  1188\n",
      "count of y:  2084\n",
      "0.570057581574\n",
      "\n",
      "unemployed\n",
      "length of group 1312\n",
      "sum of y:  436\n",
      "count of y:  1312\n",
      "0.332317073171\n",
      "\n",
      "management\n",
      "length of group 3456\n",
      "sum of y:  913\n",
      "count of y:  3456\n",
      "0.264178240741\n",
      "\n",
      "technician\n",
      "length of group 1193\n",
      "sum of y:  782\n",
      "count of y:  1193\n",
      "0.655490360436\n",
      "\n",
      "entrepreneur\n",
      "length of group 6204\n",
      "sum of y:  2036\n",
      "count of y:  6204\n",
      "0.328175370729\n",
      "\n",
      "student\n",
      "length of group 1056\n",
      "sum of y:  439\n",
      "count of y:  1056\n",
      "0.41571969697\n",
      "\n",
      "blue-collar\n",
      "length of group 305\n",
      "sum of y:  104\n",
      "count of y:  305\n",
      "0.340983606557\n",
      "\n"
     ]
    }
   ],
   "source": [
    "cols = list(X_train_us.columns[7:19])\n",
    "\n",
    "for e in cols: \n",
    "    print(e)\n",
    "    group = X_train_us[X_train_us[e] == 1]\n",
    "    print('length of group', len(group))\n",
    "  \n",
    "    a = group['y'].sum()\n",
    "    print('sum of y: ', a)\n",
    "    b = group['y'].count()\n",
    "    print('count of y: ', b)\n",
    "    c = a/b\n",
    "    print(c)\n",
    "    if(c == 'NaN'): print(\"Nan\")\n",
    "    print('')\n",
    "    \n",
    "    X_train_us.loc[X_train_us[e] == 1, 'prop_yes_by_job'] = c\n",
    "    \n",
    "    X_test_us.loc[X_test_us[e] == 1, 'prop_yes_by_job'] = c"
   ]
  },
  {
   "cell_type": "code",
   "execution_count": 37,
   "metadata": {},
   "outputs": [
    {
     "name": "stdout",
     "output_type": "stream",
     "text": [
      "unknown_profession\n",
      "length of group 7332\n",
      "sum of y:  951\n",
      "count of y:  7332\n",
      "0.129705400982\n",
      "\n",
      "self-employed\n",
      "length of group 6451\n",
      "sum of y:  446\n",
      "count of y:  6451\n",
      "0.069136567974\n",
      "\n",
      "admin.\n",
      "length of group 1024\n",
      "sum of y:  95\n",
      "count of y:  1024\n",
      "0.0927734375\n",
      "\n",
      "services\n",
      "length of group 737\n",
      "sum of y:  72\n",
      "count of y:  737\n",
      "0.0976933514247\n",
      "\n",
      "housemaid\n",
      "length of group 2056\n",
      "sum of y:  233\n",
      "count of y:  2056\n",
      "0.113326848249\n",
      "\n",
      "retired\n",
      "length of group 1178\n",
      "sum of y:  299\n",
      "count of y:  1178\n",
      "0.253820033956\n",
      "\n",
      "unemployed\n",
      "length of group 1009\n",
      "sum of y:  107\n",
      "count of y:  1009\n",
      "0.106045589693\n",
      "\n",
      "management\n",
      "length of group 2832\n",
      "sum of y:  232\n",
      "count of y:  2832\n",
      "0.0819209039548\n",
      "\n",
      "technician\n",
      "length of group 606\n",
      "sum of y:  197\n",
      "count of y:  606\n",
      "0.325082508251\n",
      "\n",
      "entrepreneur\n",
      "length of group 4683\n",
      "sum of y:  495\n",
      "count of y:  4683\n",
      "0.105701473414\n",
      "\n",
      "student\n",
      "length of group 691\n",
      "sum of y:  102\n",
      "count of y:  691\n",
      "0.147612156295\n",
      "\n",
      "blue-collar\n",
      "length of group 232\n",
      "sum of y:  26\n",
      "count of y:  232\n",
      "0.112068965517\n",
      "\n"
     ]
    }
   ],
   "source": [
    "cols = list(X_train_cb.columns[7:19])\n",
    "\n",
    "for e in cols: \n",
    "    print(e)\n",
    "    group = X_train_cb[X_train_cb[e] == 1]\n",
    "    print('length of group', len(group))\n",
    "  \n",
    "    a = group['y'].sum()\n",
    "    print('sum of y: ', a)\n",
    "    b = group['y'].count()\n",
    "    print('count of y: ', b)\n",
    "    c = a/b\n",
    "    print(c)\n",
    "    if(c == 'NaN'): print(\"Nan\")\n",
    "    print('')\n",
    "    \n",
    "    X_train_cb.loc[X_train_cb[e] == 1, 'prop_yes_by_job'] = c\n",
    "    \n",
    "    X_test_cb.loc[X_test_cb[e] == 1, 'prop_yes_by_job'] = c"
   ]
  },
  {
   "cell_type": "code",
   "execution_count": 38,
   "metadata": {},
   "outputs": [
    {
     "name": "stdout",
     "output_type": "stream",
     "text": [
      "divorced\n",
      "length of group 3258\n",
      "sum of y:  332\n",
      "count of y:  3258\n",
      "0.10190300798\n",
      "\n",
      "unknown_marital_status\n",
      "length of group 17382\n",
      "sum of y:  1773\n",
      "count of y:  17382\n",
      "0.102002071108\n",
      "\n",
      "married\n",
      "length of group 8132\n",
      "sum of y:  1142\n",
      "count of y:  8132\n",
      "0.140432857846\n",
      "\n",
      "single\n",
      "length of group 59\n",
      "sum of y:  8\n",
      "count of y:  59\n",
      "0.135593220339\n",
      "\n"
     ]
    }
   ],
   "source": [
    "cols = X_train.columns[19:23]\n",
    "for e in cols: \n",
    "    print(e)\n",
    "    group = X_train[X_train[e] == 1]\n",
    "    print('length of group', len(group))\n",
    "  \n",
    "    a = group['y'].sum()\n",
    "    print('sum of y: ', a)\n",
    "    b = group['y'].count()\n",
    "    print('count of y: ', b)\n",
    "    c = a/b\n",
    "    print(c)\n",
    "    print('')\n",
    "    X_train.loc[X_train[e] == 1, 'prop_yes_by_ms'] = c\n",
    "    X_test.loc[X_test[e] == 1, 'prop_yes_by_ms'] = c"
   ]
  },
  {
   "cell_type": "code",
   "execution_count": 39,
   "metadata": {},
   "outputs": [
    {
     "name": "stdout",
     "output_type": "stream",
     "text": [
      "divorced\n",
      "length of group 4242\n",
      "sum of y:  1313\n",
      "count of y:  4242\n",
      "0.309523809524\n",
      "\n",
      "unknown_marital_status\n",
      "length of group 22784\n",
      "sum of y:  7175\n",
      "count of y:  22784\n",
      "0.314913974719\n",
      "\n",
      "married\n",
      "length of group 11460\n",
      "sum of y:  4530\n",
      "count of y:  11460\n",
      "0.395287958115\n",
      "\n",
      "single\n",
      "length of group 89\n",
      "sum of y:  38\n",
      "count of y:  89\n",
      "0.426966292135\n",
      "\n"
     ]
    }
   ],
   "source": [
    "cols = X_train_us.columns[19:23]\n",
    "for e in cols: \n",
    "    print(e)\n",
    "    group = X_train_us[X_train_us[e] == 1]\n",
    "    print('length of group', len(group))\n",
    "  \n",
    "    a = group['y'].sum()\n",
    "    print('sum of y: ', a)\n",
    "    b = group['y'].count()\n",
    "    print('count of y: ', b)\n",
    "    c = a/b\n",
    "    print(c)\n",
    "    print('')\n",
    "    X_train_us.loc[X_train_us[e] == 1, 'prop_yes_by_ms'] = c\n",
    "    X_test_us.loc[X_test_us[e] == 1, 'prop_yes_by_ms'] = c\n"
   ]
  },
  {
   "cell_type": "code",
   "execution_count": 40,
   "metadata": {},
   "outputs": [
    {
     "name": "stdout",
     "output_type": "stream",
     "text": [
      "divorced\n",
      "length of group 3258\n",
      "sum of y:  332\n",
      "count of y:  3258\n",
      "0.10190300798\n",
      "\n",
      "unknown_marital_status\n",
      "length of group 17382\n",
      "sum of y:  1773\n",
      "count of y:  17382\n",
      "0.102002071108\n",
      "\n",
      "married\n",
      "length of group 8132\n",
      "sum of y:  1142\n",
      "count of y:  8132\n",
      "0.140432857846\n",
      "\n",
      "single\n",
      "length of group 59\n",
      "sum of y:  8\n",
      "count of y:  59\n",
      "0.135593220339\n",
      "\n"
     ]
    }
   ],
   "source": [
    "cols = X_train_cb.columns[19:23]\n",
    "for e in cols: \n",
    "    print(e)\n",
    "    group = X_train_cb[X_train_cb[e] == 1]\n",
    "    print('length of group', len(group))\n",
    "  \n",
    "    a = group['y'].sum()\n",
    "    print('sum of y: ', a)\n",
    "    b = group['y'].count()\n",
    "    print('count of y: ', b)\n",
    "    c = a/b\n",
    "    print(c)\n",
    "    print('')\n",
    "    X_train_cb.loc[X_train_cb[e] == 1, 'prop_yes_by_ms'] = c\n",
    "    X_test_cb.loc[X_test_cb[e] == 1, 'prop_yes_by_ms'] = c\n"
   ]
  },
  {
   "cell_type": "code",
   "execution_count": 41,
   "metadata": {},
   "outputs": [
    {
     "name": "stdout",
     "output_type": "stream",
     "text": [
      "professional.course\n",
      "length of group 2883\n",
      "sum of y:  290\n",
      "count of y:  2883\n",
      "0.100589663545\n",
      "\n",
      "unknown_education\n",
      "length of group 1585\n",
      "sum of y:  122\n",
      "count of y:  1585\n",
      "0.0769716088328\n",
      "\n",
      "university.degree\n",
      "length of group 4198\n",
      "sum of y:  333\n",
      "count of y:  4198\n",
      "0.0793234873749\n",
      "\n",
      "basic.4y\n",
      "length of group 6702\n",
      "sum of y:  730\n",
      "count of y:  6702\n",
      "0.108922709639\n",
      "\n",
      "illiterate\n",
      "length of group 17\n",
      "sum of y:  4\n",
      "count of y:  17\n",
      "0.235294117647\n",
      "\n",
      "basic.9y\n",
      "length of group 3658\n",
      "sum of y:  418\n",
      "count of y:  3658\n",
      "0.114270092947\n",
      "\n",
      "high.school\n",
      "length of group 8556\n",
      "sum of y:  1180\n",
      "count of y:  8556\n",
      "0.137914913511\n",
      "\n",
      "basic.6y\n",
      "length of group 1232\n",
      "sum of y:  178\n",
      "count of y:  1232\n",
      "0.144480519481\n",
      "\n"
     ]
    }
   ],
   "source": [
    "cols = X_train.columns[23:31]\n",
    "for e in cols: \n",
    "    print(e)\n",
    "    group = X_train[X_train[e] == 1]\n",
    "    print('length of group', len(group))\n",
    "  \n",
    "    a = group['y'].sum()\n",
    "    print('sum of y: ', a)\n",
    "    b = group['y'].count()\n",
    "    print('count of y: ', b)\n",
    "    c = a/b\n",
    "    print(c)\n",
    "    print('')\n",
    "    X_train.loc[X_train[e] == 1, 'prop_yes_by_edu'] = c\n",
    "    X_test.loc[X_test[e] == 1, 'prop_yes_by_edu'] = c"
   ]
  },
  {
   "cell_type": "code",
   "execution_count": 42,
   "metadata": {},
   "outputs": [
    {
     "name": "stdout",
     "output_type": "stream",
     "text": [
      "professional.course\n",
      "length of group 3764\n",
      "sum of y:  1165\n",
      "count of y:  3764\n",
      "0.309511158342\n",
      "\n",
      "unknown_education\n",
      "length of group 2036\n",
      "sum of y:  555\n",
      "count of y:  2036\n",
      "0.272593320236\n",
      "\n",
      "university.degree\n",
      "length of group 5172\n",
      "sum of y:  1328\n",
      "count of y:  5172\n",
      "0.256767208043\n",
      "\n",
      "basic.4y\n",
      "length of group 8967\n",
      "sum of y:  2974\n",
      "count of y:  8967\n",
      "0.331660533066\n",
      "\n",
      "illiterate\n",
      "length of group 15\n",
      "sum of y:  6\n",
      "count of y:  15\n",
      "0.4\n",
      "\n",
      "basic.9y\n",
      "length of group 4830\n",
      "sum of y:  1633\n",
      "count of y:  4830\n",
      "0.338095238095\n",
      "\n",
      "high.school\n",
      "length of group 12110\n",
      "sum of y:  4722\n",
      "count of y:  12110\n",
      "0.389925681255\n",
      "\n",
      "basic.6y\n",
      "length of group 1681\n",
      "sum of y:  673\n",
      "count of y:  1681\n",
      "0.400356930399\n",
      "\n"
     ]
    }
   ],
   "source": [
    "cols = X_train_us.columns[23:31]\n",
    "for e in cols: \n",
    "    print(e)\n",
    "    group = X_train_us[X_train_us[e] == 1]\n",
    "    print('length of group', len(group))\n",
    "  \n",
    "    a = group['y'].sum()\n",
    "    print('sum of y: ', a)\n",
    "    b = group['y'].count()\n",
    "    print('count of y: ', b)\n",
    "    c = a/b\n",
    "    print(c)\n",
    "    print('')\n",
    "    X_train_us.loc[X_train_us[e] == 1, 'prop_yes_by_edu'] = c\n",
    "    X_test_us.loc[X_test_us[e] == 1, 'prop_yes_by_edu'] = c"
   ]
  },
  {
   "cell_type": "code",
   "execution_count": 43,
   "metadata": {},
   "outputs": [
    {
     "name": "stdout",
     "output_type": "stream",
     "text": [
      "professional.course\n",
      "length of group 2883\n",
      "sum of y:  290\n",
      "count of y:  2883\n",
      "0.100589663545\n",
      "\n",
      "unknown_education\n",
      "length of group 1585\n",
      "sum of y:  122\n",
      "count of y:  1585\n",
      "0.0769716088328\n",
      "\n",
      "university.degree\n",
      "length of group 4198\n",
      "sum of y:  333\n",
      "count of y:  4198\n",
      "0.0793234873749\n",
      "\n",
      "basic.4y\n",
      "length of group 6702\n",
      "sum of y:  730\n",
      "count of y:  6702\n",
      "0.108922709639\n",
      "\n",
      "illiterate\n",
      "length of group 17\n",
      "sum of y:  4\n",
      "count of y:  17\n",
      "0.235294117647\n",
      "\n",
      "basic.9y\n",
      "length of group 3658\n",
      "sum of y:  418\n",
      "count of y:  3658\n",
      "0.114270092947\n",
      "\n",
      "high.school\n",
      "length of group 8556\n",
      "sum of y:  1180\n",
      "count of y:  8556\n",
      "0.137914913511\n",
      "\n",
      "basic.6y\n",
      "length of group 1232\n",
      "sum of y:  178\n",
      "count of y:  1232\n",
      "0.144480519481\n",
      "\n"
     ]
    }
   ],
   "source": [
    "cols = X_train_cb.columns[23:31]\n",
    "for e in cols: \n",
    "    print(e)\n",
    "    group = X_train_cb[X_train_cb[e] == 1]\n",
    "    print('length of group', len(group))\n",
    "  \n",
    "    a = group['y'].sum()\n",
    "    print('sum of y: ', a)\n",
    "    b = group['y'].count()\n",
    "    print('count of y: ', b)\n",
    "    c = a/b\n",
    "    print(c)\n",
    "    print('')\n",
    "    X_train_cb.loc[X_train_cb[e] == 1, 'prop_yes_by_edu'] = c\n",
    "    X_test_cb.loc[X_test_cb[e] == 1, 'prop_yes_by_edu'] = c"
   ]
  },
  {
   "cell_type": "code",
   "execution_count": 44,
   "metadata": {
    "collapsed": true
   },
   "outputs": [],
   "source": [
    "X_train.drop('y', axis=1, inplace=True)"
   ]
  },
  {
   "cell_type": "code",
   "execution_count": 45,
   "metadata": {
    "collapsed": true
   },
   "outputs": [],
   "source": [
    "X_train_us.drop('y', axis=1, inplace=True)"
   ]
  },
  {
   "cell_type": "code",
   "execution_count": 46,
   "metadata": {
    "collapsed": true
   },
   "outputs": [],
   "source": [
    "X_train_cb.drop('y', axis=1, inplace=True)"
   ]
  },
  {
   "cell_type": "code",
   "execution_count": 47,
   "metadata": {},
   "outputs": [
    {
     "name": "stdout",
     "output_type": "stream",
     "text": [
      "<class 'pandas.core.frame.DataFrame'>\n",
      "RangeIndex: 28831 entries, 0 to 28830\n",
      "Columns: 102 entries, age to prop_yes_by_edu\n",
      "dtypes: float64(6), int64(96)\n",
      "memory usage: 22.4 MB\n"
     ]
    }
   ],
   "source": [
    "X_train_cb.info()"
   ]
  },
  {
   "cell_type": "code",
   "execution_count": 48,
   "metadata": {
    "collapsed": true
   },
   "outputs": [],
   "source": [
    "X_train_cb.drop(new, axis=1, inplace=True)"
   ]
  },
  {
   "cell_type": "code",
   "execution_count": 49,
   "metadata": {
    "collapsed": true
   },
   "outputs": [],
   "source": [
    "X_test_cb.drop(new, axis=1, inplace=True)"
   ]
  },
  {
   "cell_type": "code",
   "execution_count": 50,
   "metadata": {},
   "outputs": [
    {
     "name": "stdout",
     "output_type": "stream",
     "text": [
      "<class 'pandas.core.frame.DataFrame'>\n",
      "RangeIndex: 28831 entries, 0 to 28830\n",
      "Data columns (total 64 columns):\n",
      "cons.price.idx               28831 non-null float64\n",
      "cons.conf.idx                28831 non-null float64\n",
      "nr.employed                  28831 non-null float64\n",
      "unknown_default              28831 non-null int64\n",
      "yes_default                  28831 non-null int64\n",
      "no_default                   28831 non-null int64\n",
      "unknown_housing              28831 non-null int64\n",
      "yes_housing                  28831 non-null int64\n",
      "no_housing                   28831 non-null int64\n",
      "unknown_loan                 28831 non-null int64\n",
      "yes_loan                     28831 non-null int64\n",
      "no_loan                      28831 non-null int64\n",
      "telephone                    28831 non-null int64\n",
      "cellular                     28831 non-null int64\n",
      "tue                          28831 non-null int64\n",
      "wed                          28831 non-null int64\n",
      "mon                          28831 non-null int64\n",
      "fri                          28831 non-null int64\n",
      "thu                          28831 non-null int64\n",
      "previous_campaign_failure    28831 non-null int64\n",
      "previous_campaign_success    28831 non-null int64\n",
      "age_1                        28831 non-null int64\n",
      "age_2                        28831 non-null int64\n",
      "age_3                        28831 non-null int64\n",
      "age_4                        28831 non-null int64\n",
      "age_5                        28831 non-null int64\n",
      "age_6                        28831 non-null int64\n",
      "age_7                        28831 non-null int64\n",
      "age_8                        28831 non-null int64\n",
      "age_9                        28831 non-null int64\n",
      "age_10                       28831 non-null int64\n",
      "age_11                       28831 non-null int64\n",
      "age_12                       28831 non-null int64\n",
      "age_13                       28831 non-null int64\n",
      "jobs_1                       28831 non-null int64\n",
      "jobs_2                       28831 non-null int64\n",
      "jobs_3                       28831 non-null int64\n",
      "jobs_4                       28831 non-null int64\n",
      "married_1                    28831 non-null int64\n",
      "married_2                    28831 non-null int64\n",
      "education_1                  28831 non-null int64\n",
      "education_2                  28831 non-null int64\n",
      "education_3                  28831 non-null int64\n",
      "education_4                  28831 non-null int64\n",
      "month_1                      28831 non-null int64\n",
      "month_2                      28831 non-null int64\n",
      "month_3                      28831 non-null int64\n",
      "month_4                      28831 non-null int64\n",
      "month_5                      28831 non-null int64\n",
      "campaign_1                   28831 non-null int64\n",
      "campaign_2                   28831 non-null int64\n",
      "campaign_3                   28831 non-null int64\n",
      "campaign_4                   28831 non-null int64\n",
      "pdays_1                      28831 non-null int64\n",
      "pdays_2                      28831 non-null int64\n",
      "pdays_3                      28831 non-null int64\n",
      "pdays_4                      28831 non-null int64\n",
      "pdays_5                      28831 non-null int64\n",
      "previous_1                   28831 non-null int64\n",
      "previous_2                   28831 non-null int64\n",
      "previous_3                   28831 non-null int64\n",
      "prop_yes_by_job              28831 non-null float64\n",
      "prop_yes_by_ms               28831 non-null float64\n",
      "prop_yes_by_edu              28831 non-null float64\n",
      "dtypes: float64(6), int64(58)\n",
      "memory usage: 14.1 MB\n"
     ]
    }
   ],
   "source": [
    "X_train_cb.info()"
   ]
  },
  {
   "cell_type": "code",
   "execution_count": 51,
   "metadata": {
    "collapsed": true
   },
   "outputs": [],
   "source": [
    "y_train.drop('index', axis=1, inplace=True)"
   ]
  },
  {
   "cell_type": "code",
   "execution_count": 52,
   "metadata": {
    "collapsed": true
   },
   "outputs": [],
   "source": [
    "y_train = y_train.values.ravel()"
   ]
  },
  {
   "cell_type": "code",
   "execution_count": 53,
   "metadata": {
    "collapsed": true
   },
   "outputs": [],
   "source": [
    "y_train_us.drop('index', axis=1, inplace=True)"
   ]
  },
  {
   "cell_type": "code",
   "execution_count": 54,
   "metadata": {
    "collapsed": true
   },
   "outputs": [],
   "source": [
    "y_train_us = y_train_us.values.ravel()"
   ]
  },
  {
   "cell_type": "code",
   "execution_count": 55,
   "metadata": {
    "collapsed": true
   },
   "outputs": [],
   "source": [
    "y_train_cb.drop('index', axis=1, inplace=True)\n",
    "y_train_cb = y_train_cb.values.ravel()"
   ]
  },
  {
   "cell_type": "code",
   "execution_count": 56,
   "metadata": {},
   "outputs": [
    {
     "data": {
      "text/plain": [
       "28831"
      ]
     },
     "execution_count": 56,
     "metadata": {},
     "output_type": "execute_result"
    }
   ],
   "source": [
    "len(y_train_cb)"
   ]
  },
  {
   "cell_type": "code",
   "execution_count": 57,
   "metadata": {},
   "outputs": [
    {
     "name": "stdout",
     "output_type": "stream",
     "text": [
      "Train: 0.8991710311817142\n",
      "Test: 0.9019179412478757\n"
     ]
    }
   ],
   "source": [
    "lr = LogisticRegression()\n",
    "lr.fit(X_train, y_train)\n",
    "train_score = lr.score(X_train, y_train)\n",
    "print(\"Train: {}\".format(train_score))\n",
    "\n",
    "test_score = lr.score(X_test, y_test)\n",
    "print(\"Test: {}\".format(test_score))"
   ]
  },
  {
   "cell_type": "code",
   "execution_count": 58,
   "metadata": {},
   "outputs": [
    {
     "name": "stdout",
     "output_type": "stream",
     "text": [
      "Train: 0.7678548282566429\n",
      "Test: 0.7718502389161072\n"
     ]
    }
   ],
   "source": [
    "lr = LogisticRegression()\n",
    "lr.fit(X_train_us, y_train_us)\n",
    "train_score = lr.score(X_train_us, y_train_us)\n",
    "print(\"Train: {}\".format(train_score))\n",
    "\n",
    "test_score = lr.score(X_test_us, y_test_us)\n",
    "print(\"Test: {}\".format(test_score))"
   ]
  },
  {
   "cell_type": "code",
   "execution_count": 59,
   "metadata": {},
   "outputs": [
    {
     "name": "stdout",
     "output_type": "stream",
     "text": [
      "Train: 0.8948354202074156\n",
      "Test: 0.8984381322327426\n"
     ]
    }
   ],
   "source": [
    "lr = LogisticRegression()\n",
    "lr.fit(X_train_cb, y_train_cb)\n",
    "train_score_cb = lr.score(X_train_cb, y_train_cb)\n",
    "print(\"Train: {}\".format(train_score_cb))\n",
    "\n",
    "test_score_cb = lr.score(X_test_cb, y_test_cb)\n",
    "print(\"Test: {}\".format(test_score_cb))"
   ]
  },
  {
   "cell_type": "code",
   "execution_count": 65,
   "metadata": {},
   "outputs": [
    {
     "name": "stdout",
     "output_type": "stream",
     "text": [
      "Starting random search on LR at:  2018-05-01 12:54:57.494377\n",
      "classifier substantiated\n",
      "search substantiated\n",
      "Start random fit:  2018-05-01 12:54:57.496057\n",
      "End random fit:  2018-05-01 12:55:02.380189\n",
      "Best Params:  {'C': 1}\n",
      "Classifier with best parameters set\n",
      "Start rfr fit:  2018-05-01 12:55:02.381426\n",
      "End rfr fit:  2018-05-01 12:55:02.699735\n",
      "Train: 0.8991710311817142\n",
      "Test: 0.9019179412478757\n",
      "Ending random search on LR at:  2018-05-01 12:55:02.723895\n",
      "Average precision-recall score: 0.44\n"
     ]
    }
   ],
   "source": [
    "print('Starting random search on LR at: ', datetime.datetime.now())\n",
    "\n",
    "param_grid = { \n",
    "              \"C\": [0.001,0.01,0.1,1,10,100]\n",
    "}\n",
    "\n",
    "lr = LogisticRegression(random_state = 0)\n",
    "print('classifier substantiated')\n",
    "    \n",
    "CV_lr = GridSearchCV(estimator=lr, param_grid=param_grid, cv=3)\n",
    "print('search substantiated')\n",
    "    \n",
    "print(\"Start random fit: \", datetime.datetime.now())\n",
    "CV_lr.fit(X_train, y_train)\n",
    "print(\"End random fit: \", datetime.datetime.now())\n",
    "\n",
    "print('Best Params: ', CV_lr.best_params_)\n",
    "bp = CV_lr.best_params_ # best parameters\n",
    "\n",
    "lr = LogisticRegression(\n",
    "C = bp['C'],  \n",
    "penalty = 'l2')\n",
    "    \n",
    "print('Classifier with best parameters set')\n",
    "     \n",
    "print(\"Start rfr fit: \", datetime.datetime.now())\n",
    "lr.fit(X_train, y_train)\n",
    "print(\"End rfr fit: \", datetime.datetime.now())\n",
    "\n",
    "train_score = lr.score(X_train, y_train)\n",
    "print(\"Train: {}\".format(train_score))\n",
    "\n",
    "test_score = lr.score(X_test, y_test)\n",
    "print(\"Test: {}\".format(test_score))\n",
    "\n",
    "print('Ending random search on LR at: ', datetime.datetime.now())\n",
    "\n",
    "# ROC curve calculations\n",
    "probs = lr.predict_proba(X_test)\n",
    "preds = probs[:,1]\n",
    "fpr_lr, tpr_lr, threshold_lr = roc_curve(y_test, preds)\n",
    "roc_auc_lr = auc(fpr_lr, tpr_lr)\n",
    "\n",
    "# Precision recall curve calculations\n",
    "y_score = lr.decision_function(X_test)\n",
    "\n",
    "average_precision_lr = average_precision_score(y_test, y_score)\n",
    "print('Average precision-recall score: {0:0.2f}'.format(\n",
    "      average_precision_lr))\n",
    "\n",
    "precision_lr, recall_lr, _ = precision_recall_curve(y_test, y_score)"
   ]
  },
  {
   "cell_type": "code",
   "execution_count": 82,
   "metadata": {},
   "outputs": [
    {
     "name": "stdout",
     "output_type": "stream",
     "text": [
      "Starting random search on LR at:  2018-05-01 13:22:01.779414\n",
      "classifier substantiated\n",
      "search substantiated\n",
      "Start random fit:  2018-05-01 13:22:01.781335\n",
      "End random fit:  2018-05-01 13:22:08.823477\n",
      "Best Params:  {'C': 100}\n",
      "Classifier with best parameters set\n",
      "Start rfr fit:  2018-05-01 13:22:08.824347\n",
      "End rfr fit:  2018-05-01 13:22:09.131813\n",
      "Train: 0.7678548282566429\n",
      "Test: 0.7718502389161072\n",
      "Ending random search on LR at:  2018-05-01 13:22:09.160453\n",
      "Average precision-recall score: 0.70\n"
     ]
    }
   ],
   "source": [
    "print('Starting random search on LR at: ', datetime.datetime.now())\n",
    "\n",
    "param_grid = { \n",
    "              \"C\": [0.1,1,10,100, 200, 500, 1000]\n",
    "}\n",
    "\n",
    "lr = LogisticRegression(random_state = 0)\n",
    "print('classifier substantiated')\n",
    "    \n",
    "CV_lr = GridSearchCV(estimator=lr, param_grid=param_grid, cv=3)\n",
    "print('search substantiated')\n",
    "    \n",
    "print(\"Start random fit: \", datetime.datetime.now())\n",
    "CV_lr.fit(X_train_us, y_train_us)\n",
    "print(\"End random fit: \", datetime.datetime.now())\n",
    "\n",
    "print('Best Params: ', CV_lr.best_params_)\n",
    "bp = CV_lr.best_params_ # best parameters\n",
    "\n",
    "lr = LogisticRegression(\n",
    "C = bp['C'],  \n",
    "penalty = 'l2')\n",
    "    \n",
    "print('Classifier with best parameters set')\n",
    "     \n",
    "print(\"Start rfr fit: \", datetime.datetime.now())\n",
    "lr.fit(X_train_us, y_train_us)\n",
    "print(\"End rfr fit: \", datetime.datetime.now())\n",
    "\n",
    "train_score = lr.score(X_train_us, y_train_us)\n",
    "print(\"Train: {}\".format(train_score))\n",
    "\n",
    "test_score = lr.score(X_test_us, y_test_us)\n",
    "print(\"Test: {}\".format(test_score))\n",
    "\n",
    "print('Ending random search on LR at: ', datetime.datetime.now())\n",
    "\n",
    "# ROC curve calculations\n",
    "probs = lr.predict_proba(X_test_us)\n",
    "preds = probs[:,1]\n",
    "fpr_lr_us, tpr_lr_us, threshold_lr_us = roc_curve(y_test_us, preds)\n",
    "roc_auc_lr_us = auc(fpr_lr_us, tpr_lr_us)\n",
    "\n",
    "# Precision recall curve calculations\n",
    "y_score_us = lr.decision_function(X_test_us)\n",
    "\n",
    "average_precision_lr_us = average_precision_score(y_test_us, y_score_us)\n",
    "print('Average precision-recall score: {0:0.2f}'.format(\n",
    "      average_precision_lr_us))\n",
    "\n",
    "precision_lr_us, recall_lr_us, _ = precision_recall_curve(y_test_us, y_score_us)"
   ]
  },
  {
   "cell_type": "code",
   "execution_count": 61,
   "metadata": {},
   "outputs": [
    {
     "name": "stdout",
     "output_type": "stream",
     "text": [
      "Starting random search on LR at:  2018-05-01 12:51:55.629549\n",
      "classifier substantiated\n",
      "search substantiated\n",
      "Start random fit:  2018-05-01 12:51:55.631081\n",
      "End random fit:  2018-05-01 12:51:59.566376\n",
      "Best Params:  {'C': 0.01}\n",
      "Classifier with best parameters set\n",
      "Start rfr fit:  2018-05-01 12:51:59.567838\n",
      "End rfr fit:  2018-05-01 12:51:59.798887\n",
      "Train: 0.8945926259928549\n",
      "Test: 0.8985190580237922\n",
      "Ending random search on LR at:  2018-05-01 12:51:59.825846\n",
      "Average precision-recall score: 0.42\n"
     ]
    }
   ],
   "source": [
    "print('Starting random search on LR at: ', datetime.datetime.now())\n",
    "\n",
    "param_grid = { \n",
    "              \"C\": [0.001,0.01,0.1,1,10,100]\n",
    "}\n",
    "\n",
    "lr = LogisticRegression(random_state = 0)\n",
    "print('classifier substantiated')\n",
    "    \n",
    "CV_lr = GridSearchCV(estimator=lr, param_grid=param_grid, cv=3)\n",
    "print('search substantiated')\n",
    "    \n",
    "print(\"Start random fit: \", datetime.datetime.now())\n",
    "CV_lr.fit(X_train_cb, y_train_cb)\n",
    "print(\"End random fit: \", datetime.datetime.now())\n",
    "\n",
    "print('Best Params: ', CV_lr.best_params_)\n",
    "bp = CV_lr.best_params_ # best parameters\n",
    "\n",
    "lr = LogisticRegression(\n",
    "C = bp['C'],  \n",
    "penalty = 'l2')\n",
    "    \n",
    "print('Classifier with best parameters set')\n",
    "     \n",
    "print(\"Start rfr fit: \", datetime.datetime.now())\n",
    "lr.fit(X_train_cb, y_train_cb)\n",
    "print(\"End rfr fit: \", datetime.datetime.now())\n",
    "\n",
    "train_score = lr.score(X_train_cb, y_train_cb)\n",
    "print(\"Train: {}\".format(train_score))\n",
    "\n",
    "test_score = lr.score(X_test_cb, y_test_cb)\n",
    "print(\"Test: {}\".format(test_score))\n",
    "\n",
    "print('Ending random search on LR at: ', datetime.datetime.now())\n",
    "\n",
    "# ROC curve calculations\n",
    "probs = lr.predict_proba(X_test_cb)\n",
    "preds = probs[:,1]\n",
    "fpr_lr_cb, tpr_lr_cb, threshold_lr_cb = roc_curve(y_test_cb, preds)\n",
    "roc_auc_lr_cb = auc(fpr_lr_cb, tpr_lr_cb)\n",
    "\n",
    "# Precision recall curve calculations\n",
    "y_score_cb = lr.decision_function(X_test_cb)\n",
    "\n",
    "average_precision_lr_cb = average_precision_score(y_test_cb, y_score_cb)\n",
    "print('Average precision-recall score: {0:0.2f}'.format(\n",
    "      average_precision_lr_cb))\n",
    "\n",
    "precision_lr_cb, recall_lr_cb, _ = precision_recall_curve(y_test_cb, y_score_cb)"
   ]
  },
  {
   "cell_type": "code",
   "execution_count": 85,
   "metadata": {},
   "outputs": [
    {
     "data": {
      "text/plain": [
       "<matplotlib.figure.Figure at 0x1a2f175b70>"
      ]
     },
     "metadata": {},
     "output_type": "display_data"
    },
    {
     "data": {
      "image/png": "[encoded data removed]",
      "text/plain": [
       "<matplotlib.figure.Figure at 0x1a2f1752b0>"
      ]
     },
     "metadata": {},
     "output_type": "display_data"
    }
   ],
   "source": [
    "plt.gcf().clear()\n",
    "\n",
    "plt.figure(num=None, figsize=(12, 4), dpi=80, facecolor='w', edgecolor='k')\n",
    "\n",
    "plt.subplot(1,2,2)\n",
    "\n",
    "plt.step(recall_lr, precision_lr, color='g', alpha=0.4,\n",
    "         where='post', label = 'Raw AP={0:0.2f}'.format(\n",
    "          average_precision_lr))\n",
    "\n",
    "plt.step(recall_lr_us, precision_lr_us, color='b', alpha=0.4,\n",
    "         where='post', label = 'Upsampled AP={0:0.2f}'.format(\n",
    "          average_precision_lr_us))\n",
    "\n",
    "plt.step(recall_lr_cb, precision_lr_cb, color='r', alpha=0.4,\n",
    "         where='post', label = 'Custom Bins AP={0:0.2f}'.format(\n",
    "          average_precision_lr_cb))\n",
    "\n",
    "plt.xlabel('Recall')\n",
    "plt.ylabel('Precision')\n",
    "plt.ylim([0.0, 1.05])\n",
    "plt.xlim([0.0, 1.0])\n",
    "plt.title('Logistic Regression Precision-Recall Curve')\n",
    "plt.legend(loc = 'lower left')\n",
    "\n",
    "plt.subplot(1,2,1)\n",
    "\n",
    "plt.title('Logistic Regression Receiver Operating Characteristic')\n",
    "plt.plot(fpr_lr, tpr_lr, 'g', label = 'Raw AUC = %0.2f' % roc_auc_lr, alpha=0.4)\n",
    "plt.plot(fpr_lr_us, tpr_lr_us, 'b', label = 'Upsampled AUC = %0.2f' % roc_auc_lr_us, alpha=0.4)\n",
    "plt.plot(fpr_lr_cb, tpr_lr_cb, 'r', label = 'Custom Bins AUC = %0.2f' % roc_auc_lr_cb, alpha=0.4)\n",
    "\n",
    "plt.legend(loc = 'lower right')\n",
    "plt.plot([0, 1], [0, 1],'r--')\n",
    "plt.xlim([0, 1])\n",
    "plt.ylim([0, 1])\n",
    "plt.ylabel('True Positive Rate')\n",
    "plt.xlabel('False Positive Rate')\n",
    "\n",
    "plt.tight_layout()\n",
    "plt.show()"
   ]
  },
  {
   "cell_type": "code",
   "execution_count": 73,
   "metadata": {
    "collapsed": true
   },
   "outputs": [],
   "source": [
    "rfc = RandomForestClassifier(random_state=0)"
   ]
  },
  {
   "cell_type": "code",
   "execution_count": 74,
   "metadata": {},
   "outputs": [
    {
     "data": {
      "text/plain": [
       "RandomForestClassifier(bootstrap=True, class_weight=None, criterion='gini',\n",
       "            max_depth=None, max_features='auto', max_leaf_nodes=None,\n",
       "            min_impurity_decrease=0.0, min_impurity_split=None,\n",
       "            min_samples_leaf=1, min_samples_split=2,\n",
       "            min_weight_fraction_leaf=0.0, n_estimators=10, n_jobs=1,\n",
       "            oob_score=False, random_state=0, verbose=0, warm_start=False)"
      ]
     },
     "execution_count": 74,
     "metadata": {},
     "output_type": "execute_result"
    }
   ],
   "source": [
    "rfc.fit(X_train, y_train)"
   ]
  },
  {
   "cell_type": "code",
   "execution_count": 75,
   "metadata": {},
   "outputs": [
    {
     "name": "stdout",
     "output_type": "stream",
     "text": [
      "Feature importance determined from random forest\n",
      "                      Feature  Importance\n",
      "0                         age    0.185243\n",
      "1                    campaign    0.086986\n",
      "6                 nr.employed    0.067201\n",
      "2                       pdays    0.050529\n",
      "5               cons.conf.idx    0.048742\n",
      "4              cons.price.idx    0.040050\n",
      "59            prop_yes_by_job    0.033644\n",
      "61            prop_yes_by_edu    0.029022\n",
      "3                    previous    0.023292\n",
      "34            unknown_housing    0.021462\n",
      "36                 no_housing    0.021283\n",
      "54                        mon    0.019557\n",
      "55                        fri    0.019343\n",
      "52                        tue    0.019338\n",
      "53                        wed    0.019121\n",
      "56                        thu    0.017874\n",
      "60             prop_yes_by_ms    0.016319\n",
      "37               unknown_loan    0.015211\n",
      "39                    no_loan    0.014713\n",
      "7          unknown_profession    0.012841\n",
      "20     unknown_marital_status    0.012022\n",
      "57  previous_campaign_failure    0.011821\n",
      "26                   basic.4y    0.010910\n",
      "29                high.school    0.010422\n",
      "58  previous_campaign_success    0.009716\n",
      "41                   cellular    0.009573\n",
      "16               entrepreneur    0.009324\n",
      "21                    married    0.009263\n",
      "32                yes_default    0.009217\n",
      "28                   basic.9y    0.008674\n",
      "..                        ...         ...\n",
      "25          university.degree    0.007916\n",
      "40                  telephone    0.007401\n",
      "11                  housemaid    0.007201\n",
      "19                   divorced    0.007096\n",
      "8               self-employed    0.006571\n",
      "23        professional.course    0.006158\n",
      "14                 management    0.006122\n",
      "42                        jun    0.005192\n",
      "47                        apr    0.004800\n",
      "13                 unemployed    0.004506\n",
      "12                    retired    0.004440\n",
      "30                   basic.6y    0.004414\n",
      "9                      admin.    0.004210\n",
      "43                        may    0.004200\n",
      "24          unknown_education    0.004184\n",
      "45                        oct    0.003904\n",
      "48                        aug    0.003837\n",
      "46                        dec    0.003729\n",
      "17                    student    0.003622\n",
      "15                 technician    0.003504\n",
      "49                        nov    0.003412\n",
      "10                   services    0.003336\n",
      "51                        mar    0.002901\n",
      "35                yes_housing    0.002343\n",
      "38                   yes_loan    0.002296\n",
      "18                blue-collar    0.001706\n",
      "44                        sep    0.001505\n",
      "22                     single    0.000600\n",
      "27                 illiterate    0.000177\n",
      "33                 no_default    0.000000\n",
      "\n",
      "[62 rows x 2 columns]\n"
     ]
    }
   ],
   "source": [
    "importance = list(rfc.feature_importances_)\n",
    "feature = list(X_train.columns)\n",
    "\n",
    "feature_importance = pd.DataFrame({'Feature': feature, 'Importance': importance})\n",
    "\n",
    "print('Feature importance determined from random forest')\n",
    "print(feature_importance.sort_values('Importance', ascending=False))"
   ]
  },
  {
   "cell_type": "code",
   "execution_count": 76,
   "metadata": {},
   "outputs": [
    {
     "name": "stdout",
     "output_type": "stream",
     "text": [
      "Train: 0.9808192570497034\n",
      "Test: 0.8863801893663511\n"
     ]
    }
   ],
   "source": [
    "train_score = rfc.score(X_train, y_train)\n",
    "print(\"Train: {}\".format(train_score))\n",
    "\n",
    "test_score = rfc.score(X_test, y_test)\n",
    "print(\"Test: {}\".format(test_score))"
   ]
  },
  {
   "cell_type": "code",
   "execution_count": 87,
   "metadata": {},
   "outputs": [
    {
     "name": "stdout",
     "output_type": "stream",
     "text": [
      "Starting random search on RFC at:  2018-05-01 13:34:20.983613\n",
      "classifier substantiated\n",
      "search substantiated\n",
      "Start random fit:  2018-05-01 13:34:21.017453\n",
      "End random fit:  2018-05-01 13:36:07.439435\n",
      "Best Params:  {'n_estimators': 350, 'min_samples_leaf': 4, 'max_features': 'auto', 'max_depth': 30}\n",
      "Classifier with best parameters set\n",
      "Start rfr fit:  2018-05-01 13:36:07.440717\n",
      "End rfr fit:  2018-05-01 13:36:18.333783\n",
      "Train: 0.9201207034095245\n",
      "Test: 0.9003803512179331\n",
      "Ending random search on RFR at:  2018-05-01 13:36:21.965010\n",
      "AUC:  0.781647837423\n"
     ]
    }
   ],
   "source": [
    "# Running random search on RFC\n",
    "print('Starting random search on RFC at: ', datetime.datetime.now())\n",
    "\n",
    "param_grid = { \n",
    "              \"n_estimators\": np.arange(300, 400, 10),\n",
    "              \"max_features\" : ['auto'],\n",
    "              \"min_samples_leaf\": np.arange(2,12,2),\n",
    "              'max_depth' : np.arange(10, 35, 5)\n",
    "}\n",
    "\n",
    "rfc = RandomForestClassifier(n_jobs=-1, oob_score= True, random_state = 0)\n",
    "print('classifier substantiated')\n",
    "    \n",
    "CV_rfr = RandomizedSearchCV(estimator=rfc, param_distributions=param_grid, cv=3)\n",
    "print('search substantiated')\n",
    "    \n",
    "print(\"Start random fit: \", datetime.datetime.now())\n",
    "CV_rfr.fit(X_train, y_train)\n",
    "print(\"End random fit: \", datetime.datetime.now())\n",
    "\n",
    "print('Best Params: ', CV_rfr.best_params_)\n",
    "bp = CV_rfr.best_params_ # best parameters\n",
    "\n",
    "rfc = RandomForestClassifier(\n",
    "n_estimators = bp['n_estimators'], \n",
    "max_features= bp['max_features'],\n",
    "min_samples_leaf= bp['min_samples_leaf'], \n",
    "max_depth=bp['max_depth'])\n",
    "    \n",
    "print('Classifier with best parameters set')\n",
    "     \n",
    "print(\"Start rfr fit: \", datetime.datetime.now())\n",
    "rfc.fit(X_train, y_train)\n",
    "print(\"End rfr fit: \", datetime.datetime.now())\n",
    "\n",
    "train_score = rfc.score(X_train, y_train)\n",
    "print(\"Train: {}\".format(train_score))\n",
    "\n",
    "test_score = rfc.score(X_test, y_test)\n",
    "print(\"Test: {}\".format(test_score))\n",
    "\n",
    "print('Ending random search on RFR at: ', datetime.datetime.now())\n",
    "\n",
    "# ROC curve calculations\n",
    "probs = rfc.predict_proba(X_test)\n",
    "preds = probs[:,1]\n",
    "fpr_rfc, tpr_rfc, threshold_rfc = roc_curve(y_test, preds)\n",
    "roc_auc_rfc = auc(fpr_rfc, tpr_rfc)\n",
    "print('AUC: ', roc_auc_rfc)"
   ]
  },
  {
   "cell_type": "code",
   "execution_count": 92,
   "metadata": {},
   "outputs": [
    {
     "name": "stdout",
     "output_type": "stream",
     "text": [
      "Starting random search on RFC at:  2018-05-01 13:46:08.865793\n",
      "classifier substantiated\n",
      "search substantiated\n",
      "Start random fit:  2018-05-01 13:46:08.890479\n",
      "End random fit:  2018-05-01 13:49:02.332623\n",
      "Best Params:  {'n_estimators': 340, 'min_samples_leaf': 1, 'max_features': 'auto', 'max_depth': 35}\n",
      "Classifier with best parameters set\n",
      "Start rfc fit:  2018-05-01 13:49:02.333920\n",
      "End rfc fit:  2018-05-01 13:49:21.139161\n",
      "Train: 0.9937265068049255\n",
      "Test: 0.938426177947136\n",
      "Ending random search on rfc at:  2018-05-01 13:49:27.313566\n",
      "0.980520649709\n"
     ]
    }
   ],
   "source": [
    "# Running random search on RFC\n",
    "print('Starting random search on RFC at: ', datetime.datetime.now())\n",
    "\n",
    "param_grid = { \n",
    "              \"n_estimators\": np.arange(300, 400, 10),\n",
    "              \"max_features\" : ['auto'],\n",
    "              \"min_samples_leaf\": np.arange(1,5,1),\n",
    "              'max_depth' : np.arange(25, 55, 5)\n",
    "}\n",
    "\n",
    "rfc = RandomForestClassifier(n_jobs=-1, oob_score= True, random_state = 0)\n",
    "print('classifier substantiated')\n",
    "    \n",
    "CV_rfc = RandomizedSearchCV(estimator=rfc, param_distributions=param_grid, cv=3)\n",
    "print('search substantiated')\n",
    "    \n",
    "print(\"Start random fit: \", datetime.datetime.now())\n",
    "CV_rfc.fit(X_train_us, y_train_us)\n",
    "print(\"End random fit: \", datetime.datetime.now())\n",
    "\n",
    "print('Best Params: ', CV_rfc.best_params_)\n",
    "bp = CV_rfc.best_params_ # best parameters\n",
    "\n",
    "rfc = RandomForestClassifier(\n",
    "n_estimators = bp['n_estimators'], \n",
    "max_features= bp['max_features'],\n",
    "min_samples_leaf= bp['min_samples_leaf'], \n",
    "max_depth=bp['max_depth'])\n",
    "    \n",
    "print('Classifier with best parameters set')\n",
    "     \n",
    "print(\"Start rfc fit: \", datetime.datetime.now())\n",
    "rfc.fit(X_train_us, y_train_us)\n",
    "print(\"End rfc fit: \", datetime.datetime.now())\n",
    "\n",
    "train_score = rfc.score(X_train_us, y_train_us)\n",
    "print(\"Train: {}\".format(train_score))\n",
    "\n",
    "test_score = rfc.score(X_test_us, y_test_us)\n",
    "print(\"Test: {}\".format(test_score))\n",
    "\n",
    "print('Ending random search on rfc at: ', datetime.datetime.now())\n",
    "\n",
    "# ROC curve calculations\n",
    "probs = rfc.predict_proba(X_test_us)\n",
    "preds = probs[:,1]\n",
    "fpr_rfc_us, tpr_rfc_us, threshold_rfc_us = roc_curve(y_test_us, preds)\n",
    "roc_auc_rfc_us = auc(fpr_rfc_us, tpr_rfc_us)\n",
    "print(roc_auc_rfc_us)"
   ]
  },
  {
   "cell_type": "code",
   "execution_count": 88,
   "metadata": {},
   "outputs": [
    {
     "name": "stdout",
     "output_type": "stream",
     "text": [
      "0.904011953752\n"
     ]
    }
   ],
   "source": [
    "print(roc_auc_rfc_us)"
   ]
  },
  {
   "cell_type": "code",
   "execution_count": 91,
   "metadata": {},
   "outputs": [
    {
     "name": "stdout",
     "output_type": "stream",
     "text": [
      "Starting random search on RFC at:  2018-05-01 13:43:06.829298\n",
      "classifier substantiated\n",
      "search substantiated\n",
      "Start random fit:  2018-05-01 13:43:06.889784\n",
      "End random fit:  2018-05-01 13:45:08.003515\n",
      "Best Params:  {'n_estimators': 340, 'min_samples_leaf': 6, 'max_features': 'auto', 'max_depth': 50}\n",
      "Classifier with best parameters set\n",
      "Start rfc fit:  2018-05-01 13:45:08.004451\n",
      "End rfc fit:  2018-05-01 13:45:17.640100\n",
      "Train: 0.913461204953002\n",
      "Test: 0.9014323865015781\n",
      "Ending random search on rfc at:  2018-05-01 13:45:20.882791\n",
      "0.782553095441\n"
     ]
    }
   ],
   "source": [
    "# Running random search on RFC\n",
    "print('Starting random search on RFC at: ', datetime.datetime.now())\n",
    "\n",
    "param_grid = { \n",
    "              \"n_estimators\": np.arange(300, 400, 10),\n",
    "              \"max_features\" : ['auto'],\n",
    "              \"min_samples_leaf\": np.arange(2,12,2),\n",
    "              'max_depth' : np.arange(25, 55, 5)\n",
    "}\n",
    "\n",
    "rfc = RandomForestClassifier(n_jobs=-1, oob_score= True, random_state = 0)\n",
    "print('classifier substantiated')\n",
    "    \n",
    "CV_rfc = RandomizedSearchCV(estimator=rfc, param_distributions=param_grid, cv=3)\n",
    "print('search substantiated')\n",
    "    \n",
    "print(\"Start random fit: \", datetime.datetime.now())\n",
    "CV_rfc.fit(X_train_cb, y_train_cb)\n",
    "print(\"End random fit: \", datetime.datetime.now())\n",
    "\n",
    "print('Best Params: ', CV_rfc.best_params_)\n",
    "bp = CV_rfc.best_params_ # best parameters\n",
    "\n",
    "rfc = RandomForestClassifier(\n",
    "n_estimators = bp['n_estimators'], \n",
    "max_features= bp['max_features'],\n",
    "min_samples_leaf= bp['min_samples_leaf'], \n",
    "max_depth=bp['max_depth'])\n",
    "    \n",
    "print('Classifier with best parameters set')\n",
    "     \n",
    "print(\"Start rfc fit: \", datetime.datetime.now())\n",
    "rfc.fit(X_train_cb, y_train_cb)\n",
    "print(\"End rfc fit: \", datetime.datetime.now())\n",
    "\n",
    "train_score = rfc.score(X_train_cb, y_train_cb)\n",
    "print(\"Train: {}\".format(train_score))\n",
    "\n",
    "test_score = rfc.score(X_test_cb, y_test_cb)\n",
    "print(\"Test: {}\".format(test_score))\n",
    "\n",
    "print('Ending random search on rfc at: ', datetime.datetime.now())\n",
    "\n",
    "# ROC curve calculations\n",
    "probs = rfc.predict_proba(X_test_cb)\n",
    "preds = probs[:,1]\n",
    "fpr_rfc_cb, tpr_rfc_cb, threshold_rfc_cb = roc_curve(y_test_cb, preds)\n",
    "roc_auc_rfc_cb = auc(fpr_rfc_cb, tpr_rfc_cb)\n",
    "print(roc_auc_rfc_cb)"
   ]
  },
  {
   "cell_type": "code",
   "execution_count": 121,
   "metadata": {},
   "outputs": [
    {
     "data": {
      "text/plain": [
       "<matplotlib.figure.Figure at 0x1a35c748d0>"
      ]
     },
     "metadata": {},
     "output_type": "display_data"
    },
    {
     "data": {
      "image/png": "[encoded data removed]",
      "text/plain": [
       "<matplotlib.figure.Figure at 0x1a35c745f8>"
      ]
     },
     "metadata": {},
     "output_type": "display_data"
    }
   ],
   "source": [
    "plt.gcf().clear()\n",
    "\n",
    "plt.figure(num=None, figsize=(12, 8), dpi=80, facecolor='w', edgecolor='k')\n",
    "\n",
    "plt.title('Random Forest Classifier Receiver Operating Characteristic')\n",
    "plt.plot(fpr_rfc, tpr_rfc, 'g', label = 'Raw AUC = %0.2f' % roc_auc_rfc, alpha=.4)\n",
    "plt.plot(fpr_rfc_us, tpr_rfc_us, 'b', label = 'Upsampled AUC = %0.2f' % roc_auc_rfc_us, alpha=.4)\n",
    "plt.plot(fpr_rfc_cb, tpr_rfc_cb, 'r', label = 'Custom Bin AUC = %0.2f' % roc_auc_rfc_cb, alpha=.4)\n",
    "\n",
    "plt.legend(loc = 'lower right')\n",
    "plt.plot([0, 1], [0, 1],'r--')\n",
    "plt.xlim([0, 1])\n",
    "plt.ylim([0, 1])\n",
    "plt.ylabel('True Positive Rate')\n",
    "plt.xlabel('False Positive Rate')\n",
    "\n",
    "plt.tight_layout()\n",
    "plt.show()"
   ]
  },
  {
   "cell_type": "code",
   "execution_count": 223,
   "metadata": {},
   "outputs": [
    {
     "name": "stdout",
     "output_type": "stream",
     "text": [
      "Train: 0.8970552530262564\n",
      "Test: 0.8985999838148417\n"
     ]
    }
   ],
   "source": [
    "mlpc = MLPClassifier()\n",
    "mlpc.fit(X_train, y_train)\n",
    "train_score = mlpc.score(X_train, y_train)\n",
    "print(\"Train: {}\".format(train_score))\n",
    "\n",
    "test_score = mlpc.score(X_test, y_test)\n",
    "print(\"Test: {}\".format(test_score))"
   ]
  },
  {
   "cell_type": "code",
   "execution_count": 99,
   "metadata": {},
   "outputs": [
    {
     "name": "stdout",
     "output_type": "stream",
     "text": [
      "Starting MLPR random search at:  2018-05-01 14:11:49.054098\n",
      "data fitted\n",
      "{'max_iter': 150, 'hidden_layer_sizes': 3, 'batch_size': 100, 'alpha': 1e-05}\n",
      "regressor substantiated with best params\n",
      "data fitted with best params\n",
      "Train: 0.8980611147722937\n",
      "Test: 0.899166464352189\n",
      "Ending MLPR random search at:  2018-05-01 14:17:48.220667\n"
     ]
    }
   ],
   "source": [
    "# Running random search on MLPR\n",
    "print('Starting MLPR random search at: ', datetime.datetime.now())\n",
    "\n",
    "param_grid = { \n",
    "    \"hidden_layer_sizes\" : [2, 3, 4],\n",
    "    \"alpha\" : [.000001, .00001, .0001, .001, .01],\n",
    "    \"batch_size\" : [1, 10, 50, 100, 250],\n",
    "    \"max_iter\"  : np.arange(50, 550, 100)\n",
    "            }\n",
    "\n",
    "mlpc = MLPClassifier(random_state = 0) \n",
    "\n",
    "rs_mlpc = RandomizedSearchCV(estimator=mlpc, param_distributions=param_grid, cv= 3)\n",
    "\n",
    "rs_mlpc.fit(X_train, y_train)\n",
    "print('data fitted')\n",
    "    \n",
    "bp = rs_mlpc.best_params_ # best parameters\n",
    "print(rs_mlpc.best_params_)\n",
    "\n",
    "    \n",
    "mlpc = MLPClassifier(random_state=0, hidden_layer_sizes = bp['hidden_layer_sizes'], \n",
    "alpha=bp['alpha'],\n",
    "batch_size=bp['batch_size'], \n",
    "max_iter=bp['max_iter'])\n",
    "\n",
    "print('regressor substantiated with best params')\n",
    "    \n",
    "mlpc.fit(X_train, y_train)\n",
    "print('data fitted with best params')\n",
    "\n",
    "train_score = mlpc.score(X_train, y_train)\n",
    "print(\"Train: {}\".format(train_score))\n",
    "\n",
    "test_score = mlpc.score(X_test, y_test)\n",
    "print(\"Test: {}\".format(test_score))\n",
    "\n",
    "print('Ending MLPR random search at: ', datetime.datetime.now())"
   ]
  },
  {
   "cell_type": "code",
   "execution_count": 100,
   "metadata": {
    "collapsed": true
   },
   "outputs": [],
   "source": [
    "# ROC curve calculations\n",
    "probs = mlpc.predict_proba(X_test)\n",
    "preds = probs[:,1]\n",
    "fpr_mlpc, tpr_mlpc, threshold_mlpc = roc_curve(y_test, preds)\n",
    "roc_auc_mlpc = auc(fpr_mlpc, tpr_mlpc)"
   ]
  },
  {
   "cell_type": "code",
   "execution_count": 101,
   "metadata": {},
   "outputs": [
    {
     "name": "stdout",
     "output_type": "stream",
     "text": [
      "0.76352418562\n"
     ]
    }
   ],
   "source": [
    "print(roc_auc_mlpc)"
   ]
  },
  {
   "cell_type": "code",
   "execution_count": 97,
   "metadata": {},
   "outputs": [
    {
     "name": "stdout",
     "output_type": "stream",
     "text": [
      "Starting MLPR random search at:  2018-05-01 14:01:13.863182\n",
      "data fitted\n",
      "{'max_iter': 1500, 'hidden_layer_sizes': 3, 'batch_size': 250, 'alpha': 0.001}\n",
      "regressor substantiated with best params\n",
      "data fitted with best params\n",
      "Train: 0.7620479585223591\n",
      "Test: 0.7685235589427206\n",
      "Ending MLPR random search at:  2018-05-01 14:02:23.381251\n"
     ]
    }
   ],
   "source": [
    "# Running random search on MLPR\n",
    "print('Starting MLPR random search at: ', datetime.datetime.now())\n",
    "\n",
    "param_grid = { \n",
    "    \"hidden_layer_sizes\" : [1 ,2, 3, 4],\n",
    "    \"alpha\" : [.0001, .001, .01],\n",
    "    \"batch_size\" : [50, 100, 250, 350, 500, 1000],\n",
    "    \"max_iter\"  : np.arange(1250, 2250, 250)\n",
    "            }\n",
    "\n",
    "mlpc = MLPClassifier(random_state = 0) \n",
    "\n",
    "rs_mlpc = RandomizedSearchCV(estimator=mlpc, param_distributions=param_grid, cv= 3)\n",
    "\n",
    "rs_mlpc.fit(X_train_us, y_train_us)\n",
    "print('data fitted')\n",
    "    \n",
    "bp = rs_mlpc.best_params_ # best parameters\n",
    "print(rs_mlpc.best_params_)\n",
    "\n",
    "    \n",
    "mlpc = MLPClassifier(random_state=0, hidden_layer_sizes = bp['hidden_layer_sizes'], \n",
    "alpha=bp['alpha'],\n",
    "batch_size=bp['batch_size'], \n",
    "max_iter=bp['max_iter'])\n",
    "\n",
    "print('regressor substantiated with best params')\n",
    "    \n",
    "mlpc.fit(X_train_us, y_train_us)\n",
    "print('data fitted with best params')\n",
    "\n",
    "train_score = mlpc.score(X_train_us, y_train_us)\n",
    "print(\"Train: {}\".format(train_score))\n",
    "\n",
    "test_score = mlpc.score(X_test_us, y_test_us)\n",
    "print(\"Test: {}\".format(test_score))\n",
    "\n",
    "print('Ending MLPR random search at: ', datetime.datetime.now())\n"
   ]
  },
  {
   "cell_type": "code",
   "execution_count": 98,
   "metadata": {},
   "outputs": [
    {
     "name": "stdout",
     "output_type": "stream",
     "text": [
      "0.772335629891\n"
     ]
    }
   ],
   "source": [
    "# ROC curve calculations\n",
    "probs = mlpc.predict_proba(X_test_us)\n",
    "preds = probs[:,1]\n",
    "fpr_mlpc_us, tpr_mlpc_us, threshold_mlpc_us = roc_curve(y_test_us, preds)\n",
    "roc_auc_mlpc_us = auc(fpr_mlpc_us, tpr_mlpc_us)\n",
    "print(roc_auc_mlpc_us)"
   ]
  },
  {
   "cell_type": "code",
   "execution_count": 102,
   "metadata": {},
   "outputs": [
    {
     "name": "stdout",
     "output_type": "stream",
     "text": [
      "Starting MLPR random search at:  2018-05-01 14:17:48.282359\n",
      "data fitted\n",
      "{'max_iter': 1750, 'hidden_layer_sizes': 3, 'batch_size': 100, 'alpha': 0.01}\n",
      "regressor substantiated with best params\n",
      "data fitted with best params\n",
      "Train: 0.8967777739239013\n",
      "Test: 0.8990046127700898\n",
      "Ending MLPR random search at:  2018-05-01 14:24:13.669139\n"
     ]
    }
   ],
   "source": [
    "# Running random search on MLPR\n",
    "print('Starting MLPR random search at: ', datetime.datetime.now())\n",
    "\n",
    "param_grid = { \n",
    "    \"hidden_layer_sizes\" : [1 ,2, 3],\n",
    "    \"alpha\" : [.0001, .001, .01],\n",
    "    \"batch_size\" : [1, 10, 50, 100, 250],\n",
    "    \"max_iter\"  : np.arange(1250, 2250, 250)\n",
    "            }\n",
    "\n",
    "mlpc = MLPClassifier(random_state = 0) \n",
    "\n",
    "rs_mlpc = RandomizedSearchCV(estimator=mlpc, param_distributions=param_grid, cv= 3)\n",
    "\n",
    "rs_mlpc.fit(X_train_cb, y_train_cb)\n",
    "print('data fitted')\n",
    "    \n",
    "bp = rs_mlpc.best_params_ # best parameters\n",
    "print(rs_mlpc.best_params_)\n",
    "\n",
    "    \n",
    "mlpc = MLPClassifier(random_state=0, hidden_layer_sizes = bp['hidden_layer_sizes'], \n",
    "alpha=bp['alpha'],\n",
    "batch_size=bp['batch_size'], \n",
    "max_iter=bp['max_iter'])\n",
    "\n",
    "print('regressor substantiated with best params')\n",
    "    \n",
    "mlpc.fit(X_train_cb, y_train_cb)\n",
    "print('data fitted with best params')\n",
    "\n",
    "train_score = mlpc.score(X_train_cb, y_train_cb)\n",
    "print(\"Train: {}\".format(train_score))\n",
    "\n",
    "test_score = mlpc.score(X_test_cb, y_test_cb)\n",
    "print(\"Test: {}\".format(test_score))\n",
    "\n",
    "print('Ending MLPR random search at: ', datetime.datetime.now())\n"
   ]
  },
  {
   "cell_type": "code",
   "execution_count": 103,
   "metadata": {},
   "outputs": [
    {
     "name": "stdout",
     "output_type": "stream",
     "text": [
      "0.768751702726\n"
     ]
    }
   ],
   "source": [
    "# ROC curve calculations\n",
    "probs = mlpc.predict_proba(X_test_cb)\n",
    "preds = probs[:,1]\n",
    "fpr_mlpc_cb, tpr_mlpc_cb, threshold_mlpc_cb = roc_curve(y_test_cb, preds)\n",
    "roc_auc_mlpc_cb = auc(fpr_mlpc_cb, tpr_mlpc_cb)\n",
    "print(roc_auc_mlpc_cb)"
   ]
  },
  {
   "cell_type": "code",
   "execution_count": 123,
   "metadata": {},
   "outputs": [
    {
     "data": {
      "text/plain": [
       "<matplotlib.figure.Figure at 0x1a44f1eba8>"
      ]
     },
     "metadata": {},
     "output_type": "display_data"
    },
    {
     "data": {
      "image/png": "[encoded data removed]",
      "text/plain": [
       "<matplotlib.figure.Figure at 0x1a44f1e7b8>"
      ]
     },
     "metadata": {},
     "output_type": "display_data"
    }
   ],
   "source": [
    "plt.gcf().clear()\n",
    "\n",
    "plt.figure(num=None, figsize=(10, 6), dpi=80, facecolor='w', edgecolor='k')\n",
    "\n",
    "plt.title('MLPC Receiver Operating Characteristic')\n",
    "\n",
    "plt.plot(fpr_mlpc, tpr_mlpc, 'g', label = 'Raw AUC = %0.2f' % roc_auc_mlpc, alpha=.4)\n",
    "plt.plot(fpr_mlpc_us, tpr_mlpc_us, 'b', label = 'Upsampled AUC = %0.2f' % roc_auc_mlpc_us, alpha=.4)\n",
    "plt.plot(fpr_mlpc_cb, tpr_mlpc_cb, 'r', label = 'Custom Bin AUC = %0.2f' % roc_auc_mlpc_cb, alpha=.4)\n",
    "\n",
    "plt.legend(loc = 'lower right')\n",
    "plt.plot([0, 1], [0, 1],'r--')\n",
    "plt.xlim([0, 1])\n",
    "plt.ylim([0, 1])\n",
    "plt.ylabel('True Positive Rate')\n",
    "plt.xlabel('False Positive Rate')\n",
    "\n",
    "plt.tight_layout()\n",
    "plt.show()"
   ]
  },
  {
   "cell_type": "code",
   "execution_count": 230,
   "metadata": {},
   "outputs": [
    {
     "name": "stdout",
     "output_type": "stream",
     "text": [
      "Train: 0.914085532933301\n",
      "Test: 0.8895362952172857\n"
     ]
    }
   ],
   "source": [
    "knnc = KNeighborsClassifier()\n",
    "knnc.fit(X_train, y_train)\n",
    "train_score = knnc.score(X_train, y_train)\n",
    "print(\"Train: {}\".format(train_score))\n",
    "\n",
    "test_score = knnc.score(X_test, y_test)\n",
    "print(\"Test: {}\".format(test_score))"
   ]
  },
  {
   "cell_type": "code",
   "execution_count": 105,
   "metadata": {},
   "outputs": [
    {
     "name": "stdout",
     "output_type": "stream",
     "text": [
      "Starting KNN random search at:  2018-05-01 14:24:14.161338\n",
      "data fitted\n",
      "{'n_neighbors': 8, 'leaf_size': 20}\n",
      "regressor substantiated with best params\n",
      "data fitted with best params\n",
      "Train: 0.905865214526031\n",
      "Test: 0.8955248037549567\n",
      "Ending knnc random search at:  2018-05-01 14:29:01.116800\n",
      "0.75078118111\n"
     ]
    }
   ],
   "source": [
    "print('Starting KNN random search at: ', datetime.datetime.now())\n",
    "\n",
    "param_grid = { \n",
    "    'n_neighbors' : np.arange(2,10,2),\n",
    "    'leaf_size' : np.arange(15,45,5)\n",
    "            }\n",
    "\n",
    "knnc = KNeighborsClassifier() \n",
    "\n",
    "rs_knnc = RandomizedSearchCV(estimator=knnc, param_distributions = param_grid, cv= 3)\n",
    "\n",
    "rs_knnc.fit(X_train, y_train)\n",
    "print('data fitted')\n",
    "    \n",
    "bp = rs_knnc.best_params_ # best parameters\n",
    "print(rs_knnc.best_params_)\n",
    "\n",
    "knnc = KNeighborsClassifier(n_neighbors = bp['n_neighbors'], \n",
    "leaf_size=bp['leaf_size'])\n",
    "\n",
    "print('regressor substantiated with best params')\n",
    "    \n",
    "knnc.fit(X_train, y_train)\n",
    "print('data fitted with best params')\n",
    "\n",
    "train_score = knnc.score(X_train, y_train)\n",
    "print(\"Train: {}\".format(train_score))\n",
    "\n",
    "test_score = knnc.score(X_test, y_test)\n",
    "print(\"Test: {}\".format(test_score))\n",
    "\n",
    "print('Ending knnc random search at: ', datetime.datetime.now())\n",
    "\n",
    "# ROC curve calculations\n",
    "probs = knnc.predict_proba(X_test)\n",
    "preds = probs[:,1]\n",
    "fpr_knnc, tpr_knnc, threshold_knnc = roc_curve(y_test, preds)\n",
    "roc_auc_knnc = auc(fpr_knnc, tpr_knnc)\n",
    "\n",
    "print(roc_auc_knnc)"
   ]
  },
  {
   "cell_type": "code",
   "execution_count": 106,
   "metadata": {},
   "outputs": [
    {
     "name": "stdout",
     "output_type": "stream",
     "text": [
      "Starting KNN random search at:  2018-05-01 14:29:06.113996\n",
      "data fitted\n",
      "{'n_neighbors': 1, 'leaf_size': 20}\n",
      "regressor substantiated with best params\n",
      "data fitted with best params\n",
      "Train: 0.9915489306545691\n",
      "Test: 0.9069134458356015\n",
      "Ending knnc random search at:  2018-05-01 14:35:04.574896\n",
      "0.919216459856\n"
     ]
    }
   ],
   "source": [
    "print('Starting KNN random search at: ', datetime.datetime.now())\n",
    "\n",
    "param_grid = { \n",
    "    'n_neighbors' : np.arange(1,5,1),\n",
    "    'leaf_size' : np.arange(15,45,5)\n",
    "            }\n",
    "\n",
    "knnc = KNeighborsClassifier() \n",
    "\n",
    "rs_knnc = RandomizedSearchCV(estimator=knnc, param_distributions = param_grid, cv= 3)\n",
    "\n",
    "rs_knnc.fit(X_train_us, y_train_us)\n",
    "print('data fitted')\n",
    "    \n",
    "bp = rs_knnc.best_params_ # best parameters\n",
    "print(rs_knnc.best_params_)\n",
    "\n",
    "knnc = KNeighborsClassifier(n_neighbors = bp['n_neighbors'], \n",
    "leaf_size=bp['leaf_size'])\n",
    "\n",
    "print('regressor substantiated with best params')\n",
    "    \n",
    "knnc.fit(X_train_us, y_train_us)\n",
    "print('data fitted with best params')\n",
    "\n",
    "train_score_us = knnc.score(X_train_us, y_train_us)\n",
    "print(\"Train: {}\".format(train_score_us))\n",
    "\n",
    "test_score_us = knnc.score(X_test_us, y_test_us)\n",
    "print(\"Test: {}\".format(test_score_us))\n",
    "\n",
    "print('Ending knnc random search at: ', datetime.datetime.now())\n",
    "\n",
    "# ROC curve calculations\n",
    "probs = knnc.predict_proba(X_test_us)\n",
    "preds = probs[:,1]\n",
    "fpr_knnc_us, tpr_knnc_us, threshold_knnc_us = roc_curve(y_test_us, preds)\n",
    "roc_auc_knnc_us = auc(fpr_knnc_us, tpr_knnc_us)\n",
    "print(roc_auc_knnc_us)"
   ]
  },
  {
   "cell_type": "code",
   "execution_count": 107,
   "metadata": {},
   "outputs": [
    {
     "name": "stdout",
     "output_type": "stream",
     "text": [
      "Starting KNN random search at:  2018-05-01 14:35:09.838899\n",
      "data fitted\n",
      "{'n_neighbors': 8, 'leaf_size': 40}\n",
      "regressor substantiated with best params\n",
      "data fitted with best params\n",
      "Train: 0.9046859283410218\n",
      "Test: 0.8944727684713119\n",
      "Ending knnc random search at:  2018-05-01 14:41:27.059788\n",
      "0.742191347585\n"
     ]
    }
   ],
   "source": [
    "print('Starting KNN random search at: ', datetime.datetime.now())\n",
    "\n",
    "param_grid = { \n",
    "    'n_neighbors' : np.arange(2,10,2),\n",
    "    'leaf_size' : np.arange(15,45,5)\n",
    "            }\n",
    "\n",
    "knnc = KNeighborsClassifier() \n",
    "\n",
    "rs_knnc = RandomizedSearchCV(estimator=knnc, param_distributions = param_grid, cv= 3)\n",
    "\n",
    "rs_knnc.fit(X_train_cb, y_train_cb)\n",
    "print('data fitted')\n",
    "    \n",
    "bp = rs_knnc.best_params_ # best parameters\n",
    "print(rs_knnc.best_params_)\n",
    "\n",
    "knnc = KNeighborsClassifier(n_neighbors = bp['n_neighbors'], \n",
    "leaf_size=bp['leaf_size'])\n",
    "\n",
    "print('regressor substantiated with best params')\n",
    "    \n",
    "knnc.fit(X_train_cb, y_train_cb)\n",
    "print('data fitted with best params')\n",
    "\n",
    "train_score_cb = knnc.score(X_train_cb, y_train_cb)\n",
    "print(\"Train: {}\".format(train_score_cb))\n",
    "\n",
    "test_score_cb = knnc.score(X_test_cb, y_test_cb)\n",
    "print(\"Test: {}\".format(test_score_cb))\n",
    "\n",
    "print('Ending knnc random search at: ', datetime.datetime.now())\n",
    "\n",
    "# ROC curve calculations\n",
    "probs = knnc.predict_proba(X_test_cb)\n",
    "preds = probs[:,1]\n",
    "fpr_knnc_cb, tpr_knnc_cb, threshold_knnc_cb = roc_curve(y_test_cb, preds)\n",
    "roc_auc_knnc_cb = auc(fpr_knnc_cb, tpr_knnc_cb)\n",
    "print(roc_auc_knnc_cb)"
   ]
  },
  {
   "cell_type": "code",
   "execution_count": 124,
   "metadata": {},
   "outputs": [
    {
     "data": {
      "text/plain": [
       "<matplotlib.figure.Figure at 0x1a44f8bd30>"
      ]
     },
     "metadata": {},
     "output_type": "display_data"
    },
    {
     "data": {
      "image/png": "[encoded data removed]",
      "text/plain": [
       "<matplotlib.figure.Figure at 0x1a2f16dc50>"
      ]
     },
     "metadata": {},
     "output_type": "display_data"
    }
   ],
   "source": [
    "plt.gcf().clear()\n",
    "\n",
    "plt.figure(num=None, figsize=(10, 6), dpi=80, facecolor='w', edgecolor='k')\n",
    "\n",
    "plt.title('KNN Receiver Operating Characteristic')\n",
    "plt.plot(fpr_knnc, tpr_knnc, 'g', label = 'Raw AUC = %0.2f' % roc_auc_knnc, alpha=.4)\n",
    "plt.plot(fpr_knnc_us, tpr_knnc_us, 'b', label = 'Upsampled AUC = %0.2f' % roc_auc_knnc_us, alpha=.4)\n",
    "plt.plot(fpr_knnc_cb, tpr_knnc_cb, 'r', label = 'Custom Bin AUC = %0.2f' % roc_auc_knnc_cb, alpha=.4)\n",
    "\n",
    "plt.legend(loc = 'lower right')\n",
    "plt.plot([0, 1], [0, 1],'r--')\n",
    "plt.xlim([0, 1])\n",
    "plt.ylim([0, 1])\n",
    "plt.ylabel('True Positive Rate')\n",
    "plt.xlabel('False Positive Rate')\n",
    "\n",
    "plt.tight_layout()\n",
    "plt.show()"
   ]
  },
  {
   "cell_type": "code",
   "execution_count": 240,
   "metadata": {},
   "outputs": [
    {
     "name": "stdout",
     "output_type": "stream",
     "text": [
      "Train: 0.90506746210676\n",
      "Test: 0.8999757222626851\n"
     ]
    }
   ],
   "source": [
    "svc = SVC()\n",
    "svc.fit(X_train, y_train)\n",
    "train_score = svc.score(X_train, y_train)\n",
    "print(\"Train: {}\".format(train_score))\n",
    "\n",
    "test_score = svc.score(X_test, y_test)\n",
    "print(\"Test: {}\".format(test_score))"
   ]
  },
  {
   "cell_type": "code",
   "execution_count": 108,
   "metadata": {},
   "outputs": [
    {
     "name": "stdout",
     "output_type": "stream",
     "text": [
      "Starting SVC random search at:  2018-05-01 14:41:34.137794\n",
      "data fitted\n",
      "{'gamma': 1e-05, 'C': 1000}\n",
      "regressor substantiated with best params\n",
      "data fitted with best params\n",
      "Train: 0.8990322916305366\n",
      "Test: 0.900623128591082\n",
      "Ending SVC random search at:  2018-05-01 15:23:49.065628\n"
     ]
    }
   ],
   "source": [
    "# Running random search on \n",
    "print('Starting SVC random search at: ', datetime.datetime.now())\n",
    "\n",
    "param_grid = { \n",
    "    'C' : [0.1, 1, 10, 100, 1000],\n",
    "    'gamma' : [.00001, .0001, 0.001, 0.01]\n",
    "            }\n",
    "\n",
    "\n",
    "svc = SVC()\n",
    "\n",
    "rs_svc = RandomizedSearchCV(estimator=svc, param_distributions = param_grid, cv= 3)\n",
    "\n",
    "rs_svc.fit(X_train, y_train)\n",
    "print('data fitted')\n",
    "    \n",
    "bp = rs_svc.best_params_ # best parameters\n",
    "print(rs_svc.best_params_)\n",
    "\n",
    "svc = SVC(C = bp['C'], \n",
    "gamma=bp['gamma'])\n",
    "\n",
    "print('regressor substantiated with best params')\n",
    "    \n",
    "svc.fit(X_train, y_train)\n",
    "print('data fitted with best params')\n",
    "\n",
    "train_score = svc.score(X_train, y_train)\n",
    "print(\"Train: {}\".format(train_score))\n",
    "\n",
    "test_score = svc.score(X_test, y_test)\n",
    "print(\"Test: {}\".format(test_score))\n",
    "\n",
    "print('Ending SVC random search at: ', datetime.datetime.now())"
   ]
  },
  {
   "cell_type": "code",
   "execution_count": 109,
   "metadata": {},
   "outputs": [
    {
     "name": "stdout",
     "output_type": "stream",
     "text": [
      "Average precision-recall score: 0.44\n"
     ]
    }
   ],
   "source": [
    "# Precision recall curve calculations\n",
    "y_score = svc.decision_function(X_test)\n",
    "\n",
    "average_precision_svc = average_precision_score(y_test, y_score)\n",
    "print('Average precision-recall score: {0:0.2f}'.format(\n",
    "      average_precision_svc))\n",
    "\n",
    "precision_svc, recall_svc, _ = precision_recall_curve(y_test, y_score)"
   ]
  },
  {
   "cell_type": "code",
   "execution_count": 110,
   "metadata": {},
   "outputs": [
    {
     "name": "stdout",
     "output_type": "stream",
     "text": [
      "Starting SVC random search at:  2018-05-01 15:23:54.899121\n",
      "data fitted\n",
      "{'gamma': 100, 'C': 100}\n",
      "regressor substantiated with best params\n",
      "data fitted with best params\n",
      "Train: 0.9937265068049255\n",
      "Test: 0.900623128591082\n",
      "Ending SVC random search at:  2018-05-01 17:44:25.134388\n"
     ]
    }
   ],
   "source": [
    "# Running random search on \n",
    "print('Starting SVC random search at: ', datetime.datetime.now())\n",
    "\n",
    "param_grid = { \n",
    "    'C' : [0.1, 1, 10, 100, 1000],\n",
    "    'gamma' : [1, 10, 100]\n",
    "            }\n",
    "\n",
    "\n",
    "svc = SVC()\n",
    "\n",
    "rs_svc = RandomizedSearchCV(estimator=svc, param_distributions = param_grid, cv= 3)\n",
    "\n",
    "rs_svc.fit(X_train_us, y_train_us)\n",
    "print('data fitted')\n",
    "    \n",
    "bp = rs_svc.best_params_ # best parameters\n",
    "print(rs_svc.best_params_)\n",
    "\n",
    "svc = SVC(C = bp['C'], \n",
    "gamma=bp['gamma'])\n",
    "\n",
    "print('regressor substantiated with best params')\n",
    "    \n",
    "svc.fit(X_train_us, y_train_us)\n",
    "print('data fitted with best params')\n",
    "\n",
    "train_score_us = svc.score(X_train_us, y_train_us)\n",
    "print(\"Train: {}\".format(train_score_us))\n",
    "\n",
    "test_score_us = svc.score(X_test_us, y_test_us)\n",
    "print(\"Test: {}\".format(test_score))\n",
    "\n",
    "print('Ending SVC random search at: ', datetime.datetime.now())"
   ]
  },
  {
   "cell_type": "code",
   "execution_count": 111,
   "metadata": {},
   "outputs": [
    {
     "name": "stdout",
     "output_type": "stream",
     "text": [
      "Average precision-recall score: 0.94\n"
     ]
    }
   ],
   "source": [
    "# Precision recall curve calculations\n",
    "y_score_us = svc.decision_function(X_test_us)\n",
    "\n",
    "average_precision_svc_us = average_precision_score(y_test_us, y_score_us)\n",
    "print('Average precision-recall score: {0:0.2f}'.format(\n",
    "      average_precision_svc_us))\n",
    "\n",
    "precision_svc_us, recall_svc_us, _ = precision_recall_curve(y_test_us, y_score_us)"
   ]
  },
  {
   "cell_type": "code",
   "execution_count": 112,
   "metadata": {},
   "outputs": [
    {
     "name": "stdout",
     "output_type": "stream",
     "text": [
      "Starting SVC random search at:  2018-05-01 17:44:54.651360\n",
      "data fitted\n",
      "{'gamma': 0.001, 'C': 100}\n",
      "regressor substantiated with best params\n",
      "data fitted with best params\n",
      "Train: 0.9020498768686483\n",
      "Test: 0.900623128591082\n",
      "Ending SVC random search at:  2018-05-01 18:22:55.932918\n"
     ]
    }
   ],
   "source": [
    "# Running random search on \n",
    "print('Starting SVC random search at: ', datetime.datetime.now())\n",
    "\n",
    "param_grid = { \n",
    "    'C' : [0.1, 1, 10, 100, 1000],\n",
    "    'gamma' : [.00001, .0001, 0.001, 0.01]\n",
    "            }\n",
    "\n",
    "\n",
    "svc = SVC()\n",
    "\n",
    "rs_svc = RandomizedSearchCV(estimator=svc, param_distributions = param_grid, cv= 3)\n",
    "\n",
    "rs_svc.fit(X_train_cb, y_train_cb)\n",
    "print('data fitted')\n",
    "    \n",
    "bp = rs_svc.best_params_ # best parameters\n",
    "print(rs_svc.best_params_)\n",
    "\n",
    "svc = SVC(C = bp['C'], \n",
    "gamma=bp['gamma'])\n",
    "\n",
    "print('regressor substantiated with best params')\n",
    "    \n",
    "svc.fit(X_train_cb, y_train_cb)\n",
    "print('data fitted with best params')\n",
    "\n",
    "train_score_cb = svc.score(X_train_cb, y_train_cb)\n",
    "print(\"Train: {}\".format(train_score_cb))\n",
    "\n",
    "test_score_cb = svc.score(X_test_cb, y_test_cb)\n",
    "print(\"Test: {}\".format(test_score))\n",
    "\n",
    "print('Ending SVC random search at: ', datetime.datetime.now())"
   ]
  },
  {
   "cell_type": "code",
   "execution_count": 113,
   "metadata": {},
   "outputs": [
    {
     "name": "stdout",
     "output_type": "stream",
     "text": [
      "Average precision-recall score: 0.40\n"
     ]
    }
   ],
   "source": [
    "# Precision recall curve calculations\n",
    "y_score_cb = svc.decision_function(X_test_cb)\n",
    "\n",
    "average_precision_svc_cb = average_precision_score(y_test_cb, y_score_cb)\n",
    "print('Average precision-recall score: {0:0.2f}'.format(\n",
    "      average_precision_svc_cb))\n",
    "\n",
    "precision_svc_cb, recall_svc_cb, _ = precision_recall_curve(y_test_cb, y_score_cb)"
   ]
  },
  {
   "cell_type": "code",
   "execution_count": 125,
   "metadata": {},
   "outputs": [
    {
     "data": {
      "text/plain": [
       "<matplotlib.figure.Figure at 0x1a2f200438>"
      ]
     },
     "metadata": {},
     "output_type": "display_data"
    },
    {
     "data": {
      "image/png": "[encoded data removed]",
      "text/plain": [
       "<matplotlib.figure.Figure at 0x1a2f2006a0>"
      ]
     },
     "metadata": {},
     "output_type": "display_data"
    }
   ],
   "source": [
    "plt.gcf().clear()\n",
    "\n",
    "plt.figure(num=None, figsize=(10, 6), dpi=80, facecolor='w', edgecolor='k')\n",
    "\n",
    "plt.step(recall_svc, precision_svc, color='g', alpha=0.4,\n",
    "         where='post', label= 'Raw AP={0:0.2f}'.format(\n",
    "          average_precision_svc))\n",
    "\n",
    "plt.step(recall_svc_us, precision_svc_us, color='b', alpha=0.4,\n",
    "         where='post', label = 'Upsampled AP={0:0.2f}'.format(\n",
    "          average_precision_svc_us))\n",
    "\n",
    "plt.step(recall_svc_cb, precision_svc_cb, color='r', alpha=0.4,\n",
    "         where='post', label = 'Custom Bin AP={0:0.2f}'.format(\n",
    "          average_precision_svc_cb))\n",
    "\n",
    "plt.xlabel('Recall')\n",
    "plt.ylabel('Precision')\n",
    "plt.ylim([0.0, 1.05])\n",
    "plt.xlim([0.0, 1.0])\n",
    "plt.title('SVC Precision-Recall curve')\n",
    "plt.legend()\n",
    "\n",
    "plt.tight_layout()\n",
    "plt.show()"
   ]
  },
  {
   "cell_type": "code",
   "execution_count": 126,
   "metadata": {},
   "outputs": [
    {
     "data": {
      "text/plain": [
       "<matplotlib.figure.Figure at 0x1a28e64c18>"
      ]
     },
     "metadata": {},
     "output_type": "display_data"
    },
    {
     "data": {
      "image/png": "[encoded data removed]",
      "text/plain": [
       "<matplotlib.figure.Figure at 0x1a28e64518>"
      ]
     },
     "metadata": {},
     "output_type": "display_data"
    }
   ],
   "source": [
    "plt.gcf().clear()\n",
    "plt.figure(num=None, figsize=(12, 8), dpi=80, facecolor='w', edgecolor='k')\n",
    "\n",
    "\n",
    "plt.subplot(2,2,1)\n",
    "plt.step(recall_lr, precision_lr, color='r', alpha=0.2, \n",
    "         where='post', label='Raw LR AP={0:0.2f}'.format(average_precision_lr))\n",
    "plt.step(recall_svc, precision_svc, color='b', alpha=0.2, \n",
    "         where='post', label='Raw SVC AP={0:0.2f}'.format(average_precision_svc))\n",
    "\n",
    "plt.xlabel('Recall')\n",
    "plt.ylabel('Precision')\n",
    "plt.ylim([0.0, 1.05])\n",
    "plt.xlim([0.0, 1.0])\n",
    "plt.title('Precision-Recall curve LR vs SVC')\n",
    "\n",
    "plt.legend()\n",
    "\n",
    "plt.subplot(2,2,2)\n",
    "plt.step(recall_lr_us, precision_lr_us, color='r', alpha=0.2, \n",
    "         where='post', label='Upsampled LR AP={0:0.2f}'.format(average_precision_lr_us))\n",
    "plt.step(recall_svc_us, precision_svc_us, color='b', alpha=0.2,\n",
    "         where='post', label='Upsampled SVC AP={0:0.2f}'.format(average_precision_svc_us))\n",
    "\n",
    "plt.xlabel('Recall')\n",
    "plt.ylabel('Precision')\n",
    "plt.ylim([0.0, 1.05])\n",
    "plt.xlim([0.0, 1.0])\n",
    "plt.title('Precision-Recall curve LR vs SVC Rebalanced')\n",
    "\n",
    "plt.legend()\n",
    "\n",
    "plt.subplot(2,2,3)\n",
    "plt.title('Receiver Operating Characteristic Unbalanced')\n",
    "plt.plot(fpr_rfc, tpr_rfc, 'b', label = 'Raw RFC AUC = %0.2f' % roc_auc_rfc, alpha=.4)\n",
    "plt.plot(fpr_lr, tpr_lr, 'r', label = 'Raw LR AUC = %0.2f' % roc_auc_lr, alpha=.4)\n",
    "plt.plot(fpr_mlpc, tpr_mlpc, 'g', label = 'Raw MLPC AUC = %0.2f' % roc_auc_mlpc, alpha=.4)\n",
    "\n",
    "plt.legend(loc = 'lower right')\n",
    "plt.plot([0, 1], [0, 1],'r--')\n",
    "plt.xlim([0, 1])\n",
    "plt.ylim([0, 1])\n",
    "plt.ylabel('True Positive Rate')\n",
    "plt.xlabel('False Positive Rate')\n",
    "\n",
    "\n",
    "plt.subplot(2,2,4)\n",
    "plt.title('Receiver Operating Characteristic Rebalanced')\n",
    "plt.plot(fpr_rfc_us, tpr_rfc_us, 'b', label = 'Upsampled RFC AUC = %0.2f' % roc_auc_rfc_us, alpha=.4)\n",
    "plt.plot(fpr_lr_us, tpr_lr_us, 'r', label = 'Upsampled LR AUC = %0.2f' % roc_auc_lr_us, alpha=.4)\n",
    "plt.plot(fpr_mlpc_us, tpr_mlpc_us, 'g', label = 'Upsampled MLPC AUC = %0.2f' % roc_auc_mlpc_us, alpha=.4)\n",
    "\n",
    "plt.legend(loc = 'lower right')\n",
    "plt.plot([0, 1], [0, 1],'r--')\n",
    "plt.xlim([0, 1])\n",
    "plt.ylim([0, 1])\n",
    "plt.ylabel('True Positive Rate')\n",
    "plt.xlabel('False Positive Rate')\n",
    "\n",
    "\n",
    "plt.tight_layout()\n",
    "plt.show()"
   ]
  },
  {
   "cell_type": "code",
   "execution_count": null,
   "metadata": {
    "collapsed": true
   },
   "outputs": [],
   "source": []
  }
 ],
 "metadata": {
  "kernelspec": {
   "display_name": "Python 3",
   "language": "python",
   "name": "python3"
  },
  "language_info": {
   "codemirror_mode": {
    "name": "ipython",
    "version": 3
   },
   "file_extension": ".py",
   "mimetype": "text/x-python",
   "name": "python",
   "nbconvert_exporter": "python",
   "pygments_lexer": "ipython3",
   "version": "3.6.1"
  }
 },
 "nbformat": 4,
 "nbformat_minor": 2
}
