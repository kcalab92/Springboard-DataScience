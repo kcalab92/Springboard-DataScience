{
 "cells": [
  {
   "cell_type": "markdown",
   "metadata": {},
   "source": [
    "### Data extraction, transformation and loading"
   ]
  },
  {
   "cell_type": "code",
   "execution_count": 1,
   "metadata": {
    "collapsed": true
   },
   "outputs": [],
   "source": [
    "import pandas as pd\n",
    "import numpy as np\n",
    "from numpy import array\n",
    "from numpy import argmax\n",
    "from sklearn.preprocessing import LabelEncoder\n",
    "from sklearn.preprocessing import OneHotEncoder\n",
    "import datetime\n",
    "import matplotlib.pyplot as plt\n",
    "import seaborn as sns\n",
    "from sklearn.linear_model import Ridge\n",
    "from sklearn.ensemble import RandomForestRegressor"
   ]
  },
  {
   "cell_type": "code",
   "execution_count": 2,
   "metadata": {},
   "outputs": [
    {
     "name": "stdout",
     "output_type": "stream",
     "text": [
      "Starting script at:  2018-04-12 12:48:20.867070\n"
     ]
    }
   ],
   "source": [
    "print('Starting script at: ', datetime.datetime.now())"
   ]
  },
  {
   "cell_type": "code",
   "execution_count": 3,
   "metadata": {
    "collapsed": true
   },
   "outputs": [],
   "source": [
    "test = pd.read_csv('Input/test.csv')\n",
    "train  = pd.read_csv('Input/train.csv')"
   ]
  },
  {
   "cell_type": "code",
   "execution_count": 4,
   "metadata": {},
   "outputs": [
    {
     "name": "stdout",
     "output_type": "stream",
     "text": [
      "Data imported at:  2018-04-12 12:48:23.015496\n"
     ]
    }
   ],
   "source": [
    "print('Data imported at: ', datetime.datetime.now())"
   ]
  },
  {
   "cell_type": "code",
   "execution_count": 5,
   "metadata": {
    "collapsed": true
   },
   "outputs": [],
   "source": [
    "# Fill missing values with 0s\n",
    "test.fillna(0, axis=1, inplace=True)\n",
    "train.fillna(0, axis=1, inplace=True)"
   ]
  },
  {
   "cell_type": "code",
   "execution_count": 6,
   "metadata": {
    "collapsed": true
   },
   "outputs": [],
   "source": [
    "# Hot one encode city category for both test and train\n",
    "onehot_encoder = OneHotEncoder(sparse=False)\n",
    "city_catArray = np.array(train['City_Category'])\n",
    "label_encoder = LabelEncoder()\n",
    "city_cat_integer_encoded = label_encoder.fit_transform(city_catArray)\n",
    "city_cat_onehot_encoder = OneHotEncoder(sparse=False)\n",
    "city_cat_integer_encoded = city_cat_integer_encoded.reshape(len(city_cat_integer_encoded), 1)\n",
    "city_cat_onehot_encoded = onehot_encoder.fit_transform(city_cat_integer_encoded)\n",
    "City_Cat_Columns = set(test['City_Category'])\n",
    "City_Cat_Columns = list(City_Cat_Columns)\n",
    "dfCityCat = pd.DataFrame(data=city_cat_onehot_encoded, columns=City_Cat_Columns)\n",
    "\n",
    "train = pd.concat([train, dfCityCat], axis=1, join='inner')\n",
    "\n",
    "onehot_encoder = OneHotEncoder(sparse=False)\n",
    "city_catArray = np.array(test['City_Category'])\n",
    "label_encoder = LabelEncoder()\n",
    "city_cat_integer_encoded = label_encoder.fit_transform(city_catArray)\n",
    "city_cat_onehot_encoder = OneHotEncoder(sparse=False)\n",
    "city_cat_integer_encoded = city_cat_integer_encoded.reshape(len(city_cat_integer_encoded), 1)\n",
    "city_cat_onehot_encoded = onehot_encoder.fit_transform(city_cat_integer_encoded)\n",
    "City_Cat_Columns = set(train['City_Category'])\n",
    "City_Cat_Columns = list(City_Cat_Columns)\n",
    "dfCityCat = pd.DataFrame(data=city_cat_onehot_encoded, columns=City_Cat_Columns)\n",
    "\n",
    "test = pd.concat([test, dfCityCat], axis=1, join='inner')"
   ]
  },
  {
   "cell_type": "code",
   "execution_count": 7,
   "metadata": {
    "collapsed": true
   },
   "outputs": [],
   "source": [
    "# Set value of each age bin to average and set to type int\n",
    "train.loc[train.Age == '0-17', 'Age'] = '14'\n",
    "train.loc[train.Age == '18-25', 'Age'] = '21'\n",
    "train.loc[train.Age == '26-35', 'Age'] = '30'\n",
    "train.loc[train.Age == '36-45', 'Age'] = '40'\n",
    "train.loc[train.Age == '46-50', 'Age'] = '48'\n",
    "train.loc[train.Age == '51-55', 'Age'] = '53'\n",
    "train.loc[train.Age == '55+', 'Age'] = '62'\n",
    "\n",
    "test.loc[test.Age == '0-17', 'Age'] = '14'\n",
    "test.loc[test.Age == '18-25', 'Age'] = '21'\n",
    "test.loc[test.Age == '26-35', 'Age'] = '30'\n",
    "test.loc[test.Age == '36-45', 'Age'] = '40'\n",
    "test.loc[test.Age == '46-50', 'Age'] = '48'\n",
    "test.loc[test.Age == '51-55', 'Age'] = '53'\n",
    "test.loc[test.Age == '55+', 'Age'] = '62'\n",
    "\n",
    "train.Age = train.Age.astype(int)\n",
    "test.Age = test.Age.astype(int)"
   ]
  },
  {
   "cell_type": "code",
   "execution_count": 8,
   "metadata": {
    "collapsed": true
   },
   "outputs": [],
   "source": [
    "# Convert stay in current city to integer for test and train\n",
    "train.loc[train.Stay_In_Current_City_Years == '4+', 'Stay_In_Current_City_Years'] = '4'\n",
    "test.loc[test.Stay_In_Current_City_Years == '4+', 'Stay_In_Current_City_Years'] = '4'\n",
    "\n",
    "train.Stay_In_Current_City_Years = train.Stay_In_Current_City_Years.astype(int)\n",
    "test.Stay_In_Current_City_Years = test.Stay_In_Current_City_Years.astype(int)"
   ]
  },
  {
   "cell_type": "code",
   "execution_count": 9,
   "metadata": {
    "collapsed": true
   },
   "outputs": [],
   "source": [
    "# Hot one encode gender in a single column\n",
    "train.loc[train.Gender == 'M', 'Gender'] = '1'\n",
    "train.loc[train.Gender == 'F', 'Gender'] = '0'\n",
    "\n",
    "test.loc[test.Gender == 'M', 'Gender'] = '1'\n",
    "test.loc[test.Gender == 'F', 'Gender'] = '0'\n",
    "\n",
    "train.Gender = train.Gender.astype(int)\n",
    "test.Gender = test.Gender.astype(int)"
   ]
  },
  {
   "cell_type": "code",
   "execution_count": 10,
   "metadata": {},
   "outputs": [
    {
     "name": "stdout",
     "output_type": "stream",
     "text": [
      "Data cleaned at :  2018-04-12 12:48:25.847166\n"
     ]
    }
   ],
   "source": [
    "print('Data cleaned at : ', datetime.datetime.now())"
   ]
  },
  {
   "cell_type": "markdown",
   "metadata": {},
   "source": [
    "### Feature Engineering"
   ]
  },
  {
   "cell_type": "code",
   "execution_count": 11,
   "metadata": {},
   "outputs": [
    {
     "name": "stdout",
     "output_type": "stream",
     "text": [
      "Feature engineering started at :  2018-04-12 12:48:25.852864\n"
     ]
    }
   ],
   "source": [
    "print('Feature engineering started at : ', datetime.datetime.now())"
   ]
  },
  {
   "cell_type": "code",
   "execution_count": 12,
   "metadata": {
    "collapsed": true
   },
   "outputs": [],
   "source": [
    "# Create number purchases per user feature\n",
    "numPurchU = train.groupby(by='User_ID')['Purchase'].count().reset_index().rename(columns={'Purchase': 'NumPurchasesU'})\n",
    "train = train.merge(numPurchU, on='User_ID', how='left')\n",
    "test = test.merge(numPurchU, on= 'User_ID', how='left')"
   ]
  },
  {
   "cell_type": "code",
   "execution_count": 13,
   "metadata": {
    "collapsed": true
   },
   "outputs": [],
   "source": [
    "# Create number purchases per product feature\n",
    "numPurchP = train.groupby(by='Product_ID')['Purchase'].count().reset_index().rename(columns={'Purchase': 'NumPurchasesP'})\n",
    "train = train.merge(numPurchP, on='Product_ID', how='left')\n",
    "test = test.merge(numPurchP, on= 'Product_ID', how='left')"
   ]
  },
  {
   "cell_type": "code",
   "execution_count": 14,
   "metadata": {
    "collapsed": true
   },
   "outputs": [],
   "source": [
    "# Create average purchase per user feature\n",
    "avgPurchU = train.groupby(by='User_ID')['Purchase'].mean().reset_index().rename(columns={'Purchase': 'AvgPurchaseU'})\n",
    "train = train.merge(avgPurchU, on='User_ID', how='left')\n",
    "test = test.merge(avgPurchU, on= 'User_ID', how='left')"
   ]
  },
  {
   "cell_type": "code",
   "execution_count": 15,
   "metadata": {
    "collapsed": true
   },
   "outputs": [],
   "source": [
    "# Create average purchase per product feature\n",
    "avgPurchP = train.groupby(by='Product_ID')['Purchase'].mean().reset_index().rename(columns={'Purchase': 'AvgPurchaseP'})\n",
    "train = train.merge(avgPurchP, on='Product_ID', how='left')\n",
    "test = test.merge(avgPurchP, on= 'Product_ID', how='left')"
   ]
  },
  {
   "cell_type": "code",
   "execution_count": 16,
   "metadata": {
    "collapsed": true
   },
   "outputs": [],
   "source": [
    "# Create proportion of user purchases higher than average purchase\n",
    "# of product feature\n",
    "train.loc[train.Purchase > train.AvgPurchaseP, 'High'] = 1\n",
    "train.loc[train.Purchase < train.AvgPurchaseP, 'High'] = 0\n",
    "\n",
    "propHighU = train.groupby('User_ID')['High'].mean().reset_index().rename(columns={'High': 'PropHighU'})\n",
    "train = train.merge(propHighU, on='User_ID', how='left')\n",
    "test = test.merge(propHighU, on='User_ID', how='left')"
   ]
  },
  {
   "cell_type": "code",
   "execution_count": 17,
   "metadata": {},
   "outputs": [
    {
     "name": "stdout",
     "output_type": "stream",
     "text": [
      "Created the following features:\n",
      " Number of purchases per user \n",
      " Number of purchases per product \n",
      " Average purchase amount per user \n",
      " Average purchase amount per product \n",
      " Proportion of purchases above average product purchase per user\n"
     ]
    }
   ],
   "source": [
    "print(\"Created the following features:\\n Number of purchases per user \\n Number of purchases per product \\n Average purchase amount per user \\n Average purchase amount per product \\n Proportion of purchases above average product purchase per user\")"
   ]
  },
  {
   "cell_type": "code",
   "execution_count": 18,
   "metadata": {},
   "outputs": [
    {
     "name": "stdout",
     "output_type": "stream",
     "text": [
      "<class 'pandas.core.frame.DataFrame'>\n",
      "Int64Index: 550068 entries, 0 to 550067\n",
      "Data columns (total 21 columns):\n",
      "User_ID                       550068 non-null int64\n",
      "Product_ID                    550068 non-null object\n",
      "Gender                        550068 non-null int64\n",
      "Age                           550068 non-null int64\n",
      "Occupation                    550068 non-null int64\n",
      "City_Category                 550068 non-null object\n",
      "Stay_In_Current_City_Years    550068 non-null int64\n",
      "Marital_Status                550068 non-null int64\n",
      "Product_Category_1            550068 non-null int64\n",
      "Product_Category_2            550068 non-null float64\n",
      "Product_Category_3            550068 non-null float64\n",
      "Purchase                      550068 non-null int64\n",
      "A                             550068 non-null float64\n",
      "B                             550068 non-null float64\n",
      "C                             550068 non-null float64\n",
      "NumPurchasesU                 550068 non-null int64\n",
      "NumPurchasesP                 550068 non-null int64\n",
      "AvgPurchaseU                  550068 non-null float64\n",
      "AvgPurchaseP                  550068 non-null float64\n",
      "High                          549924 non-null float64\n",
      "PropHighU                     550068 non-null float64\n",
      "dtypes: float64(9), int64(10), object(2)\n",
      "memory usage: 92.3+ MB\n"
     ]
    }
   ],
   "source": [
    "train.info()"
   ]
  },
  {
   "cell_type": "code",
   "execution_count": 19,
   "metadata": {
    "collapsed": true
   },
   "outputs": [],
   "source": [
    "trainFIC = train\n",
    "\n",
    "y = trainFIC.Purchase\n",
    "x = trainFIC.drop(['User_ID', 'Product_ID', 'City_Category', 'Purchase'], axis=1)"
   ]
  },
  {
   "cell_type": "code",
   "execution_count": 20,
   "metadata": {},
   "outputs": [
    {
     "name": "stdout",
     "output_type": "stream",
     "text": [
      "Column  High  contains nans\n"
     ]
    }
   ],
   "source": [
    "for col in x.columns:\n",
    "    if sum(x[col].isnull()) > 1:\n",
    "        print('Column ', col, ' contains nans')\n",
    "        \n",
    "        # Imputes the average for the column found to contain nulls i.e. std Product\n",
    "        x[col].fillna((x[col].mean()), inplace=True)"
   ]
  },
  {
   "cell_type": "code",
   "execution_count": 21,
   "metadata": {},
   "outputs": [
    {
     "name": "stdout",
     "output_type": "stream",
     "text": [
      "Feature importance determined from random forest\n",
      "                       Feature  Importance\n",
      "14                AvgPurchaseP    0.736667\n",
      "15                        High    0.174143\n",
      "13                AvgPurchaseU    0.015516\n",
      "16                   PropHighU    0.014717\n",
      "11               NumPurchasesU    0.011849\n",
      "12               NumPurchasesP    0.009816\n",
      "5           Product_Category_1    0.009561\n",
      "2                   Occupation    0.006638\n",
      "1                          Age    0.004339\n",
      "6           Product_Category_2    0.004123\n",
      "3   Stay_In_Current_City_Years    0.004006\n",
      "7           Product_Category_3    0.002970\n",
      "4               Marital_Status    0.001446\n",
      "0                       Gender    0.001268\n",
      "9                            B    0.001078\n",
      "8                            A    0.001009\n",
      "10                           C    0.000854\n"
     ]
    },
    {
     "name": "stderr",
     "output_type": "stream",
     "text": [
      "/anaconda/lib/python3.6/site-packages/sklearn/ensemble/forest.py:723: UserWarning: Some inputs do not have OOB scores. This probably means too few trees were used to compute any reliable oob estimates.\n",
      "  warn(\"Some inputs do not have OOB scores. \"\n"
     ]
    }
   ],
   "source": [
    "rfr = RandomForestRegressor(n_jobs=-1, oob_score= True, random_state = 0, max_features=17)\n",
    "\n",
    "rfr.fit(x,y)\n",
    " \n",
    "importance = list(rfr.feature_importances_)\n",
    "feature = list(x.columns)\n",
    "\n",
    "feature_importance = pd.DataFrame({'Feature': feature, 'Importance': importance})\n",
    "\n",
    "print('Feature importance determined from random forest')\n",
    "print(feature_importance.sort_values('Importance', ascending=False))"
   ]
  },
  {
   "cell_type": "code",
   "execution_count": 22,
   "metadata": {},
   "outputs": [
    {
     "name": "stdout",
     "output_type": "stream",
     "text": [
      "Checking for feature correlation\n"
     ]
    },
    {
     "data": {
      "image/png": "[encoded data removed]",
      "text/plain": [
       "<matplotlib.figure.Figure at 0x1038696d8>"
      ]
     },
     "metadata": {},
     "output_type": "display_data"
    }
   ],
   "source": [
    "print('Checking for feature correlation')\n",
    "\n",
    "plt.gcf().clear()\n",
    "\n",
    "corr = train.drop('Purchase', axis=1).corr()\n",
    "#print(corr)\n",
    "sns.heatmap(corr)\n",
    "plt.xticks(rotation='vertical')\n",
    "plt.yticks(rotation='horizontal')\n",
    "plt.show()"
   ]
  },
  {
   "cell_type": "code",
   "execution_count": 23,
   "metadata": {},
   "outputs": [
    {
     "name": "stdout",
     "output_type": "stream",
     "text": [
      "                             User_ID    Gender       Age  Occupation  \\\n",
      "User_ID                     1.000000 -0.033474  0.035795   -0.023971   \n",
      "Gender                     -0.033474  1.000000 -0.005375    0.117291   \n",
      "Age                         0.035795 -0.005375  1.000000    0.095514   \n",
      "Occupation                 -0.023971  0.117291  0.095514    1.000000   \n",
      "Stay_In_Current_City_Years -0.030737  0.014660 -0.003869    0.030005   \n",
      "Marital_Status              0.020443 -0.011603  0.310183    0.024280   \n",
      "Product_Category_1          0.003825 -0.045594  0.061422   -0.007618   \n",
      "Product_Category_2          0.003896 -0.000954  0.019098    0.006712   \n",
      "Product_Category_3          0.003605  0.036146 -0.007255    0.012269   \n",
      "A                          -0.030568  0.007299 -0.095975   -0.023070   \n",
      "B                           0.019688 -0.006155 -0.016509   -0.011673   \n",
      "C                           0.008272 -0.000426  0.109476    0.034529   \n",
      "NumPurchasesU              -0.032458  0.073517 -0.053153   -0.002929   \n",
      "NumPurchasesP               0.003688  0.020456 -0.021485    0.011679   \n",
      "AvgPurchaseU                0.014626  0.187168  0.048018    0.064614   \n",
      "AvgPurchaseP                0.005361  0.070720  0.012424    0.020582   \n",
      "High                        0.000281 -0.011708  0.005124    0.002045   \n",
      "PropHighU                   0.000893 -0.035038  0.015341    0.006108   \n",
      "\n",
      "                            Stay_In_Current_City_Years  Marital_Status  \\\n",
      "User_ID                                      -0.030737        0.020443   \n",
      "Gender                                        0.014660       -0.011603   \n",
      "Age                                          -0.003869        0.310183   \n",
      "Occupation                                    0.030005        0.024280   \n",
      "Stay_In_Current_City_Years                    1.000000       -0.012819   \n",
      "Marital_Status                               -0.012819        1.000000   \n",
      "Product_Category_1                           -0.004213        0.019888   \n",
      "Product_Category_2                            0.001262        0.001099   \n",
      "Product_Category_3                            0.001977       -0.004629   \n",
      "A                                            -0.023236       -0.033088   \n",
      "B                                             0.011008       -0.001863   \n",
      "C                                             0.010507        0.033661   \n",
      "NumPurchasesU                                -0.000280        0.000678   \n",
      "NumPurchasesP                                 0.001470       -0.010415   \n",
      "AvgPurchaseU                                  0.016818       -0.001437   \n",
      "AvgPurchaseP                                  0.001766        0.003620   \n",
      "High                                          0.004088       -0.010115   \n",
      "PropHighU                                     0.012216       -0.030285   \n",
      "\n",
      "                            Product_Category_1  Product_Category_2  \\\n",
      "User_ID                               0.003825            0.003896   \n",
      "Gender                               -0.045594           -0.000954   \n",
      "Age                                   0.061422            0.019098   \n",
      "Occupation                           -0.007618            0.006712   \n",
      "Stay_In_Current_City_Years           -0.004213            0.001262   \n",
      "Marital_Status                        0.019888            0.001099   \n",
      "Product_Category_1                    1.000000           -0.067877   \n",
      "Product_Category_2                   -0.067877            1.000000   \n",
      "Product_Category_3                   -0.385534            0.094750   \n",
      "A                                     0.015702           -0.011200   \n",
      "B                                    -0.006076           -0.004534   \n",
      "C                                    -0.008554            0.015555   \n",
      "NumPurchasesU                         0.017748           -0.027482   \n",
      "NumPurchasesP                        -0.205178            0.098062   \n",
      "AvgPurchaseU                         -0.112922            0.053935   \n",
      "AvgPurchaseP                         -0.404519            0.061540   \n",
      "High                                  0.005388           -0.015080   \n",
      "PropHighU                            -0.017529            0.008078   \n",
      "\n",
      "                            Product_Category_3         A         B         C  \\\n",
      "User_ID                               0.003605 -0.030568  0.019688  0.008272   \n",
      "Gender                                0.036146  0.007299 -0.006155 -0.000426   \n",
      "Age                                  -0.007255 -0.095975 -0.016509  0.109476   \n",
      "Occupation                            0.012269 -0.023070 -0.011673  0.034529   \n",
      "Stay_In_Current_City_Years            0.001977 -0.023236  0.011008  0.010507   \n",
      "Marital_Status                       -0.004629 -0.033088 -0.001863  0.033661   \n",
      "Product_Category_1                   -0.385534  0.015702 -0.006076 -0.008554   \n",
      "Product_Category_2                    0.094750 -0.011200 -0.004534  0.015555   \n",
      "Product_Category_3                    1.000000 -0.026976 -0.006270  0.032508   \n",
      "A                                    -0.026976  1.000000 -0.515898 -0.407268   \n",
      "B                                    -0.006270 -0.515898  1.000000 -0.572277   \n",
      "C                                     0.032508 -0.407268 -0.572277  1.000000   \n",
      "NumPurchasesU                        -0.050203  0.380756  0.120491 -0.492953   \n",
      "NumPurchasesP                         0.262332 -0.066827 -0.048708  0.115902   \n",
      "AvgPurchaseU                          0.122139 -0.131709 -0.059233  0.189233   \n",
      "AvgPurchaseP                          0.339549 -0.026447 -0.015317  0.041647   \n",
      "High                                 -0.007632 -0.028800 -0.013101  0.041537   \n",
      "PropHighU                             0.016795 -0.086105 -0.039126  0.124141   \n",
      "\n",
      "                            NumPurchasesU  NumPurchasesP  AvgPurchaseU  \\\n",
      "User_ID                         -0.032458       0.003688      0.014626   \n",
      "Gender                           0.073517       0.020456      0.187168   \n",
      "Age                             -0.053153      -0.021485      0.048018   \n",
      "Occupation                      -0.002929       0.011679      0.064614   \n",
      "Stay_In_Current_City_Years      -0.000280       0.001470      0.016818   \n",
      "Marital_Status                   0.000678      -0.010415     -0.001437   \n",
      "Product_Category_1               0.017748      -0.205178     -0.112922   \n",
      "Product_Category_2              -0.027482       0.098062      0.053935   \n",
      "Product_Category_3              -0.050203       0.262332      0.122139   \n",
      "A                                0.380756      -0.066827     -0.131709   \n",
      "B                                0.120491      -0.048708     -0.059233   \n",
      "C                               -0.492953       0.115902      0.189233   \n",
      "NumPurchasesU                    1.000000      -0.207742     -0.280247   \n",
      "NumPurchasesP                   -0.207742       1.000000      0.150604   \n",
      "AvgPurchaseU                    -0.280247       0.150604      1.000000   \n",
      "AvgPurchaseP                    -0.077365       0.363253      0.223574   \n",
      "High                            -0.048267       0.014564      0.205583   \n",
      "PropHighU                       -0.144246       0.041889      0.614542   \n",
      "\n",
      "                            AvgPurchaseP      High  PropHighU  \n",
      "User_ID                         0.005361  0.000281   0.000893  \n",
      "Gender                          0.070720 -0.011708  -0.035038  \n",
      "Age                             0.012424  0.005124   0.015341  \n",
      "Occupation                      0.020582  0.002045   0.006108  \n",
      "Stay_In_Current_City_Years      0.001766  0.004088   0.012216  \n",
      "Marital_Status                  0.003620 -0.010115  -0.030285  \n",
      "Product_Category_1             -0.404519  0.005388  -0.017529  \n",
      "Product_Category_2              0.061540 -0.015080   0.008078  \n",
      "Product_Category_3              0.339549 -0.007632   0.016795  \n",
      "A                              -0.026447 -0.028800  -0.086105  \n",
      "B                              -0.015317 -0.013101  -0.039126  \n",
      "C                               0.041647  0.041537   0.124141  \n",
      "NumPurchasesU                  -0.077365 -0.048267  -0.144246  \n",
      "NumPurchasesP                   0.363253  0.014564   0.041889  \n",
      "AvgPurchaseU                    0.223574  0.205583   0.614542  \n",
      "AvgPurchaseP                    1.000000  0.003459   0.016612  \n",
      "High                            0.003459  1.000000   0.334564  \n",
      "PropHighU                       0.016612  0.334564   1.000000  \n"
     ]
    }
   ],
   "source": [
    "print(corr)"
   ]
  },
  {
   "cell_type": "code",
   "execution_count": 24,
   "metadata": {},
   "outputs": [
    {
     "name": "stdout",
     "output_type": "stream",
     "text": [
      "Features Engineering completed at :  2018-04-12 12:49:03.104190\n"
     ]
    }
   ],
   "source": [
    "print('Features Engineering completed at : ', datetime.datetime.now())"
   ]
  },
  {
   "cell_type": "code",
   "execution_count": 25,
   "metadata": {
    "collapsed": true
   },
   "outputs": [],
   "source": [
    "train.to_csv('Hold/train2.csv', index=False)\n",
    "test.to_csv('Hold/test2.csv', index=False)"
   ]
  },
  {
   "cell_type": "code",
   "execution_count": null,
   "metadata": {
    "collapsed": true
   },
   "outputs": [],
   "source": []
  }
 ],
 "metadata": {
  "kernelspec": {
   "display_name": "Python 3",
   "language": "python",
   "name": "python3"
  },
  "language_info": {
   "codemirror_mode": {
    "name": "ipython",
    "version": 3
   },
   "file_extension": ".py",
   "mimetype": "text/x-python",
   "name": "python",
   "nbconvert_exporter": "python",
   "pygments_lexer": "ipython3",
   "version": "3.6.1"
  }
 },
 "nbformat": 4,
 "nbformat_minor": 2
}
