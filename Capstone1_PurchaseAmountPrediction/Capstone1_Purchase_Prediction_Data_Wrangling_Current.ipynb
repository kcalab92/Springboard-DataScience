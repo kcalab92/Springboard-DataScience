{
 "cells": [
  {
   "cell_type": "code",
   "execution_count": 2,
   "metadata": {
    "collapsed": true
   },
   "outputs": [],
   "source": [
    "import pandas as pd\n",
    "import numpy as np"
   ]
  },
  {
   "cell_type": "code",
   "execution_count": 3,
   "metadata": {
    "collapsed": true
   },
   "outputs": [],
   "source": [
    "df = pd.read_csv('train1.csv') "
   ]
  },
  {
   "cell_type": "code",
   "execution_count": 4,
   "metadata": {},
   "outputs": [
    {
     "name": "stdout",
     "output_type": "stream",
     "text": [
      "   User_ID Product_ID Gender   Age  Occupation City_Category  \\\n",
      "0  1000001  P00069042      F  0-17          10             A   \n",
      "1  1000001  P00248942      F  0-17          10             A   \n",
      "2  1000001  P00087842      F  0-17          10             A   \n",
      "3  1000001  P00085442      F  0-17          10             A   \n",
      "4  1000002  P00285442      M   55+          16             C   \n",
      "\n",
      "  Stay_In_Current_City_Years  Marital_Status  Product_Category_1  \\\n",
      "0                          2               0                   3   \n",
      "1                          2               0                   1   \n",
      "2                          2               0                  12   \n",
      "3                          2               0                  12   \n",
      "4                         4+               0                   8   \n",
      "\n",
      "   Product_Category_2  Product_Category_3  Purchase  \n",
      "0                 NaN                 NaN      8370  \n",
      "1                 6.0                14.0     15200  \n",
      "2                 NaN                 NaN      1422  \n",
      "3                14.0                 NaN      1057  \n",
      "4                 NaN                 NaN      7969  \n"
     ]
    }
   ],
   "source": [
    "print(df.head())"
   ]
  },
  {
   "cell_type": "code",
   "execution_count": 5,
   "metadata": {},
   "outputs": [
    {
     "name": "stdout",
     "output_type": "stream",
     "text": [
      "<class 'pandas.core.frame.DataFrame'>\n",
      "RangeIndex: 65499 entries, 0 to 65498\n",
      "Data columns (total 12 columns):\n",
      "User_ID                       65499 non-null int64\n",
      "Product_ID                    65499 non-null object\n",
      "Gender                        65499 non-null object\n",
      "Age                           65499 non-null object\n",
      "Occupation                    65499 non-null int64\n",
      "City_Category                 65499 non-null object\n",
      "Stay_In_Current_City_Years    65499 non-null object\n",
      "Marital_Status                65499 non-null int64\n",
      "Product_Category_1            65499 non-null int64\n",
      "Product_Category_2            44908 non-null float64\n",
      "Product_Category_3            19886 non-null float64\n",
      "Purchase                      65499 non-null int64\n",
      "dtypes: float64(2), int64(5), object(5)\n",
      "memory usage: 6.0+ MB\n",
      "None\n"
     ]
    }
   ],
   "source": [
    "print(df.info())"
   ]
  },
  {
   "cell_type": "code",
   "execution_count": 6,
   "metadata": {},
   "outputs": [
    {
     "name": "stderr",
     "output_type": "stream",
     "text": [
      "/anaconda/lib/python3.6/site-packages/ipykernel_launcher.py:11: SettingWithCopyWarning: \n",
      "A value is trying to be set on a copy of a slice from a DataFrame\n",
      "\n",
      "See the caveats in the documentation: http://pandas.pydata.org/pandas-docs/stable/indexing.html#indexing-view-versus-copy\n",
      "  # This is added back by InteractiveShellApp.init_path()\n"
     ]
    }
   ],
   "source": [
    "# From examing data in previous two lines it is evident that there is missing values in  \n",
    "# columns Product_Category_2, and Product_Category_3\n",
    "# The Below script iterates through the columns of the dataframe, locates null values, \n",
    "# And sums all instances of a null value. If the column contains at least one null value\n",
    "# Then it sets all instances of the Nan value to 0\n",
    "\n",
    "for column in df:\n",
    "    isnul = df[column].isnull()\n",
    "    totalNull = sum(isnul)\n",
    "    if totalNull != 0:\n",
    "        df[column][isnul] = 0\n",
    "        isnul = df[column].isnull()\n",
    "        totalNull = sum(isnul)"
   ]
  },
  {
   "cell_type": "code",
   "execution_count": 7,
   "metadata": {},
   "outputs": [
    {
     "name": "stdout",
     "output_type": "stream",
     "text": [
      "<class 'pandas.core.frame.DataFrame'>\n",
      "RangeIndex: 65499 entries, 0 to 65498\n",
      "Data columns (total 12 columns):\n",
      "User_ID                       65499 non-null int64\n",
      "Product_ID                    65499 non-null object\n",
      "Gender                        65499 non-null object\n",
      "Age                           65499 non-null object\n",
      "Occupation                    65499 non-null int64\n",
      "City_Category                 65499 non-null object\n",
      "Stay_In_Current_City_Years    65499 non-null object\n",
      "Marital_Status                65499 non-null int64\n",
      "Product_Category_1            65499 non-null int64\n",
      "Product_Category_2            65499 non-null float64\n",
      "Product_Category_3            65499 non-null float64\n",
      "Purchase                      65499 non-null int64\n",
      "dtypes: float64(2), int64(5), object(5)\n",
      "memory usage: 6.0+ MB\n"
     ]
    }
   ],
   "source": [
    "# Quick check that Nan values have been replaced with 0\n",
    "df.info()"
   ]
  },
  {
   "cell_type": "code",
   "execution_count": 8,
   "metadata": {
    "collapsed": true
   },
   "outputs": [],
   "source": [
    "from numpy import array\n",
    "from numpy import argmax\n",
    "from sklearn.preprocessing import LabelEncoder\n",
    "from sklearn.preprocessing import OneHotEncoder"
   ]
  },
  {
   "cell_type": "markdown",
   "metadata": {},
   "source": [
    "# Example of hot one encoding \n",
    "\n",
    "[How To Hot One Encode Sequence Data In Python](https://machinelearningmastery.com/how-to-one-hot-encode-sequence-data-in-python// \"Title\")"
   ]
  },
  {
   "cell_type": "code",
   "execution_count": 9,
   "metadata": {},
   "outputs": [
    {
     "name": "stdout",
     "output_type": "stream",
     "text": [
      "['cold' 'cold' 'warm' 'cold' 'hot' 'hot' 'warm' 'cold' 'warm' 'hot']\n",
      "<class 'numpy.ndarray'>\n"
     ]
    }
   ],
   "source": [
    "# The next four sections of code are from an online example on how to hot one encode data\n",
    "# I learned how this code works by running each section and then in later rows apply it to my data\n",
    "data = ['cold', 'cold', 'warm', 'cold', 'hot', 'hot', 'warm', 'cold', 'warm', 'hot']\n",
    "values = array(data)\n",
    "print(values)\n",
    "print(type(values))"
   ]
  },
  {
   "cell_type": "code",
   "execution_count": 10,
   "metadata": {},
   "outputs": [
    {
     "name": "stdout",
     "output_type": "stream",
     "text": [
      "[0 0 2 0 1 1 2 0 2 1]\n"
     ]
    }
   ],
   "source": [
    "# integer encode\n",
    "label_encoder = LabelEncoder()\n",
    "integer_encoded = label_encoder.fit_transform(values)\n",
    "print(integer_encoded)"
   ]
  },
  {
   "cell_type": "code",
   "execution_count": 11,
   "metadata": {},
   "outputs": [
    {
     "name": "stdout",
     "output_type": "stream",
     "text": [
      "[[ 1.  0.  0.]\n",
      " [ 1.  0.  0.]\n",
      " [ 0.  0.  1.]\n",
      " [ 1.  0.  0.]\n",
      " [ 0.  1.  0.]\n",
      " [ 0.  1.  0.]\n",
      " [ 0.  0.  1.]\n",
      " [ 1.  0.  0.]\n",
      " [ 0.  0.  1.]\n",
      " [ 0.  1.  0.]]\n"
     ]
    }
   ],
   "source": [
    "# binary encode\n",
    "onehot_encoder = OneHotEncoder(sparse=False)\n",
    "integer_encoded = integer_encoded.reshape(len(integer_encoded), 1)\n",
    "onehot_encoded = onehot_encoder.fit_transform(integer_encoded)\n",
    "print(onehot_encoded)"
   ]
  },
  {
   "cell_type": "code",
   "execution_count": 12,
   "metadata": {},
   "outputs": [
    {
     "name": "stdout",
     "output_type": "stream",
     "text": [
      "['cold']\n"
     ]
    }
   ],
   "source": [
    "# invert first example\n",
    "inverted = label_encoder.inverse_transform([argmax(onehot_encoded[0, :])])\n",
    "print(inverted)"
   ]
  },
  {
   "cell_type": "markdown",
   "metadata": {},
   "source": [
    "# Hot One Encoding My Data Based On the Example"
   ]
  },
  {
   "cell_type": "markdown",
   "metadata": {},
   "source": [
    "## Hot One Encoding Gender"
   ]
  },
  {
   "cell_type": "code",
   "execution_count": 13,
   "metadata": {
    "collapsed": true
   },
   "outputs": [],
   "source": [
    "# Define an array containing gender column data from df\n",
    "gender = array(df['Gender']) "
   ]
  },
  {
   "cell_type": "code",
   "execution_count": 14,
   "metadata": {},
   "outputs": [
    {
     "name": "stdout",
     "output_type": "stream",
     "text": [
      "[0 0 0 ..., 1 1 1]\n"
     ]
    }
   ],
   "source": [
    "# integer encode the gender data from the gender array\n",
    "label_encoder = LabelEncoder()\n",
    "gender_integer_encoded = label_encoder.fit_transform(gender)\n",
    "print(gender_integer_encoded)"
   ]
  },
  {
   "cell_type": "code",
   "execution_count": 15,
   "metadata": {},
   "outputs": [
    {
     "name": "stdout",
     "output_type": "stream",
     "text": [
      "[[ 1.  0.]\n",
      " [ 1.  0.]\n",
      " [ 1.  0.]\n",
      " ..., \n",
      " [ 0.  1.]\n",
      " [ 0.  1.]\n",
      " [ 0.  1.]]\n",
      "<class 'numpy.ndarray'>\n"
     ]
    }
   ],
   "source": [
    "# binary encode the gender data from the integer encoded data\n",
    "onehot_encoder = OneHotEncoder(sparse=False)\n",
    "gender_integer_encoded = gender_integer_encoded.reshape(len(gender_integer_encoded), 1)\n",
    "gender_onehot_encoded = onehot_encoder.fit_transform(gender_integer_encoded)\n",
    "print(gender_onehot_encoded)\n",
    "print(type(gender_onehot_encoded))"
   ]
  },
  {
   "cell_type": "code",
   "execution_count": 16,
   "metadata": {
    "collapsed": true
   },
   "outputs": [],
   "source": [
    "# Converts the hot one encoded data into a dataframe with columns 'F' for female and 'M' for male\n",
    "dfGender = pd.DataFrame(data=gender_onehot_encoded, columns=['F','M'])\n",
    "#print(dfGender)"
   ]
  },
  {
   "cell_type": "markdown",
   "metadata": {},
   "source": [
    "## Hot One Encoding Age"
   ]
  },
  {
   "cell_type": "code",
   "execution_count": 17,
   "metadata": {
    "collapsed": true
   },
   "outputs": [],
   "source": [
    "# Define an array containing age column data from df\n",
    "ageArray = array(df['Age'])"
   ]
  },
  {
   "cell_type": "code",
   "execution_count": 18,
   "metadata": {},
   "outputs": [
    {
     "name": "stdout",
     "output_type": "stream",
     "text": [
      "[0 0 0 ..., 2 2 2]\n"
     ]
    }
   ],
   "source": [
    "# integer encode the gender data from the age array\n",
    "label_encoder = LabelEncoder()\n",
    "age_integer_encoded = label_encoder.fit_transform(ageArray)\n",
    "print(age_integer_encoded)"
   ]
  },
  {
   "cell_type": "code",
   "execution_count": 19,
   "metadata": {},
   "outputs": [
    {
     "name": "stdout",
     "output_type": "stream",
     "text": [
      "[[ 1.  0.  0. ...,  0.  0.  0.]\n",
      " [ 1.  0.  0. ...,  0.  0.  0.]\n",
      " [ 1.  0.  0. ...,  0.  0.  0.]\n",
      " ..., \n",
      " [ 0.  0.  1. ...,  0.  0.  0.]\n",
      " [ 0.  0.  1. ...,  0.  0.  0.]\n",
      " [ 0.  0.  1. ...,  0.  0.  0.]]\n"
     ]
    }
   ],
   "source": [
    "# binary encode the age data from the integer encoded data\n",
    "onehot_encoder = OneHotEncoder(sparse=False)\n",
    "age_integer_encoded = age_integer_encoded.reshape(len(age_integer_encoded), 1)\n",
    "age_onehot_encoded = onehot_encoder.fit_transform(age_integer_encoded)\n",
    "print(age_onehot_encoded)"
   ]
  },
  {
   "cell_type": "code",
   "execution_count": 20,
   "metadata": {},
   "outputs": [
    {
     "name": "stdout",
     "output_type": "stream",
     "text": [
      "['0-17', '18-25', '26-35', '36-45', '46-50', '51-55', '55+']\n"
     ]
    }
   ],
   "source": [
    "#Creates a set of column titles based on the age range categories\n",
    "ageColumns = set(df['Age'])\n",
    "ageColumns = list(ageColumns)\n",
    "ageColumns.sort()\n",
    "print(ageColumns)"
   ]
  },
  {
   "cell_type": "code",
   "execution_count": 21,
   "metadata": {
    "collapsed": true
   },
   "outputs": [],
   "source": [
    "# Converts the hot one encoded data into a dataframe with columns created in previous row\n",
    "dfAge = pd.DataFrame(data=age_onehot_encoded, columns=ageColumns)\n",
    "#print(dfAge)"
   ]
  },
  {
   "cell_type": "markdown",
   "metadata": {},
   "source": [
    "## Hot One Encoding Occupation"
   ]
  },
  {
   "cell_type": "code",
   "execution_count": 22,
   "metadata": {},
   "outputs": [
    {
     "name": "stdout",
     "output_type": "stream",
     "text": [
      "20\n",
      "0\n"
     ]
    }
   ],
   "source": [
    "# Define an array containing occupation column data from df\n",
    "occupationArray = array(df['Occupation'])\n",
    "print(occupationArray.max())\n",
    "print(occupationArray.min())"
   ]
  },
  {
   "cell_type": "code",
   "execution_count": 23,
   "metadata": {},
   "outputs": [
    {
     "name": "stdout",
     "output_type": "stream",
     "text": [
      "[[ 0.  0.  0. ...,  0.  0.  0.]\n",
      " [ 0.  0.  0. ...,  0.  0.  0.]\n",
      " [ 0.  0.  0. ...,  0.  0.  0.]\n",
      " ..., \n",
      " [ 0.  0.  0. ...,  0.  0.  0.]\n",
      " [ 0.  0.  0. ...,  0.  0.  0.]\n",
      " [ 0.  0.  0. ...,  0.  0.  0.]]\n"
     ]
    }
   ],
   "source": [
    "# binary encode the occupation data directly because its raw form was integer encoded\n",
    "onehot_encoder = OneHotEncoder(sparse=False)\n",
    "occupation_integer_encoded = occupationArray.reshape(len(occupationArray), 1)\n",
    "occupation_onehot_encoded = onehot_encoder.fit_transform(occupation_integer_encoded)\n",
    "print(occupation_onehot_encoded)"
   ]
  },
  {
   "cell_type": "code",
   "execution_count": 24,
   "metadata": {},
   "outputs": [
    {
     "name": "stdout",
     "output_type": "stream",
     "text": [
      "<class 'list'>\n",
      "['0_Occupation', '1_Occupation', '2_Occupation', '3_Occupation', '4_Occupation', '5_Occupation', '6_Occupation', '7_Occupation', '8_Occupation', '9_Occupation', '10_Occupation', '11_Occupation', '12_Occupation', '13_Occupation', '14_Occupation', '15_Occupation', '16_Occupation', '17_Occupation', '18_Occupation', '19_Occupation', '20_Occupation']\n"
     ]
    }
   ],
   "source": [
    "#Creates a set of column titles based on the occupation categories\n",
    "occupationColumns = set(df['Occupation'])\n",
    "occupationColumns = list(occupationColumns)\n",
    "occupationColumns.sort()\n",
    "hold = []\n",
    "for item in occupationColumns:\n",
    "    temp = str(item) + '_Occupation'\n",
    "    hold.append(temp)\n",
    "\n",
    "print(type(hold))\n",
    "print(hold)"
   ]
  },
  {
   "cell_type": "code",
   "execution_count": 25,
   "metadata": {
    "collapsed": true
   },
   "outputs": [],
   "source": [
    "# Converts the hot one encoded data into a dataframe with columns created in previous row\n",
    "dfOccupation = pd.DataFrame(data=occupation_onehot_encoded, columns= hold)\n",
    "#print(dfOccupation)"
   ]
  },
  {
   "cell_type": "markdown",
   "metadata": {},
   "source": [
    "## Hot One Encoding City Category"
   ]
  },
  {
   "cell_type": "code",
   "execution_count": 26,
   "metadata": {
    "collapsed": true
   },
   "outputs": [],
   "source": [
    "# Define an array containing city category column data from df\n",
    "city_catArray = array(df['City_Category'])"
   ]
  },
  {
   "cell_type": "code",
   "execution_count": 27,
   "metadata": {},
   "outputs": [
    {
     "name": "stdout",
     "output_type": "stream",
     "text": [
      "[0 0 0 ..., 0 0 0]\n"
     ]
    }
   ],
   "source": [
    "# integer encode the city category data\n",
    "label_encoder = LabelEncoder()\n",
    "city_cat_integer_encoded = label_encoder.fit_transform(city_catArray)\n",
    "print(city_cat_integer_encoded)"
   ]
  },
  {
   "cell_type": "code",
   "execution_count": 28,
   "metadata": {},
   "outputs": [
    {
     "name": "stdout",
     "output_type": "stream",
     "text": [
      "[[ 1.  0.  0.]\n",
      " [ 1.  0.  0.]\n",
      " [ 1.  0.  0.]\n",
      " ..., \n",
      " [ 1.  0.  0.]\n",
      " [ 1.  0.  0.]\n",
      " [ 1.  0.  0.]]\n"
     ]
    }
   ],
   "source": [
    "# binary encode the integer encoded data from previous step\n",
    "city_cat_onehot_encoder = OneHotEncoder(sparse=False)\n",
    "city_cat_integer_encoded = city_cat_integer_encoded.reshape(len(city_cat_integer_encoded), 1)\n",
    "city_cat_onehot_encoded = onehot_encoder.fit_transform(city_cat_integer_encoded)\n",
    "print(city_cat_onehot_encoded)"
   ]
  },
  {
   "cell_type": "code",
   "execution_count": 29,
   "metadata": {},
   "outputs": [
    {
     "name": "stdout",
     "output_type": "stream",
     "text": [
      "['A', 'B', 'C']\n"
     ]
    }
   ],
   "source": [
    "# creates column names for the city categories\n",
    "City_Cat_Columns = set(df['City_Category'])\n",
    "City_Cat_Columns = list(City_Cat_Columns)\n",
    "City_Cat_Columns.sort()\n",
    "print(City_Cat_Columns)"
   ]
  },
  {
   "cell_type": "code",
   "execution_count": 30,
   "metadata": {
    "collapsed": true
   },
   "outputs": [],
   "source": [
    "# creates a data frame out of the one hot encoded data with column titles created in previous step\n",
    "dfCityCat = pd.DataFrame(data=city_cat_onehot_encoded, columns=City_Cat_Columns)\n",
    "#print(dfCityCat)"
   ]
  },
  {
   "cell_type": "markdown",
   "metadata": {},
   "source": [
    "# Merging Data Frames of One Hot Encoded Data"
   ]
  },
  {
   "cell_type": "code",
   "execution_count": 31,
   "metadata": {
    "collapsed": true
   },
   "outputs": [],
   "source": [
    "# creates a single dataframe with the original data frame and all of the hot one encoded data concatenated\n",
    "df2 = pd.concat([df, dfGender, dfAge, dfOccupation, dfCityCat], axis=1, join='inner')"
   ]
  },
  {
   "cell_type": "code",
   "execution_count": 32,
   "metadata": {},
   "outputs": [
    {
     "data": {
      "text/html": [
       "<div>\n",
       "<style>\n",
       "    .dataframe thead tr:only-child th {\n",
       "        text-align: right;\n",
       "    }\n",
       "\n",
       "    .dataframe thead th {\n",
       "        text-align: left;\n",
       "    }\n",
       "\n",
       "    .dataframe tbody tr th {\n",
       "        vertical-align: top;\n",
       "    }\n",
       "</style>\n",
       "<table border=\"1\" class=\"dataframe\">\n",
       "  <thead>\n",
       "    <tr style=\"text-align: right;\">\n",
       "      <th></th>\n",
       "      <th>User_ID</th>\n",
       "      <th>Product_ID</th>\n",
       "      <th>Gender</th>\n",
       "      <th>Age</th>\n",
       "      <th>Occupation</th>\n",
       "      <th>City_Category</th>\n",
       "      <th>Stay_In_Current_City_Years</th>\n",
       "      <th>Marital_Status</th>\n",
       "      <th>Product_Category_1</th>\n",
       "      <th>Product_Category_2</th>\n",
       "      <th>...</th>\n",
       "      <th>14_Occupation</th>\n",
       "      <th>15_Occupation</th>\n",
       "      <th>16_Occupation</th>\n",
       "      <th>17_Occupation</th>\n",
       "      <th>18_Occupation</th>\n",
       "      <th>19_Occupation</th>\n",
       "      <th>20_Occupation</th>\n",
       "      <th>A</th>\n",
       "      <th>B</th>\n",
       "      <th>C</th>\n",
       "    </tr>\n",
       "  </thead>\n",
       "  <tbody>\n",
       "    <tr>\n",
       "      <th>0</th>\n",
       "      <td>1000001</td>\n",
       "      <td>P00069042</td>\n",
       "      <td>F</td>\n",
       "      <td>0-17</td>\n",
       "      <td>10</td>\n",
       "      <td>A</td>\n",
       "      <td>2</td>\n",
       "      <td>0</td>\n",
       "      <td>3</td>\n",
       "      <td>0.0</td>\n",
       "      <td>...</td>\n",
       "      <td>0.0</td>\n",
       "      <td>0.0</td>\n",
       "      <td>0.0</td>\n",
       "      <td>0.0</td>\n",
       "      <td>0.0</td>\n",
       "      <td>0.0</td>\n",
       "      <td>0.0</td>\n",
       "      <td>1.0</td>\n",
       "      <td>0.0</td>\n",
       "      <td>0.0</td>\n",
       "    </tr>\n",
       "    <tr>\n",
       "      <th>1</th>\n",
       "      <td>1000001</td>\n",
       "      <td>P00248942</td>\n",
       "      <td>F</td>\n",
       "      <td>0-17</td>\n",
       "      <td>10</td>\n",
       "      <td>A</td>\n",
       "      <td>2</td>\n",
       "      <td>0</td>\n",
       "      <td>1</td>\n",
       "      <td>6.0</td>\n",
       "      <td>...</td>\n",
       "      <td>0.0</td>\n",
       "      <td>0.0</td>\n",
       "      <td>0.0</td>\n",
       "      <td>0.0</td>\n",
       "      <td>0.0</td>\n",
       "      <td>0.0</td>\n",
       "      <td>0.0</td>\n",
       "      <td>1.0</td>\n",
       "      <td>0.0</td>\n",
       "      <td>0.0</td>\n",
       "    </tr>\n",
       "    <tr>\n",
       "      <th>2</th>\n",
       "      <td>1000001</td>\n",
       "      <td>P00087842</td>\n",
       "      <td>F</td>\n",
       "      <td>0-17</td>\n",
       "      <td>10</td>\n",
       "      <td>A</td>\n",
       "      <td>2</td>\n",
       "      <td>0</td>\n",
       "      <td>12</td>\n",
       "      <td>0.0</td>\n",
       "      <td>...</td>\n",
       "      <td>0.0</td>\n",
       "      <td>0.0</td>\n",
       "      <td>0.0</td>\n",
       "      <td>0.0</td>\n",
       "      <td>0.0</td>\n",
       "      <td>0.0</td>\n",
       "      <td>0.0</td>\n",
       "      <td>1.0</td>\n",
       "      <td>0.0</td>\n",
       "      <td>0.0</td>\n",
       "    </tr>\n",
       "    <tr>\n",
       "      <th>3</th>\n",
       "      <td>1000001</td>\n",
       "      <td>P00085442</td>\n",
       "      <td>F</td>\n",
       "      <td>0-17</td>\n",
       "      <td>10</td>\n",
       "      <td>A</td>\n",
       "      <td>2</td>\n",
       "      <td>0</td>\n",
       "      <td>12</td>\n",
       "      <td>14.0</td>\n",
       "      <td>...</td>\n",
       "      <td>0.0</td>\n",
       "      <td>0.0</td>\n",
       "      <td>0.0</td>\n",
       "      <td>0.0</td>\n",
       "      <td>0.0</td>\n",
       "      <td>0.0</td>\n",
       "      <td>0.0</td>\n",
       "      <td>1.0</td>\n",
       "      <td>0.0</td>\n",
       "      <td>0.0</td>\n",
       "    </tr>\n",
       "    <tr>\n",
       "      <th>4</th>\n",
       "      <td>1000002</td>\n",
       "      <td>P00285442</td>\n",
       "      <td>M</td>\n",
       "      <td>55+</td>\n",
       "      <td>16</td>\n",
       "      <td>C</td>\n",
       "      <td>4+</td>\n",
       "      <td>0</td>\n",
       "      <td>8</td>\n",
       "      <td>0.0</td>\n",
       "      <td>...</td>\n",
       "      <td>0.0</td>\n",
       "      <td>0.0</td>\n",
       "      <td>1.0</td>\n",
       "      <td>0.0</td>\n",
       "      <td>0.0</td>\n",
       "      <td>0.0</td>\n",
       "      <td>0.0</td>\n",
       "      <td>0.0</td>\n",
       "      <td>0.0</td>\n",
       "      <td>1.0</td>\n",
       "    </tr>\n",
       "  </tbody>\n",
       "</table>\n",
       "<p>5 rows × 45 columns</p>\n",
       "</div>"
      ],
      "text/plain": [
       "   User_ID Product_ID Gender   Age  Occupation City_Category  \\\n",
       "0  1000001  P00069042      F  0-17          10             A   \n",
       "1  1000001  P00248942      F  0-17          10             A   \n",
       "2  1000001  P00087842      F  0-17          10             A   \n",
       "3  1000001  P00085442      F  0-17          10             A   \n",
       "4  1000002  P00285442      M   55+          16             C   \n",
       "\n",
       "  Stay_In_Current_City_Years  Marital_Status  Product_Category_1  \\\n",
       "0                          2               0                   3   \n",
       "1                          2               0                   1   \n",
       "2                          2               0                  12   \n",
       "3                          2               0                  12   \n",
       "4                         4+               0                   8   \n",
       "\n",
       "   Product_Category_2 ...   14_Occupation  15_Occupation  16_Occupation  \\\n",
       "0                 0.0 ...             0.0            0.0            0.0   \n",
       "1                 6.0 ...             0.0            0.0            0.0   \n",
       "2                 0.0 ...             0.0            0.0            0.0   \n",
       "3                14.0 ...             0.0            0.0            0.0   \n",
       "4                 0.0 ...             0.0            0.0            1.0   \n",
       "\n",
       "   17_Occupation  18_Occupation  19_Occupation  20_Occupation    A    B    C  \n",
       "0            0.0            0.0            0.0            0.0  1.0  0.0  0.0  \n",
       "1            0.0            0.0            0.0            0.0  1.0  0.0  0.0  \n",
       "2            0.0            0.0            0.0            0.0  1.0  0.0  0.0  \n",
       "3            0.0            0.0            0.0            0.0  1.0  0.0  0.0  \n",
       "4            0.0            0.0            0.0            0.0  0.0  0.0  1.0  \n",
       "\n",
       "[5 rows x 45 columns]"
      ]
     },
     "execution_count": 32,
     "metadata": {},
     "output_type": "execute_result"
    }
   ],
   "source": [
    "df2.head()"
   ]
  },
  {
   "cell_type": "code",
   "execution_count": 33,
   "metadata": {},
   "outputs": [
    {
     "name": "stdout",
     "output_type": "stream",
     "text": [
      "<class 'pandas.core.frame.DataFrame'>\n",
      "RangeIndex: 65499 entries, 0 to 65498\n",
      "Data columns (total 45 columns):\n",
      "User_ID                       65499 non-null int64\n",
      "Product_ID                    65499 non-null object\n",
      "Gender                        65499 non-null object\n",
      "Age                           65499 non-null object\n",
      "Occupation                    65499 non-null int64\n",
      "City_Category                 65499 non-null object\n",
      "Stay_In_Current_City_Years    65499 non-null object\n",
      "Marital_Status                65499 non-null int64\n",
      "Product_Category_1            65499 non-null int64\n",
      "Product_Category_2            65499 non-null float64\n",
      "Product_Category_3            65499 non-null float64\n",
      "Purchase                      65499 non-null int64\n",
      "F                             65499 non-null float64\n",
      "M                             65499 non-null float64\n",
      "0-17                          65499 non-null float64\n",
      "18-25                         65499 non-null float64\n",
      "26-35                         65499 non-null float64\n",
      "36-45                         65499 non-null float64\n",
      "46-50                         65499 non-null float64\n",
      "51-55                         65499 non-null float64\n",
      "55+                           65499 non-null float64\n",
      "0_Occupation                  65499 non-null float64\n",
      "1_Occupation                  65499 non-null float64\n",
      "2_Occupation                  65499 non-null float64\n",
      "3_Occupation                  65499 non-null float64\n",
      "4_Occupation                  65499 non-null float64\n",
      "5_Occupation                  65499 non-null float64\n",
      "6_Occupation                  65499 non-null float64\n",
      "7_Occupation                  65499 non-null float64\n",
      "8_Occupation                  65499 non-null float64\n",
      "9_Occupation                  65499 non-null float64\n",
      "10_Occupation                 65499 non-null float64\n",
      "11_Occupation                 65499 non-null float64\n",
      "12_Occupation                 65499 non-null float64\n",
      "13_Occupation                 65499 non-null float64\n",
      "14_Occupation                 65499 non-null float64\n",
      "15_Occupation                 65499 non-null float64\n",
      "16_Occupation                 65499 non-null float64\n",
      "17_Occupation                 65499 non-null float64\n",
      "18_Occupation                 65499 non-null float64\n",
      "19_Occupation                 65499 non-null float64\n",
      "20_Occupation                 65499 non-null float64\n",
      "A                             65499 non-null float64\n",
      "B                             65499 non-null float64\n",
      "C                             65499 non-null float64\n",
      "dtypes: float64(35), int64(5), object(5)\n",
      "memory usage: 22.5+ MB\n",
      "None\n"
     ]
    }
   ],
   "source": [
    "print(df2.info())"
   ]
  },
  {
   "cell_type": "markdown",
   "metadata": {},
   "source": [
    "# Hot One Encoding Product Category Data"
   ]
  },
  {
   "cell_type": "code",
   "execution_count": 34,
   "metadata": {
    "collapsed": true
   },
   "outputs": [],
   "source": [
    "# Pseudo code:\n",
    "# Create three empty 20 x 49125 array\n",
    "# Loop over product_cat_x \n",
    "# Turns corresponding array value to True \n",
    "# Adds three arrays together "
   ]
  },
  {
   "cell_type": "code",
   "execution_count": 35,
   "metadata": {
    "collapsed": true
   },
   "outputs": [],
   "source": [
    "df2.Product_Category_1 = df2.Product_Category_1.astype(int)\n",
    "#print(trainDf.Product_Category_1)\n",
    "df2.Product_Category_2 = df2.Product_Category_2.astype(int)\n",
    "#print(trainDf.Product_Category_2)\n",
    "df2.Product_Category_3 = df2.Product_Category_3.astype(int)\n",
    "#print(trainDf.Product_Category_3)"
   ]
  },
  {
   "cell_type": "code",
   "execution_count": 36,
   "metadata": {},
   "outputs": [
    {
     "name": "stdout",
     "output_type": "stream",
     "text": [
      "[array([[ 0.,  0.,  0., ...,  0.,  0.,  0.],\n",
      "       [ 0.,  0.,  0., ...,  0.,  0.,  0.],\n",
      "       [ 0.,  0.,  0., ...,  0.,  0.,  0.],\n",
      "       ..., \n",
      "       [ 0.,  0.,  0., ...,  0.,  0.,  0.],\n",
      "       [ 0.,  0.,  0., ...,  0.,  0.,  0.],\n",
      "       [ 0.,  0.,  0., ...,  0.,  0.,  0.]]), array([[ 0.,  0.,  0., ...,  0.,  0.,  0.],\n",
      "       [ 0.,  0.,  0., ...,  0.,  0.,  0.],\n",
      "       [ 0.,  0.,  0., ...,  0.,  0.,  0.],\n",
      "       ..., \n",
      "       [ 0.,  0.,  0., ...,  0.,  0.,  0.],\n",
      "       [ 0.,  0.,  0., ...,  0.,  0.,  0.],\n",
      "       [ 0.,  0.,  0., ...,  0.,  0.,  0.]]), array([[ 0.,  0.,  0., ...,  0.,  0.,  0.],\n",
      "       [ 0.,  0.,  0., ...,  0.,  0.,  0.],\n",
      "       [ 0.,  0.,  0., ...,  0.,  0.,  0.],\n",
      "       ..., \n",
      "       [ 0.,  0.,  0., ...,  0.,  0.,  0.],\n",
      "       [ 0.,  0.,  0., ...,  0.,  0.,  0.],\n",
      "       [ 0.,  0.,  0., ...,  0.,  0.,  0.]])]\n"
     ]
    }
   ],
   "source": [
    "# Creates three empty arrays with equivalent rows as the data frame and \n",
    "# Eighteen columns to represent each category of product \n",
    "x = []\n",
    "Product_Category_List = ['Product_Category_1', 'Product_Category_2', 'Product_Category_3']\n",
    "for i in range(3):\n",
    "    temp = np.zeros((65499, 18))\n",
    "    x.append(temp)\n",
    "\n",
    "print(x)"
   ]
  },
  {
   "cell_type": "code",
   "execution_count": 37,
   "metadata": {},
   "outputs": [
    {
     "name": "stdout",
     "output_type": "stream",
     "text": [
      "Product_Category_1\n",
      "Product_Category_2\n",
      "Product_Category_3\n"
     ]
    }
   ],
   "source": [
    "# Iterates over each entry in the product category column x and \n",
    "# Sets the corresponding entry in the empty array to a 1\n",
    "y = []\n",
    "\n",
    "for product_cat, array in zip(Product_Category_List, x):\n",
    "    print(product_cat)\n",
    "    for index, entry in enumerate(df2[product_cat][:]):\n",
    "        #print(str(index) + \": \" + str(entry))\n",
    "        if entry == 0:\n",
    "            continue\n",
    "            \n",
    "        else:\n",
    "            array[index, (entry-1)] = 1 \n",
    "            #print(entry, product_cat)\n",
    "            \n",
    "    y.append(array)"
   ]
  },
  {
   "cell_type": "code",
   "execution_count": 38,
   "metadata": {},
   "outputs": [
    {
     "name": "stdout",
     "output_type": "stream",
     "text": [
      "[[ 0.  0.  0.  0.  0.  0.  0.  0.  0.  0.  0.  0.  0.  0.  0.  0.  0.  0.]\n",
      " [ 0.  0.  0.  0.  0.  1.  0.  0.  0.  0.  0.  0.  0.  0.  0.  0.  0.  0.]\n",
      " [ 0.  0.  0.  0.  0.  0.  0.  0.  0.  0.  0.  0.  0.  0.  0.  0.  0.  0.]\n",
      " [ 0.  0.  0.  0.  0.  0.  0.  0.  0.  0.  0.  0.  0.  1.  0.  0.  0.  0.]\n",
      " [ 0.  0.  0.  0.  0.  0.  0.  0.  0.  0.  0.  0.  0.  0.  0.  0.  0.  0.]]\n"
     ]
    }
   ],
   "source": [
    "# Testing values got updated correctly\n",
    "print(y[1][0:5,:])"
   ]
  },
  {
   "cell_type": "code",
   "execution_count": 39,
   "metadata": {},
   "outputs": [
    {
     "name": "stdout",
     "output_type": "stream",
     "text": [
      "{0: '1_Product_Category', 1: '2_Product_Category', 2: '3_Product_Category', 3: '4_Product_Category', 4: '5_Product_Category', 5: '6_Product_Category', 6: '7_Product_Category', 7: '8_Product_Category', 8: '9_Product_Category', 9: '10_Product_Category', 10: '11_Product_Category', 11: '12_Product_Category', 12: '13_Product_Category', 13: '14_Product_Category', 14: '15_Product_Category', 15: '16_Product_Category', 16: '17_Product_Category', 17: '18_Product_Category'}\n"
     ]
    }
   ],
   "source": [
    "# Sums three arrays together to create a single array containing all product category data hot one encoded \n",
    "# Converts array to dataframe \n",
    "z = sum(y)\n",
    "z = pd.DataFrame(z)\n",
    "\n",
    "# Generates map of new names for occupation data based on old names\n",
    "newNamesZ = []\n",
    "for i in range(1, 19):\n",
    "    temp = str(i) + '_Product_Category'\n",
    "    newNamesZ.append(temp)\n",
    "   \n",
    "oldNamesZ = range(19)\n",
    "dictionary = dict(zip(oldNamesZ, newNamesZ))\n",
    "\n",
    "print(dictionary)"
   ]
  },
  {
   "cell_type": "code",
   "execution_count": 40,
   "metadata": {},
   "outputs": [
    {
     "name": "stdout",
     "output_type": "stream",
     "text": [
      "       1_Product_Category  2_Product_Category  3_Product_Category  \\\n",
      "0                     0.0                 0.0                 1.0   \n",
      "1                     1.0                 0.0                 0.0   \n",
      "2                     0.0                 0.0                 0.0   \n",
      "3                     0.0                 0.0                 0.0   \n",
      "4                     0.0                 0.0                 0.0   \n",
      "5                     1.0                 1.0                 0.0   \n",
      "6                     1.0                 0.0                 0.0   \n",
      "7                     1.0                 0.0                 0.0   \n",
      "8                     1.0                 0.0                 0.0   \n",
      "9                     0.0                 0.0                 0.0   \n",
      "10                    0.0                 0.0                 0.0   \n",
      "11                    0.0                 0.0                 0.0   \n",
      "12                    0.0                 0.0                 0.0   \n",
      "13                    1.0                 1.0                 0.0   \n",
      "14                    0.0                 0.0                 0.0   \n",
      "15                    0.0                 0.0                 0.0   \n",
      "16                    0.0                 1.0                 1.0   \n",
      "17                    0.0                 0.0                 0.0   \n",
      "18                    1.0                 0.0                 0.0   \n",
      "19                    1.0                 0.0                 0.0   \n",
      "20                    0.0                 0.0                 0.0   \n",
      "21                    0.0                 0.0                 0.0   \n",
      "22                    0.0                 0.0                 0.0   \n",
      "23                    0.0                 0.0                 0.0   \n",
      "24                    1.0                 0.0                 0.0   \n",
      "25                    0.0                 0.0                 0.0   \n",
      "26                    0.0                 0.0                 0.0   \n",
      "27                    0.0                 0.0                 0.0   \n",
      "28                    0.0                 0.0                 0.0   \n",
      "29                    0.0                 1.0                 0.0   \n",
      "...                   ...                 ...                 ...   \n",
      "65469                 0.0                 0.0                 0.0   \n",
      "65470                 0.0                 0.0                 0.0   \n",
      "65471                 0.0                 0.0                 0.0   \n",
      "65472                 0.0                 0.0                 0.0   \n",
      "65473                 1.0                 1.0                 0.0   \n",
      "65474                 1.0                 0.0                 0.0   \n",
      "65475                 1.0                 0.0                 0.0   \n",
      "65476                 1.0                 0.0                 0.0   \n",
      "65477                 1.0                 1.0                 0.0   \n",
      "65478                 1.0                 0.0                 0.0   \n",
      "65479                 1.0                 1.0                 0.0   \n",
      "65480                 1.0                 1.0                 0.0   \n",
      "65481                 0.0                 0.0                 0.0   \n",
      "65482                 0.0                 0.0                 0.0   \n",
      "65483                 0.0                 0.0                 0.0   \n",
      "65484                 0.0                 0.0                 0.0   \n",
      "65485                 1.0                 0.0                 0.0   \n",
      "65486                 1.0                 0.0                 0.0   \n",
      "65487                 0.0                 1.0                 0.0   \n",
      "65488                 0.0                 0.0                 0.0   \n",
      "65489                 0.0                 0.0                 0.0   \n",
      "65490                 0.0                 0.0                 0.0   \n",
      "65491                 0.0                 0.0                 0.0   \n",
      "65492                 0.0                 0.0                 0.0   \n",
      "65493                 1.0                 0.0                 0.0   \n",
      "65494                 0.0                 0.0                 0.0   \n",
      "65495                 0.0                 0.0                 0.0   \n",
      "65496                 0.0                 0.0                 0.0   \n",
      "65497                 0.0                 0.0                 0.0   \n",
      "65498                 0.0                 0.0                 0.0   \n",
      "\n",
      "       4_Product_Category  5_Product_Category  6_Product_Category  \\\n",
      "0                     0.0                 0.0                 0.0   \n",
      "1                     0.0                 0.0                 1.0   \n",
      "2                     0.0                 0.0                 0.0   \n",
      "3                     0.0                 0.0                 0.0   \n",
      "4                     0.0                 0.0                 0.0   \n",
      "5                     0.0                 0.0                 0.0   \n",
      "6                     0.0                 0.0                 0.0   \n",
      "7                     0.0                 0.0                 0.0   \n",
      "8                     0.0                 0.0                 0.0   \n",
      "9                     0.0                 0.0                 0.0   \n",
      "10                    0.0                 1.0                 0.0   \n",
      "11                    0.0                 0.0                 0.0   \n",
      "12                    0.0                 0.0                 0.0   \n",
      "13                    0.0                 1.0                 0.0   \n",
      "14                    0.0                 1.0                 0.0   \n",
      "15                    1.0                 1.0                 0.0   \n",
      "16                    1.0                 0.0                 0.0   \n",
      "17                    0.0                 1.0                 0.0   \n",
      "18                    0.0                 0.0                 0.0   \n",
      "19                    0.0                 1.0                 0.0   \n",
      "20                    0.0                 1.0                 0.0   \n",
      "21                    0.0                 0.0                 0.0   \n",
      "22                    0.0                 0.0                 0.0   \n",
      "23                    0.0                 0.0                 0.0   \n",
      "24                    0.0                 0.0                 0.0   \n",
      "25                    0.0                 0.0                 1.0   \n",
      "26                    0.0                 0.0                 0.0   \n",
      "27                    0.0                 1.0                 0.0   \n",
      "28                    0.0                 1.0                 0.0   \n",
      "29                    1.0                 0.0                 0.0   \n",
      "...                   ...                 ...                 ...   \n",
      "65469                 0.0                 1.0                 0.0   \n",
      "65470                 0.0                 1.0                 0.0   \n",
      "65471                 0.0                 1.0                 0.0   \n",
      "65472                 0.0                 0.0                 0.0   \n",
      "65473                 0.0                 1.0                 0.0   \n",
      "65474                 0.0                 0.0                 0.0   \n",
      "65475                 0.0                 0.0                 0.0   \n",
      "65476                 0.0                 0.0                 0.0   \n",
      "65477                 0.0                 0.0                 0.0   \n",
      "65478                 0.0                 0.0                 0.0   \n",
      "65479                 0.0                 0.0                 0.0   \n",
      "65480                 0.0                 0.0                 1.0   \n",
      "65481                 0.0                 1.0                 0.0   \n",
      "65482                 0.0                 1.0                 0.0   \n",
      "65483                 0.0                 1.0                 0.0   \n",
      "65484                 0.0                 1.0                 0.0   \n",
      "65485                 0.0                 0.0                 1.0   \n",
      "65486                 0.0                 0.0                 0.0   \n",
      "65487                 1.0                 1.0                 0.0   \n",
      "65488                 0.0                 1.0                 0.0   \n",
      "65489                 0.0                 1.0                 0.0   \n",
      "65490                 0.0                 1.0                 0.0   \n",
      "65491                 0.0                 1.0                 0.0   \n",
      "65492                 0.0                 1.0                 0.0   \n",
      "65493                 0.0                 1.0                 0.0   \n",
      "65494                 0.0                 1.0                 0.0   \n",
      "65495                 0.0                 1.0                 0.0   \n",
      "65496                 0.0                 1.0                 0.0   \n",
      "65497                 0.0                 1.0                 0.0   \n",
      "65498                 0.0                 1.0                 0.0   \n",
      "\n",
      "       7_Product_Category  8_Product_Category  9_Product_Category  \\\n",
      "0                     0.0                 0.0                 0.0   \n",
      "1                     0.0                 0.0                 0.0   \n",
      "2                     0.0                 0.0                 0.0   \n",
      "3                     0.0                 0.0                 0.0   \n",
      "4                     0.0                 1.0                 0.0   \n",
      "5                     0.0                 0.0                 0.0   \n",
      "6                     0.0                 1.0                 0.0   \n",
      "7                     0.0                 0.0                 0.0   \n",
      "8                     0.0                 0.0                 0.0   \n",
      "9                     0.0                 1.0                 0.0   \n",
      "10                    0.0                 0.0                 0.0   \n",
      "11                    0.0                 1.0                 0.0   \n",
      "12                    0.0                 1.0                 0.0   \n",
      "13                    0.0                 0.0                 0.0   \n",
      "14                    0.0                 1.0                 0.0   \n",
      "15                    0.0                 0.0                 0.0   \n",
      "16                    0.0                 0.0                 0.0   \n",
      "17                    0.0                 0.0                 0.0   \n",
      "18                    0.0                 0.0                 0.0   \n",
      "19                    0.0                 0.0                 0.0   \n",
      "20                    0.0                 0.0                 0.0   \n",
      "21                    0.0                 1.0                 0.0   \n",
      "22                    0.0                 1.0                 0.0   \n",
      "23                    0.0                 1.0                 0.0   \n",
      "24                    0.0                 1.0                 0.0   \n",
      "25                    0.0                 1.0                 0.0   \n",
      "26                    0.0                 1.0                 0.0   \n",
      "27                    0.0                 0.0                 0.0   \n",
      "28                    0.0                 1.0                 0.0   \n",
      "29                    0.0                 1.0                 0.0   \n",
      "...                   ...                 ...                 ...   \n",
      "65469                 0.0                 0.0                 0.0   \n",
      "65470                 0.0                 0.0                 0.0   \n",
      "65471                 0.0                 0.0                 1.0   \n",
      "65472                 0.0                 1.0                 0.0   \n",
      "65473                 0.0                 0.0                 0.0   \n",
      "65474                 0.0                 0.0                 0.0   \n",
      "65475                 0.0                 0.0                 0.0   \n",
      "65476                 0.0                 0.0                 0.0   \n",
      "65477                 0.0                 0.0                 0.0   \n",
      "65478                 0.0                 0.0                 0.0   \n",
      "65479                 0.0                 0.0                 1.0   \n",
      "65480                 0.0                 0.0                 0.0   \n",
      "65481                 0.0                 0.0                 0.0   \n",
      "65482                 0.0                 1.0                 0.0   \n",
      "65483                 0.0                 0.0                 0.0   \n",
      "65484                 0.0                 1.0                 0.0   \n",
      "65485                 0.0                 0.0                 0.0   \n",
      "65486                 0.0                 0.0                 0.0   \n",
      "65487                 0.0                 0.0                 0.0   \n",
      "65488                 0.0                 0.0                 0.0   \n",
      "65489                 0.0                 0.0                 0.0   \n",
      "65490                 0.0                 0.0                 0.0   \n",
      "65491                 0.0                 0.0                 0.0   \n",
      "65492                 0.0                 0.0                 0.0   \n",
      "65493                 0.0                 0.0                 0.0   \n",
      "65494                 0.0                 0.0                 0.0   \n",
      "65495                 0.0                 0.0                 0.0   \n",
      "65496                 0.0                 0.0                 0.0   \n",
      "65497                 0.0                 0.0                 0.0   \n",
      "65498                 0.0                 0.0                 0.0   \n",
      "\n",
      "       10_Product_Category  11_Product_Category  12_Product_Category  \\\n",
      "0                      0.0                  0.0                  0.0   \n",
      "1                      0.0                  0.0                  0.0   \n",
      "2                      0.0                  0.0                  1.0   \n",
      "3                      0.0                  0.0                  1.0   \n",
      "4                      0.0                  0.0                  0.0   \n",
      "5                      0.0                  0.0                  0.0   \n",
      "6                      0.0                  0.0                  0.0   \n",
      "7                      0.0                  0.0                  0.0   \n",
      "8                      0.0                  0.0                  0.0   \n",
      "9                      0.0                  0.0                  0.0   \n",
      "10                     0.0                  1.0                  0.0   \n",
      "11                     0.0                  0.0                  0.0   \n",
      "12                     0.0                  0.0                  0.0   \n",
      "13                     0.0                  0.0                  0.0   \n",
      "14                     0.0                  0.0                  0.0   \n",
      "15                     0.0                  0.0                  0.0   \n",
      "16                     0.0                  0.0                  0.0   \n",
      "17                     0.0                  0.0                  0.0   \n",
      "18                     0.0                  0.0                  0.0   \n",
      "19                     0.0                  0.0                  0.0   \n",
      "20                     0.0                  0.0                  0.0   \n",
      "21                     0.0                  0.0                  0.0   \n",
      "22                     0.0                  0.0                  0.0   \n",
      "23                     0.0                  0.0                  0.0   \n",
      "24                     0.0                  0.0                  0.0   \n",
      "25                     0.0                  0.0                  0.0   \n",
      "26                     0.0                  0.0                  0.0   \n",
      "27                     0.0                  0.0                  0.0   \n",
      "28                     0.0                  0.0                  0.0   \n",
      "29                     0.0                  0.0                  0.0   \n",
      "...                    ...                  ...                  ...   \n",
      "65469                  0.0                  0.0                  0.0   \n",
      "65470                  0.0                  0.0                  0.0   \n",
      "65471                  0.0                  0.0                  0.0   \n",
      "65472                  0.0                  0.0                  0.0   \n",
      "65473                  0.0                  0.0                  0.0   \n",
      "65474                  0.0                  0.0                  0.0   \n",
      "65475                  0.0                  0.0                  0.0   \n",
      "65476                  0.0                  0.0                  0.0   \n",
      "65477                  0.0                  0.0                  0.0   \n",
      "65478                  0.0                  0.0                  0.0   \n",
      "65479                  0.0                  0.0                  0.0   \n",
      "65480                  0.0                  0.0                  0.0   \n",
      "65481                  0.0                  0.0                  0.0   \n",
      "65482                  0.0                  0.0                  0.0   \n",
      "65483                  0.0                  0.0                  0.0   \n",
      "65484                  0.0                  0.0                  0.0   \n",
      "65485                  0.0                  0.0                  0.0   \n",
      "65486                  0.0                  0.0                  0.0   \n",
      "65487                  0.0                  0.0                  0.0   \n",
      "65488                  0.0                  0.0                  0.0   \n",
      "65489                  0.0                  0.0                  0.0   \n",
      "65490                  0.0                  0.0                  0.0   \n",
      "65491                  0.0                  0.0                  0.0   \n",
      "65492                  0.0                  0.0                  0.0   \n",
      "65493                  0.0                  0.0                  0.0   \n",
      "65494                  0.0                  0.0                  1.0   \n",
      "65495                  0.0                  0.0                  0.0   \n",
      "65496                  0.0                  0.0                  0.0   \n",
      "65497                  0.0                  0.0                  0.0   \n",
      "65498                  0.0                  0.0                  0.0   \n",
      "\n",
      "       13_Product_Category  14_Product_Category  15_Product_Category  \\\n",
      "0                      0.0                  0.0                  0.0   \n",
      "1                      0.0                  1.0                  0.0   \n",
      "2                      0.0                  0.0                  0.0   \n",
      "3                      0.0                  1.0                  0.0   \n",
      "4                      0.0                  0.0                  0.0   \n",
      "5                      0.0                  0.0                  0.0   \n",
      "6                      0.0                  0.0                  0.0   \n",
      "7                      0.0                  0.0                  1.0   \n",
      "8                      0.0                  0.0                  0.0   \n",
      "9                      0.0                  0.0                  0.0   \n",
      "10                     0.0                  0.0                  0.0   \n",
      "11                     0.0                  0.0                  0.0   \n",
      "12                     0.0                  0.0                  0.0   \n",
      "13                     0.0                  0.0                  0.0   \n",
      "14                     0.0                  1.0                  0.0   \n",
      "15                     0.0                  0.0                  0.0   \n",
      "16                     0.0                  0.0                  0.0   \n",
      "17                     0.0                  1.0                  0.0   \n",
      "18                     0.0                  1.0                  0.0   \n",
      "19                     0.0                  0.0                  1.0   \n",
      "20                     0.0                  1.0                  0.0   \n",
      "21                     0.0                  0.0                  0.0   \n",
      "22                     0.0                  0.0                  0.0   \n",
      "23                     0.0                  0.0                  0.0   \n",
      "24                     0.0                  1.0                  0.0   \n",
      "25                     0.0                  0.0                  0.0   \n",
      "26                     0.0                  0.0                  0.0   \n",
      "27                     0.0                  1.0                  0.0   \n",
      "28                     0.0                  1.0                  0.0   \n",
      "29                     0.0                  0.0                  0.0   \n",
      "...                    ...                  ...                  ...   \n",
      "65469                  0.0                  0.0                  0.0   \n",
      "65470                  0.0                  0.0                  0.0   \n",
      "65471                  0.0                  0.0                  0.0   \n",
      "65472                  0.0                  0.0                  0.0   \n",
      "65473                  0.0                  0.0                  0.0   \n",
      "65474                  0.0                  0.0                  1.0   \n",
      "65475                  0.0                  0.0                  1.0   \n",
      "65476                  0.0                  0.0                  1.0   \n",
      "65477                  0.0                  0.0                  1.0   \n",
      "65478                  0.0                  0.0                  1.0   \n",
      "65479                  0.0                  0.0                  0.0   \n",
      "65480                  0.0                  0.0                  0.0   \n",
      "65481                  0.0                  0.0                  0.0   \n",
      "65482                  0.0                  0.0                  0.0   \n",
      "65483                  0.0                  0.0                  0.0   \n",
      "65484                  0.0                  0.0                  0.0   \n",
      "65485                  0.0                  1.0                  0.0   \n",
      "65486                  0.0                  0.0                  0.0   \n",
      "65487                  0.0                  0.0                  0.0   \n",
      "65488                  0.0                  0.0                  0.0   \n",
      "65489                  0.0                  0.0                  0.0   \n",
      "65490                  0.0                  0.0                  0.0   \n",
      "65491                  0.0                  0.0                  0.0   \n",
      "65492                  0.0                  0.0                  0.0   \n",
      "65493                  0.0                  0.0                  0.0   \n",
      "65494                  0.0                  1.0                  0.0   \n",
      "65495                  0.0                  0.0                  0.0   \n",
      "65496                  0.0                  0.0                  0.0   \n",
      "65497                  0.0                  0.0                  0.0   \n",
      "65498                  0.0                  0.0                  0.0   \n",
      "\n",
      "       16_Product_Category  17_Product_Category  18_Product_Category  \n",
      "0                      0.0                  0.0                  0.0  \n",
      "1                      0.0                  0.0                  0.0  \n",
      "2                      0.0                  0.0                  0.0  \n",
      "3                      0.0                  0.0                  0.0  \n",
      "4                      0.0                  0.0                  0.0  \n",
      "5                      0.0                  0.0                  0.0  \n",
      "6                      0.0                  1.0                  0.0  \n",
      "7                      0.0                  0.0                  0.0  \n",
      "8                      1.0                  0.0                  0.0  \n",
      "9                      0.0                  0.0                  0.0  \n",
      "10                     0.0                  0.0                  0.0  \n",
      "11                     0.0                  0.0                  0.0  \n",
      "12                     0.0                  0.0                  0.0  \n",
      "13                     0.0                  0.0                  0.0  \n",
      "14                     0.0                  0.0                  0.0  \n",
      "15                     0.0                  0.0                  0.0  \n",
      "16                     0.0                  0.0                  0.0  \n",
      "17                     0.0                  0.0                  0.0  \n",
      "18                     1.0                  0.0                  0.0  \n",
      "19                     0.0                  0.0                  0.0  \n",
      "20                     0.0                  0.0                  0.0  \n",
      "21                     0.0                  0.0                  0.0  \n",
      "22                     0.0                  0.0                  0.0  \n",
      "23                     0.0                  0.0                  0.0  \n",
      "24                     0.0                  0.0                  0.0  \n",
      "25                     0.0                  0.0                  0.0  \n",
      "26                     0.0                  0.0                  0.0  \n",
      "27                     0.0                  0.0                  0.0  \n",
      "28                     0.0                  0.0                  0.0  \n",
      "29                     0.0                  0.0                  0.0  \n",
      "...                    ...                  ...                  ...  \n",
      "65469                  0.0                  0.0                  0.0  \n",
      "65470                  0.0                  0.0                  0.0  \n",
      "65471                  0.0                  0.0                  0.0  \n",
      "65472                  0.0                  0.0                  0.0  \n",
      "65473                  0.0                  0.0                  0.0  \n",
      "65474                  0.0                  0.0                  0.0  \n",
      "65475                  0.0                  0.0                  0.0  \n",
      "65476                  1.0                  0.0                  0.0  \n",
      "65477                  0.0                  0.0                  0.0  \n",
      "65478                  0.0                  0.0                  0.0  \n",
      "65479                  0.0                  0.0                  0.0  \n",
      "65480                  0.0                  0.0                  0.0  \n",
      "65481                  0.0                  0.0                  0.0  \n",
      "65482                  0.0                  0.0                  0.0  \n",
      "65483                  0.0                  0.0                  0.0  \n",
      "65484                  0.0                  1.0                  0.0  \n",
      "65485                  0.0                  0.0                  0.0  \n",
      "65486                  1.0                  0.0                  0.0  \n",
      "65487                  0.0                  0.0                  0.0  \n",
      "65488                  0.0                  0.0                  0.0  \n",
      "65489                  0.0                  0.0                  0.0  \n",
      "65490                  0.0                  0.0                  0.0  \n",
      "65491                  0.0                  0.0                  0.0  \n",
      "65492                  0.0                  0.0                  0.0  \n",
      "65493                  0.0                  0.0                  0.0  \n",
      "65494                  0.0                  0.0                  0.0  \n",
      "65495                  0.0                  0.0                  0.0  \n",
      "65496                  0.0                  0.0                  0.0  \n",
      "65497                  0.0                  0.0                  0.0  \n",
      "65498                  0.0                  0.0                  0.0  \n",
      "\n",
      "[65499 rows x 18 columns]\n"
     ]
    }
   ],
   "source": [
    "z = z.rename(columns={0: '1_Product_Category', 1: '2_Product_Category', 2: '3_Product_Category', 3: '4_Product_Category', 4: '5_Product_Category', 5: '6_Product_Category', 6: '7_Product_Category', 7: '8_Product_Category', 8: '9_Product_Category', 9: '10_Product_Category', 10: '11_Product_Category', 11: '12_Product_Category', 12: '13_Product_Category', 13: '14_Product_Category', 14: '15_Product_Category', 15: '16_Product_Category', 16: '17_Product_Category', 17: '18_Product_Category'})\n",
    "print(z)"
   ]
  },
  {
   "cell_type": "code",
   "execution_count": 41,
   "metadata": {
    "collapsed": true
   },
   "outputs": [],
   "source": [
    "# Combines product data from previous step to trainDf data frame\n",
    "df2 = pd.concat([df2, z], axis=1, join='inner')"
   ]
  },
  {
   "cell_type": "code",
   "execution_count": 42,
   "metadata": {
    "collapsed": true
   },
   "outputs": [],
   "source": [
    "# Renames all other column names with more accurate/description name\n",
    "df2 = df2.rename(columns={'Purchase':'Purchase_Amount', 'F': 'Female', 'M': 'Male', '0-17': 'Age_0-17', '18-25': 'Age_18-25', '26-35': 'Age_26-35', '36-45': 'Age_36-45', '46-50': 'Age_46-50', '51-55': 'Age_51-55', '55+':'Age_55+', 'A':'City_Category_A', 'B': 'City_Category_B', 'C':'City_Category_C'})"
   ]
  },
  {
   "cell_type": "markdown",
   "metadata": {},
   "source": [
    "## Split Data into train (75%) and test (25%) data sets\n"
   ]
  },
  {
   "cell_type": "code",
   "execution_count": 43,
   "metadata": {
    "collapsed": true
   },
   "outputs": [],
   "source": [
    "# Creates location markers for splitting the data frame into a train portion and a test portion\n",
    "trainDataEndLoc = int(len(df2)*.75)\n",
    "testDataStartLoc = trainDataEndLoc + 1"
   ]
  },
  {
   "cell_type": "code",
   "execution_count": 44,
   "metadata": {},
   "outputs": [
    {
     "name": "stdout",
     "output_type": "stream",
     "text": [
      "   User_ID Product_ID Gender    Age  Occupation City_Category  \\\n",
      "0  1000001  P00069042      F   0-17          10             A   \n",
      "1  1000001  P00248942      F   0-17          10             A   \n",
      "2  1000001  P00087842      F   0-17          10             A   \n",
      "3  1000001  P00085442      F   0-17          10             A   \n",
      "4  1000002  P00285442      M    55+          16             C   \n",
      "5  1000003  P00193542      M  26-35          15             A   \n",
      "6  1000004  P00184942      M  46-50           7             B   \n",
      "7  1000004  P00346142      M  46-50           7             B   \n",
      "8  1000004   P0097242      M  46-50           7             B   \n",
      "9  1000005  P00274942      M  26-35          20             A   \n",
      "\n",
      "  Stay_In_Current_City_Years  Marital_Status  Product_Category_1  \\\n",
      "0                          2               0                   3   \n",
      "1                          2               0                   1   \n",
      "2                          2               0                  12   \n",
      "3                          2               0                  12   \n",
      "4                         4+               0                   8   \n",
      "5                          3               0                   1   \n",
      "6                          2               1                   1   \n",
      "7                          2               1                   1   \n",
      "8                          2               1                   1   \n",
      "9                          1               1                   8   \n",
      "\n",
      "   Product_Category_2         ...           9_Product_Category  \\\n",
      "0                   0         ...                          0.0   \n",
      "1                   6         ...                          0.0   \n",
      "2                   0         ...                          0.0   \n",
      "3                  14         ...                          0.0   \n",
      "4                   0         ...                          0.0   \n",
      "5                   2         ...                          0.0   \n",
      "6                   8         ...                          0.0   \n",
      "7                  15         ...                          0.0   \n",
      "8                  16         ...                          0.0   \n",
      "9                   0         ...                          0.0   \n",
      "\n",
      "   10_Product_Category  11_Product_Category  12_Product_Category  \\\n",
      "0                  0.0                  0.0                  0.0   \n",
      "1                  0.0                  0.0                  0.0   \n",
      "2                  0.0                  0.0                  1.0   \n",
      "3                  0.0                  0.0                  1.0   \n",
      "4                  0.0                  0.0                  0.0   \n",
      "5                  0.0                  0.0                  0.0   \n",
      "6                  0.0                  0.0                  0.0   \n",
      "7                  0.0                  0.0                  0.0   \n",
      "8                  0.0                  0.0                  0.0   \n",
      "9                  0.0                  0.0                  0.0   \n",
      "\n",
      "   13_Product_Category  14_Product_Category  15_Product_Category  \\\n",
      "0                  0.0                  0.0                  0.0   \n",
      "1                  0.0                  1.0                  0.0   \n",
      "2                  0.0                  0.0                  0.0   \n",
      "3                  0.0                  1.0                  0.0   \n",
      "4                  0.0                  0.0                  0.0   \n",
      "5                  0.0                  0.0                  0.0   \n",
      "6                  0.0                  0.0                  0.0   \n",
      "7                  0.0                  0.0                  1.0   \n",
      "8                  0.0                  0.0                  0.0   \n",
      "9                  0.0                  0.0                  0.0   \n",
      "\n",
      "   16_Product_Category  17_Product_Category  18_Product_Category  \n",
      "0                  0.0                  0.0                  0.0  \n",
      "1                  0.0                  0.0                  0.0  \n",
      "2                  0.0                  0.0                  0.0  \n",
      "3                  0.0                  0.0                  0.0  \n",
      "4                  0.0                  0.0                  0.0  \n",
      "5                  0.0                  0.0                  0.0  \n",
      "6                  0.0                  1.0                  0.0  \n",
      "7                  0.0                  0.0                  0.0  \n",
      "8                  1.0                  0.0                  0.0  \n",
      "9                  0.0                  0.0                  0.0  \n",
      "\n",
      "[10 rows x 63 columns]\n",
      "<class 'pandas.core.frame.DataFrame'>\n",
      "RangeIndex: 49124 entries, 0 to 49123\n",
      "Data columns (total 63 columns):\n",
      "User_ID                       49124 non-null int64\n",
      "Product_ID                    49124 non-null object\n",
      "Gender                        49124 non-null object\n",
      "Age                           49124 non-null object\n",
      "Occupation                    49124 non-null int64\n",
      "City_Category                 49124 non-null object\n",
      "Stay_In_Current_City_Years    49124 non-null object\n",
      "Marital_Status                49124 non-null int64\n",
      "Product_Category_1            49124 non-null int64\n",
      "Product_Category_2            49124 non-null int64\n",
      "Product_Category_3            49124 non-null int64\n",
      "Purchase_Amount               49124 non-null int64\n",
      "Female                        49124 non-null float64\n",
      "Male                          49124 non-null float64\n",
      "Age_0-17                      49124 non-null float64\n",
      "Age_18-25                     49124 non-null float64\n",
      "Age_26-35                     49124 non-null float64\n",
      "Age_36-45                     49124 non-null float64\n",
      "Age_46-50                     49124 non-null float64\n",
      "Age_51-55                     49124 non-null float64\n",
      "Age_55+                       49124 non-null float64\n",
      "0_Occupation                  49124 non-null float64\n",
      "1_Occupation                  49124 non-null float64\n",
      "2_Occupation                  49124 non-null float64\n",
      "3_Occupation                  49124 non-null float64\n",
      "4_Occupation                  49124 non-null float64\n",
      "5_Occupation                  49124 non-null float64\n",
      "6_Occupation                  49124 non-null float64\n",
      "7_Occupation                  49124 non-null float64\n",
      "8_Occupation                  49124 non-null float64\n",
      "9_Occupation                  49124 non-null float64\n",
      "10_Occupation                 49124 non-null float64\n",
      "11_Occupation                 49124 non-null float64\n",
      "12_Occupation                 49124 non-null float64\n",
      "13_Occupation                 49124 non-null float64\n",
      "14_Occupation                 49124 non-null float64\n",
      "15_Occupation                 49124 non-null float64\n",
      "16_Occupation                 49124 non-null float64\n",
      "17_Occupation                 49124 non-null float64\n",
      "18_Occupation                 49124 non-null float64\n",
      "19_Occupation                 49124 non-null float64\n",
      "20_Occupation                 49124 non-null float64\n",
      "City_Category_A               49124 non-null float64\n",
      "City_Category_B               49124 non-null float64\n",
      "City_Category_C               49124 non-null float64\n",
      "1_Product_Category            49124 non-null float64\n",
      "2_Product_Category            49124 non-null float64\n",
      "3_Product_Category            49124 non-null float64\n",
      "4_Product_Category            49124 non-null float64\n",
      "5_Product_Category            49124 non-null float64\n",
      "6_Product_Category            49124 non-null float64\n",
      "7_Product_Category            49124 non-null float64\n",
      "8_Product_Category            49124 non-null float64\n",
      "9_Product_Category            49124 non-null float64\n",
      "10_Product_Category           49124 non-null float64\n",
      "11_Product_Category           49124 non-null float64\n",
      "12_Product_Category           49124 non-null float64\n",
      "13_Product_Category           49124 non-null float64\n",
      "14_Product_Category           49124 non-null float64\n",
      "15_Product_Category           49124 non-null float64\n",
      "16_Product_Category           49124 non-null float64\n",
      "17_Product_Category           49124 non-null float64\n",
      "18_Product_Category           49124 non-null float64\n",
      "dtypes: float64(51), int64(7), object(5)\n",
      "memory usage: 23.6+ MB\n",
      "None\n"
     ]
    }
   ],
   "source": [
    "# Uses location marker to create train data set\n",
    "trainDf = df2.iloc[0:trainDataEndLoc,:]\n",
    "print(trainDf.head(10))\n",
    "print(trainDf.info())"
   ]
  },
  {
   "cell_type": "code",
   "execution_count": 45,
   "metadata": {},
   "outputs": [
    {
     "name": "stdout",
     "output_type": "stream",
     "text": [
      "   User_ID Product_ID Gender    Age  Occupation City_Category  \\\n",
      "0  1000001  P00069042      F   0-17          10             A   \n",
      "1  1000001  P00248942      F   0-17          10             A   \n",
      "2  1000001  P00087842      F   0-17          10             A   \n",
      "3  1000001  P00085442      F   0-17          10             A   \n",
      "4  1000002  P00285442      M    55+          16             C   \n",
      "5  1000003  P00193542      M  26-35          15             A   \n",
      "6  1000004  P00184942      M  46-50           7             B   \n",
      "7  1000004  P00346142      M  46-50           7             B   \n",
      "8  1000004   P0097242      M  46-50           7             B   \n",
      "9  1000005  P00274942      M  26-35          20             A   \n",
      "\n",
      "  Stay_In_Current_City_Years  Marital_Status  Product_Category_1  \\\n",
      "0                          2               0                   3   \n",
      "1                          2               0                   1   \n",
      "2                          2               0                  12   \n",
      "3                          2               0                  12   \n",
      "4                         4+               0                   8   \n",
      "5                          3               0                   1   \n",
      "6                          2               1                   1   \n",
      "7                          2               1                   1   \n",
      "8                          2               1                   1   \n",
      "9                          1               1                   8   \n",
      "\n",
      "   Product_Category_2         ...           9_Product_Category  \\\n",
      "0                   0         ...                          0.0   \n",
      "1                   6         ...                          0.0   \n",
      "2                   0         ...                          0.0   \n",
      "3                  14         ...                          0.0   \n",
      "4                   0         ...                          0.0   \n",
      "5                   2         ...                          0.0   \n",
      "6                   8         ...                          0.0   \n",
      "7                  15         ...                          0.0   \n",
      "8                  16         ...                          0.0   \n",
      "9                   0         ...                          0.0   \n",
      "\n",
      "   10_Product_Category  11_Product_Category  12_Product_Category  \\\n",
      "0                  0.0                  0.0                  0.0   \n",
      "1                  0.0                  0.0                  0.0   \n",
      "2                  0.0                  0.0                  1.0   \n",
      "3                  0.0                  0.0                  1.0   \n",
      "4                  0.0                  0.0                  0.0   \n",
      "5                  0.0                  0.0                  0.0   \n",
      "6                  0.0                  0.0                  0.0   \n",
      "7                  0.0                  0.0                  0.0   \n",
      "8                  0.0                  0.0                  0.0   \n",
      "9                  0.0                  0.0                  0.0   \n",
      "\n",
      "   13_Product_Category  14_Product_Category  15_Product_Category  \\\n",
      "0                  0.0                  0.0                  0.0   \n",
      "1                  0.0                  1.0                  0.0   \n",
      "2                  0.0                  0.0                  0.0   \n",
      "3                  0.0                  1.0                  0.0   \n",
      "4                  0.0                  0.0                  0.0   \n",
      "5                  0.0                  0.0                  0.0   \n",
      "6                  0.0                  0.0                  0.0   \n",
      "7                  0.0                  0.0                  1.0   \n",
      "8                  0.0                  0.0                  0.0   \n",
      "9                  0.0                  0.0                  0.0   \n",
      "\n",
      "   16_Product_Category  17_Product_Category  18_Product_Category  \n",
      "0                  0.0                  0.0                  0.0  \n",
      "1                  0.0                  0.0                  0.0  \n",
      "2                  0.0                  0.0                  0.0  \n",
      "3                  0.0                  0.0                  0.0  \n",
      "4                  0.0                  0.0                  0.0  \n",
      "5                  0.0                  0.0                  0.0  \n",
      "6                  0.0                  1.0                  0.0  \n",
      "7                  0.0                  0.0                  0.0  \n",
      "8                  1.0                  0.0                  0.0  \n",
      "9                  0.0                  0.0                  0.0  \n",
      "\n",
      "[10 rows x 63 columns]\n",
      "<class 'pandas.core.frame.DataFrame'>\n",
      "RangeIndex: 49125 entries, 0 to 49124\n",
      "Data columns (total 63 columns):\n",
      "User_ID                       49125 non-null int64\n",
      "Product_ID                    49125 non-null object\n",
      "Gender                        49125 non-null object\n",
      "Age                           49125 non-null object\n",
      "Occupation                    49125 non-null int64\n",
      "City_Category                 49125 non-null object\n",
      "Stay_In_Current_City_Years    49125 non-null object\n",
      "Marital_Status                49125 non-null int64\n",
      "Product_Category_1            49125 non-null int64\n",
      "Product_Category_2            49125 non-null int64\n",
      "Product_Category_3            49125 non-null int64\n",
      "Purchase_Amount               49125 non-null int64\n",
      "Female                        49125 non-null float64\n",
      "Male                          49125 non-null float64\n",
      "Age_0-17                      49125 non-null float64\n",
      "Age_18-25                     49125 non-null float64\n",
      "Age_26-35                     49125 non-null float64\n",
      "Age_36-45                     49125 non-null float64\n",
      "Age_46-50                     49125 non-null float64\n",
      "Age_51-55                     49125 non-null float64\n",
      "Age_55+                       49125 non-null float64\n",
      "0_Occupation                  49125 non-null float64\n",
      "1_Occupation                  49125 non-null float64\n",
      "2_Occupation                  49125 non-null float64\n",
      "3_Occupation                  49125 non-null float64\n",
      "4_Occupation                  49125 non-null float64\n",
      "5_Occupation                  49125 non-null float64\n",
      "6_Occupation                  49125 non-null float64\n",
      "7_Occupation                  49125 non-null float64\n",
      "8_Occupation                  49125 non-null float64\n",
      "9_Occupation                  49125 non-null float64\n",
      "10_Occupation                 49125 non-null float64\n",
      "11_Occupation                 49125 non-null float64\n",
      "12_Occupation                 49125 non-null float64\n",
      "13_Occupation                 49125 non-null float64\n",
      "14_Occupation                 49125 non-null float64\n",
      "15_Occupation                 49125 non-null float64\n",
      "16_Occupation                 49125 non-null float64\n",
      "17_Occupation                 49125 non-null float64\n",
      "18_Occupation                 49125 non-null float64\n",
      "19_Occupation                 49125 non-null float64\n",
      "20_Occupation                 49125 non-null float64\n",
      "City_Category_A               49125 non-null float64\n",
      "City_Category_B               49125 non-null float64\n",
      "City_Category_C               49125 non-null float64\n",
      "1_Product_Category            49125 non-null float64\n",
      "2_Product_Category            49125 non-null float64\n",
      "3_Product_Category            49125 non-null float64\n",
      "4_Product_Category            49125 non-null float64\n",
      "5_Product_Category            49125 non-null float64\n",
      "6_Product_Category            49125 non-null float64\n",
      "7_Product_Category            49125 non-null float64\n",
      "8_Product_Category            49125 non-null float64\n",
      "9_Product_Category            49125 non-null float64\n",
      "10_Product_Category           49125 non-null float64\n",
      "11_Product_Category           49125 non-null float64\n",
      "12_Product_Category           49125 non-null float64\n",
      "13_Product_Category           49125 non-null float64\n",
      "14_Product_Category           49125 non-null float64\n",
      "15_Product_Category           49125 non-null float64\n",
      "16_Product_Category           49125 non-null float64\n",
      "17_Product_Category           49125 non-null float64\n",
      "18_Product_Category           49125 non-null float64\n",
      "dtypes: float64(51), int64(7), object(5)\n",
      "memory usage: 23.6+ MB\n",
      "None\n"
     ]
    }
   ],
   "source": [
    "# Uses location marker to create test data portion\n",
    "testDf = df2.iloc[0:testDataStartLoc,:]\n",
    "print(testDf.head(10))\n",
    "print(testDf.info())"
   ]
  },
  {
   "cell_type": "code",
   "execution_count": 46,
   "metadata": {},
   "outputs": [],
   "source": [
    "trainDf.to_csv('trainingDf.csv', index=False)\n",
    "testDf.to_csv('testingDf.csv', index=False)"
   ]
  },
  {
   "cell_type": "code",
   "execution_count": null,
   "metadata": {
    "collapsed": true
   },
   "outputs": [],
   "source": []
  },
  {
   "cell_type": "code",
   "execution_count": null,
   "metadata": {
    "collapsed": true
   },
   "outputs": [],
   "source": []
  },
  {
   "cell_type": "code",
   "execution_count": null,
   "metadata": {
    "collapsed": true
   },
   "outputs": [],
   "source": []
  }
 ],
 "metadata": {
  "kernelspec": {
   "display_name": "Python 3",
   "language": "python",
   "name": "python3"
  },
  "language_info": {
   "codemirror_mode": {
    "name": "ipython",
    "version": 3
   },
   "file_extension": ".py",
   "mimetype": "text/x-python",
   "name": "python",
   "nbconvert_exporter": "python",
   "pygments_lexer": "ipython3",
   "version": "3.6.1"
  }
 },
 "nbformat": 4,
 "nbformat_minor": 2
}
