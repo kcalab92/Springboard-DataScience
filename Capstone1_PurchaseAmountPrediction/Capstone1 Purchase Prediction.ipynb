{
 "cells": [
  {
   "cell_type": "code",
   "execution_count": 262,
   "metadata": {
    "collapsed": true
   },
   "outputs": [],
   "source": [
    "import pandas as pd"
   ]
  },
  {
   "cell_type": "code",
   "execution_count": 263,
   "metadata": {
    "collapsed": true
   },
   "outputs": [],
   "source": [
    "df = pd.read_csv('train1.csv')"
   ]
  },
  {
   "cell_type": "code",
   "execution_count": 264,
   "metadata": {},
   "outputs": [
    {
     "name": "stdout",
     "output_type": "stream",
     "text": [
      "    User_ID Product_ID Gender    Age  Occupation City_Category  \\\n",
      "0   1000001  P00069042      F   0-17          10             A   \n",
      "1   1000001  P00248942      F   0-17          10             A   \n",
      "2   1000001  P00087842      F   0-17          10             A   \n",
      "3   1000001  P00085442      F   0-17          10             A   \n",
      "4   1000002  P00285442      M    55+          16             C   \n",
      "5   1000003  P00193542      M  26-35          15             A   \n",
      "6   1000004  P00184942      M  46-50           7             B   \n",
      "7   1000004  P00346142      M  46-50           7             B   \n",
      "8   1000004   P0097242      M  46-50           7             B   \n",
      "9   1000005  P00274942      M  26-35          20             A   \n",
      "10  1000005  P00251242      M  26-35          20             A   \n",
      "11  1000005  P00014542      M  26-35          20             A   \n",
      "12  1000005  P00031342      M  26-35          20             A   \n",
      "13  1000005  P00145042      M  26-35          20             A   \n",
      "14  1000006  P00231342      F  51-55           9             A   \n",
      "15  1000006  P00190242      F  51-55           9             A   \n",
      "16  1000006   P0096642      F  51-55           9             A   \n",
      "17  1000006  P00058442      F  51-55           9             A   \n",
      "18  1000007  P00036842      M  36-45           1             B   \n",
      "19  1000008  P00249542      M  26-35          12             C   \n",
      "20  1000008  P00220442      M  26-35          12             C   \n",
      "21  1000008  P00156442      M  26-35          12             C   \n",
      "22  1000008  P00213742      M  26-35          12             C   \n",
      "23  1000008  P00214442      M  26-35          12             C   \n",
      "24  1000008  P00303442      M  26-35          12             C   \n",
      "25  1000009  P00135742      M  26-35          17             C   \n",
      "26  1000009  P00039942      M  26-35          17             C   \n",
      "27  1000009  P00161442      M  26-35          17             C   \n",
      "28  1000009  P00078742      M  26-35          17             C   \n",
      "29  1000010  P00085942      F  36-45           1             B   \n",
      "..      ...        ...    ...    ...         ...           ...   \n",
      "70  1000018  P00366542      F  18-25           3             B   \n",
      "71  1000018  P00190742      F  18-25           3             B   \n",
      "72  1000018  P00151842      F  18-25           3             B   \n",
      "73  1000018  P00112642      F  18-25           3             B   \n",
      "74  1000018  P00118442      F  18-25           3             B   \n",
      "75  1000018  P00034442      F  18-25           3             B   \n",
      "76  1000018  P00222242      F  18-25           3             B   \n",
      "77  1000018  P00118342      F  18-25           3             B   \n",
      "78  1000018  P00324742      F  18-25           3             B   \n",
      "79  1000018  P00190042      F  18-25           3             B   \n",
      "80  1000018   P0094142      F  18-25           3             B   \n",
      "81  1000018  P00138542      F  18-25           3             B   \n",
      "82  1000018  P00158542      F  18-25           3             B   \n",
      "83  1000018  P00157542      F  18-25           3             B   \n",
      "84  1000018  P00044142      F  18-25           3             B   \n",
      "85  1000019  P00112542      M   0-17          10             A   \n",
      "86  1000019  P00339542      M   0-17          10             A   \n",
      "87  1000019  P00127842      M   0-17          10             A   \n",
      "88  1000019  P00125942      M   0-17          10             A   \n",
      "89  1000019  P00251342      M   0-17          10             A   \n",
      "90  1000019  P00249642      M   0-17          10             A   \n",
      "91  1000019  P00124842      M   0-17          10             A   \n",
      "92  1000019  P00250642      M   0-17          10             A   \n",
      "93  1000019  P00058142      M   0-17          10             A   \n",
      "94  1000019  P00117442      M   0-17          10             A   \n",
      "95  1000019  P00251642      M   0-17          10             A   \n",
      "96  1000019  P00244842      M   0-17          10             A   \n",
      "97  1000021  P00220242      M  18-25          16             B   \n",
      "98  1000022  P00351142      M  18-25          15             A   \n",
      "99  1000022  P00213242      M  18-25          15             A   \n",
      "\n",
      "   Stay_In_Current_City_Years  Marital_Status  Product_Category_1  \\\n",
      "0                           2               0                   3   \n",
      "1                           2               0                   1   \n",
      "2                           2               0                  12   \n",
      "3                           2               0                  12   \n",
      "4                          4+               0                   8   \n",
      "5                           3               0                   1   \n",
      "6                           2               1                   1   \n",
      "7                           2               1                   1   \n",
      "8                           2               1                   1   \n",
      "9                           1               1                   8   \n",
      "10                          1               1                   5   \n",
      "11                          1               1                   8   \n",
      "12                          1               1                   8   \n",
      "13                          1               1                   1   \n",
      "14                          1               0                   5   \n",
      "15                          1               0                   4   \n",
      "16                          1               0                   2   \n",
      "17                          1               0                   5   \n",
      "18                          1               1                   1   \n",
      "19                         4+               1                   1   \n",
      "20                         4+               1                   5   \n",
      "21                         4+               1                   8   \n",
      "22                         4+               1                   8   \n",
      "23                         4+               1                   8   \n",
      "24                         4+               1                   1   \n",
      "25                          0               0                   6   \n",
      "26                          0               0                   8   \n",
      "27                          0               0                   5   \n",
      "28                          0               0                   5   \n",
      "29                         4+               1                   2   \n",
      "..                        ...             ...                 ...   \n",
      "70                          3               0                   5   \n",
      "71                          3               0                   3   \n",
      "72                          3               0                   4   \n",
      "73                          3               0                   1   \n",
      "74                          3               0                   1   \n",
      "75                          3               0                   1   \n",
      "76                          3               0                   1   \n",
      "77                          3               0                   2   \n",
      "78                          3               0                   2   \n",
      "79                          3               0                   3   \n",
      "80                          3               0                   4   \n",
      "81                          3               0                   5   \n",
      "82                          3               0                   5   \n",
      "83                          3               0                   8   \n",
      "84                          3               0                   8   \n",
      "85                          3               0                   1   \n",
      "86                          3               0                   1   \n",
      "87                          3               0                   1   \n",
      "88                          3               0                   1   \n",
      "89                          3               0                   5   \n",
      "90                          3               0                   3   \n",
      "91                          3               0                  11   \n",
      "92                          3               0                  11   \n",
      "93                          3               0                   3   \n",
      "94                          3               0                   5   \n",
      "95                          3               0                   1   \n",
      "96                          3               0                  11   \n",
      "97                          0               0                   3   \n",
      "98                         4+               0                   1   \n",
      "99                         4+               0                   5   \n",
      "\n",
      "    Product_Category_2  Product_Category_3  Purchase  \n",
      "0                  NaN                 NaN      8370  \n",
      "1                  6.0                14.0     15200  \n",
      "2                  NaN                 NaN      1422  \n",
      "3                 14.0                 NaN      1057  \n",
      "4                  NaN                 NaN      7969  \n",
      "5                  2.0                 NaN     15227  \n",
      "6                  8.0                17.0     19215  \n",
      "7                 15.0                 NaN     15854  \n",
      "8                 16.0                 NaN     15686  \n",
      "9                  NaN                 NaN      7871  \n",
      "10                11.0                 NaN      5254  \n",
      "11                 NaN                 NaN      3957  \n",
      "12                 NaN                 NaN      6073  \n",
      "13                 2.0                 5.0     15665  \n",
      "14                 8.0                14.0      5378  \n",
      "15                 5.0                 NaN      2079  \n",
      "16                 3.0                 4.0     13055  \n",
      "17                14.0                 NaN      8851  \n",
      "18                14.0                16.0     11788  \n",
      "19                 5.0                15.0     19614  \n",
      "20                14.0                 NaN      8584  \n",
      "21                 NaN                 NaN      9872  \n",
      "22                 NaN                 NaN      9743  \n",
      "23                 NaN                 NaN      5982  \n",
      "24                 8.0                14.0     11927  \n",
      "25                 8.0                 NaN     16662  \n",
      "26                 NaN                 NaN      5887  \n",
      "27                14.0                 NaN      6973  \n",
      "28                 8.0                14.0      5391  \n",
      "29                 4.0                 8.0     16352  \n",
      "..                 ...                 ...       ...  \n",
      "70                 NaN                 NaN      1780  \n",
      "71                 4.0                 9.0     10754  \n",
      "72                 8.0                 9.0      2802  \n",
      "73                 2.0                 5.0     19473  \n",
      "74                 2.0                 NaN     19672  \n",
      "75                14.0                16.0     19313  \n",
      "76                 2.0                13.0     15182  \n",
      "77                 3.0                15.0     15985  \n",
      "78                 9.0                14.0     16454  \n",
      "79                 4.0                 5.0     13551  \n",
      "80                 5.0                 NaN       697  \n",
      "81                 6.0                 NaN      7030  \n",
      "82                 6.0                13.0      5430  \n",
      "83                14.0                 NaN      8011  \n",
      "84                16.0                 NaN      5912  \n",
      "85                11.0                15.0      7746  \n",
      "86                 NaN                 NaN     19525  \n",
      "87                 2.0                15.0     11959  \n",
      "88                 2.0                15.0     19172  \n",
      "89                11.0                 NaN      8773  \n",
      "90                 5.0                 NaN     11023  \n",
      "91                 NaN                 NaN      4654  \n",
      "92                 NaN                 NaN      4664  \n",
      "93                 4.0                12.0      8290  \n",
      "94                14.0                 NaN      7011  \n",
      "95                 2.0                 4.0      4211  \n",
      "96                 NaN                 NaN      1539  \n",
      "97                12.0                 NaN      3055  \n",
      "98                 8.0                17.0     12099  \n",
      "99                 8.0                 NaN      8797  \n",
      "\n",
      "[100 rows x 12 columns]\n"
     ]
    }
   ],
   "source": [
    "print(df.head(100))"
   ]
  },
  {
   "cell_type": "code",
   "execution_count": 265,
   "metadata": {},
   "outputs": [
    {
     "name": "stdout",
     "output_type": "stream",
     "text": [
      "<class 'pandas.core.frame.DataFrame'>\n",
      "RangeIndex: 65499 entries, 0 to 65498\n",
      "Data columns (total 12 columns):\n",
      "User_ID                       65499 non-null int64\n",
      "Product_ID                    65499 non-null object\n",
      "Gender                        65499 non-null object\n",
      "Age                           65499 non-null object\n",
      "Occupation                    65499 non-null int64\n",
      "City_Category                 65499 non-null object\n",
      "Stay_In_Current_City_Years    65499 non-null object\n",
      "Marital_Status                65499 non-null int64\n",
      "Product_Category_1            65499 non-null int64\n",
      "Product_Category_2            44908 non-null float64\n",
      "Product_Category_3            19886 non-null float64\n",
      "Purchase                      65499 non-null int64\n",
      "dtypes: float64(2), int64(5), object(5)\n",
      "memory usage: 6.0+ MB\n",
      "None\n"
     ]
    }
   ],
   "source": [
    "print(df.info())"
   ]
  },
  {
   "cell_type": "code",
   "execution_count": 266,
   "metadata": {
    "collapsed": true
   },
   "outputs": [],
   "source": [
    "from numpy import array\n",
    "from numpy import argmax\n",
    "from sklearn.preprocessing import LabelEncoder\n",
    "from sklearn.preprocessing import OneHotEncoder"
   ]
  },
  {
   "cell_type": "markdown",
   "metadata": {},
   "source": [
    "# Example of hot one encoding \n",
    "\n",
    "[How To Hot One Encode Sequence Data In Python](https://machinelearningmastery.com/how-to-one-hot-encode-sequence-data-in-python// \"Title\")"
   ]
  },
  {
   "cell_type": "code",
   "execution_count": 267,
   "metadata": {},
   "outputs": [
    {
     "name": "stdout",
     "output_type": "stream",
     "text": [
      "['cold' 'cold' 'warm' 'cold' 'hot' 'hot' 'warm' 'cold' 'warm' 'hot']\n",
      "<class 'numpy.ndarray'>\n"
     ]
    }
   ],
   "source": [
    "# define example\n",
    "data = ['cold', 'cold', 'warm', 'cold', 'hot', 'hot', 'warm', 'cold', 'warm', 'hot']\n",
    "values = array(data)\n",
    "print(values)\n",
    "print(type(values))"
   ]
  },
  {
   "cell_type": "code",
   "execution_count": 268,
   "metadata": {},
   "outputs": [
    {
     "name": "stdout",
     "output_type": "stream",
     "text": [
      "[0 0 2 0 1 1 2 0 2 1]\n"
     ]
    }
   ],
   "source": [
    "# integer encode\n",
    "label_encoder = LabelEncoder()\n",
    "integer_encoded = label_encoder.fit_transform(values)\n",
    "print(integer_encoded)"
   ]
  },
  {
   "cell_type": "code",
   "execution_count": 269,
   "metadata": {},
   "outputs": [
    {
     "name": "stdout",
     "output_type": "stream",
     "text": [
      "[[ 1.  0.  0.]\n",
      " [ 1.  0.  0.]\n",
      " [ 0.  0.  1.]\n",
      " [ 1.  0.  0.]\n",
      " [ 0.  1.  0.]\n",
      " [ 0.  1.  0.]\n",
      " [ 0.  0.  1.]\n",
      " [ 1.  0.  0.]\n",
      " [ 0.  0.  1.]\n",
      " [ 0.  1.  0.]]\n"
     ]
    }
   ],
   "source": [
    "# binary encode\n",
    "onehot_encoder = OneHotEncoder(sparse=False)\n",
    "integer_encoded = integer_encoded.reshape(len(integer_encoded), 1)\n",
    "onehot_encoded = onehot_encoder.fit_transform(integer_encoded)\n",
    "print(onehot_encoded)"
   ]
  },
  {
   "cell_type": "code",
   "execution_count": 270,
   "metadata": {},
   "outputs": [
    {
     "name": "stdout",
     "output_type": "stream",
     "text": [
      "['cold']\n"
     ]
    }
   ],
   "source": [
    "# invert first example\n",
    "inverted = label_encoder.inverse_transform([argmax(onehot_encoded[0, :])])\n",
    "print(inverted)"
   ]
  },
  {
   "cell_type": "markdown",
   "metadata": {},
   "source": [
    "# Hot One Encoding My Data Based On the Example"
   ]
  },
  {
   "cell_type": "markdown",
   "metadata": {},
   "source": [
    "## Hot One Encoding Gender"
   ]
  },
  {
   "cell_type": "code",
   "execution_count": 271,
   "metadata": {
    "collapsed": true
   },
   "outputs": [],
   "source": [
    "gender = array(df['Gender'])"
   ]
  },
  {
   "cell_type": "code",
   "execution_count": 272,
   "metadata": {},
   "outputs": [
    {
     "name": "stdout",
     "output_type": "stream",
     "text": [
      "[0 0 0 ..., 1 1 1]\n"
     ]
    }
   ],
   "source": [
    "# integer encode\n",
    "label_encoder = LabelEncoder()\n",
    "gender_integer_encoded = label_encoder.fit_transform(genderArray)\n",
    "print(gender_integer_encoded)"
   ]
  },
  {
   "cell_type": "code",
   "execution_count": 273,
   "metadata": {},
   "outputs": [
    {
     "name": "stdout",
     "output_type": "stream",
     "text": [
      "[[ 1.  0.]\n",
      " [ 1.  0.]\n",
      " [ 1.  0.]\n",
      " ..., \n",
      " [ 0.  1.]\n",
      " [ 0.  1.]\n",
      " [ 0.  1.]]\n",
      "<class 'numpy.ndarray'>\n"
     ]
    }
   ],
   "source": [
    "# binary encode\n",
    "onehot_encoder = OneHotEncoder(sparse=False)\n",
    "gender_integer_encoded = gender_integer_encoded.reshape(len(gender_integer_encoded), 1)\n",
    "gender_onehot_encoded = onehot_encoder.fit_transform(gender_integer_encoded)\n",
    "print(gender_onehot_encoded)\n",
    "print(type(gender_onehot_encoded))"
   ]
  },
  {
   "cell_type": "code",
   "execution_count": 274,
   "metadata": {},
   "outputs": [
    {
     "name": "stdout",
     "output_type": "stream",
     "text": [
      "         F    M\n",
      "0      1.0  0.0\n",
      "1      1.0  0.0\n",
      "2      1.0  0.0\n",
      "3      1.0  0.0\n",
      "4      0.0  1.0\n",
      "5      0.0  1.0\n",
      "6      0.0  1.0\n",
      "7      0.0  1.0\n",
      "8      0.0  1.0\n",
      "9      0.0  1.0\n",
      "10     0.0  1.0\n",
      "11     0.0  1.0\n",
      "12     0.0  1.0\n",
      "13     0.0  1.0\n",
      "14     1.0  0.0\n",
      "15     1.0  0.0\n",
      "16     1.0  0.0\n",
      "17     1.0  0.0\n",
      "18     0.0  1.0\n",
      "19     0.0  1.0\n",
      "20     0.0  1.0\n",
      "21     0.0  1.0\n",
      "22     0.0  1.0\n",
      "23     0.0  1.0\n",
      "24     0.0  1.0\n",
      "25     0.0  1.0\n",
      "26     0.0  1.0\n",
      "27     0.0  1.0\n",
      "28     0.0  1.0\n",
      "29     1.0  0.0\n",
      "...    ...  ...\n",
      "65469  0.0  1.0\n",
      "65470  0.0  1.0\n",
      "65471  0.0  1.0\n",
      "65472  0.0  1.0\n",
      "65473  0.0  1.0\n",
      "65474  0.0  1.0\n",
      "65475  0.0  1.0\n",
      "65476  0.0  1.0\n",
      "65477  0.0  1.0\n",
      "65478  0.0  1.0\n",
      "65479  0.0  1.0\n",
      "65480  0.0  1.0\n",
      "65481  0.0  1.0\n",
      "65482  0.0  1.0\n",
      "65483  0.0  1.0\n",
      "65484  0.0  1.0\n",
      "65485  0.0  1.0\n",
      "65486  0.0  1.0\n",
      "65487  0.0  1.0\n",
      "65488  0.0  1.0\n",
      "65489  0.0  1.0\n",
      "65490  0.0  1.0\n",
      "65491  0.0  1.0\n",
      "65492  0.0  1.0\n",
      "65493  0.0  1.0\n",
      "65494  0.0  1.0\n",
      "65495  0.0  1.0\n",
      "65496  0.0  1.0\n",
      "65497  0.0  1.0\n",
      "65498  0.0  1.0\n",
      "\n",
      "[65499 rows x 2 columns]\n"
     ]
    }
   ],
   "source": [
    "dfGender = pd.DataFrame(data=gender_onehot_encoded, columns=['F','M'])\n",
    "print(dfGender)"
   ]
  },
  {
   "cell_type": "markdown",
   "metadata": {},
   "source": [
    "## Hot One Encoding Age"
   ]
  },
  {
   "cell_type": "code",
   "execution_count": 275,
   "metadata": {
    "collapsed": true
   },
   "outputs": [],
   "source": [
    "ageArray = array(df['Age'])"
   ]
  },
  {
   "cell_type": "code",
   "execution_count": 276,
   "metadata": {},
   "outputs": [
    {
     "name": "stdout",
     "output_type": "stream",
     "text": [
      "[0 0 0 ..., 2 2 2]\n"
     ]
    }
   ],
   "source": [
    "# integer encode\n",
    "label_encoder = LabelEncoder()\n",
    "age_integer_encoded = label_encoder.fit_transform(ageArray)\n",
    "print(age_integer_encoded)"
   ]
  },
  {
   "cell_type": "code",
   "execution_count": 277,
   "metadata": {},
   "outputs": [
    {
     "name": "stdout",
     "output_type": "stream",
     "text": [
      "[[ 1.  0.  0. ...,  0.  0.  0.]\n",
      " [ 1.  0.  0. ...,  0.  0.  0.]\n",
      " [ 1.  0.  0. ...,  0.  0.  0.]\n",
      " ..., \n",
      " [ 0.  0.  1. ...,  0.  0.  0.]\n",
      " [ 0.  0.  1. ...,  0.  0.  0.]\n",
      " [ 0.  0.  1. ...,  0.  0.  0.]]\n"
     ]
    }
   ],
   "source": [
    "# binary encode\n",
    "onehot_encoder = OneHotEncoder(sparse=False)\n",
    "age_integer_encoded = age_integer_encoded.reshape(len(age_integer_encoded), 1)\n",
    "age_onehot_encoded = onehot_encoder.fit_transform(age_integer_encoded)\n",
    "print(age_onehot_encoded)"
   ]
  },
  {
   "cell_type": "code",
   "execution_count": 278,
   "metadata": {},
   "outputs": [
    {
     "name": "stdout",
     "output_type": "stream",
     "text": [
      "['0-17', '18-25', '26-35', '36-45', '46-50', '51-55', '55+']\n"
     ]
    }
   ],
   "source": [
    "ageColumns = set(df['Age'])\n",
    "ageColumns = list(ageColumns)\n",
    "ageColumns.sort()\n",
    "print(ageColumns)"
   ]
  },
  {
   "cell_type": "code",
   "execution_count": 279,
   "metadata": {},
   "outputs": [
    {
     "name": "stdout",
     "output_type": "stream",
     "text": [
      "       0-17  18-25  26-35  36-45  46-50  51-55  55+\n",
      "0       1.0    0.0    0.0    0.0    0.0    0.0  0.0\n",
      "1       1.0    0.0    0.0    0.0    0.0    0.0  0.0\n",
      "2       1.0    0.0    0.0    0.0    0.0    0.0  0.0\n",
      "3       1.0    0.0    0.0    0.0    0.0    0.0  0.0\n",
      "4       0.0    0.0    0.0    0.0    0.0    0.0  1.0\n",
      "5       0.0    0.0    1.0    0.0    0.0    0.0  0.0\n",
      "6       0.0    0.0    0.0    0.0    1.0    0.0  0.0\n",
      "7       0.0    0.0    0.0    0.0    1.0    0.0  0.0\n",
      "8       0.0    0.0    0.0    0.0    1.0    0.0  0.0\n",
      "9       0.0    0.0    1.0    0.0    0.0    0.0  0.0\n",
      "10      0.0    0.0    1.0    0.0    0.0    0.0  0.0\n",
      "11      0.0    0.0    1.0    0.0    0.0    0.0  0.0\n",
      "12      0.0    0.0    1.0    0.0    0.0    0.0  0.0\n",
      "13      0.0    0.0    1.0    0.0    0.0    0.0  0.0\n",
      "14      0.0    0.0    0.0    0.0    0.0    1.0  0.0\n",
      "15      0.0    0.0    0.0    0.0    0.0    1.0  0.0\n",
      "16      0.0    0.0    0.0    0.0    0.0    1.0  0.0\n",
      "17      0.0    0.0    0.0    0.0    0.0    1.0  0.0\n",
      "18      0.0    0.0    0.0    1.0    0.0    0.0  0.0\n",
      "19      0.0    0.0    1.0    0.0    0.0    0.0  0.0\n",
      "20      0.0    0.0    1.0    0.0    0.0    0.0  0.0\n",
      "21      0.0    0.0    1.0    0.0    0.0    0.0  0.0\n",
      "22      0.0    0.0    1.0    0.0    0.0    0.0  0.0\n",
      "23      0.0    0.0    1.0    0.0    0.0    0.0  0.0\n",
      "24      0.0    0.0    1.0    0.0    0.0    0.0  0.0\n",
      "25      0.0    0.0    1.0    0.0    0.0    0.0  0.0\n",
      "26      0.0    0.0    1.0    0.0    0.0    0.0  0.0\n",
      "27      0.0    0.0    1.0    0.0    0.0    0.0  0.0\n",
      "28      0.0    0.0    1.0    0.0    0.0    0.0  0.0\n",
      "29      0.0    0.0    0.0    1.0    0.0    0.0  0.0\n",
      "...     ...    ...    ...    ...    ...    ...  ...\n",
      "65469   0.0    0.0    1.0    0.0    0.0    0.0  0.0\n",
      "65470   0.0    0.0    1.0    0.0    0.0    0.0  0.0\n",
      "65471   0.0    0.0    1.0    0.0    0.0    0.0  0.0\n",
      "65472   0.0    0.0    1.0    0.0    0.0    0.0  0.0\n",
      "65473   0.0    0.0    1.0    0.0    0.0    0.0  0.0\n",
      "65474   0.0    0.0    1.0    0.0    0.0    0.0  0.0\n",
      "65475   0.0    0.0    1.0    0.0    0.0    0.0  0.0\n",
      "65476   0.0    0.0    1.0    0.0    0.0    0.0  0.0\n",
      "65477   0.0    0.0    1.0    0.0    0.0    0.0  0.0\n",
      "65478   0.0    0.0    1.0    0.0    0.0    0.0  0.0\n",
      "65479   0.0    0.0    1.0    0.0    0.0    0.0  0.0\n",
      "65480   0.0    0.0    1.0    0.0    0.0    0.0  0.0\n",
      "65481   0.0    0.0    1.0    0.0    0.0    0.0  0.0\n",
      "65482   0.0    0.0    1.0    0.0    0.0    0.0  0.0\n",
      "65483   0.0    0.0    1.0    0.0    0.0    0.0  0.0\n",
      "65484   0.0    0.0    1.0    0.0    0.0    0.0  0.0\n",
      "65485   0.0    0.0    1.0    0.0    0.0    0.0  0.0\n",
      "65486   0.0    0.0    1.0    0.0    0.0    0.0  0.0\n",
      "65487   0.0    0.0    1.0    0.0    0.0    0.0  0.0\n",
      "65488   0.0    0.0    1.0    0.0    0.0    0.0  0.0\n",
      "65489   0.0    0.0    1.0    0.0    0.0    0.0  0.0\n",
      "65490   0.0    0.0    1.0    0.0    0.0    0.0  0.0\n",
      "65491   0.0    0.0    1.0    0.0    0.0    0.0  0.0\n",
      "65492   0.0    0.0    1.0    0.0    0.0    0.0  0.0\n",
      "65493   0.0    0.0    1.0    0.0    0.0    0.0  0.0\n",
      "65494   0.0    0.0    1.0    0.0    0.0    0.0  0.0\n",
      "65495   0.0    0.0    1.0    0.0    0.0    0.0  0.0\n",
      "65496   0.0    0.0    1.0    0.0    0.0    0.0  0.0\n",
      "65497   0.0    0.0    1.0    0.0    0.0    0.0  0.0\n",
      "65498   0.0    0.0    1.0    0.0    0.0    0.0  0.0\n",
      "\n",
      "[65499 rows x 7 columns]\n"
     ]
    }
   ],
   "source": [
    "dfAge = pd.DataFrame(data=age_onehot_encoded, columns=ageColumns)\n",
    "print(dfAge)"
   ]
  },
  {
   "cell_type": "markdown",
   "metadata": {},
   "source": [
    "## Hot One Encoding Occupation"
   ]
  },
  {
   "cell_type": "code",
   "execution_count": 280,
   "metadata": {},
   "outputs": [
    {
     "name": "stdout",
     "output_type": "stream",
     "text": [
      "[10 10 10 ...,  4  4  4]\n"
     ]
    }
   ],
   "source": [
    "occupationArray = array(df['Occupation'])\n",
    "print(occuptationArray)"
   ]
  },
  {
   "cell_type": "code",
   "execution_count": 281,
   "metadata": {},
   "outputs": [
    {
     "name": "stdout",
     "output_type": "stream",
     "text": [
      "[[ 0.  0.  0. ...,  0.  0.  0.]\n",
      " [ 0.  0.  0. ...,  0.  0.  0.]\n",
      " [ 0.  0.  0. ...,  0.  0.  0.]\n",
      " ..., \n",
      " [ 0.  0.  0. ...,  0.  0.  0.]\n",
      " [ 0.  0.  0. ...,  0.  0.  0.]\n",
      " [ 0.  0.  0. ...,  0.  0.  0.]]\n"
     ]
    }
   ],
   "source": [
    "# binary encode\n",
    "onehot_encoder = OneHotEncoder(sparse=False)\n",
    "occupation_integer_encoded = occupationArray.reshape(len(occuptationArray), 1)\n",
    "occupation_onehot_encoded = onehot_encoder.fit_transform(occupation_integer_encoded)\n",
    "print(occupation_onehot_encoded)"
   ]
  },
  {
   "cell_type": "code",
   "execution_count": 282,
   "metadata": {},
   "outputs": [
    {
     "name": "stdout",
     "output_type": "stream",
     "text": [
      "[0, 1, 2, 3, 4, 5, 6, 7, 8, 9, 10, 11, 12, 13, 14, 15, 16, 17, 18, 19, 20]\n"
     ]
    }
   ],
   "source": [
    "occupationColumns = set(df['Occupation'])\n",
    "occupationColumns = list(occupationColumns)\n",
    "occupationColumns.sort()\n",
    "print(occupationColumns)"
   ]
  },
  {
   "cell_type": "code",
   "execution_count": 283,
   "metadata": {},
   "outputs": [
    {
     "name": "stdout",
     "output_type": "stream",
     "text": [
      "        0    1    2    3    4    5    6    7    8    9  ...    11   12   13  \\\n",
      "0      0.0  0.0  0.0  0.0  0.0  0.0  0.0  0.0  0.0  0.0 ...   0.0  0.0  0.0   \n",
      "1      0.0  0.0  0.0  0.0  0.0  0.0  0.0  0.0  0.0  0.0 ...   0.0  0.0  0.0   \n",
      "2      0.0  0.0  0.0  0.0  0.0  0.0  0.0  0.0  0.0  0.0 ...   0.0  0.0  0.0   \n",
      "3      0.0  0.0  0.0  0.0  0.0  0.0  0.0  0.0  0.0  0.0 ...   0.0  0.0  0.0   \n",
      "4      0.0  0.0  0.0  0.0  0.0  0.0  0.0  0.0  0.0  0.0 ...   0.0  0.0  0.0   \n",
      "5      0.0  0.0  0.0  0.0  0.0  0.0  0.0  0.0  0.0  0.0 ...   0.0  0.0  0.0   \n",
      "6      0.0  0.0  0.0  0.0  0.0  0.0  0.0  1.0  0.0  0.0 ...   0.0  0.0  0.0   \n",
      "7      0.0  0.0  0.0  0.0  0.0  0.0  0.0  1.0  0.0  0.0 ...   0.0  0.0  0.0   \n",
      "8      0.0  0.0  0.0  0.0  0.0  0.0  0.0  1.0  0.0  0.0 ...   0.0  0.0  0.0   \n",
      "9      0.0  0.0  0.0  0.0  0.0  0.0  0.0  0.0  0.0  0.0 ...   0.0  0.0  0.0   \n",
      "10     0.0  0.0  0.0  0.0  0.0  0.0  0.0  0.0  0.0  0.0 ...   0.0  0.0  0.0   \n",
      "11     0.0  0.0  0.0  0.0  0.0  0.0  0.0  0.0  0.0  0.0 ...   0.0  0.0  0.0   \n",
      "12     0.0  0.0  0.0  0.0  0.0  0.0  0.0  0.0  0.0  0.0 ...   0.0  0.0  0.0   \n",
      "13     0.0  0.0  0.0  0.0  0.0  0.0  0.0  0.0  0.0  0.0 ...   0.0  0.0  0.0   \n",
      "14     0.0  0.0  0.0  0.0  0.0  0.0  0.0  0.0  0.0  1.0 ...   0.0  0.0  0.0   \n",
      "15     0.0  0.0  0.0  0.0  0.0  0.0  0.0  0.0  0.0  1.0 ...   0.0  0.0  0.0   \n",
      "16     0.0  0.0  0.0  0.0  0.0  0.0  0.0  0.0  0.0  1.0 ...   0.0  0.0  0.0   \n",
      "17     0.0  0.0  0.0  0.0  0.0  0.0  0.0  0.0  0.0  1.0 ...   0.0  0.0  0.0   \n",
      "18     0.0  1.0  0.0  0.0  0.0  0.0  0.0  0.0  0.0  0.0 ...   0.0  0.0  0.0   \n",
      "19     0.0  0.0  0.0  0.0  0.0  0.0  0.0  0.0  0.0  0.0 ...   0.0  1.0  0.0   \n",
      "20     0.0  0.0  0.0  0.0  0.0  0.0  0.0  0.0  0.0  0.0 ...   0.0  1.0  0.0   \n",
      "21     0.0  0.0  0.0  0.0  0.0  0.0  0.0  0.0  0.0  0.0 ...   0.0  1.0  0.0   \n",
      "22     0.0  0.0  0.0  0.0  0.0  0.0  0.0  0.0  0.0  0.0 ...   0.0  1.0  0.0   \n",
      "23     0.0  0.0  0.0  0.0  0.0  0.0  0.0  0.0  0.0  0.0 ...   0.0  1.0  0.0   \n",
      "24     0.0  0.0  0.0  0.0  0.0  0.0  0.0  0.0  0.0  0.0 ...   0.0  1.0  0.0   \n",
      "25     0.0  0.0  0.0  0.0  0.0  0.0  0.0  0.0  0.0  0.0 ...   0.0  0.0  0.0   \n",
      "26     0.0  0.0  0.0  0.0  0.0  0.0  0.0  0.0  0.0  0.0 ...   0.0  0.0  0.0   \n",
      "27     0.0  0.0  0.0  0.0  0.0  0.0  0.0  0.0  0.0  0.0 ...   0.0  0.0  0.0   \n",
      "28     0.0  0.0  0.0  0.0  0.0  0.0  0.0  0.0  0.0  0.0 ...   0.0  0.0  0.0   \n",
      "29     0.0  1.0  0.0  0.0  0.0  0.0  0.0  0.0  0.0  0.0 ...   0.0  0.0  0.0   \n",
      "...    ...  ...  ...  ...  ...  ...  ...  ...  ...  ... ...   ...  ...  ...   \n",
      "65469  0.0  0.0  0.0  0.0  1.0  0.0  0.0  0.0  0.0  0.0 ...   0.0  0.0  0.0   \n",
      "65470  0.0  0.0  0.0  0.0  1.0  0.0  0.0  0.0  0.0  0.0 ...   0.0  0.0  0.0   \n",
      "65471  0.0  0.0  0.0  0.0  1.0  0.0  0.0  0.0  0.0  0.0 ...   0.0  0.0  0.0   \n",
      "65472  0.0  0.0  0.0  0.0  1.0  0.0  0.0  0.0  0.0  0.0 ...   0.0  0.0  0.0   \n",
      "65473  0.0  0.0  0.0  0.0  1.0  0.0  0.0  0.0  0.0  0.0 ...   0.0  0.0  0.0   \n",
      "65474  0.0  0.0  0.0  0.0  1.0  0.0  0.0  0.0  0.0  0.0 ...   0.0  0.0  0.0   \n",
      "65475  0.0  0.0  0.0  0.0  1.0  0.0  0.0  0.0  0.0  0.0 ...   0.0  0.0  0.0   \n",
      "65476  0.0  0.0  0.0  0.0  1.0  0.0  0.0  0.0  0.0  0.0 ...   0.0  0.0  0.0   \n",
      "65477  0.0  0.0  0.0  0.0  1.0  0.0  0.0  0.0  0.0  0.0 ...   0.0  0.0  0.0   \n",
      "65478  0.0  0.0  0.0  0.0  1.0  0.0  0.0  0.0  0.0  0.0 ...   0.0  0.0  0.0   \n",
      "65479  0.0  0.0  0.0  0.0  1.0  0.0  0.0  0.0  0.0  0.0 ...   0.0  0.0  0.0   \n",
      "65480  0.0  0.0  0.0  0.0  1.0  0.0  0.0  0.0  0.0  0.0 ...   0.0  0.0  0.0   \n",
      "65481  0.0  0.0  0.0  0.0  1.0  0.0  0.0  0.0  0.0  0.0 ...   0.0  0.0  0.0   \n",
      "65482  0.0  0.0  0.0  0.0  1.0  0.0  0.0  0.0  0.0  0.0 ...   0.0  0.0  0.0   \n",
      "65483  0.0  0.0  0.0  0.0  1.0  0.0  0.0  0.0  0.0  0.0 ...   0.0  0.0  0.0   \n",
      "65484  0.0  0.0  0.0  0.0  1.0  0.0  0.0  0.0  0.0  0.0 ...   0.0  0.0  0.0   \n",
      "65485  0.0  0.0  0.0  0.0  1.0  0.0  0.0  0.0  0.0  0.0 ...   0.0  0.0  0.0   \n",
      "65486  0.0  0.0  0.0  0.0  1.0  0.0  0.0  0.0  0.0  0.0 ...   0.0  0.0  0.0   \n",
      "65487  0.0  0.0  0.0  0.0  1.0  0.0  0.0  0.0  0.0  0.0 ...   0.0  0.0  0.0   \n",
      "65488  0.0  0.0  0.0  0.0  1.0  0.0  0.0  0.0  0.0  0.0 ...   0.0  0.0  0.0   \n",
      "65489  0.0  0.0  0.0  0.0  1.0  0.0  0.0  0.0  0.0  0.0 ...   0.0  0.0  0.0   \n",
      "65490  0.0  0.0  0.0  0.0  1.0  0.0  0.0  0.0  0.0  0.0 ...   0.0  0.0  0.0   \n",
      "65491  0.0  0.0  0.0  0.0  1.0  0.0  0.0  0.0  0.0  0.0 ...   0.0  0.0  0.0   \n",
      "65492  0.0  0.0  0.0  0.0  1.0  0.0  0.0  0.0  0.0  0.0 ...   0.0  0.0  0.0   \n",
      "65493  0.0  0.0  0.0  0.0  1.0  0.0  0.0  0.0  0.0  0.0 ...   0.0  0.0  0.0   \n",
      "65494  0.0  0.0  0.0  0.0  1.0  0.0  0.0  0.0  0.0  0.0 ...   0.0  0.0  0.0   \n",
      "65495  0.0  0.0  0.0  0.0  1.0  0.0  0.0  0.0  0.0  0.0 ...   0.0  0.0  0.0   \n",
      "65496  0.0  0.0  0.0  0.0  1.0  0.0  0.0  0.0  0.0  0.0 ...   0.0  0.0  0.0   \n",
      "65497  0.0  0.0  0.0  0.0  1.0  0.0  0.0  0.0  0.0  0.0 ...   0.0  0.0  0.0   \n",
      "65498  0.0  0.0  0.0  0.0  1.0  0.0  0.0  0.0  0.0  0.0 ...   0.0  0.0  0.0   \n",
      "\n",
      "        14   15   16   17   18   19   20  \n",
      "0      0.0  0.0  0.0  0.0  0.0  0.0  0.0  \n",
      "1      0.0  0.0  0.0  0.0  0.0  0.0  0.0  \n",
      "2      0.0  0.0  0.0  0.0  0.0  0.0  0.0  \n",
      "3      0.0  0.0  0.0  0.0  0.0  0.0  0.0  \n",
      "4      0.0  0.0  1.0  0.0  0.0  0.0  0.0  \n",
      "5      0.0  1.0  0.0  0.0  0.0  0.0  0.0  \n",
      "6      0.0  0.0  0.0  0.0  0.0  0.0  0.0  \n",
      "7      0.0  0.0  0.0  0.0  0.0  0.0  0.0  \n",
      "8      0.0  0.0  0.0  0.0  0.0  0.0  0.0  \n",
      "9      0.0  0.0  0.0  0.0  0.0  0.0  1.0  \n",
      "10     0.0  0.0  0.0  0.0  0.0  0.0  1.0  \n",
      "11     0.0  0.0  0.0  0.0  0.0  0.0  1.0  \n",
      "12     0.0  0.0  0.0  0.0  0.0  0.0  1.0  \n",
      "13     0.0  0.0  0.0  0.0  0.0  0.0  1.0  \n",
      "14     0.0  0.0  0.0  0.0  0.0  0.0  0.0  \n",
      "15     0.0  0.0  0.0  0.0  0.0  0.0  0.0  \n",
      "16     0.0  0.0  0.0  0.0  0.0  0.0  0.0  \n",
      "17     0.0  0.0  0.0  0.0  0.0  0.0  0.0  \n",
      "18     0.0  0.0  0.0  0.0  0.0  0.0  0.0  \n",
      "19     0.0  0.0  0.0  0.0  0.0  0.0  0.0  \n",
      "20     0.0  0.0  0.0  0.0  0.0  0.0  0.0  \n",
      "21     0.0  0.0  0.0  0.0  0.0  0.0  0.0  \n",
      "22     0.0  0.0  0.0  0.0  0.0  0.0  0.0  \n",
      "23     0.0  0.0  0.0  0.0  0.0  0.0  0.0  \n",
      "24     0.0  0.0  0.0  0.0  0.0  0.0  0.0  \n",
      "25     0.0  0.0  0.0  1.0  0.0  0.0  0.0  \n",
      "26     0.0  0.0  0.0  1.0  0.0  0.0  0.0  \n",
      "27     0.0  0.0  0.0  1.0  0.0  0.0  0.0  \n",
      "28     0.0  0.0  0.0  1.0  0.0  0.0  0.0  \n",
      "29     0.0  0.0  0.0  0.0  0.0  0.0  0.0  \n",
      "...    ...  ...  ...  ...  ...  ...  ...  \n",
      "65469  0.0  0.0  0.0  0.0  0.0  0.0  0.0  \n",
      "65470  0.0  0.0  0.0  0.0  0.0  0.0  0.0  \n",
      "65471  0.0  0.0  0.0  0.0  0.0  0.0  0.0  \n",
      "65472  0.0  0.0  0.0  0.0  0.0  0.0  0.0  \n",
      "65473  0.0  0.0  0.0  0.0  0.0  0.0  0.0  \n",
      "65474  0.0  0.0  0.0  0.0  0.0  0.0  0.0  \n",
      "65475  0.0  0.0  0.0  0.0  0.0  0.0  0.0  \n",
      "65476  0.0  0.0  0.0  0.0  0.0  0.0  0.0  \n",
      "65477  0.0  0.0  0.0  0.0  0.0  0.0  0.0  \n",
      "65478  0.0  0.0  0.0  0.0  0.0  0.0  0.0  \n",
      "65479  0.0  0.0  0.0  0.0  0.0  0.0  0.0  \n",
      "65480  0.0  0.0  0.0  0.0  0.0  0.0  0.0  \n",
      "65481  0.0  0.0  0.0  0.0  0.0  0.0  0.0  \n",
      "65482  0.0  0.0  0.0  0.0  0.0  0.0  0.0  \n",
      "65483  0.0  0.0  0.0  0.0  0.0  0.0  0.0  \n",
      "65484  0.0  0.0  0.0  0.0  0.0  0.0  0.0  \n",
      "65485  0.0  0.0  0.0  0.0  0.0  0.0  0.0  \n",
      "65486  0.0  0.0  0.0  0.0  0.0  0.0  0.0  \n",
      "65487  0.0  0.0  0.0  0.0  0.0  0.0  0.0  \n",
      "65488  0.0  0.0  0.0  0.0  0.0  0.0  0.0  \n",
      "65489  0.0  0.0  0.0  0.0  0.0  0.0  0.0  \n",
      "65490  0.0  0.0  0.0  0.0  0.0  0.0  0.0  \n",
      "65491  0.0  0.0  0.0  0.0  0.0  0.0  0.0  \n",
      "65492  0.0  0.0  0.0  0.0  0.0  0.0  0.0  \n",
      "65493  0.0  0.0  0.0  0.0  0.0  0.0  0.0  \n",
      "65494  0.0  0.0  0.0  0.0  0.0  0.0  0.0  \n",
      "65495  0.0  0.0  0.0  0.0  0.0  0.0  0.0  \n",
      "65496  0.0  0.0  0.0  0.0  0.0  0.0  0.0  \n",
      "65497  0.0  0.0  0.0  0.0  0.0  0.0  0.0  \n",
      "65498  0.0  0.0  0.0  0.0  0.0  0.0  0.0  \n",
      "\n",
      "[65499 rows x 21 columns]\n"
     ]
    }
   ],
   "source": [
    "dfOccupation = pd.DataFrame(data=occupation_onehot_encoded, columns=occupationColumns)\n",
    "print(dfOccupation)"
   ]
  },
  {
   "cell_type": "markdown",
   "metadata": {},
   "source": [
    "## Hot One Encoding City Category"
   ]
  },
  {
   "cell_type": "code",
   "execution_count": 284,
   "metadata": {
    "collapsed": true
   },
   "outputs": [],
   "source": [
    "city_catArray = array(df['City_Category'])"
   ]
  },
  {
   "cell_type": "code",
   "execution_count": 285,
   "metadata": {},
   "outputs": [
    {
     "name": "stdout",
     "output_type": "stream",
     "text": [
      "[0 0 0 ..., 0 0 0]\n"
     ]
    }
   ],
   "source": [
    "# integer encode\n",
    "label_encoder = LabelEncoder()\n",
    "city_cat_integer_encoded = label_encoder.fit_transform(city_catArray)\n",
    "print(city_cat_integer_encoded)"
   ]
  },
  {
   "cell_type": "code",
   "execution_count": 286,
   "metadata": {},
   "outputs": [
    {
     "name": "stdout",
     "output_type": "stream",
     "text": [
      "[[ 1.  0.  0.]\n",
      " [ 1.  0.  0.]\n",
      " [ 1.  0.  0.]\n",
      " ..., \n",
      " [ 1.  0.  0.]\n",
      " [ 1.  0.  0.]\n",
      " [ 1.  0.  0.]]\n"
     ]
    }
   ],
   "source": [
    "# binary encode\n",
    "city_cat_onehot_encoder = OneHotEncoder(sparse=False)\n",
    "city_cat_integer_encoded = city_cat_integer_encoded.reshape(len(city_cat_integer_encoded), 1)\n",
    "city_cat_onehot_encoded = onehot_encoder.fit_transform(city_cat_integer_encoded)\n",
    "print(city_cat_onehot_encoded)"
   ]
  },
  {
   "cell_type": "code",
   "execution_count": 287,
   "metadata": {},
   "outputs": [
    {
     "name": "stdout",
     "output_type": "stream",
     "text": [
      "['A', 'B', 'C']\n"
     ]
    }
   ],
   "source": [
    "City_Cat_Columns = set(df['City_Category'])\n",
    "City_Cat_Columns = list(City_Cat_Columns)\n",
    "City_Cat_Columns.sort()\n",
    "print(City_Cat_Columns)"
   ]
  },
  {
   "cell_type": "code",
   "execution_count": 288,
   "metadata": {},
   "outputs": [
    {
     "name": "stdout",
     "output_type": "stream",
     "text": [
      "         A    B    C\n",
      "0      1.0  0.0  0.0\n",
      "1      1.0  0.0  0.0\n",
      "2      1.0  0.0  0.0\n",
      "3      1.0  0.0  0.0\n",
      "4      0.0  0.0  1.0\n",
      "5      1.0  0.0  0.0\n",
      "6      0.0  1.0  0.0\n",
      "7      0.0  1.0  0.0\n",
      "8      0.0  1.0  0.0\n",
      "9      1.0  0.0  0.0\n",
      "10     1.0  0.0  0.0\n",
      "11     1.0  0.0  0.0\n",
      "12     1.0  0.0  0.0\n",
      "13     1.0  0.0  0.0\n",
      "14     1.0  0.0  0.0\n",
      "15     1.0  0.0  0.0\n",
      "16     1.0  0.0  0.0\n",
      "17     1.0  0.0  0.0\n",
      "18     0.0  1.0  0.0\n",
      "19     0.0  0.0  1.0\n",
      "20     0.0  0.0  1.0\n",
      "21     0.0  0.0  1.0\n",
      "22     0.0  0.0  1.0\n",
      "23     0.0  0.0  1.0\n",
      "24     0.0  0.0  1.0\n",
      "25     0.0  0.0  1.0\n",
      "26     0.0  0.0  1.0\n",
      "27     0.0  0.0  1.0\n",
      "28     0.0  0.0  1.0\n",
      "29     0.0  1.0  0.0\n",
      "...    ...  ...  ...\n",
      "65469  1.0  0.0  0.0\n",
      "65470  1.0  0.0  0.0\n",
      "65471  1.0  0.0  0.0\n",
      "65472  1.0  0.0  0.0\n",
      "65473  1.0  0.0  0.0\n",
      "65474  1.0  0.0  0.0\n",
      "65475  1.0  0.0  0.0\n",
      "65476  1.0  0.0  0.0\n",
      "65477  1.0  0.0  0.0\n",
      "65478  1.0  0.0  0.0\n",
      "65479  1.0  0.0  0.0\n",
      "65480  1.0  0.0  0.0\n",
      "65481  1.0  0.0  0.0\n",
      "65482  1.0  0.0  0.0\n",
      "65483  1.0  0.0  0.0\n",
      "65484  1.0  0.0  0.0\n",
      "65485  1.0  0.0  0.0\n",
      "65486  1.0  0.0  0.0\n",
      "65487  1.0  0.0  0.0\n",
      "65488  1.0  0.0  0.0\n",
      "65489  1.0  0.0  0.0\n",
      "65490  1.0  0.0  0.0\n",
      "65491  1.0  0.0  0.0\n",
      "65492  1.0  0.0  0.0\n",
      "65493  1.0  0.0  0.0\n",
      "65494  1.0  0.0  0.0\n",
      "65495  1.0  0.0  0.0\n",
      "65496  1.0  0.0  0.0\n",
      "65497  1.0  0.0  0.0\n",
      "65498  1.0  0.0  0.0\n",
      "\n",
      "[65499 rows x 3 columns]\n"
     ]
    }
   ],
   "source": [
    "dfCityCat = pd.DataFrame(data=city_cat_onehot_encoded, columns=City_Cat_Columns)\n",
    "print(dfCityCat)"
   ]
  },
  {
   "cell_type": "markdown",
   "metadata": {},
   "source": [
    "# Merging Data Frames of One Hot Encoded Data"
   ]
  },
  {
   "cell_type": "code",
   "execution_count": 289,
   "metadata": {
    "collapsed": true
   },
   "outputs": [],
   "source": [
    "df2 = pd.concat([df, dfGender, dfAge, dfOccupation, dfCityCat], axis=1, join='inner')"
   ]
  },
  {
   "cell_type": "code",
   "execution_count": 290,
   "metadata": {},
   "outputs": [
    {
     "name": "stdout",
     "output_type": "stream",
     "text": [
      "       User_ID Product_ID Gender    Age  Occupation City_Category  \\\n",
      "0      1000001  P00069042      F   0-17          10             A   \n",
      "1      1000001  P00248942      F   0-17          10             A   \n",
      "2      1000001  P00087842      F   0-17          10             A   \n",
      "3      1000001  P00085442      F   0-17          10             A   \n",
      "4      1000002  P00285442      M    55+          16             C   \n",
      "5      1000003  P00193542      M  26-35          15             A   \n",
      "6      1000004  P00184942      M  46-50           7             B   \n",
      "7      1000004  P00346142      M  46-50           7             B   \n",
      "8      1000004   P0097242      M  46-50           7             B   \n",
      "9      1000005  P00274942      M  26-35          20             A   \n",
      "10     1000005  P00251242      M  26-35          20             A   \n",
      "11     1000005  P00014542      M  26-35          20             A   \n",
      "12     1000005  P00031342      M  26-35          20             A   \n",
      "13     1000005  P00145042      M  26-35          20             A   \n",
      "14     1000006  P00231342      F  51-55           9             A   \n",
      "15     1000006  P00190242      F  51-55           9             A   \n",
      "16     1000006   P0096642      F  51-55           9             A   \n",
      "17     1000006  P00058442      F  51-55           9             A   \n",
      "18     1000007  P00036842      M  36-45           1             B   \n",
      "19     1000008  P00249542      M  26-35          12             C   \n",
      "20     1000008  P00220442      M  26-35          12             C   \n",
      "21     1000008  P00156442      M  26-35          12             C   \n",
      "22     1000008  P00213742      M  26-35          12             C   \n",
      "23     1000008  P00214442      M  26-35          12             C   \n",
      "24     1000008  P00303442      M  26-35          12             C   \n",
      "25     1000009  P00135742      M  26-35          17             C   \n",
      "26     1000009  P00039942      M  26-35          17             C   \n",
      "27     1000009  P00161442      M  26-35          17             C   \n",
      "28     1000009  P00078742      M  26-35          17             C   \n",
      "29     1000010  P00085942      F  36-45           1             B   \n",
      "...        ...        ...    ...    ...         ...           ...   \n",
      "65469  1004028  P00005142      M  26-35           4             A   \n",
      "65470  1004028  P00285842      M  26-35           4             A   \n",
      "65471  1004028  P00259342      M  26-35           4             A   \n",
      "65472  1004028  P00296242      M  26-35           4             A   \n",
      "65473  1004028  P00251942      M  26-35           4             A   \n",
      "65474  1004028  P00233642      M  26-35           4             A   \n",
      "65475  1004028  P00233842      M  26-35           4             A   \n",
      "65476  1004028  P00114942      M  26-35           4             A   \n",
      "65477  1004028  P00125942      M  26-35           4             A   \n",
      "65478  1004028  P00220142      M  26-35           4             A   \n",
      "65479  1004028  P00242742      M  26-35           4             A   \n",
      "65480  1004028  P00042142      M  26-35           4             A   \n",
      "65481  1004028  P00271142      M  26-35           4             A   \n",
      "65482  1004028  P00129442      M  26-35           4             A   \n",
      "65483  1004028  P00282742      M  26-35           4             A   \n",
      "65484  1004028  P00282242      M  26-35           4             A   \n",
      "65485  1004028  P00140442      M  26-35           4             A   \n",
      "65486  1004028  P00016042      M  26-35           4             A   \n",
      "65487  1004028  P00187142      M  26-35           4             A   \n",
      "65488  1004028  P00042842      M  26-35           4             A   \n",
      "65489  1004028  P00283942      M  26-35           4             A   \n",
      "65490  1004028  P00327542      M  26-35           4             A   \n",
      "65491  1004028  P00013742      M  26-35           4             A   \n",
      "65492  1004028  P00074242      M  26-35           4             A   \n",
      "65493  1004028  P00298942      M  26-35           4             A   \n",
      "65494  1004028  P00128342      M  26-35           4             A   \n",
      "65495  1004028  P00344842      M  26-35           4             A   \n",
      "65496  1004028  P00120142      M  26-35           4             A   \n",
      "65497  1004028  P00107442      M  26-35           4             A   \n",
      "65498  1004028  P00134142      M  26-35           4             A   \n",
      "\n",
      "      Stay_In_Current_City_Years  Marital_Status  Product_Category_1  \\\n",
      "0                              2               0                   3   \n",
      "1                              2               0                   1   \n",
      "2                              2               0                  12   \n",
      "3                              2               0                  12   \n",
      "4                             4+               0                   8   \n",
      "5                              3               0                   1   \n",
      "6                              2               1                   1   \n",
      "7                              2               1                   1   \n",
      "8                              2               1                   1   \n",
      "9                              1               1                   8   \n",
      "10                             1               1                   5   \n",
      "11                             1               1                   8   \n",
      "12                             1               1                   8   \n",
      "13                             1               1                   1   \n",
      "14                             1               0                   5   \n",
      "15                             1               0                   4   \n",
      "16                             1               0                   2   \n",
      "17                             1               0                   5   \n",
      "18                             1               1                   1   \n",
      "19                            4+               1                   1   \n",
      "20                            4+               1                   5   \n",
      "21                            4+               1                   8   \n",
      "22                            4+               1                   8   \n",
      "23                            4+               1                   8   \n",
      "24                            4+               1                   1   \n",
      "25                             0               0                   6   \n",
      "26                             0               0                   8   \n",
      "27                             0               0                   5   \n",
      "28                             0               0                   5   \n",
      "29                            4+               1                   2   \n",
      "...                          ...             ...                 ...   \n",
      "65469                          2               0                   5   \n",
      "65470                          2               0                   5   \n",
      "65471                          2               0                   5   \n",
      "65472                          2               0                   8   \n",
      "65473                          2               0                   1   \n",
      "65474                          2               0                   1   \n",
      "65475                          2               0                   1   \n",
      "65476                          2               0                   1   \n",
      "65477                          2               0                   1   \n",
      "65478                          2               0                   1   \n",
      "65479                          2               0                   1   \n",
      "65480                          2               0                   1   \n",
      "65481                          2               0                   5   \n",
      "65482                          2               0                   5   \n",
      "65483                          2               0                   5   \n",
      "65484                          2               0                   5   \n",
      "65485                          2               0                   1   \n",
      "65486                          2               0                   1   \n",
      "65487                          2               0                   2   \n",
      "65488                          2               0                   5   \n",
      "65489                          2               0                   5   \n",
      "65490                          2               0                   5   \n",
      "65491                          2               0                   5   \n",
      "65492                          2               0                   5   \n",
      "65493                          2               0                   1   \n",
      "65494                          2               0                   5   \n",
      "65495                          2               0                   5   \n",
      "65496                          2               0                   5   \n",
      "65497                          2               0                   5   \n",
      "65498                          2               0                   5   \n",
      "\n",
      "       Product_Category_2 ...    14   15   16   17   18   19   20    A    B  \\\n",
      "0                     NaN ...   0.0  0.0  0.0  0.0  0.0  0.0  0.0  1.0  0.0   \n",
      "1                     6.0 ...   0.0  0.0  0.0  0.0  0.0  0.0  0.0  1.0  0.0   \n",
      "2                     NaN ...   0.0  0.0  0.0  0.0  0.0  0.0  0.0  1.0  0.0   \n",
      "3                    14.0 ...   0.0  0.0  0.0  0.0  0.0  0.0  0.0  1.0  0.0   \n",
      "4                     NaN ...   0.0  0.0  1.0  0.0  0.0  0.0  0.0  0.0  0.0   \n",
      "5                     2.0 ...   0.0  1.0  0.0  0.0  0.0  0.0  0.0  1.0  0.0   \n",
      "6                     8.0 ...   0.0  0.0  0.0  0.0  0.0  0.0  0.0  0.0  1.0   \n",
      "7                    15.0 ...   0.0  0.0  0.0  0.0  0.0  0.0  0.0  0.0  1.0   \n",
      "8                    16.0 ...   0.0  0.0  0.0  0.0  0.0  0.0  0.0  0.0  1.0   \n",
      "9                     NaN ...   0.0  0.0  0.0  0.0  0.0  0.0  1.0  1.0  0.0   \n",
      "10                   11.0 ...   0.0  0.0  0.0  0.0  0.0  0.0  1.0  1.0  0.0   \n",
      "11                    NaN ...   0.0  0.0  0.0  0.0  0.0  0.0  1.0  1.0  0.0   \n",
      "12                    NaN ...   0.0  0.0  0.0  0.0  0.0  0.0  1.0  1.0  0.0   \n",
      "13                    2.0 ...   0.0  0.0  0.0  0.0  0.0  0.0  1.0  1.0  0.0   \n",
      "14                    8.0 ...   0.0  0.0  0.0  0.0  0.0  0.0  0.0  1.0  0.0   \n",
      "15                    5.0 ...   0.0  0.0  0.0  0.0  0.0  0.0  0.0  1.0  0.0   \n",
      "16                    3.0 ...   0.0  0.0  0.0  0.0  0.0  0.0  0.0  1.0  0.0   \n",
      "17                   14.0 ...   0.0  0.0  0.0  0.0  0.0  0.0  0.0  1.0  0.0   \n",
      "18                   14.0 ...   0.0  0.0  0.0  0.0  0.0  0.0  0.0  0.0  1.0   \n",
      "19                    5.0 ...   0.0  0.0  0.0  0.0  0.0  0.0  0.0  0.0  0.0   \n",
      "20                   14.0 ...   0.0  0.0  0.0  0.0  0.0  0.0  0.0  0.0  0.0   \n",
      "21                    NaN ...   0.0  0.0  0.0  0.0  0.0  0.0  0.0  0.0  0.0   \n",
      "22                    NaN ...   0.0  0.0  0.0  0.0  0.0  0.0  0.0  0.0  0.0   \n",
      "23                    NaN ...   0.0  0.0  0.0  0.0  0.0  0.0  0.0  0.0  0.0   \n",
      "24                    8.0 ...   0.0  0.0  0.0  0.0  0.0  0.0  0.0  0.0  0.0   \n",
      "25                    8.0 ...   0.0  0.0  0.0  1.0  0.0  0.0  0.0  0.0  0.0   \n",
      "26                    NaN ...   0.0  0.0  0.0  1.0  0.0  0.0  0.0  0.0  0.0   \n",
      "27                   14.0 ...   0.0  0.0  0.0  1.0  0.0  0.0  0.0  0.0  0.0   \n",
      "28                    8.0 ...   0.0  0.0  0.0  1.0  0.0  0.0  0.0  0.0  0.0   \n",
      "29                    4.0 ...   0.0  0.0  0.0  0.0  0.0  0.0  0.0  0.0  1.0   \n",
      "...                   ... ...   ...  ...  ...  ...  ...  ...  ...  ...  ...   \n",
      "65469                 NaN ...   0.0  0.0  0.0  0.0  0.0  0.0  0.0  1.0  0.0   \n",
      "65470                 NaN ...   0.0  0.0  0.0  0.0  0.0  0.0  0.0  1.0  0.0   \n",
      "65471                 9.0 ...   0.0  0.0  0.0  0.0  0.0  0.0  0.0  1.0  0.0   \n",
      "65472                 NaN ...   0.0  0.0  0.0  0.0  0.0  0.0  0.0  1.0  0.0   \n",
      "65473                 2.0 ...   0.0  0.0  0.0  0.0  0.0  0.0  0.0  1.0  0.0   \n",
      "65474                15.0 ...   0.0  0.0  0.0  0.0  0.0  0.0  0.0  1.0  0.0   \n",
      "65475                15.0 ...   0.0  0.0  0.0  0.0  0.0  0.0  0.0  1.0  0.0   \n",
      "65476                15.0 ...   0.0  0.0  0.0  0.0  0.0  0.0  0.0  1.0  0.0   \n",
      "65477                 2.0 ...   0.0  0.0  0.0  0.0  0.0  0.0  0.0  1.0  0.0   \n",
      "65478                15.0 ...   0.0  0.0  0.0  0.0  0.0  0.0  0.0  1.0  0.0   \n",
      "65479                 2.0 ...   0.0  0.0  0.0  0.0  0.0  0.0  0.0  1.0  0.0   \n",
      "65480                 2.0 ...   0.0  0.0  0.0  0.0  0.0  0.0  0.0  1.0  0.0   \n",
      "65481                 NaN ...   0.0  0.0  0.0  0.0  0.0  0.0  0.0  1.0  0.0   \n",
      "65482                 8.0 ...   0.0  0.0  0.0  0.0  0.0  0.0  0.0  1.0  0.0   \n",
      "65483                 NaN ...   0.0  0.0  0.0  0.0  0.0  0.0  0.0  1.0  0.0   \n",
      "65484                 8.0 ...   0.0  0.0  0.0  0.0  0.0  0.0  0.0  1.0  0.0   \n",
      "65485                 6.0 ...   0.0  0.0  0.0  0.0  0.0  0.0  0.0  1.0  0.0   \n",
      "65486                16.0 ...   0.0  0.0  0.0  0.0  0.0  0.0  0.0  1.0  0.0   \n",
      "65487                 4.0 ...   0.0  0.0  0.0  0.0  0.0  0.0  0.0  1.0  0.0   \n",
      "65488                 NaN ...   0.0  0.0  0.0  0.0  0.0  0.0  0.0  1.0  0.0   \n",
      "65489                 NaN ...   0.0  0.0  0.0  0.0  0.0  0.0  0.0  1.0  0.0   \n",
      "65490                 NaN ...   0.0  0.0  0.0  0.0  0.0  0.0  0.0  1.0  0.0   \n",
      "65491                 NaN ...   0.0  0.0  0.0  0.0  0.0  0.0  0.0  1.0  0.0   \n",
      "65492                 NaN ...   0.0  0.0  0.0  0.0  0.0  0.0  0.0  1.0  0.0   \n",
      "65493                 5.0 ...   0.0  0.0  0.0  0.0  0.0  0.0  0.0  1.0  0.0   \n",
      "65494                12.0 ...   0.0  0.0  0.0  0.0  0.0  0.0  0.0  1.0  0.0   \n",
      "65495                 NaN ...   0.0  0.0  0.0  0.0  0.0  0.0  0.0  1.0  0.0   \n",
      "65496                 NaN ...   0.0  0.0  0.0  0.0  0.0  0.0  0.0  1.0  0.0   \n",
      "65497                 NaN ...   0.0  0.0  0.0  0.0  0.0  0.0  0.0  1.0  0.0   \n",
      "65498                 NaN ...   0.0  0.0  0.0  0.0  0.0  0.0  0.0  1.0  0.0   \n",
      "\n",
      "         C  \n",
      "0      0.0  \n",
      "1      0.0  \n",
      "2      0.0  \n",
      "3      0.0  \n",
      "4      1.0  \n",
      "5      0.0  \n",
      "6      0.0  \n",
      "7      0.0  \n",
      "8      0.0  \n",
      "9      0.0  \n",
      "10     0.0  \n",
      "11     0.0  \n",
      "12     0.0  \n",
      "13     0.0  \n",
      "14     0.0  \n",
      "15     0.0  \n",
      "16     0.0  \n",
      "17     0.0  \n",
      "18     0.0  \n",
      "19     1.0  \n",
      "20     1.0  \n",
      "21     1.0  \n",
      "22     1.0  \n",
      "23     1.0  \n",
      "24     1.0  \n",
      "25     1.0  \n",
      "26     1.0  \n",
      "27     1.0  \n",
      "28     1.0  \n",
      "29     0.0  \n",
      "...    ...  \n",
      "65469  0.0  \n",
      "65470  0.0  \n",
      "65471  0.0  \n",
      "65472  0.0  \n",
      "65473  0.0  \n",
      "65474  0.0  \n",
      "65475  0.0  \n",
      "65476  0.0  \n",
      "65477  0.0  \n",
      "65478  0.0  \n",
      "65479  0.0  \n",
      "65480  0.0  \n",
      "65481  0.0  \n",
      "65482  0.0  \n",
      "65483  0.0  \n",
      "65484  0.0  \n",
      "65485  0.0  \n",
      "65486  0.0  \n",
      "65487  0.0  \n",
      "65488  0.0  \n",
      "65489  0.0  \n",
      "65490  0.0  \n",
      "65491  0.0  \n",
      "65492  0.0  \n",
      "65493  0.0  \n",
      "65494  0.0  \n",
      "65495  0.0  \n",
      "65496  0.0  \n",
      "65497  0.0  \n",
      "65498  0.0  \n",
      "\n",
      "[65499 rows x 45 columns]\n"
     ]
    }
   ],
   "source": [
    "print(df2)"
   ]
  },
  {
   "cell_type": "code",
   "execution_count": 291,
   "metadata": {},
   "outputs": [
    {
     "name": "stdout",
     "output_type": "stream",
     "text": [
      "<class 'pandas.core.frame.DataFrame'>\n",
      "RangeIndex: 65499 entries, 0 to 65498\n",
      "Data columns (total 45 columns):\n",
      "User_ID                       65499 non-null int64\n",
      "Product_ID                    65499 non-null object\n",
      "Gender                        65499 non-null object\n",
      "Age                           65499 non-null object\n",
      "Occupation                    65499 non-null int64\n",
      "City_Category                 65499 non-null object\n",
      "Stay_In_Current_City_Years    65499 non-null object\n",
      "Marital_Status                65499 non-null int64\n",
      "Product_Category_1            65499 non-null int64\n",
      "Product_Category_2            44908 non-null float64\n",
      "Product_Category_3            19886 non-null float64\n",
      "Purchase                      65499 non-null int64\n",
      "F                             65499 non-null float64\n",
      "M                             65499 non-null float64\n",
      "0-17                          65499 non-null float64\n",
      "18-25                         65499 non-null float64\n",
      "26-35                         65499 non-null float64\n",
      "36-45                         65499 non-null float64\n",
      "46-50                         65499 non-null float64\n",
      "51-55                         65499 non-null float64\n",
      "55+                           65499 non-null float64\n",
      "0                             65499 non-null float64\n",
      "1                             65499 non-null float64\n",
      "2                             65499 non-null float64\n",
      "3                             65499 non-null float64\n",
      "4                             65499 non-null float64\n",
      "5                             65499 non-null float64\n",
      "6                             65499 non-null float64\n",
      "7                             65499 non-null float64\n",
      "8                             65499 non-null float64\n",
      "9                             65499 non-null float64\n",
      "10                            65499 non-null float64\n",
      "11                            65499 non-null float64\n",
      "12                            65499 non-null float64\n",
      "13                            65499 non-null float64\n",
      "14                            65499 non-null float64\n",
      "15                            65499 non-null float64\n",
      "16                            65499 non-null float64\n",
      "17                            65499 non-null float64\n",
      "18                            65499 non-null float64\n",
      "19                            65499 non-null float64\n",
      "20                            65499 non-null float64\n",
      "A                             65499 non-null float64\n",
      "B                             65499 non-null float64\n",
      "C                             65499 non-null float64\n",
      "dtypes: float64(35), int64(5), object(5)\n",
      "memory usage: 22.5+ MB\n",
      "None\n"
     ]
    }
   ],
   "source": [
    "print(df2.info())"
   ]
  },
  {
   "cell_type": "markdown",
   "metadata": {},
   "source": [
    "## Split Data into train (75%) and test(25%) data sets\n"
   ]
  },
  {
   "cell_type": "code",
   "execution_count": 292,
   "metadata": {
    "collapsed": true
   },
   "outputs": [],
   "source": [
    "trainDataEndLoc = int(len(df2)*.75)\n",
    "testDataStartLoc = trainDataEndLoc + 1"
   ]
  },
  {
   "cell_type": "code",
   "execution_count": 293,
   "metadata": {},
   "outputs": [
    {
     "name": "stdout",
     "output_type": "stream",
     "text": [
      "   User_ID Product_ID Gender    Age  Occupation City_Category  \\\n",
      "0  1000001  P00069042      F   0-17          10             A   \n",
      "1  1000001  P00248942      F   0-17          10             A   \n",
      "2  1000001  P00087842      F   0-17          10             A   \n",
      "3  1000001  P00085442      F   0-17          10             A   \n",
      "4  1000002  P00285442      M    55+          16             C   \n",
      "5  1000003  P00193542      M  26-35          15             A   \n",
      "6  1000004  P00184942      M  46-50           7             B   \n",
      "7  1000004  P00346142      M  46-50           7             B   \n",
      "8  1000004   P0097242      M  46-50           7             B   \n",
      "9  1000005  P00274942      M  26-35          20             A   \n",
      "\n",
      "  Stay_In_Current_City_Years  Marital_Status  Product_Category_1  \\\n",
      "0                          2               0                   3   \n",
      "1                          2               0                   1   \n",
      "2                          2               0                  12   \n",
      "3                          2               0                  12   \n",
      "4                         4+               0                   8   \n",
      "5                          3               0                   1   \n",
      "6                          2               1                   1   \n",
      "7                          2               1                   1   \n",
      "8                          2               1                   1   \n",
      "9                          1               1                   8   \n",
      "\n",
      "   Product_Category_2 ...    14   15   16   17   18   19   20    A    B    C  \n",
      "0                 NaN ...   0.0  0.0  0.0  0.0  0.0  0.0  0.0  1.0  0.0  0.0  \n",
      "1                 6.0 ...   0.0  0.0  0.0  0.0  0.0  0.0  0.0  1.0  0.0  0.0  \n",
      "2                 NaN ...   0.0  0.0  0.0  0.0  0.0  0.0  0.0  1.0  0.0  0.0  \n",
      "3                14.0 ...   0.0  0.0  0.0  0.0  0.0  0.0  0.0  1.0  0.0  0.0  \n",
      "4                 NaN ...   0.0  0.0  1.0  0.0  0.0  0.0  0.0  0.0  0.0  1.0  \n",
      "5                 2.0 ...   0.0  1.0  0.0  0.0  0.0  0.0  0.0  1.0  0.0  0.0  \n",
      "6                 8.0 ...   0.0  0.0  0.0  0.0  0.0  0.0  0.0  0.0  1.0  0.0  \n",
      "7                15.0 ...   0.0  0.0  0.0  0.0  0.0  0.0  0.0  0.0  1.0  0.0  \n",
      "8                16.0 ...   0.0  0.0  0.0  0.0  0.0  0.0  0.0  0.0  1.0  0.0  \n",
      "9                 NaN ...   0.0  0.0  0.0  0.0  0.0  0.0  1.0  1.0  0.0  0.0  \n",
      "\n",
      "[10 rows x 45 columns]\n",
      "<class 'pandas.core.frame.DataFrame'>\n",
      "RangeIndex: 49124 entries, 0 to 49123\n",
      "Data columns (total 45 columns):\n",
      "User_ID                       49124 non-null int64\n",
      "Product_ID                    49124 non-null object\n",
      "Gender                        49124 non-null object\n",
      "Age                           49124 non-null object\n",
      "Occupation                    49124 non-null int64\n",
      "City_Category                 49124 non-null object\n",
      "Stay_In_Current_City_Years    49124 non-null object\n",
      "Marital_Status                49124 non-null int64\n",
      "Product_Category_1            49124 non-null int64\n",
      "Product_Category_2            33691 non-null float64\n",
      "Product_Category_3            14915 non-null float64\n",
      "Purchase                      49124 non-null int64\n",
      "F                             49124 non-null float64\n",
      "M                             49124 non-null float64\n",
      "0-17                          49124 non-null float64\n",
      "18-25                         49124 non-null float64\n",
      "26-35                         49124 non-null float64\n",
      "36-45                         49124 non-null float64\n",
      "46-50                         49124 non-null float64\n",
      "51-55                         49124 non-null float64\n",
      "55+                           49124 non-null float64\n",
      "0                             49124 non-null float64\n",
      "1                             49124 non-null float64\n",
      "2                             49124 non-null float64\n",
      "3                             49124 non-null float64\n",
      "4                             49124 non-null float64\n",
      "5                             49124 non-null float64\n",
      "6                             49124 non-null float64\n",
      "7                             49124 non-null float64\n",
      "8                             49124 non-null float64\n",
      "9                             49124 non-null float64\n",
      "10                            49124 non-null float64\n",
      "11                            49124 non-null float64\n",
      "12                            49124 non-null float64\n",
      "13                            49124 non-null float64\n",
      "14                            49124 non-null float64\n",
      "15                            49124 non-null float64\n",
      "16                            49124 non-null float64\n",
      "17                            49124 non-null float64\n",
      "18                            49124 non-null float64\n",
      "19                            49124 non-null float64\n",
      "20                            49124 non-null float64\n",
      "A                             49124 non-null float64\n",
      "B                             49124 non-null float64\n",
      "C                             49124 non-null float64\n",
      "dtypes: float64(35), int64(5), object(5)\n",
      "memory usage: 16.9+ MB\n",
      "None\n"
     ]
    }
   ],
   "source": [
    "trainDf = df2.iloc[0:trainDataEndLoc,:]\n",
    "print(trainDf.head(10))\n",
    "print(trainDf.info())"
   ]
  },
  {
   "cell_type": "code",
   "execution_count": 294,
   "metadata": {},
   "outputs": [
    {
     "name": "stdout",
     "output_type": "stream",
     "text": [
      "   User_ID Product_ID Gender    Age  Occupation City_Category  \\\n",
      "0  1000001  P00069042      F   0-17          10             A   \n",
      "1  1000001  P00248942      F   0-17          10             A   \n",
      "2  1000001  P00087842      F   0-17          10             A   \n",
      "3  1000001  P00085442      F   0-17          10             A   \n",
      "4  1000002  P00285442      M    55+          16             C   \n",
      "5  1000003  P00193542      M  26-35          15             A   \n",
      "6  1000004  P00184942      M  46-50           7             B   \n",
      "7  1000004  P00346142      M  46-50           7             B   \n",
      "8  1000004   P0097242      M  46-50           7             B   \n",
      "9  1000005  P00274942      M  26-35          20             A   \n",
      "\n",
      "  Stay_In_Current_City_Years  Marital_Status  Product_Category_1  \\\n",
      "0                          2               0                   3   \n",
      "1                          2               0                   1   \n",
      "2                          2               0                  12   \n",
      "3                          2               0                  12   \n",
      "4                         4+               0                   8   \n",
      "5                          3               0                   1   \n",
      "6                          2               1                   1   \n",
      "7                          2               1                   1   \n",
      "8                          2               1                   1   \n",
      "9                          1               1                   8   \n",
      "\n",
      "   Product_Category_2 ...    14   15   16   17   18   19   20    A    B    C  \n",
      "0                 NaN ...   0.0  0.0  0.0  0.0  0.0  0.0  0.0  1.0  0.0  0.0  \n",
      "1                 6.0 ...   0.0  0.0  0.0  0.0  0.0  0.0  0.0  1.0  0.0  0.0  \n",
      "2                 NaN ...   0.0  0.0  0.0  0.0  0.0  0.0  0.0  1.0  0.0  0.0  \n",
      "3                14.0 ...   0.0  0.0  0.0  0.0  0.0  0.0  0.0  1.0  0.0  0.0  \n",
      "4                 NaN ...   0.0  0.0  1.0  0.0  0.0  0.0  0.0  0.0  0.0  1.0  \n",
      "5                 2.0 ...   0.0  1.0  0.0  0.0  0.0  0.0  0.0  1.0  0.0  0.0  \n",
      "6                 8.0 ...   0.0  0.0  0.0  0.0  0.0  0.0  0.0  0.0  1.0  0.0  \n",
      "7                15.0 ...   0.0  0.0  0.0  0.0  0.0  0.0  0.0  0.0  1.0  0.0  \n",
      "8                16.0 ...   0.0  0.0  0.0  0.0  0.0  0.0  0.0  0.0  1.0  0.0  \n",
      "9                 NaN ...   0.0  0.0  0.0  0.0  0.0  0.0  1.0  1.0  0.0  0.0  \n",
      "\n",
      "[10 rows x 45 columns]\n",
      "<class 'pandas.core.frame.DataFrame'>\n",
      "RangeIndex: 49125 entries, 0 to 49124\n",
      "Data columns (total 45 columns):\n",
      "User_ID                       49125 non-null int64\n",
      "Product_ID                    49125 non-null object\n",
      "Gender                        49125 non-null object\n",
      "Age                           49125 non-null object\n",
      "Occupation                    49125 non-null int64\n",
      "City_Category                 49125 non-null object\n",
      "Stay_In_Current_City_Years    49125 non-null object\n",
      "Marital_Status                49125 non-null int64\n",
      "Product_Category_1            49125 non-null int64\n",
      "Product_Category_2            33691 non-null float64\n",
      "Product_Category_3            14915 non-null float64\n",
      "Purchase                      49125 non-null int64\n",
      "F                             49125 non-null float64\n",
      "M                             49125 non-null float64\n",
      "0-17                          49125 non-null float64\n",
      "18-25                         49125 non-null float64\n",
      "26-35                         49125 non-null float64\n",
      "36-45                         49125 non-null float64\n",
      "46-50                         49125 non-null float64\n",
      "51-55                         49125 non-null float64\n",
      "55+                           49125 non-null float64\n",
      "0                             49125 non-null float64\n",
      "1                             49125 non-null float64\n",
      "2                             49125 non-null float64\n",
      "3                             49125 non-null float64\n",
      "4                             49125 non-null float64\n",
      "5                             49125 non-null float64\n",
      "6                             49125 non-null float64\n",
      "7                             49125 non-null float64\n",
      "8                             49125 non-null float64\n",
      "9                             49125 non-null float64\n",
      "10                            49125 non-null float64\n",
      "11                            49125 non-null float64\n",
      "12                            49125 non-null float64\n",
      "13                            49125 non-null float64\n",
      "14                            49125 non-null float64\n",
      "15                            49125 non-null float64\n",
      "16                            49125 non-null float64\n",
      "17                            49125 non-null float64\n",
      "18                            49125 non-null float64\n",
      "19                            49125 non-null float64\n",
      "20                            49125 non-null float64\n",
      "A                             49125 non-null float64\n",
      "B                             49125 non-null float64\n",
      "C                             49125 non-null float64\n",
      "dtypes: float64(35), int64(5), object(5)\n",
      "memory usage: 16.9+ MB\n",
      "None\n"
     ]
    }
   ],
   "source": [
    "testDf = df2.iloc[0:testDataStartLoc,:]\n",
    "print(testDf.head(10))\n",
    "print(testDf.info())"
   ]
  },
  {
   "cell_type": "markdown",
   "metadata": {},
   "source": [
    "## Feature Engineering\n",
    "\n",
    "    -Aggregate user data by user \n",
    "    -Count # categories user has spent in\n",
    "\t-Product category unique count"
   ]
  },
  {
   "cell_type": "code",
   "execution_count": 295,
   "metadata": {},
   "outputs": [
    {
     "name": "stdout",
     "output_type": "stream",
     "text": [
      "User_ID\n",
      "1000001     7778.200000\n",
      "1000002     7483.400000\n",
      "1000003    12486.750000\n",
      "1000004    16651.750000\n",
      "1000005     6335.500000\n",
      "1000006     7808.666667\n",
      "1000007    11538.666667\n",
      "1000008    11197.000000\n",
      "1000009     9121.166667\n",
      "1000010    10809.594595\n",
      "1000011     9711.000000\n",
      "1000012    11055.500000\n",
      "1000013    10268.500000\n",
      "1000014     5570.500000\n",
      "1000015    10185.368421\n",
      "1000016     8569.666667\n",
      "1000017    13438.600000\n",
      "1000018    11749.583333\n",
      "1000019     9800.461538\n",
      "1000020    13606.500000\n",
      "1000021     3055.000000\n",
      "1000022     7697.950000\n",
      "1000023    10498.629630\n",
      "1000024     7529.714286\n",
      "1000025    15015.600000\n",
      "1000026     7796.000000\n",
      "1000027    11733.000000\n",
      "1000028     8811.333333\n",
      "1000029    14742.600000\n",
      "1000030     6942.666667\n",
      "               ...     \n",
      "1006008    15553.000000\n",
      "1006009    10047.500000\n",
      "1006010    11074.733333\n",
      "1006011     5400.750000\n",
      "1006012     7534.750000\n",
      "1006013     8744.500000\n",
      "1006014     5190.000000\n",
      "1006015     6787.500000\n",
      "1006016     8123.617647\n",
      "1006017     7870.000000\n",
      "1006018    11988.500000\n",
      "1006019    11768.000000\n",
      "1006020    23640.000000\n",
      "1006021    11532.333333\n",
      "1006022     5358.500000\n",
      "1006023    12848.285714\n",
      "1006024    11069.000000\n",
      "1006025     7615.625000\n",
      "1006026     8261.333333\n",
      "1006027    11651.000000\n",
      "1006030    10258.250000\n",
      "1006031     6349.600000\n",
      "1006032     6879.250000\n",
      "1006033    16456.750000\n",
      "1006034    20287.500000\n",
      "1006035     8471.400000\n",
      "1006036     6770.310345\n",
      "1006037    10824.625000\n",
      "1006039     6295.500000\n",
      "1006040     8707.272727\n",
      "Name: Purchase, Length: 5411, dtype: float64\n"
     ]
    }
   ],
   "source": [
    "AverageUserPurchaseAmount = testDf.groupby(by='User_ID')['Purchase'].mean()\n",
    "print(AverageUserPurchaseAmount)"
   ]
  },
  {
   "cell_type": "code",
   "execution_count": 304,
   "metadata": {},
   "outputs": [
    {
     "data": {
      "image/png": "[encoded data removed]",
      "text/plain": [
       "<matplotlib.figure.Figure at 0x1167d4dd8>"
      ]
     },
     "metadata": {},
     "output_type": "display_data"
    }
   ],
   "source": [
    "plt.hist(AverageUserPurchaseAmount, bins = 50)\n",
    "plt.xlabel('Average Purchase Amount per User')\n",
    "plt.ylabel('Count')\n",
    "plt.title('Average Purchase Amount per User')\n",
    "plt.show()\n"
   ]
  },
  {
   "cell_type": "code",
   "execution_count": 297,
   "metadata": {},
   "outputs": [
    {
     "name": "stdout",
     "output_type": "stream",
     "text": [
      "User_ID\n",
      "1000001     5\n",
      "1000002     5\n",
      "1000003     4\n",
      "1000004     4\n",
      "1000005     8\n",
      "1000006     9\n",
      "1000007     3\n",
      "1000008    12\n",
      "1000009     6\n",
      "1000010    37\n",
      "1000011     7\n",
      "1000012     2\n",
      "1000013     6\n",
      "1000014     4\n",
      "1000015    19\n",
      "1000016     3\n",
      "1000017    15\n",
      "1000018    24\n",
      "1000019    26\n",
      "1000020     2\n",
      "1000021     1\n",
      "1000022    20\n",
      "1000023    27\n",
      "1000024     7\n",
      "1000025     5\n",
      "1000026    25\n",
      "1000027     5\n",
      "1000028     9\n",
      "1000029     5\n",
      "1000030     3\n",
      "           ..\n",
      "1006008     1\n",
      "1006009     4\n",
      "1006010    15\n",
      "1006011     4\n",
      "1006012     4\n",
      "1006013     4\n",
      "1006014     6\n",
      "1006015     2\n",
      "1006016    34\n",
      "1006017     1\n",
      "1006018     4\n",
      "1006019     2\n",
      "1006020     1\n",
      "1006021     3\n",
      "1006022     2\n",
      "1006023     7\n",
      "1006024     3\n",
      "1006025     8\n",
      "1006026     3\n",
      "1006027     3\n",
      "1006030     4\n",
      "1006031     5\n",
      "1006032     4\n",
      "1006033     4\n",
      "1006034     2\n",
      "1006035     5\n",
      "1006036    29\n",
      "1006037     8\n",
      "1006039     8\n",
      "1006040    11\n",
      "Name: Purchase, Length: 5411, dtype: int64\n",
      "137\n"
     ]
    }
   ],
   "source": [
    "NumberOfPurchases = testDf.groupby(by='User_ID')['Purchase'].count()\n",
    "print(NumberOfPurchases)\n",
    "print(max(NumberOfPurchases))"
   ]
  },
  {
   "cell_type": "code",
   "execution_count": 305,
   "metadata": {},
   "outputs": [
    {
     "data": {
      "image/png": "[encoded data removed]",
      "text/plain": [
       "<matplotlib.figure.Figure at 0x1225778d0>"
      ]
     },
     "metadata": {},
     "output_type": "display_data"
    }
   ],
   "source": [
    "import matplotlib.pyplot as plt\n",
    "plt.hist(NumberOfPurchases, bins = 25)\n",
    "plt.xlabel('Number of purchases')\n",
    "plt.ylabel('Count')\n",
    "plt.title('Number of purchases per user')\n",
    "plt.show()"
   ]
  },
  {
   "cell_type": "code",
   "execution_count": 299,
   "metadata": {},
   "outputs": [
    {
     "name": "stdout",
     "output_type": "stream",
     "text": [
      "Age\n",
      "0-17      1401\n",
      "18-25     9390\n",
      "26-35    19330\n",
      "36-45     9758\n",
      "46-50     3923\n",
      "51-55     3450\n",
      "55+       1873\n",
      "Name: Purchase, dtype: int64\n",
      "<class 'pandas.core.series.Series'>\n",
      "<class 'pandas.core.frame.DataFrame'>\n"
     ]
    },
    {
     "data": {
      "text/plain": [
       "'18-25'"
      ]
     },
     "execution_count": 299,
     "metadata": {},
     "output_type": "execute_result"
    }
   ],
   "source": [
    "NumPurchByAge = testDf.groupby(by='Age')['Purchase'].count()\n",
    "print(NumPurchByAge)\n",
    "print(type(NumPurchByAge))\n",
    "NumPurchByAgeDf = pd.DataFrame(NumPurchByAge)\n",
    "print(type(NumPurchByAgeDf))\n",
    "NumPurchByAge.index[1]"
   ]
  },
  {
   "cell_type": "code",
   "execution_count": 307,
   "metadata": {},
   "outputs": [
    {
     "data": {
      "text/plain": [
       "[<matplotlib.text.Text at 0x122284e48>,\n",
       " <matplotlib.text.Text at 0x122298cf8>,\n",
       " <matplotlib.text.Text at 0x12240a5c0>]"
      ]
     },
     "execution_count": 307,
     "metadata": {},
     "output_type": "execute_result"
    }
   ],
   "source": [
    "import seaborn as sns\n",
    "\n",
    "x= NumPurchByAgeDf.index\n",
    "x = list(x)\n",
    "y = list(NumPurchByAgeDf['Purchase'][:])\n",
    "\n",
    "ax = sns.barplot(x= x, y= y, data=NumPurchByAgeDf)\n",
    "ax.set(xlabel='Age Groups', ylabel='Number of purchases', title='Number of purchases by age')\n"
   ]
  },
  {
   "cell_type": "code",
   "execution_count": 308,
   "metadata": {},
   "outputs": [
    {
     "data": {
      "image/png": "[encoded data removed]",
      "text/plain": [
       "<matplotlib.figure.Figure at 0x122581e48>"
      ]
     },
     "metadata": {},
     "output_type": "display_data"
    }
   ],
   "source": [
    "plt.show()"
   ]
  },
  {
   "cell_type": "code",
   "execution_count": 309,
   "metadata": {},
   "outputs": [
    {
     "name": "stdout",
     "output_type": "stream",
     "text": [
      "Age\n",
      "0-17     9094.816560\n",
      "18-25    9183.259957\n",
      "26-35    9271.921366\n",
      "36-45    9339.228530\n",
      "46-50    9160.588325\n",
      "51-55    9676.060000\n",
      "55+      9364.434597\n",
      "Name: Purchase, dtype: float64\n"
     ]
    }
   ],
   "source": [
    "AvgPurchByAge = testDf.groupby(by='Age')['Purchase'].mean()\n",
    "print(AvgPurchByAge)"
   ]
  },
  {
   "cell_type": "code",
   "execution_count": 310,
   "metadata": {},
   "outputs": [
    {
     "data": {
      "image/png": "[encoded data removed]",
      "text/plain": [
       "<matplotlib.figure.Figure at 0x1224283c8>"
      ]
     },
     "metadata": {},
     "output_type": "display_data"
    }
   ],
   "source": [
    "plt.gcf().clear()\n",
    "x1= AvgPurchByAge.index\n",
    "AvgPurchByAgeDf = pd.DataFrame(AvgPurchByAge)\n",
    "x1 = list(x1)\n",
    "y1 = list(AvgPurchByAgeDf['Purchase'][:])\n",
    "\n",
    "ax = sns.barplot(x= x1, y= y1, data=AvgPurchByAgeDf)\n",
    "ax.set(xlabel='Age Groups', ylabel='Average purchase amount', title='Average purchase amount by age')\n",
    "\n",
    "plt.show()"
   ]
  },
  {
   "cell_type": "code",
   "execution_count": null,
   "metadata": {
    "collapsed": true
   },
   "outputs": [],
   "source": [
    "plt.gcf().clear()\n",
    "\n",
    "TotalPurchByID = testDf.groupby(by='User_ID')['Purchase'].sum()\n",
    "x2= TotalPurchByID.index\n",
    "TotalPurchByIDDf = pd.DataFrame(TotalPurchByID)\n",
    "x2 = list(x2)\n",
    "y2 = list(TotalPurchByIDDf['Purchase'][:])\n",
    "\n",
    "ax = sns.barplot(x= x2, y= y2, data= TotalPurchByIDDf)\n",
    "ax.set(xlabel='Total Purchase Amount', ylabel='Average purchase amount', title='Average purchase amount by age')\n",
    "\n",
    "plt.show()"
   ]
  },
  {
   "cell_type": "code",
   "execution_count": 316,
   "metadata": {},
   "outputs": [
    {
     "name": "stdout",
     "output_type": "stream",
     "text": [
      "5411\n"
     ]
    }
   ],
   "source": [
    "#Number of unique users\n",
    "print(len(set(testDf['User_ID'])))"
   ]
  },
  {
   "cell_type": "code",
   "execution_count": 322,
   "metadata": {},
   "outputs": [
    {
     "name": "stdout",
     "output_type": "stream",
     "text": [
      "User_ID  Product_Category_1\n",
      "1000001  1                                                               [15200]\n",
      "         2                                                               [12842]\n",
      "         3                                                                [8370]\n",
      "         12                                                         [1422, 1057]\n",
      "1000002  1                                                                [7927]\n",
      "         5                                                                [5260]\n",
      "         8                                                   [7969, 6187, 10074]\n",
      "1000003  1                                                 [15227, 12103, 15424]\n",
      "         5                                                                [7193]\n",
      "1000004  1                                          [19215, 15854, 15686, 15852]\n",
      "1000005  1                                                               [15665]\n",
      "         5                                                          [5254, 3488]\n",
      "         8                                        [7871, 3957, 6073, 4213, 4163]\n",
      "1000006  2                                                               [13055]\n",
      "         3                                                               [10574]\n",
      "         4                                                                [2079]\n",
      "         5                                              [5378, 8851, 6914, 5293]\n",
      "         6                                                                [8210]\n",
      "         8                                                                [9924]\n",
      "1000007  1                                                        [11788, 15447]\n",
      "         11                                                               [7381]\n",
      "1000008  1                                          [19614, 11927, 19203, 15857]\n",
      "         5                                                                [8584]\n",
      "         8                            [9872, 9743, 5982, 9713, 7875, 8125, 7869]\n",
      "1000009  1                                                               [11877]\n",
      "         5                                                          [6973, 5391]\n",
      "         6                                                               [16662]\n",
      "         8                                                          [5887, 7937]\n",
      "1000010  1                     [15212, 15705, 18963, 11562, 15247, 15499, 196...\n",
      "         2                                          [16352, 12909, 16406, 15887]\n",
      "                                                     ...                        \n",
      "1006031  8                                                                [8049]\n",
      "         18                                                                [768]\n",
      "1006032  5                                                          [8603, 8630]\n",
      "         8                                                                [7889]\n",
      "         18                                                               [2395]\n",
      "1006033  1                                                 [19322, 19671, 19013]\n",
      "         8                                                                [7821]\n",
      "1006034  6                                                        [20317, 20258]\n",
      "1006035  1                                                               [19402]\n",
      "         5                                                          [5263, 1763]\n",
      "         8                                                         [5866, 10063]\n",
      "1006036  1                                                   [7641, 11791, 7948]\n",
      "         2                                                          [9993, 9656]\n",
      "         3                                                         [13468, 8413]\n",
      "         4                                                                [2111]\n",
      "         5                     [3759, 1955, 7096, 7010, 5416, 6988, 5347, 689...\n",
      "         8                                  [9852, 3989, 7930, 7992, 6074, 7877]\n",
      "         11                                                               [1708]\n",
      "         16                                                               [8593]\n",
      "1006037  1                                                        [15769, 19401]\n",
      "         5                                                                [6948]\n",
      "         8                                             [4258, 10081, 7874, 7859]\n",
      "         10                                                              [14407]\n",
      "1006039  3                                                               [10653]\n",
      "         5                                  [5413, 5461, 6916, 6907, 7068, 7173]\n",
      "         13                                                                [773]\n",
      "1006040  1                                                        [19153, 15894]\n",
      "         5                                                    [3603, 3583, 1962]\n",
      "         6                                                               [15983]\n",
      "         8                                        [5937, 6059, 9751, 5918, 7937]\n",
      "Name: Purchase, Length: 19355, dtype: object\n"
     ]
    }
   ],
   "source": [
    "#Count number of categories user has spent in\n",
    "noodz = testDf.groupby(by=['User_ID', 'Product_Category_1'])['Purchase'].unique()\n",
    "print(noodz)"
   ]
  },
  {
   "cell_type": "code",
   "execution_count": null,
   "metadata": {
    "collapsed": true
   },
   "outputs": [],
   "source": [
    "Product category unique count"
   ]
  }
 ],
 "metadata": {
  "kernelspec": {
   "display_name": "Python 3",
   "language": "python",
   "name": "python3"
  }
 },
 "nbformat": 4,
 "nbformat_minor": 2
}
