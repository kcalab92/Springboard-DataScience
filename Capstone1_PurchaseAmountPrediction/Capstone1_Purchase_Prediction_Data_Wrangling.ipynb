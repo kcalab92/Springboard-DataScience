{
 "cells": [
  {
   "cell_type": "code",
   "execution_count": 91,
   "metadata": {
    "collapsed": true
   },
   "outputs": [],
   "source": [
    "import pandas as pd\n",
    "import numpy as np"
   ]
  },
  {
   "cell_type": "code",
   "execution_count": 92,
   "metadata": {
    "collapsed": true
   },
   "outputs": [],
   "source": [
    "df = pd.read_csv('train1.csv') "
   ]
  },
  {
   "cell_type": "code",
   "execution_count": 93,
   "metadata": {},
   "outputs": [
    {
     "name": "stdout",
     "output_type": "stream",
     "text": [
      "    User_ID Product_ID Gender    Age  Occupation City_Category  \\\n",
      "0   1000001  P00069042      F   0-17          10             A   \n",
      "1   1000001  P00248942      F   0-17          10             A   \n",
      "2   1000001  P00087842      F   0-17          10             A   \n",
      "3   1000001  P00085442      F   0-17          10             A   \n",
      "4   1000002  P00285442      M    55+          16             C   \n",
      "5   1000003  P00193542      M  26-35          15             A   \n",
      "6   1000004  P00184942      M  46-50           7             B   \n",
      "7   1000004  P00346142      M  46-50           7             B   \n",
      "8   1000004   P0097242      M  46-50           7             B   \n",
      "9   1000005  P00274942      M  26-35          20             A   \n",
      "10  1000005  P00251242      M  26-35          20             A   \n",
      "11  1000005  P00014542      M  26-35          20             A   \n",
      "12  1000005  P00031342      M  26-35          20             A   \n",
      "13  1000005  P00145042      M  26-35          20             A   \n",
      "14  1000006  P00231342      F  51-55           9             A   \n",
      "15  1000006  P00190242      F  51-55           9             A   \n",
      "16  1000006   P0096642      F  51-55           9             A   \n",
      "17  1000006  P00058442      F  51-55           9             A   \n",
      "18  1000007  P00036842      M  36-45           1             B   \n",
      "19  1000008  P00249542      M  26-35          12             C   \n",
      "20  1000008  P00220442      M  26-35          12             C   \n",
      "21  1000008  P00156442      M  26-35          12             C   \n",
      "22  1000008  P00213742      M  26-35          12             C   \n",
      "23  1000008  P00214442      M  26-35          12             C   \n",
      "24  1000008  P00303442      M  26-35          12             C   \n",
      "25  1000009  P00135742      M  26-35          17             C   \n",
      "26  1000009  P00039942      M  26-35          17             C   \n",
      "27  1000009  P00161442      M  26-35          17             C   \n",
      "28  1000009  P00078742      M  26-35          17             C   \n",
      "29  1000010  P00085942      F  36-45           1             B   \n",
      "..      ...        ...    ...    ...         ...           ...   \n",
      "70  1000018  P00366542      F  18-25           3             B   \n",
      "71  1000018  P00190742      F  18-25           3             B   \n",
      "72  1000018  P00151842      F  18-25           3             B   \n",
      "73  1000018  P00112642      F  18-25           3             B   \n",
      "74  1000018  P00118442      F  18-25           3             B   \n",
      "75  1000018  P00034442      F  18-25           3             B   \n",
      "76  1000018  P00222242      F  18-25           3             B   \n",
      "77  1000018  P00118342      F  18-25           3             B   \n",
      "78  1000018  P00324742      F  18-25           3             B   \n",
      "79  1000018  P00190042      F  18-25           3             B   \n",
      "80  1000018   P0094142      F  18-25           3             B   \n",
      "81  1000018  P00138542      F  18-25           3             B   \n",
      "82  1000018  P00158542      F  18-25           3             B   \n",
      "83  1000018  P00157542      F  18-25           3             B   \n",
      "84  1000018  P00044142      F  18-25           3             B   \n",
      "85  1000019  P00112542      M   0-17          10             A   \n",
      "86  1000019  P00339542      M   0-17          10             A   \n",
      "87  1000019  P00127842      M   0-17          10             A   \n",
      "88  1000019  P00125942      M   0-17          10             A   \n",
      "89  1000019  P00251342      M   0-17          10             A   \n",
      "90  1000019  P00249642      M   0-17          10             A   \n",
      "91  1000019  P00124842      M   0-17          10             A   \n",
      "92  1000019  P00250642      M   0-17          10             A   \n",
      "93  1000019  P00058142      M   0-17          10             A   \n",
      "94  1000019  P00117442      M   0-17          10             A   \n",
      "95  1000019  P00251642      M   0-17          10             A   \n",
      "96  1000019  P00244842      M   0-17          10             A   \n",
      "97  1000021  P00220242      M  18-25          16             B   \n",
      "98  1000022  P00351142      M  18-25          15             A   \n",
      "99  1000022  P00213242      M  18-25          15             A   \n",
      "\n",
      "   Stay_In_Current_City_Years  Marital_Status  Product_Category_1  \\\n",
      "0                           2               0                   3   \n",
      "1                           2               0                   1   \n",
      "2                           2               0                  12   \n",
      "3                           2               0                  12   \n",
      "4                          4+               0                   8   \n",
      "5                           3               0                   1   \n",
      "6                           2               1                   1   \n",
      "7                           2               1                   1   \n",
      "8                           2               1                   1   \n",
      "9                           1               1                   8   \n",
      "10                          1               1                   5   \n",
      "11                          1               1                   8   \n",
      "12                          1               1                   8   \n",
      "13                          1               1                   1   \n",
      "14                          1               0                   5   \n",
      "15                          1               0                   4   \n",
      "16                          1               0                   2   \n",
      "17                          1               0                   5   \n",
      "18                          1               1                   1   \n",
      "19                         4+               1                   1   \n",
      "20                         4+               1                   5   \n",
      "21                         4+               1                   8   \n",
      "22                         4+               1                   8   \n",
      "23                         4+               1                   8   \n",
      "24                         4+               1                   1   \n",
      "25                          0               0                   6   \n",
      "26                          0               0                   8   \n",
      "27                          0               0                   5   \n",
      "28                          0               0                   5   \n",
      "29                         4+               1                   2   \n",
      "..                        ...             ...                 ...   \n",
      "70                          3               0                   5   \n",
      "71                          3               0                   3   \n",
      "72                          3               0                   4   \n",
      "73                          3               0                   1   \n",
      "74                          3               0                   1   \n",
      "75                          3               0                   1   \n",
      "76                          3               0                   1   \n",
      "77                          3               0                   2   \n",
      "78                          3               0                   2   \n",
      "79                          3               0                   3   \n",
      "80                          3               0                   4   \n",
      "81                          3               0                   5   \n",
      "82                          3               0                   5   \n",
      "83                          3               0                   8   \n",
      "84                          3               0                   8   \n",
      "85                          3               0                   1   \n",
      "86                          3               0                   1   \n",
      "87                          3               0                   1   \n",
      "88                          3               0                   1   \n",
      "89                          3               0                   5   \n",
      "90                          3               0                   3   \n",
      "91                          3               0                  11   \n",
      "92                          3               0                  11   \n",
      "93                          3               0                   3   \n",
      "94                          3               0                   5   \n",
      "95                          3               0                   1   \n",
      "96                          3               0                  11   \n",
      "97                          0               0                   3   \n",
      "98                         4+               0                   1   \n",
      "99                         4+               0                   5   \n",
      "\n",
      "    Product_Category_2  Product_Category_3  Purchase  \n",
      "0                  NaN                 NaN      8370  \n",
      "1                  6.0                14.0     15200  \n",
      "2                  NaN                 NaN      1422  \n",
      "3                 14.0                 NaN      1057  \n",
      "4                  NaN                 NaN      7969  \n",
      "5                  2.0                 NaN     15227  \n",
      "6                  8.0                17.0     19215  \n",
      "7                 15.0                 NaN     15854  \n",
      "8                 16.0                 NaN     15686  \n",
      "9                  NaN                 NaN      7871  \n",
      "10                11.0                 NaN      5254  \n",
      "11                 NaN                 NaN      3957  \n",
      "12                 NaN                 NaN      6073  \n",
      "13                 2.0                 5.0     15665  \n",
      "14                 8.0                14.0      5378  \n",
      "15                 5.0                 NaN      2079  \n",
      "16                 3.0                 4.0     13055  \n",
      "17                14.0                 NaN      8851  \n",
      "18                14.0                16.0     11788  \n",
      "19                 5.0                15.0     19614  \n",
      "20                14.0                 NaN      8584  \n",
      "21                 NaN                 NaN      9872  \n",
      "22                 NaN                 NaN      9743  \n",
      "23                 NaN                 NaN      5982  \n",
      "24                 8.0                14.0     11927  \n",
      "25                 8.0                 NaN     16662  \n",
      "26                 NaN                 NaN      5887  \n",
      "27                14.0                 NaN      6973  \n",
      "28                 8.0                14.0      5391  \n",
      "29                 4.0                 8.0     16352  \n",
      "..                 ...                 ...       ...  \n",
      "70                 NaN                 NaN      1780  \n",
      "71                 4.0                 9.0     10754  \n",
      "72                 8.0                 9.0      2802  \n",
      "73                 2.0                 5.0     19473  \n",
      "74                 2.0                 NaN     19672  \n",
      "75                14.0                16.0     19313  \n",
      "76                 2.0                13.0     15182  \n",
      "77                 3.0                15.0     15985  \n",
      "78                 9.0                14.0     16454  \n",
      "79                 4.0                 5.0     13551  \n",
      "80                 5.0                 NaN       697  \n",
      "81                 6.0                 NaN      7030  \n",
      "82                 6.0                13.0      5430  \n",
      "83                14.0                 NaN      8011  \n",
      "84                16.0                 NaN      5912  \n",
      "85                11.0                15.0      7746  \n",
      "86                 NaN                 NaN     19525  \n",
      "87                 2.0                15.0     11959  \n",
      "88                 2.0                15.0     19172  \n",
      "89                11.0                 NaN      8773  \n",
      "90                 5.0                 NaN     11023  \n",
      "91                 NaN                 NaN      4654  \n",
      "92                 NaN                 NaN      4664  \n",
      "93                 4.0                12.0      8290  \n",
      "94                14.0                 NaN      7011  \n",
      "95                 2.0                 4.0      4211  \n",
      "96                 NaN                 NaN      1539  \n",
      "97                12.0                 NaN      3055  \n",
      "98                 8.0                17.0     12099  \n",
      "99                 8.0                 NaN      8797  \n",
      "\n",
      "[100 rows x 12 columns]\n"
     ]
    }
   ],
   "source": [
    "print(df.head(100))"
   ]
  },
  {
   "cell_type": "code",
   "execution_count": 94,
   "metadata": {},
   "outputs": [
    {
     "name": "stdout",
     "output_type": "stream",
     "text": [
      "<class 'pandas.core.frame.DataFrame'>\n",
      "RangeIndex: 65499 entries, 0 to 65498\n",
      "Data columns (total 12 columns):\n",
      "User_ID                       65499 non-null int64\n",
      "Product_ID                    65499 non-null object\n",
      "Gender                        65499 non-null object\n",
      "Age                           65499 non-null object\n",
      "Occupation                    65499 non-null int64\n",
      "City_Category                 65499 non-null object\n",
      "Stay_In_Current_City_Years    65499 non-null object\n",
      "Marital_Status                65499 non-null int64\n",
      "Product_Category_1            65499 non-null int64\n",
      "Product_Category_2            44908 non-null float64\n",
      "Product_Category_3            19886 non-null float64\n",
      "Purchase                      65499 non-null int64\n",
      "dtypes: float64(2), int64(5), object(5)\n",
      "memory usage: 6.0+ MB\n",
      "None\n"
     ]
    }
   ],
   "source": [
    "print(df.info())"
   ]
  },
  {
   "cell_type": "code",
   "execution_count": 95,
   "metadata": {},
   "outputs": [
    {
     "name": "stdout",
     "output_type": "stream",
     "text": [
      "User_ID\n",
      "0\n",
      "Product_ID\n",
      "0\n",
      "Gender\n",
      "0\n",
      "Age\n",
      "0\n",
      "Occupation\n",
      "0\n",
      "City_Category\n",
      "0\n",
      "Stay_In_Current_City_Years\n",
      "0\n",
      "Marital_Status\n",
      "0\n",
      "Product_Category_1\n",
      "0\n",
      "Product_Category_2\n",
      "20591\n",
      "0\n",
      "Product_Category_3\n"
     ]
    },
    {
     "name": "stderr",
     "output_type": "stream",
     "text": [
      "/anaconda/lib/python3.6/site-packages/ipykernel_launcher.py:13: SettingWithCopyWarning: \n",
      "A value is trying to be set on a copy of a slice from a DataFrame\n",
      "\n",
      "See the caveats in the documentation: http://pandas.pydata.org/pandas-docs/stable/indexing.html#indexing-view-versus-copy\n",
      "  del sys.path[0]\n"
     ]
    },
    {
     "name": "stdout",
     "output_type": "stream",
     "text": [
      "45613\n",
      "0\n",
      "Purchase\n",
      "0\n"
     ]
    }
   ],
   "source": [
    "# From examing data in previous two lines it is evident that there is missing values in  \n",
    "# columns Product_Category_2 and Product_Category_3\n",
    "# The Below script iterates through the columns of the dataframe, locates null values, \n",
    "# And sums all instances of a null value. If the column contains at least one null value\n",
    "# Then it sets all instances of the Nan value to 0\n",
    "\n",
    "for column in df:\n",
    "    print(column)\n",
    "    isnul = df[column].isnull()\n",
    "    totalNull = sum(isnul)\n",
    "    print(totalNull)\n",
    "    if totalNull != 0:\n",
    "        df[column][isnul] = 0\n",
    "        isnul = df[column].isnull()\n",
    "        totalNull = sum(isnul)\n",
    "        print(totalNull)"
   ]
  },
  {
   "cell_type": "code",
   "execution_count": 96,
   "metadata": {},
   "outputs": [
    {
     "name": "stdout",
     "output_type": "stream",
     "text": [
      "       Product_Category_2  Product_Category_3\n",
      "0                     0.0                 0.0\n",
      "1                     6.0                14.0\n",
      "2                     0.0                 0.0\n",
      "3                    14.0                 0.0\n",
      "4                     0.0                 0.0\n",
      "5                     2.0                 0.0\n",
      "6                     8.0                17.0\n",
      "7                    15.0                 0.0\n",
      "8                    16.0                 0.0\n",
      "9                     0.0                 0.0\n",
      "10                   11.0                 0.0\n",
      "11                    0.0                 0.0\n",
      "12                    0.0                 0.0\n",
      "13                    2.0                 5.0\n",
      "14                    8.0                14.0\n",
      "15                    5.0                 0.0\n",
      "16                    3.0                 4.0\n",
      "17                   14.0                 0.0\n",
      "18                   14.0                16.0\n",
      "19                    5.0                15.0\n",
      "20                   14.0                 0.0\n",
      "21                    0.0                 0.0\n",
      "22                    0.0                 0.0\n",
      "23                    0.0                 0.0\n",
      "24                    8.0                14.0\n",
      "25                    8.0                 0.0\n",
      "26                    0.0                 0.0\n",
      "27                   14.0                 0.0\n",
      "28                    8.0                14.0\n",
      "29                    4.0                 8.0\n",
      "...                   ...                 ...\n",
      "65469                 0.0                 0.0\n",
      "65470                 0.0                 0.0\n",
      "65471                 9.0                 0.0\n",
      "65472                 0.0                 0.0\n",
      "65473                 2.0                 5.0\n",
      "65474                15.0                 0.0\n",
      "65475                15.0                 0.0\n",
      "65476                15.0                16.0\n",
      "65477                 2.0                15.0\n",
      "65478                15.0                 0.0\n",
      "65479                 2.0                 9.0\n",
      "65480                 2.0                 6.0\n",
      "65481                 0.0                 0.0\n",
      "65482                 8.0                 0.0\n",
      "65483                 0.0                 0.0\n",
      "65484                 8.0                17.0\n",
      "65485                 6.0                14.0\n",
      "65486                16.0                 0.0\n",
      "65487                 4.0                 5.0\n",
      "65488                 0.0                 0.0\n",
      "65489                 0.0                 0.0\n",
      "65490                 0.0                 0.0\n",
      "65491                 0.0                 0.0\n",
      "65492                 0.0                 0.0\n",
      "65493                 5.0                 0.0\n",
      "65494                12.0                14.0\n",
      "65495                 0.0                 0.0\n",
      "65496                 0.0                 0.0\n",
      "65497                 0.0                 0.0\n",
      "65498                 0.0                 0.0\n",
      "\n",
      "[65499 rows x 2 columns]\n"
     ]
    }
   ],
   "source": [
    "# Checks that all Nan values have been replaced with 0\n",
    "print(df[['Product_Category_2', 'Product_Category_3']])"
   ]
  },
  {
   "cell_type": "code",
   "execution_count": 97,
   "metadata": {
    "collapsed": true
   },
   "outputs": [],
   "source": [
    "from numpy import array\n",
    "from numpy import argmax\n",
    "from sklearn.preprocessing import LabelEncoder\n",
    "from sklearn.preprocessing import OneHotEncoder"
   ]
  },
  {
   "cell_type": "markdown",
   "metadata": {},
   "source": [
    "# Example of hot one encoding \n",
    "\n",
    "[How To Hot One Encode Sequence Data In Python](https://machinelearningmastery.com/how-to-one-hot-encode-sequence-data-in-python// \"Title\")"
   ]
  },
  {
   "cell_type": "code",
   "execution_count": 98,
   "metadata": {},
   "outputs": [
    {
     "name": "stdout",
     "output_type": "stream",
     "text": [
      "['cold' 'cold' 'warm' 'cold' 'hot' 'hot' 'warm' 'cold' 'warm' 'hot']\n",
      "<class 'numpy.ndarray'>\n"
     ]
    }
   ],
   "source": [
    "# The next four sections of code are from an online example on how to hot one encode data\n",
    "# I learned how this code works by running each section and then in later rows apply it to my data\n",
    "data = ['cold', 'cold', 'warm', 'cold', 'hot', 'hot', 'warm', 'cold', 'warm', 'hot']\n",
    "values = array(data)\n",
    "print(values)\n",
    "print(type(values))"
   ]
  },
  {
   "cell_type": "code",
   "execution_count": 99,
   "metadata": {},
   "outputs": [
    {
     "name": "stdout",
     "output_type": "stream",
     "text": [
      "[0 0 2 0 1 1 2 0 2 1]\n"
     ]
    }
   ],
   "source": [
    "# integer encode\n",
    "label_encoder = LabelEncoder()\n",
    "integer_encoded = label_encoder.fit_transform(values)\n",
    "print(integer_encoded)"
   ]
  },
  {
   "cell_type": "code",
   "execution_count": 100,
   "metadata": {},
   "outputs": [
    {
     "name": "stdout",
     "output_type": "stream",
     "text": [
      "[[ 1.  0.  0.]\n",
      " [ 1.  0.  0.]\n",
      " [ 0.  0.  1.]\n",
      " [ 1.  0.  0.]\n",
      " [ 0.  1.  0.]\n",
      " [ 0.  1.  0.]\n",
      " [ 0.  0.  1.]\n",
      " [ 1.  0.  0.]\n",
      " [ 0.  0.  1.]\n",
      " [ 0.  1.  0.]]\n"
     ]
    }
   ],
   "source": [
    "# binary encode\n",
    "onehot_encoder = OneHotEncoder(sparse=False)\n",
    "integer_encoded = integer_encoded.reshape(len(integer_encoded), 1)\n",
    "onehot_encoded = onehot_encoder.fit_transform(integer_encoded)\n",
    "print(onehot_encoded)"
   ]
  },
  {
   "cell_type": "code",
   "execution_count": 101,
   "metadata": {},
   "outputs": [
    {
     "name": "stdout",
     "output_type": "stream",
     "text": [
      "['cold']\n"
     ]
    }
   ],
   "source": [
    "# invert first example\n",
    "inverted = label_encoder.inverse_transform([argmax(onehot_encoded[0, :])])\n",
    "print(inverted)"
   ]
  },
  {
   "cell_type": "markdown",
   "metadata": {},
   "source": [
    "# Hot One Encoding My Data Based On the Example"
   ]
  },
  {
   "cell_type": "markdown",
   "metadata": {},
   "source": [
    "## Hot One Encoding Gender"
   ]
  },
  {
   "cell_type": "code",
   "execution_count": 102,
   "metadata": {
    "collapsed": true
   },
   "outputs": [],
   "source": [
    "# Define an array containing gender column data from df\n",
    "gender = array(df['Gender']) "
   ]
  },
  {
   "cell_type": "code",
   "execution_count": 103,
   "metadata": {},
   "outputs": [
    {
     "name": "stdout",
     "output_type": "stream",
     "text": [
      "[0 0 0 ..., 1 1 1]\n"
     ]
    }
   ],
   "source": [
    "# integer encode the gender data from the gender array\n",
    "label_encoder = LabelEncoder()\n",
    "gender_integer_encoded = label_encoder.fit_transform(gender)\n",
    "print(gender_integer_encoded)"
   ]
  },
  {
   "cell_type": "code",
   "execution_count": 104,
   "metadata": {},
   "outputs": [
    {
     "name": "stdout",
     "output_type": "stream",
     "text": [
      "[[ 1.  0.]\n",
      " [ 1.  0.]\n",
      " [ 1.  0.]\n",
      " ..., \n",
      " [ 0.  1.]\n",
      " [ 0.  1.]\n",
      " [ 0.  1.]]\n",
      "<class 'numpy.ndarray'>\n"
     ]
    }
   ],
   "source": [
    "# binary encode the gender data from the integer encoded data\n",
    "onehot_encoder = OneHotEncoder(sparse=False)\n",
    "gender_integer_encoded = gender_integer_encoded.reshape(len(gender_integer_encoded), 1)\n",
    "gender_onehot_encoded = onehot_encoder.fit_transform(gender_integer_encoded)\n",
    "print(gender_onehot_encoded)\n",
    "print(type(gender_onehot_encoded))"
   ]
  },
  {
   "cell_type": "code",
   "execution_count": 105,
   "metadata": {},
   "outputs": [
    {
     "name": "stdout",
     "output_type": "stream",
     "text": [
      "         F    M\n",
      "0      1.0  0.0\n",
      "1      1.0  0.0\n",
      "2      1.0  0.0\n",
      "3      1.0  0.0\n",
      "4      0.0  1.0\n",
      "5      0.0  1.0\n",
      "6      0.0  1.0\n",
      "7      0.0  1.0\n",
      "8      0.0  1.0\n",
      "9      0.0  1.0\n",
      "10     0.0  1.0\n",
      "11     0.0  1.0\n",
      "12     0.0  1.0\n",
      "13     0.0  1.0\n",
      "14     1.0  0.0\n",
      "15     1.0  0.0\n",
      "16     1.0  0.0\n",
      "17     1.0  0.0\n",
      "18     0.0  1.0\n",
      "19     0.0  1.0\n",
      "20     0.0  1.0\n",
      "21     0.0  1.0\n",
      "22     0.0  1.0\n",
      "23     0.0  1.0\n",
      "24     0.0  1.0\n",
      "25     0.0  1.0\n",
      "26     0.0  1.0\n",
      "27     0.0  1.0\n",
      "28     0.0  1.0\n",
      "29     1.0  0.0\n",
      "...    ...  ...\n",
      "65469  0.0  1.0\n",
      "65470  0.0  1.0\n",
      "65471  0.0  1.0\n",
      "65472  0.0  1.0\n",
      "65473  0.0  1.0\n",
      "65474  0.0  1.0\n",
      "65475  0.0  1.0\n",
      "65476  0.0  1.0\n",
      "65477  0.0  1.0\n",
      "65478  0.0  1.0\n",
      "65479  0.0  1.0\n",
      "65480  0.0  1.0\n",
      "65481  0.0  1.0\n",
      "65482  0.0  1.0\n",
      "65483  0.0  1.0\n",
      "65484  0.0  1.0\n",
      "65485  0.0  1.0\n",
      "65486  0.0  1.0\n",
      "65487  0.0  1.0\n",
      "65488  0.0  1.0\n",
      "65489  0.0  1.0\n",
      "65490  0.0  1.0\n",
      "65491  0.0  1.0\n",
      "65492  0.0  1.0\n",
      "65493  0.0  1.0\n",
      "65494  0.0  1.0\n",
      "65495  0.0  1.0\n",
      "65496  0.0  1.0\n",
      "65497  0.0  1.0\n",
      "65498  0.0  1.0\n",
      "\n",
      "[65499 rows x 2 columns]\n"
     ]
    }
   ],
   "source": [
    "# Converts the hot one encoded data into a dataframe with columns 'F' for female and 'M' for male\n",
    "dfGender = pd.DataFrame(data=gender_onehot_encoded, columns=['F','M'])\n",
    "print(dfGender)"
   ]
  },
  {
   "cell_type": "markdown",
   "metadata": {},
   "source": [
    "## Hot One Encoding Age"
   ]
  },
  {
   "cell_type": "code",
   "execution_count": 106,
   "metadata": {
    "collapsed": true
   },
   "outputs": [],
   "source": [
    "# Define an array containing age column data from df\n",
    "ageArray = array(df['Age'])"
   ]
  },
  {
   "cell_type": "code",
   "execution_count": 107,
   "metadata": {},
   "outputs": [
    {
     "name": "stdout",
     "output_type": "stream",
     "text": [
      "[0 0 0 ..., 2 2 2]\n"
     ]
    }
   ],
   "source": [
    "# integer encode the gender data from the age array\n",
    "label_encoder = LabelEncoder()\n",
    "age_integer_encoded = label_encoder.fit_transform(ageArray)\n",
    "print(age_integer_encoded)"
   ]
  },
  {
   "cell_type": "code",
   "execution_count": 108,
   "metadata": {},
   "outputs": [
    {
     "name": "stdout",
     "output_type": "stream",
     "text": [
      "[[ 1.  0.  0. ...,  0.  0.  0.]\n",
      " [ 1.  0.  0. ...,  0.  0.  0.]\n",
      " [ 1.  0.  0. ...,  0.  0.  0.]\n",
      " ..., \n",
      " [ 0.  0.  1. ...,  0.  0.  0.]\n",
      " [ 0.  0.  1. ...,  0.  0.  0.]\n",
      " [ 0.  0.  1. ...,  0.  0.  0.]]\n"
     ]
    }
   ],
   "source": [
    "# binary encode the age data from the integer encoded data\n",
    "onehot_encoder = OneHotEncoder(sparse=False)\n",
    "age_integer_encoded = age_integer_encoded.reshape(len(age_integer_encoded), 1)\n",
    "age_onehot_encoded = onehot_encoder.fit_transform(age_integer_encoded)\n",
    "print(age_onehot_encoded)"
   ]
  },
  {
   "cell_type": "code",
   "execution_count": 109,
   "metadata": {},
   "outputs": [
    {
     "name": "stdout",
     "output_type": "stream",
     "text": [
      "['0-17', '18-25', '26-35', '36-45', '46-50', '51-55', '55+']\n"
     ]
    }
   ],
   "source": [
    "#Creates a set of column titles based on the age range categories\n",
    "ageColumns = set(df['Age'])\n",
    "ageColumns = list(ageColumns)\n",
    "ageColumns.sort()\n",
    "print(ageColumns)"
   ]
  },
  {
   "cell_type": "code",
   "execution_count": 110,
   "metadata": {},
   "outputs": [
    {
     "name": "stdout",
     "output_type": "stream",
     "text": [
      "       0-17  18-25  26-35  36-45  46-50  51-55  55+\n",
      "0       1.0    0.0    0.0    0.0    0.0    0.0  0.0\n",
      "1       1.0    0.0    0.0    0.0    0.0    0.0  0.0\n",
      "2       1.0    0.0    0.0    0.0    0.0    0.0  0.0\n",
      "3       1.0    0.0    0.0    0.0    0.0    0.0  0.0\n",
      "4       0.0    0.0    0.0    0.0    0.0    0.0  1.0\n",
      "5       0.0    0.0    1.0    0.0    0.0    0.0  0.0\n",
      "6       0.0    0.0    0.0    0.0    1.0    0.0  0.0\n",
      "7       0.0    0.0    0.0    0.0    1.0    0.0  0.0\n",
      "8       0.0    0.0    0.0    0.0    1.0    0.0  0.0\n",
      "9       0.0    0.0    1.0    0.0    0.0    0.0  0.0\n",
      "10      0.0    0.0    1.0    0.0    0.0    0.0  0.0\n",
      "11      0.0    0.0    1.0    0.0    0.0    0.0  0.0\n",
      "12      0.0    0.0    1.0    0.0    0.0    0.0  0.0\n",
      "13      0.0    0.0    1.0    0.0    0.0    0.0  0.0\n",
      "14      0.0    0.0    0.0    0.0    0.0    1.0  0.0\n",
      "15      0.0    0.0    0.0    0.0    0.0    1.0  0.0\n",
      "16      0.0    0.0    0.0    0.0    0.0    1.0  0.0\n",
      "17      0.0    0.0    0.0    0.0    0.0    1.0  0.0\n",
      "18      0.0    0.0    0.0    1.0    0.0    0.0  0.0\n",
      "19      0.0    0.0    1.0    0.0    0.0    0.0  0.0\n",
      "20      0.0    0.0    1.0    0.0    0.0    0.0  0.0\n",
      "21      0.0    0.0    1.0    0.0    0.0    0.0  0.0\n",
      "22      0.0    0.0    1.0    0.0    0.0    0.0  0.0\n",
      "23      0.0    0.0    1.0    0.0    0.0    0.0  0.0\n",
      "24      0.0    0.0    1.0    0.0    0.0    0.0  0.0\n",
      "25      0.0    0.0    1.0    0.0    0.0    0.0  0.0\n",
      "26      0.0    0.0    1.0    0.0    0.0    0.0  0.0\n",
      "27      0.0    0.0    1.0    0.0    0.0    0.0  0.0\n",
      "28      0.0    0.0    1.0    0.0    0.0    0.0  0.0\n",
      "29      0.0    0.0    0.0    1.0    0.0    0.0  0.0\n",
      "...     ...    ...    ...    ...    ...    ...  ...\n",
      "65469   0.0    0.0    1.0    0.0    0.0    0.0  0.0\n",
      "65470   0.0    0.0    1.0    0.0    0.0    0.0  0.0\n",
      "65471   0.0    0.0    1.0    0.0    0.0    0.0  0.0\n",
      "65472   0.0    0.0    1.0    0.0    0.0    0.0  0.0\n",
      "65473   0.0    0.0    1.0    0.0    0.0    0.0  0.0\n",
      "65474   0.0    0.0    1.0    0.0    0.0    0.0  0.0\n",
      "65475   0.0    0.0    1.0    0.0    0.0    0.0  0.0\n",
      "65476   0.0    0.0    1.0    0.0    0.0    0.0  0.0\n",
      "65477   0.0    0.0    1.0    0.0    0.0    0.0  0.0\n",
      "65478   0.0    0.0    1.0    0.0    0.0    0.0  0.0\n",
      "65479   0.0    0.0    1.0    0.0    0.0    0.0  0.0\n",
      "65480   0.0    0.0    1.0    0.0    0.0    0.0  0.0\n",
      "65481   0.0    0.0    1.0    0.0    0.0    0.0  0.0\n",
      "65482   0.0    0.0    1.0    0.0    0.0    0.0  0.0\n",
      "65483   0.0    0.0    1.0    0.0    0.0    0.0  0.0\n",
      "65484   0.0    0.0    1.0    0.0    0.0    0.0  0.0\n",
      "65485   0.0    0.0    1.0    0.0    0.0    0.0  0.0\n",
      "65486   0.0    0.0    1.0    0.0    0.0    0.0  0.0\n",
      "65487   0.0    0.0    1.0    0.0    0.0    0.0  0.0\n",
      "65488   0.0    0.0    1.0    0.0    0.0    0.0  0.0\n",
      "65489   0.0    0.0    1.0    0.0    0.0    0.0  0.0\n",
      "65490   0.0    0.0    1.0    0.0    0.0    0.0  0.0\n",
      "65491   0.0    0.0    1.0    0.0    0.0    0.0  0.0\n",
      "65492   0.0    0.0    1.0    0.0    0.0    0.0  0.0\n",
      "65493   0.0    0.0    1.0    0.0    0.0    0.0  0.0\n",
      "65494   0.0    0.0    1.0    0.0    0.0    0.0  0.0\n",
      "65495   0.0    0.0    1.0    0.0    0.0    0.0  0.0\n",
      "65496   0.0    0.0    1.0    0.0    0.0    0.0  0.0\n",
      "65497   0.0    0.0    1.0    0.0    0.0    0.0  0.0\n",
      "65498   0.0    0.0    1.0    0.0    0.0    0.0  0.0\n",
      "\n",
      "[65499 rows x 7 columns]\n"
     ]
    }
   ],
   "source": [
    "# Converts the hot one encoded data into a dataframe with columns created in previous row\n",
    "dfAge = pd.DataFrame(data=age_onehot_encoded, columns=ageColumns)\n",
    "print(dfAge)"
   ]
  },
  {
   "cell_type": "markdown",
   "metadata": {},
   "source": [
    "## Hot One Encoding Occupation"
   ]
  },
  {
   "cell_type": "code",
   "execution_count": 111,
   "metadata": {},
   "outputs": [
    {
     "name": "stdout",
     "output_type": "stream",
     "text": [
      "[10 10 10 ...,  4  4  4]\n"
     ]
    }
   ],
   "source": [
    "# Define an array containing occupation column data from df\n",
    "occupationArray = array(df['Occupation'])\n",
    "print(occupationArray)"
   ]
  },
  {
   "cell_type": "code",
   "execution_count": 112,
   "metadata": {},
   "outputs": [
    {
     "name": "stdout",
     "output_type": "stream",
     "text": [
      "[[ 0.  0.  0. ...,  0.  0.  0.]\n",
      " [ 0.  0.  0. ...,  0.  0.  0.]\n",
      " [ 0.  0.  0. ...,  0.  0.  0.]\n",
      " ..., \n",
      " [ 0.  0.  0. ...,  0.  0.  0.]\n",
      " [ 0.  0.  0. ...,  0.  0.  0.]\n",
      " [ 0.  0.  0. ...,  0.  0.  0.]]\n"
     ]
    }
   ],
   "source": [
    "# binary encode the occupation data directly because its raw form was integer encoded\n",
    "onehot_encoder = OneHotEncoder(sparse=False)\n",
    "occupation_integer_encoded = occupationArray.reshape(len(occupationArray), 1)\n",
    "occupation_onehot_encoded = onehot_encoder.fit_transform(occupation_integer_encoded)\n",
    "print(occupation_onehot_encoded)"
   ]
  },
  {
   "cell_type": "code",
   "execution_count": 113,
   "metadata": {},
   "outputs": [
    {
     "name": "stdout",
     "output_type": "stream",
     "text": [
      "[0, 1, 2, 3, 4, 5, 6, 7, 8, 9, 10, 11, 12, 13, 14, 15, 16, 17, 18, 19, 20]\n"
     ]
    }
   ],
   "source": [
    "#Creates a set of column titles based on the occupation categories\n",
    "occupationColumns = set(df['Occupation'])\n",
    "occupationColumns = list(occupationColumns)\n",
    "occupationColumns.sort()\n",
    "print(occupationColumns)"
   ]
  },
  {
   "cell_type": "code",
   "execution_count": 114,
   "metadata": {},
   "outputs": [
    {
     "name": "stdout",
     "output_type": "stream",
     "text": [
      "        0    1    2    3    4    5    6    7    8    9  ...    11   12   13  \\\n",
      "0      0.0  0.0  0.0  0.0  0.0  0.0  0.0  0.0  0.0  0.0 ...   0.0  0.0  0.0   \n",
      "1      0.0  0.0  0.0  0.0  0.0  0.0  0.0  0.0  0.0  0.0 ...   0.0  0.0  0.0   \n",
      "2      0.0  0.0  0.0  0.0  0.0  0.0  0.0  0.0  0.0  0.0 ...   0.0  0.0  0.0   \n",
      "3      0.0  0.0  0.0  0.0  0.0  0.0  0.0  0.0  0.0  0.0 ...   0.0  0.0  0.0   \n",
      "4      0.0  0.0  0.0  0.0  0.0  0.0  0.0  0.0  0.0  0.0 ...   0.0  0.0  0.0   \n",
      "5      0.0  0.0  0.0  0.0  0.0  0.0  0.0  0.0  0.0  0.0 ...   0.0  0.0  0.0   \n",
      "6      0.0  0.0  0.0  0.0  0.0  0.0  0.0  1.0  0.0  0.0 ...   0.0  0.0  0.0   \n",
      "7      0.0  0.0  0.0  0.0  0.0  0.0  0.0  1.0  0.0  0.0 ...   0.0  0.0  0.0   \n",
      "8      0.0  0.0  0.0  0.0  0.0  0.0  0.0  1.0  0.0  0.0 ...   0.0  0.0  0.0   \n",
      "9      0.0  0.0  0.0  0.0  0.0  0.0  0.0  0.0  0.0  0.0 ...   0.0  0.0  0.0   \n",
      "10     0.0  0.0  0.0  0.0  0.0  0.0  0.0  0.0  0.0  0.0 ...   0.0  0.0  0.0   \n",
      "11     0.0  0.0  0.0  0.0  0.0  0.0  0.0  0.0  0.0  0.0 ...   0.0  0.0  0.0   \n",
      "12     0.0  0.0  0.0  0.0  0.0  0.0  0.0  0.0  0.0  0.0 ...   0.0  0.0  0.0   \n",
      "13     0.0  0.0  0.0  0.0  0.0  0.0  0.0  0.0  0.0  0.0 ...   0.0  0.0  0.0   \n",
      "14     0.0  0.0  0.0  0.0  0.0  0.0  0.0  0.0  0.0  1.0 ...   0.0  0.0  0.0   \n",
      "15     0.0  0.0  0.0  0.0  0.0  0.0  0.0  0.0  0.0  1.0 ...   0.0  0.0  0.0   \n",
      "16     0.0  0.0  0.0  0.0  0.0  0.0  0.0  0.0  0.0  1.0 ...   0.0  0.0  0.0   \n",
      "17     0.0  0.0  0.0  0.0  0.0  0.0  0.0  0.0  0.0  1.0 ...   0.0  0.0  0.0   \n",
      "18     0.0  1.0  0.0  0.0  0.0  0.0  0.0  0.0  0.0  0.0 ...   0.0  0.0  0.0   \n",
      "19     0.0  0.0  0.0  0.0  0.0  0.0  0.0  0.0  0.0  0.0 ...   0.0  1.0  0.0   \n",
      "20     0.0  0.0  0.0  0.0  0.0  0.0  0.0  0.0  0.0  0.0 ...   0.0  1.0  0.0   \n",
      "21     0.0  0.0  0.0  0.0  0.0  0.0  0.0  0.0  0.0  0.0 ...   0.0  1.0  0.0   \n",
      "22     0.0  0.0  0.0  0.0  0.0  0.0  0.0  0.0  0.0  0.0 ...   0.0  1.0  0.0   \n",
      "23     0.0  0.0  0.0  0.0  0.0  0.0  0.0  0.0  0.0  0.0 ...   0.0  1.0  0.0   \n",
      "24     0.0  0.0  0.0  0.0  0.0  0.0  0.0  0.0  0.0  0.0 ...   0.0  1.0  0.0   \n",
      "25     0.0  0.0  0.0  0.0  0.0  0.0  0.0  0.0  0.0  0.0 ...   0.0  0.0  0.0   \n",
      "26     0.0  0.0  0.0  0.0  0.0  0.0  0.0  0.0  0.0  0.0 ...   0.0  0.0  0.0   \n",
      "27     0.0  0.0  0.0  0.0  0.0  0.0  0.0  0.0  0.0  0.0 ...   0.0  0.0  0.0   \n",
      "28     0.0  0.0  0.0  0.0  0.0  0.0  0.0  0.0  0.0  0.0 ...   0.0  0.0  0.0   \n",
      "29     0.0  1.0  0.0  0.0  0.0  0.0  0.0  0.0  0.0  0.0 ...   0.0  0.0  0.0   \n",
      "...    ...  ...  ...  ...  ...  ...  ...  ...  ...  ... ...   ...  ...  ...   \n",
      "65469  0.0  0.0  0.0  0.0  1.0  0.0  0.0  0.0  0.0  0.0 ...   0.0  0.0  0.0   \n",
      "65470  0.0  0.0  0.0  0.0  1.0  0.0  0.0  0.0  0.0  0.0 ...   0.0  0.0  0.0   \n",
      "65471  0.0  0.0  0.0  0.0  1.0  0.0  0.0  0.0  0.0  0.0 ...   0.0  0.0  0.0   \n",
      "65472  0.0  0.0  0.0  0.0  1.0  0.0  0.0  0.0  0.0  0.0 ...   0.0  0.0  0.0   \n",
      "65473  0.0  0.0  0.0  0.0  1.0  0.0  0.0  0.0  0.0  0.0 ...   0.0  0.0  0.0   \n",
      "65474  0.0  0.0  0.0  0.0  1.0  0.0  0.0  0.0  0.0  0.0 ...   0.0  0.0  0.0   \n",
      "65475  0.0  0.0  0.0  0.0  1.0  0.0  0.0  0.0  0.0  0.0 ...   0.0  0.0  0.0   \n",
      "65476  0.0  0.0  0.0  0.0  1.0  0.0  0.0  0.0  0.0  0.0 ...   0.0  0.0  0.0   \n",
      "65477  0.0  0.0  0.0  0.0  1.0  0.0  0.0  0.0  0.0  0.0 ...   0.0  0.0  0.0   \n",
      "65478  0.0  0.0  0.0  0.0  1.0  0.0  0.0  0.0  0.0  0.0 ...   0.0  0.0  0.0   \n",
      "65479  0.0  0.0  0.0  0.0  1.0  0.0  0.0  0.0  0.0  0.0 ...   0.0  0.0  0.0   \n",
      "65480  0.0  0.0  0.0  0.0  1.0  0.0  0.0  0.0  0.0  0.0 ...   0.0  0.0  0.0   \n",
      "65481  0.0  0.0  0.0  0.0  1.0  0.0  0.0  0.0  0.0  0.0 ...   0.0  0.0  0.0   \n",
      "65482  0.0  0.0  0.0  0.0  1.0  0.0  0.0  0.0  0.0  0.0 ...   0.0  0.0  0.0   \n",
      "65483  0.0  0.0  0.0  0.0  1.0  0.0  0.0  0.0  0.0  0.0 ...   0.0  0.0  0.0   \n",
      "65484  0.0  0.0  0.0  0.0  1.0  0.0  0.0  0.0  0.0  0.0 ...   0.0  0.0  0.0   \n",
      "65485  0.0  0.0  0.0  0.0  1.0  0.0  0.0  0.0  0.0  0.0 ...   0.0  0.0  0.0   \n",
      "65486  0.0  0.0  0.0  0.0  1.0  0.0  0.0  0.0  0.0  0.0 ...   0.0  0.0  0.0   \n",
      "65487  0.0  0.0  0.0  0.0  1.0  0.0  0.0  0.0  0.0  0.0 ...   0.0  0.0  0.0   \n",
      "65488  0.0  0.0  0.0  0.0  1.0  0.0  0.0  0.0  0.0  0.0 ...   0.0  0.0  0.0   \n",
      "65489  0.0  0.0  0.0  0.0  1.0  0.0  0.0  0.0  0.0  0.0 ...   0.0  0.0  0.0   \n",
      "65490  0.0  0.0  0.0  0.0  1.0  0.0  0.0  0.0  0.0  0.0 ...   0.0  0.0  0.0   \n",
      "65491  0.0  0.0  0.0  0.0  1.0  0.0  0.0  0.0  0.0  0.0 ...   0.0  0.0  0.0   \n",
      "65492  0.0  0.0  0.0  0.0  1.0  0.0  0.0  0.0  0.0  0.0 ...   0.0  0.0  0.0   \n",
      "65493  0.0  0.0  0.0  0.0  1.0  0.0  0.0  0.0  0.0  0.0 ...   0.0  0.0  0.0   \n",
      "65494  0.0  0.0  0.0  0.0  1.0  0.0  0.0  0.0  0.0  0.0 ...   0.0  0.0  0.0   \n",
      "65495  0.0  0.0  0.0  0.0  1.0  0.0  0.0  0.0  0.0  0.0 ...   0.0  0.0  0.0   \n",
      "65496  0.0  0.0  0.0  0.0  1.0  0.0  0.0  0.0  0.0  0.0 ...   0.0  0.0  0.0   \n",
      "65497  0.0  0.0  0.0  0.0  1.0  0.0  0.0  0.0  0.0  0.0 ...   0.0  0.0  0.0   \n",
      "65498  0.0  0.0  0.0  0.0  1.0  0.0  0.0  0.0  0.0  0.0 ...   0.0  0.0  0.0   \n",
      "\n",
      "        14   15   16   17   18   19   20  \n",
      "0      0.0  0.0  0.0  0.0  0.0  0.0  0.0  \n",
      "1      0.0  0.0  0.0  0.0  0.0  0.0  0.0  \n",
      "2      0.0  0.0  0.0  0.0  0.0  0.0  0.0  \n",
      "3      0.0  0.0  0.0  0.0  0.0  0.0  0.0  \n",
      "4      0.0  0.0  1.0  0.0  0.0  0.0  0.0  \n",
      "5      0.0  1.0  0.0  0.0  0.0  0.0  0.0  \n",
      "6      0.0  0.0  0.0  0.0  0.0  0.0  0.0  \n",
      "7      0.0  0.0  0.0  0.0  0.0  0.0  0.0  \n",
      "8      0.0  0.0  0.0  0.0  0.0  0.0  0.0  \n",
      "9      0.0  0.0  0.0  0.0  0.0  0.0  1.0  \n",
      "10     0.0  0.0  0.0  0.0  0.0  0.0  1.0  \n",
      "11     0.0  0.0  0.0  0.0  0.0  0.0  1.0  \n",
      "12     0.0  0.0  0.0  0.0  0.0  0.0  1.0  \n",
      "13     0.0  0.0  0.0  0.0  0.0  0.0  1.0  \n",
      "14     0.0  0.0  0.0  0.0  0.0  0.0  0.0  \n",
      "15     0.0  0.0  0.0  0.0  0.0  0.0  0.0  \n",
      "16     0.0  0.0  0.0  0.0  0.0  0.0  0.0  \n",
      "17     0.0  0.0  0.0  0.0  0.0  0.0  0.0  \n",
      "18     0.0  0.0  0.0  0.0  0.0  0.0  0.0  \n",
      "19     0.0  0.0  0.0  0.0  0.0  0.0  0.0  \n",
      "20     0.0  0.0  0.0  0.0  0.0  0.0  0.0  \n",
      "21     0.0  0.0  0.0  0.0  0.0  0.0  0.0  \n",
      "22     0.0  0.0  0.0  0.0  0.0  0.0  0.0  \n",
      "23     0.0  0.0  0.0  0.0  0.0  0.0  0.0  \n",
      "24     0.0  0.0  0.0  0.0  0.0  0.0  0.0  \n",
      "25     0.0  0.0  0.0  1.0  0.0  0.0  0.0  \n",
      "26     0.0  0.0  0.0  1.0  0.0  0.0  0.0  \n",
      "27     0.0  0.0  0.0  1.0  0.0  0.0  0.0  \n",
      "28     0.0  0.0  0.0  1.0  0.0  0.0  0.0  \n",
      "29     0.0  0.0  0.0  0.0  0.0  0.0  0.0  \n",
      "...    ...  ...  ...  ...  ...  ...  ...  \n",
      "65469  0.0  0.0  0.0  0.0  0.0  0.0  0.0  \n",
      "65470  0.0  0.0  0.0  0.0  0.0  0.0  0.0  \n",
      "65471  0.0  0.0  0.0  0.0  0.0  0.0  0.0  \n",
      "65472  0.0  0.0  0.0  0.0  0.0  0.0  0.0  \n",
      "65473  0.0  0.0  0.0  0.0  0.0  0.0  0.0  \n",
      "65474  0.0  0.0  0.0  0.0  0.0  0.0  0.0  \n",
      "65475  0.0  0.0  0.0  0.0  0.0  0.0  0.0  \n",
      "65476  0.0  0.0  0.0  0.0  0.0  0.0  0.0  \n",
      "65477  0.0  0.0  0.0  0.0  0.0  0.0  0.0  \n",
      "65478  0.0  0.0  0.0  0.0  0.0  0.0  0.0  \n",
      "65479  0.0  0.0  0.0  0.0  0.0  0.0  0.0  \n",
      "65480  0.0  0.0  0.0  0.0  0.0  0.0  0.0  \n",
      "65481  0.0  0.0  0.0  0.0  0.0  0.0  0.0  \n",
      "65482  0.0  0.0  0.0  0.0  0.0  0.0  0.0  \n",
      "65483  0.0  0.0  0.0  0.0  0.0  0.0  0.0  \n",
      "65484  0.0  0.0  0.0  0.0  0.0  0.0  0.0  \n",
      "65485  0.0  0.0  0.0  0.0  0.0  0.0  0.0  \n",
      "65486  0.0  0.0  0.0  0.0  0.0  0.0  0.0  \n",
      "65487  0.0  0.0  0.0  0.0  0.0  0.0  0.0  \n",
      "65488  0.0  0.0  0.0  0.0  0.0  0.0  0.0  \n",
      "65489  0.0  0.0  0.0  0.0  0.0  0.0  0.0  \n",
      "65490  0.0  0.0  0.0  0.0  0.0  0.0  0.0  \n",
      "65491  0.0  0.0  0.0  0.0  0.0  0.0  0.0  \n",
      "65492  0.0  0.0  0.0  0.0  0.0  0.0  0.0  \n",
      "65493  0.0  0.0  0.0  0.0  0.0  0.0  0.0  \n",
      "65494  0.0  0.0  0.0  0.0  0.0  0.0  0.0  \n",
      "65495  0.0  0.0  0.0  0.0  0.0  0.0  0.0  \n",
      "65496  0.0  0.0  0.0  0.0  0.0  0.0  0.0  \n",
      "65497  0.0  0.0  0.0  0.0  0.0  0.0  0.0  \n",
      "65498  0.0  0.0  0.0  0.0  0.0  0.0  0.0  \n",
      "\n",
      "[65499 rows x 21 columns]\n"
     ]
    }
   ],
   "source": [
    "# Converts the hot one encoded data into a dataframe with columns created in previous row\n",
    "dfOccupation = pd.DataFrame(data=occupation_onehot_encoded, columns=occupationColumns)\n",
    "print(dfOccupation)"
   ]
  },
  {
   "cell_type": "markdown",
   "metadata": {},
   "source": [
    "## Hot One Encoding City Category"
   ]
  },
  {
   "cell_type": "code",
   "execution_count": 115,
   "metadata": {
    "collapsed": true
   },
   "outputs": [],
   "source": [
    "# Define an array containing city category column data from df\n",
    "city_catArray = array(df['City_Category'])"
   ]
  },
  {
   "cell_type": "code",
   "execution_count": 116,
   "metadata": {},
   "outputs": [
    {
     "name": "stdout",
     "output_type": "stream",
     "text": [
      "[0 0 0 ..., 0 0 0]\n"
     ]
    }
   ],
   "source": [
    "# integer encode the city category data\n",
    "label_encoder = LabelEncoder()\n",
    "city_cat_integer_encoded = label_encoder.fit_transform(city_catArray)\n",
    "print(city_cat_integer_encoded)"
   ]
  },
  {
   "cell_type": "code",
   "execution_count": 117,
   "metadata": {},
   "outputs": [
    {
     "name": "stdout",
     "output_type": "stream",
     "text": [
      "[[ 1.  0.  0.]\n",
      " [ 1.  0.  0.]\n",
      " [ 1.  0.  0.]\n",
      " ..., \n",
      " [ 1.  0.  0.]\n",
      " [ 1.  0.  0.]\n",
      " [ 1.  0.  0.]]\n"
     ]
    }
   ],
   "source": [
    "# binary encode the integer encoded data from previous step\n",
    "city_cat_onehot_encoder = OneHotEncoder(sparse=False)\n",
    "city_cat_integer_encoded = city_cat_integer_encoded.reshape(len(city_cat_integer_encoded), 1)\n",
    "city_cat_onehot_encoded = onehot_encoder.fit_transform(city_cat_integer_encoded)\n",
    "print(city_cat_onehot_encoded)"
   ]
  },
  {
   "cell_type": "code",
   "execution_count": 118,
   "metadata": {},
   "outputs": [
    {
     "name": "stdout",
     "output_type": "stream",
     "text": [
      "['A', 'B', 'C']\n"
     ]
    }
   ],
   "source": [
    "# creates column names for the city categories\n",
    "City_Cat_Columns = set(df['City_Category'])\n",
    "City_Cat_Columns = list(City_Cat_Columns)\n",
    "City_Cat_Columns.sort()\n",
    "print(City_Cat_Columns)"
   ]
  },
  {
   "cell_type": "code",
   "execution_count": 119,
   "metadata": {},
   "outputs": [
    {
     "name": "stdout",
     "output_type": "stream",
     "text": [
      "         A    B    C\n",
      "0      1.0  0.0  0.0\n",
      "1      1.0  0.0  0.0\n",
      "2      1.0  0.0  0.0\n",
      "3      1.0  0.0  0.0\n",
      "4      0.0  0.0  1.0\n",
      "5      1.0  0.0  0.0\n",
      "6      0.0  1.0  0.0\n",
      "7      0.0  1.0  0.0\n",
      "8      0.0  1.0  0.0\n",
      "9      1.0  0.0  0.0\n",
      "10     1.0  0.0  0.0\n",
      "11     1.0  0.0  0.0\n",
      "12     1.0  0.0  0.0\n",
      "13     1.0  0.0  0.0\n",
      "14     1.0  0.0  0.0\n",
      "15     1.0  0.0  0.0\n",
      "16     1.0  0.0  0.0\n",
      "17     1.0  0.0  0.0\n",
      "18     0.0  1.0  0.0\n",
      "19     0.0  0.0  1.0\n",
      "20     0.0  0.0  1.0\n",
      "21     0.0  0.0  1.0\n",
      "22     0.0  0.0  1.0\n",
      "23     0.0  0.0  1.0\n",
      "24     0.0  0.0  1.0\n",
      "25     0.0  0.0  1.0\n",
      "26     0.0  0.0  1.0\n",
      "27     0.0  0.0  1.0\n",
      "28     0.0  0.0  1.0\n",
      "29     0.0  1.0  0.0\n",
      "...    ...  ...  ...\n",
      "65469  1.0  0.0  0.0\n",
      "65470  1.0  0.0  0.0\n",
      "65471  1.0  0.0  0.0\n",
      "65472  1.0  0.0  0.0\n",
      "65473  1.0  0.0  0.0\n",
      "65474  1.0  0.0  0.0\n",
      "65475  1.0  0.0  0.0\n",
      "65476  1.0  0.0  0.0\n",
      "65477  1.0  0.0  0.0\n",
      "65478  1.0  0.0  0.0\n",
      "65479  1.0  0.0  0.0\n",
      "65480  1.0  0.0  0.0\n",
      "65481  1.0  0.0  0.0\n",
      "65482  1.0  0.0  0.0\n",
      "65483  1.0  0.0  0.0\n",
      "65484  1.0  0.0  0.0\n",
      "65485  1.0  0.0  0.0\n",
      "65486  1.0  0.0  0.0\n",
      "65487  1.0  0.0  0.0\n",
      "65488  1.0  0.0  0.0\n",
      "65489  1.0  0.0  0.0\n",
      "65490  1.0  0.0  0.0\n",
      "65491  1.0  0.0  0.0\n",
      "65492  1.0  0.0  0.0\n",
      "65493  1.0  0.0  0.0\n",
      "65494  1.0  0.0  0.0\n",
      "65495  1.0  0.0  0.0\n",
      "65496  1.0  0.0  0.0\n",
      "65497  1.0  0.0  0.0\n",
      "65498  1.0  0.0  0.0\n",
      "\n",
      "[65499 rows x 3 columns]\n"
     ]
    }
   ],
   "source": [
    "# creates a data frame out of the one hot encoded data with column titles created in previous step\n",
    "dfCityCat = pd.DataFrame(data=city_cat_onehot_encoded, columns=City_Cat_Columns)\n",
    "print(dfCityCat)"
   ]
  },
  {
   "cell_type": "markdown",
   "metadata": {},
   "source": [
    "# Merging Data Frames of One Hot Encoded Data"
   ]
  },
  {
   "cell_type": "code",
   "execution_count": 120,
   "metadata": {
    "collapsed": true
   },
   "outputs": [],
   "source": [
    "# creates a single dataframe with the original data frame and all of the hot one encoded data concatenated\n",
    "df2 = pd.concat([df, dfGender, dfAge, dfOccupation, dfCityCat], axis=1, join='inner')"
   ]
  },
  {
   "cell_type": "code",
   "execution_count": 121,
   "metadata": {},
   "outputs": [
    {
     "name": "stdout",
     "output_type": "stream",
     "text": [
      "       User_ID Product_ID Gender    Age  Occupation City_Category  \\\n",
      "0      1000001  P00069042      F   0-17          10             A   \n",
      "1      1000001  P00248942      F   0-17          10             A   \n",
      "2      1000001  P00087842      F   0-17          10             A   \n",
      "3      1000001  P00085442      F   0-17          10             A   \n",
      "4      1000002  P00285442      M    55+          16             C   \n",
      "5      1000003  P00193542      M  26-35          15             A   \n",
      "6      1000004  P00184942      M  46-50           7             B   \n",
      "7      1000004  P00346142      M  46-50           7             B   \n",
      "8      1000004   P0097242      M  46-50           7             B   \n",
      "9      1000005  P00274942      M  26-35          20             A   \n",
      "10     1000005  P00251242      M  26-35          20             A   \n",
      "11     1000005  P00014542      M  26-35          20             A   \n",
      "12     1000005  P00031342      M  26-35          20             A   \n",
      "13     1000005  P00145042      M  26-35          20             A   \n",
      "14     1000006  P00231342      F  51-55           9             A   \n",
      "15     1000006  P00190242      F  51-55           9             A   \n",
      "16     1000006   P0096642      F  51-55           9             A   \n",
      "17     1000006  P00058442      F  51-55           9             A   \n",
      "18     1000007  P00036842      M  36-45           1             B   \n",
      "19     1000008  P00249542      M  26-35          12             C   \n",
      "20     1000008  P00220442      M  26-35          12             C   \n",
      "21     1000008  P00156442      M  26-35          12             C   \n",
      "22     1000008  P00213742      M  26-35          12             C   \n",
      "23     1000008  P00214442      M  26-35          12             C   \n",
      "24     1000008  P00303442      M  26-35          12             C   \n",
      "25     1000009  P00135742      M  26-35          17             C   \n",
      "26     1000009  P00039942      M  26-35          17             C   \n",
      "27     1000009  P00161442      M  26-35          17             C   \n",
      "28     1000009  P00078742      M  26-35          17             C   \n",
      "29     1000010  P00085942      F  36-45           1             B   \n",
      "...        ...        ...    ...    ...         ...           ...   \n",
      "65469  1004028  P00005142      M  26-35           4             A   \n",
      "65470  1004028  P00285842      M  26-35           4             A   \n",
      "65471  1004028  P00259342      M  26-35           4             A   \n",
      "65472  1004028  P00296242      M  26-35           4             A   \n",
      "65473  1004028  P00251942      M  26-35           4             A   \n",
      "65474  1004028  P00233642      M  26-35           4             A   \n",
      "65475  1004028  P00233842      M  26-35           4             A   \n",
      "65476  1004028  P00114942      M  26-35           4             A   \n",
      "65477  1004028  P00125942      M  26-35           4             A   \n",
      "65478  1004028  P00220142      M  26-35           4             A   \n",
      "65479  1004028  P00242742      M  26-35           4             A   \n",
      "65480  1004028  P00042142      M  26-35           4             A   \n",
      "65481  1004028  P00271142      M  26-35           4             A   \n",
      "65482  1004028  P00129442      M  26-35           4             A   \n",
      "65483  1004028  P00282742      M  26-35           4             A   \n",
      "65484  1004028  P00282242      M  26-35           4             A   \n",
      "65485  1004028  P00140442      M  26-35           4             A   \n",
      "65486  1004028  P00016042      M  26-35           4             A   \n",
      "65487  1004028  P00187142      M  26-35           4             A   \n",
      "65488  1004028  P00042842      M  26-35           4             A   \n",
      "65489  1004028  P00283942      M  26-35           4             A   \n",
      "65490  1004028  P00327542      M  26-35           4             A   \n",
      "65491  1004028  P00013742      M  26-35           4             A   \n",
      "65492  1004028  P00074242      M  26-35           4             A   \n",
      "65493  1004028  P00298942      M  26-35           4             A   \n",
      "65494  1004028  P00128342      M  26-35           4             A   \n",
      "65495  1004028  P00344842      M  26-35           4             A   \n",
      "65496  1004028  P00120142      M  26-35           4             A   \n",
      "65497  1004028  P00107442      M  26-35           4             A   \n",
      "65498  1004028  P00134142      M  26-35           4             A   \n",
      "\n",
      "      Stay_In_Current_City_Years  Marital_Status  Product_Category_1  \\\n",
      "0                              2               0                   3   \n",
      "1                              2               0                   1   \n",
      "2                              2               0                  12   \n",
      "3                              2               0                  12   \n",
      "4                             4+               0                   8   \n",
      "5                              3               0                   1   \n",
      "6                              2               1                   1   \n",
      "7                              2               1                   1   \n",
      "8                              2               1                   1   \n",
      "9                              1               1                   8   \n",
      "10                             1               1                   5   \n",
      "11                             1               1                   8   \n",
      "12                             1               1                   8   \n",
      "13                             1               1                   1   \n",
      "14                             1               0                   5   \n",
      "15                             1               0                   4   \n",
      "16                             1               0                   2   \n",
      "17                             1               0                   5   \n",
      "18                             1               1                   1   \n",
      "19                            4+               1                   1   \n",
      "20                            4+               1                   5   \n",
      "21                            4+               1                   8   \n",
      "22                            4+               1                   8   \n",
      "23                            4+               1                   8   \n",
      "24                            4+               1                   1   \n",
      "25                             0               0                   6   \n",
      "26                             0               0                   8   \n",
      "27                             0               0                   5   \n",
      "28                             0               0                   5   \n",
      "29                            4+               1                   2   \n",
      "...                          ...             ...                 ...   \n",
      "65469                          2               0                   5   \n",
      "65470                          2               0                   5   \n",
      "65471                          2               0                   5   \n",
      "65472                          2               0                   8   \n",
      "65473                          2               0                   1   \n",
      "65474                          2               0                   1   \n",
      "65475                          2               0                   1   \n",
      "65476                          2               0                   1   \n",
      "65477                          2               0                   1   \n",
      "65478                          2               0                   1   \n",
      "65479                          2               0                   1   \n",
      "65480                          2               0                   1   \n",
      "65481                          2               0                   5   \n",
      "65482                          2               0                   5   \n",
      "65483                          2               0                   5   \n",
      "65484                          2               0                   5   \n",
      "65485                          2               0                   1   \n",
      "65486                          2               0                   1   \n",
      "65487                          2               0                   2   \n",
      "65488                          2               0                   5   \n",
      "65489                          2               0                   5   \n",
      "65490                          2               0                   5   \n",
      "65491                          2               0                   5   \n",
      "65492                          2               0                   5   \n",
      "65493                          2               0                   1   \n",
      "65494                          2               0                   5   \n",
      "65495                          2               0                   5   \n",
      "65496                          2               0                   5   \n",
      "65497                          2               0                   5   \n",
      "65498                          2               0                   5   \n",
      "\n",
      "       Product_Category_2 ...    14   15   16   17   18   19   20    A    B  \\\n",
      "0                     0.0 ...   0.0  0.0  0.0  0.0  0.0  0.0  0.0  1.0  0.0   \n",
      "1                     6.0 ...   0.0  0.0  0.0  0.0  0.0  0.0  0.0  1.0  0.0   \n",
      "2                     0.0 ...   0.0  0.0  0.0  0.0  0.0  0.0  0.0  1.0  0.0   \n",
      "3                    14.0 ...   0.0  0.0  0.0  0.0  0.0  0.0  0.0  1.0  0.0   \n",
      "4                     0.0 ...   0.0  0.0  1.0  0.0  0.0  0.0  0.0  0.0  0.0   \n",
      "5                     2.0 ...   0.0  1.0  0.0  0.0  0.0  0.0  0.0  1.0  0.0   \n",
      "6                     8.0 ...   0.0  0.0  0.0  0.0  0.0  0.0  0.0  0.0  1.0   \n",
      "7                    15.0 ...   0.0  0.0  0.0  0.0  0.0  0.0  0.0  0.0  1.0   \n",
      "8                    16.0 ...   0.0  0.0  0.0  0.0  0.0  0.0  0.0  0.0  1.0   \n",
      "9                     0.0 ...   0.0  0.0  0.0  0.0  0.0  0.0  1.0  1.0  0.0   \n",
      "10                   11.0 ...   0.0  0.0  0.0  0.0  0.0  0.0  1.0  1.0  0.0   \n",
      "11                    0.0 ...   0.0  0.0  0.0  0.0  0.0  0.0  1.0  1.0  0.0   \n",
      "12                    0.0 ...   0.0  0.0  0.0  0.0  0.0  0.0  1.0  1.0  0.0   \n",
      "13                    2.0 ...   0.0  0.0  0.0  0.0  0.0  0.0  1.0  1.0  0.0   \n",
      "14                    8.0 ...   0.0  0.0  0.0  0.0  0.0  0.0  0.0  1.0  0.0   \n",
      "15                    5.0 ...   0.0  0.0  0.0  0.0  0.0  0.0  0.0  1.0  0.0   \n",
      "16                    3.0 ...   0.0  0.0  0.0  0.0  0.0  0.0  0.0  1.0  0.0   \n",
      "17                   14.0 ...   0.0  0.0  0.0  0.0  0.0  0.0  0.0  1.0  0.0   \n",
      "18                   14.0 ...   0.0  0.0  0.0  0.0  0.0  0.0  0.0  0.0  1.0   \n",
      "19                    5.0 ...   0.0  0.0  0.0  0.0  0.0  0.0  0.0  0.0  0.0   \n",
      "20                   14.0 ...   0.0  0.0  0.0  0.0  0.0  0.0  0.0  0.0  0.0   \n",
      "21                    0.0 ...   0.0  0.0  0.0  0.0  0.0  0.0  0.0  0.0  0.0   \n",
      "22                    0.0 ...   0.0  0.0  0.0  0.0  0.0  0.0  0.0  0.0  0.0   \n",
      "23                    0.0 ...   0.0  0.0  0.0  0.0  0.0  0.0  0.0  0.0  0.0   \n",
      "24                    8.0 ...   0.0  0.0  0.0  0.0  0.0  0.0  0.0  0.0  0.0   \n",
      "25                    8.0 ...   0.0  0.0  0.0  1.0  0.0  0.0  0.0  0.0  0.0   \n",
      "26                    0.0 ...   0.0  0.0  0.0  1.0  0.0  0.0  0.0  0.0  0.0   \n",
      "27                   14.0 ...   0.0  0.0  0.0  1.0  0.0  0.0  0.0  0.0  0.0   \n",
      "28                    8.0 ...   0.0  0.0  0.0  1.0  0.0  0.0  0.0  0.0  0.0   \n",
      "29                    4.0 ...   0.0  0.0  0.0  0.0  0.0  0.0  0.0  0.0  1.0   \n",
      "...                   ... ...   ...  ...  ...  ...  ...  ...  ...  ...  ...   \n",
      "65469                 0.0 ...   0.0  0.0  0.0  0.0  0.0  0.0  0.0  1.0  0.0   \n",
      "65470                 0.0 ...   0.0  0.0  0.0  0.0  0.0  0.0  0.0  1.0  0.0   \n",
      "65471                 9.0 ...   0.0  0.0  0.0  0.0  0.0  0.0  0.0  1.0  0.0   \n",
      "65472                 0.0 ...   0.0  0.0  0.0  0.0  0.0  0.0  0.0  1.0  0.0   \n",
      "65473                 2.0 ...   0.0  0.0  0.0  0.0  0.0  0.0  0.0  1.0  0.0   \n",
      "65474                15.0 ...   0.0  0.0  0.0  0.0  0.0  0.0  0.0  1.0  0.0   \n",
      "65475                15.0 ...   0.0  0.0  0.0  0.0  0.0  0.0  0.0  1.0  0.0   \n",
      "65476                15.0 ...   0.0  0.0  0.0  0.0  0.0  0.0  0.0  1.0  0.0   \n",
      "65477                 2.0 ...   0.0  0.0  0.0  0.0  0.0  0.0  0.0  1.0  0.0   \n",
      "65478                15.0 ...   0.0  0.0  0.0  0.0  0.0  0.0  0.0  1.0  0.0   \n",
      "65479                 2.0 ...   0.0  0.0  0.0  0.0  0.0  0.0  0.0  1.0  0.0   \n",
      "65480                 2.0 ...   0.0  0.0  0.0  0.0  0.0  0.0  0.0  1.0  0.0   \n",
      "65481                 0.0 ...   0.0  0.0  0.0  0.0  0.0  0.0  0.0  1.0  0.0   \n",
      "65482                 8.0 ...   0.0  0.0  0.0  0.0  0.0  0.0  0.0  1.0  0.0   \n",
      "65483                 0.0 ...   0.0  0.0  0.0  0.0  0.0  0.0  0.0  1.0  0.0   \n",
      "65484                 8.0 ...   0.0  0.0  0.0  0.0  0.0  0.0  0.0  1.0  0.0   \n",
      "65485                 6.0 ...   0.0  0.0  0.0  0.0  0.0  0.0  0.0  1.0  0.0   \n",
      "65486                16.0 ...   0.0  0.0  0.0  0.0  0.0  0.0  0.0  1.0  0.0   \n",
      "65487                 4.0 ...   0.0  0.0  0.0  0.0  0.0  0.0  0.0  1.0  0.0   \n",
      "65488                 0.0 ...   0.0  0.0  0.0  0.0  0.0  0.0  0.0  1.0  0.0   \n",
      "65489                 0.0 ...   0.0  0.0  0.0  0.0  0.0  0.0  0.0  1.0  0.0   \n",
      "65490                 0.0 ...   0.0  0.0  0.0  0.0  0.0  0.0  0.0  1.0  0.0   \n",
      "65491                 0.0 ...   0.0  0.0  0.0  0.0  0.0  0.0  0.0  1.0  0.0   \n",
      "65492                 0.0 ...   0.0  0.0  0.0  0.0  0.0  0.0  0.0  1.0  0.0   \n",
      "65493                 5.0 ...   0.0  0.0  0.0  0.0  0.0  0.0  0.0  1.0  0.0   \n",
      "65494                12.0 ...   0.0  0.0  0.0  0.0  0.0  0.0  0.0  1.0  0.0   \n",
      "65495                 0.0 ...   0.0  0.0  0.0  0.0  0.0  0.0  0.0  1.0  0.0   \n",
      "65496                 0.0 ...   0.0  0.0  0.0  0.0  0.0  0.0  0.0  1.0  0.0   \n",
      "65497                 0.0 ...   0.0  0.0  0.0  0.0  0.0  0.0  0.0  1.0  0.0   \n",
      "65498                 0.0 ...   0.0  0.0  0.0  0.0  0.0  0.0  0.0  1.0  0.0   \n",
      "\n",
      "         C  \n",
      "0      0.0  \n",
      "1      0.0  \n",
      "2      0.0  \n",
      "3      0.0  \n",
      "4      1.0  \n",
      "5      0.0  \n",
      "6      0.0  \n",
      "7      0.0  \n",
      "8      0.0  \n",
      "9      0.0  \n",
      "10     0.0  \n",
      "11     0.0  \n",
      "12     0.0  \n",
      "13     0.0  \n",
      "14     0.0  \n",
      "15     0.0  \n",
      "16     0.0  \n",
      "17     0.0  \n",
      "18     0.0  \n",
      "19     1.0  \n",
      "20     1.0  \n",
      "21     1.0  \n",
      "22     1.0  \n",
      "23     1.0  \n",
      "24     1.0  \n",
      "25     1.0  \n",
      "26     1.0  \n",
      "27     1.0  \n",
      "28     1.0  \n",
      "29     0.0  \n",
      "...    ...  \n",
      "65469  0.0  \n",
      "65470  0.0  \n",
      "65471  0.0  \n",
      "65472  0.0  \n",
      "65473  0.0  \n",
      "65474  0.0  \n",
      "65475  0.0  \n",
      "65476  0.0  \n",
      "65477  0.0  \n",
      "65478  0.0  \n",
      "65479  0.0  \n",
      "65480  0.0  \n",
      "65481  0.0  \n",
      "65482  0.0  \n",
      "65483  0.0  \n",
      "65484  0.0  \n",
      "65485  0.0  \n",
      "65486  0.0  \n",
      "65487  0.0  \n",
      "65488  0.0  \n",
      "65489  0.0  \n",
      "65490  0.0  \n",
      "65491  0.0  \n",
      "65492  0.0  \n",
      "65493  0.0  \n",
      "65494  0.0  \n",
      "65495  0.0  \n",
      "65496  0.0  \n",
      "65497  0.0  \n",
      "65498  0.0  \n",
      "\n",
      "[65499 rows x 45 columns]\n"
     ]
    }
   ],
   "source": [
    "print(df2)"
   ]
  },
  {
   "cell_type": "code",
   "execution_count": 122,
   "metadata": {},
   "outputs": [
    {
     "name": "stdout",
     "output_type": "stream",
     "text": [
      "<class 'pandas.core.frame.DataFrame'>\n",
      "RangeIndex: 65499 entries, 0 to 65498\n",
      "Data columns (total 45 columns):\n",
      "User_ID                       65499 non-null int64\n",
      "Product_ID                    65499 non-null object\n",
      "Gender                        65499 non-null object\n",
      "Age                           65499 non-null object\n",
      "Occupation                    65499 non-null int64\n",
      "City_Category                 65499 non-null object\n",
      "Stay_In_Current_City_Years    65499 non-null object\n",
      "Marital_Status                65499 non-null int64\n",
      "Product_Category_1            65499 non-null int64\n",
      "Product_Category_2            65499 non-null float64\n",
      "Product_Category_3            65499 non-null float64\n",
      "Purchase                      65499 non-null int64\n",
      "F                             65499 non-null float64\n",
      "M                             65499 non-null float64\n",
      "0-17                          65499 non-null float64\n",
      "18-25                         65499 non-null float64\n",
      "26-35                         65499 non-null float64\n",
      "36-45                         65499 non-null float64\n",
      "46-50                         65499 non-null float64\n",
      "51-55                         65499 non-null float64\n",
      "55+                           65499 non-null float64\n",
      "0                             65499 non-null float64\n",
      "1                             65499 non-null float64\n",
      "2                             65499 non-null float64\n",
      "3                             65499 non-null float64\n",
      "4                             65499 non-null float64\n",
      "5                             65499 non-null float64\n",
      "6                             65499 non-null float64\n",
      "7                             65499 non-null float64\n",
      "8                             65499 non-null float64\n",
      "9                             65499 non-null float64\n",
      "10                            65499 non-null float64\n",
      "11                            65499 non-null float64\n",
      "12                            65499 non-null float64\n",
      "13                            65499 non-null float64\n",
      "14                            65499 non-null float64\n",
      "15                            65499 non-null float64\n",
      "16                            65499 non-null float64\n",
      "17                            65499 non-null float64\n",
      "18                            65499 non-null float64\n",
      "19                            65499 non-null float64\n",
      "20                            65499 non-null float64\n",
      "A                             65499 non-null float64\n",
      "B                             65499 non-null float64\n",
      "C                             65499 non-null float64\n",
      "dtypes: float64(35), int64(5), object(5)\n",
      "memory usage: 22.5+ MB\n",
      "None\n"
     ]
    }
   ],
   "source": [
    "print(df2.info())"
   ]
  },
  {
   "cell_type": "markdown",
   "metadata": {},
   "source": [
    "## Split Data into train (75%) and test (25%) data sets\n"
   ]
  },
  {
   "cell_type": "code",
   "execution_count": 123,
   "metadata": {
    "collapsed": true
   },
   "outputs": [],
   "source": [
    "# Creates location markers for splitting the data frame into a train portion and a test portion\n",
    "trainDataEndLoc = int(len(df2)*.75)\n",
    "testDataStartLoc = trainDataEndLoc + 1"
   ]
  },
  {
   "cell_type": "code",
   "execution_count": 124,
   "metadata": {},
   "outputs": [
    {
     "name": "stdout",
     "output_type": "stream",
     "text": [
      "   User_ID Product_ID Gender    Age  Occupation City_Category  \\\n",
      "0  1000001  P00069042      F   0-17          10             A   \n",
      "1  1000001  P00248942      F   0-17          10             A   \n",
      "2  1000001  P00087842      F   0-17          10             A   \n",
      "3  1000001  P00085442      F   0-17          10             A   \n",
      "4  1000002  P00285442      M    55+          16             C   \n",
      "5  1000003  P00193542      M  26-35          15             A   \n",
      "6  1000004  P00184942      M  46-50           7             B   \n",
      "7  1000004  P00346142      M  46-50           7             B   \n",
      "8  1000004   P0097242      M  46-50           7             B   \n",
      "9  1000005  P00274942      M  26-35          20             A   \n",
      "\n",
      "  Stay_In_Current_City_Years  Marital_Status  Product_Category_1  \\\n",
      "0                          2               0                   3   \n",
      "1                          2               0                   1   \n",
      "2                          2               0                  12   \n",
      "3                          2               0                  12   \n",
      "4                         4+               0                   8   \n",
      "5                          3               0                   1   \n",
      "6                          2               1                   1   \n",
      "7                          2               1                   1   \n",
      "8                          2               1                   1   \n",
      "9                          1               1                   8   \n",
      "\n",
      "   Product_Category_2 ...    14   15   16   17   18   19   20    A    B    C  \n",
      "0                 0.0 ...   0.0  0.0  0.0  0.0  0.0  0.0  0.0  1.0  0.0  0.0  \n",
      "1                 6.0 ...   0.0  0.0  0.0  0.0  0.0  0.0  0.0  1.0  0.0  0.0  \n",
      "2                 0.0 ...   0.0  0.0  0.0  0.0  0.0  0.0  0.0  1.0  0.0  0.0  \n",
      "3                14.0 ...   0.0  0.0  0.0  0.0  0.0  0.0  0.0  1.0  0.0  0.0  \n",
      "4                 0.0 ...   0.0  0.0  1.0  0.0  0.0  0.0  0.0  0.0  0.0  1.0  \n",
      "5                 2.0 ...   0.0  1.0  0.0  0.0  0.0  0.0  0.0  1.0  0.0  0.0  \n",
      "6                 8.0 ...   0.0  0.0  0.0  0.0  0.0  0.0  0.0  0.0  1.0  0.0  \n",
      "7                15.0 ...   0.0  0.0  0.0  0.0  0.0  0.0  0.0  0.0  1.0  0.0  \n",
      "8                16.0 ...   0.0  0.0  0.0  0.0  0.0  0.0  0.0  0.0  1.0  0.0  \n",
      "9                 0.0 ...   0.0  0.0  0.0  0.0  0.0  0.0  1.0  1.0  0.0  0.0  \n",
      "\n",
      "[10 rows x 45 columns]\n",
      "<class 'pandas.core.frame.DataFrame'>\n",
      "RangeIndex: 49124 entries, 0 to 49123\n",
      "Data columns (total 45 columns):\n",
      "User_ID                       49124 non-null int64\n",
      "Product_ID                    49124 non-null object\n",
      "Gender                        49124 non-null object\n",
      "Age                           49124 non-null object\n",
      "Occupation                    49124 non-null int64\n",
      "City_Category                 49124 non-null object\n",
      "Stay_In_Current_City_Years    49124 non-null object\n",
      "Marital_Status                49124 non-null int64\n",
      "Product_Category_1            49124 non-null int64\n",
      "Product_Category_2            49124 non-null float64\n",
      "Product_Category_3            49124 non-null float64\n",
      "Purchase                      49124 non-null int64\n",
      "F                             49124 non-null float64\n",
      "M                             49124 non-null float64\n",
      "0-17                          49124 non-null float64\n",
      "18-25                         49124 non-null float64\n",
      "26-35                         49124 non-null float64\n",
      "36-45                         49124 non-null float64\n",
      "46-50                         49124 non-null float64\n",
      "51-55                         49124 non-null float64\n",
      "55+                           49124 non-null float64\n",
      "0                             49124 non-null float64\n",
      "1                             49124 non-null float64\n",
      "2                             49124 non-null float64\n",
      "3                             49124 non-null float64\n",
      "4                             49124 non-null float64\n",
      "5                             49124 non-null float64\n",
      "6                             49124 non-null float64\n",
      "7                             49124 non-null float64\n",
      "8                             49124 non-null float64\n",
      "9                             49124 non-null float64\n",
      "10                            49124 non-null float64\n",
      "11                            49124 non-null float64\n",
      "12                            49124 non-null float64\n",
      "13                            49124 non-null float64\n",
      "14                            49124 non-null float64\n",
      "15                            49124 non-null float64\n",
      "16                            49124 non-null float64\n",
      "17                            49124 non-null float64\n",
      "18                            49124 non-null float64\n",
      "19                            49124 non-null float64\n",
      "20                            49124 non-null float64\n",
      "A                             49124 non-null float64\n",
      "B                             49124 non-null float64\n",
      "C                             49124 non-null float64\n",
      "dtypes: float64(35), int64(5), object(5)\n",
      "memory usage: 16.9+ MB\n",
      "None\n"
     ]
    }
   ],
   "source": [
    "# Uses location marker to create train data set\n",
    "trainDf = df2.iloc[0:trainDataEndLoc,:]\n",
    "print(trainDf.head(10))\n",
    "print(trainDf.info())"
   ]
  },
  {
   "cell_type": "code",
   "execution_count": 125,
   "metadata": {},
   "outputs": [
    {
     "name": "stdout",
     "output_type": "stream",
     "text": [
      "   User_ID Product_ID Gender    Age  Occupation City_Category  \\\n",
      "0  1000001  P00069042      F   0-17          10             A   \n",
      "1  1000001  P00248942      F   0-17          10             A   \n",
      "2  1000001  P00087842      F   0-17          10             A   \n",
      "3  1000001  P00085442      F   0-17          10             A   \n",
      "4  1000002  P00285442      M    55+          16             C   \n",
      "5  1000003  P00193542      M  26-35          15             A   \n",
      "6  1000004  P00184942      M  46-50           7             B   \n",
      "7  1000004  P00346142      M  46-50           7             B   \n",
      "8  1000004   P0097242      M  46-50           7             B   \n",
      "9  1000005  P00274942      M  26-35          20             A   \n",
      "\n",
      "  Stay_In_Current_City_Years  Marital_Status  Product_Category_1  \\\n",
      "0                          2               0                   3   \n",
      "1                          2               0                   1   \n",
      "2                          2               0                  12   \n",
      "3                          2               0                  12   \n",
      "4                         4+               0                   8   \n",
      "5                          3               0                   1   \n",
      "6                          2               1                   1   \n",
      "7                          2               1                   1   \n",
      "8                          2               1                   1   \n",
      "9                          1               1                   8   \n",
      "\n",
      "   Product_Category_2 ...    14   15   16   17   18   19   20    A    B    C  \n",
      "0                 0.0 ...   0.0  0.0  0.0  0.0  0.0  0.0  0.0  1.0  0.0  0.0  \n",
      "1                 6.0 ...   0.0  0.0  0.0  0.0  0.0  0.0  0.0  1.0  0.0  0.0  \n",
      "2                 0.0 ...   0.0  0.0  0.0  0.0  0.0  0.0  0.0  1.0  0.0  0.0  \n",
      "3                14.0 ...   0.0  0.0  0.0  0.0  0.0  0.0  0.0  1.0  0.0  0.0  \n",
      "4                 0.0 ...   0.0  0.0  1.0  0.0  0.0  0.0  0.0  0.0  0.0  1.0  \n",
      "5                 2.0 ...   0.0  1.0  0.0  0.0  0.0  0.0  0.0  1.0  0.0  0.0  \n",
      "6                 8.0 ...   0.0  0.0  0.0  0.0  0.0  0.0  0.0  0.0  1.0  0.0  \n",
      "7                15.0 ...   0.0  0.0  0.0  0.0  0.0  0.0  0.0  0.0  1.0  0.0  \n",
      "8                16.0 ...   0.0  0.0  0.0  0.0  0.0  0.0  0.0  0.0  1.0  0.0  \n",
      "9                 0.0 ...   0.0  0.0  0.0  0.0  0.0  0.0  1.0  1.0  0.0  0.0  \n",
      "\n",
      "[10 rows x 45 columns]\n",
      "<class 'pandas.core.frame.DataFrame'>\n",
      "RangeIndex: 49125 entries, 0 to 49124\n",
      "Data columns (total 45 columns):\n",
      "User_ID                       49125 non-null int64\n",
      "Product_ID                    49125 non-null object\n",
      "Gender                        49125 non-null object\n",
      "Age                           49125 non-null object\n",
      "Occupation                    49125 non-null int64\n",
      "City_Category                 49125 non-null object\n",
      "Stay_In_Current_City_Years    49125 non-null object\n",
      "Marital_Status                49125 non-null int64\n",
      "Product_Category_1            49125 non-null int64\n",
      "Product_Category_2            49125 non-null float64\n",
      "Product_Category_3            49125 non-null float64\n",
      "Purchase                      49125 non-null int64\n",
      "F                             49125 non-null float64\n",
      "M                             49125 non-null float64\n",
      "0-17                          49125 non-null float64\n",
      "18-25                         49125 non-null float64\n",
      "26-35                         49125 non-null float64\n",
      "36-45                         49125 non-null float64\n",
      "46-50                         49125 non-null float64\n",
      "51-55                         49125 non-null float64\n",
      "55+                           49125 non-null float64\n",
      "0                             49125 non-null float64\n",
      "1                             49125 non-null float64\n",
      "2                             49125 non-null float64\n",
      "3                             49125 non-null float64\n",
      "4                             49125 non-null float64\n",
      "5                             49125 non-null float64\n",
      "6                             49125 non-null float64\n",
      "7                             49125 non-null float64\n",
      "8                             49125 non-null float64\n",
      "9                             49125 non-null float64\n",
      "10                            49125 non-null float64\n",
      "11                            49125 non-null float64\n",
      "12                            49125 non-null float64\n",
      "13                            49125 non-null float64\n",
      "14                            49125 non-null float64\n",
      "15                            49125 non-null float64\n",
      "16                            49125 non-null float64\n",
      "17                            49125 non-null float64\n",
      "18                            49125 non-null float64\n",
      "19                            49125 non-null float64\n",
      "20                            49125 non-null float64\n",
      "A                             49125 non-null float64\n",
      "B                             49125 non-null float64\n",
      "C                             49125 non-null float64\n",
      "dtypes: float64(35), int64(5), object(5)\n",
      "memory usage: 16.9+ MB\n",
      "None\n"
     ]
    }
   ],
   "source": [
    "# Uses location marker to create test data portion\n",
    "testDf = df2.iloc[0:testDataStartLoc,:]\n",
    "print(testDf.head(10))\n",
    "print(testDf.info())"
   ]
  },
  {
   "cell_type": "code",
   "execution_count": 126,
   "metadata": {
    "collapsed": true
   },
   "outputs": [],
   "source": [
    "# Create three empty 20 x 49125 array\n",
    "# Loop over product_cat_x \n",
    "# Turns corresponding array value to True \n",
    "# Adds three arrays together "
   ]
  },
  {
   "cell_type": "code",
   "execution_count": 127,
   "metadata": {},
   "outputs": [
    {
     "name": "stderr",
     "output_type": "stream",
     "text": [
      "/anaconda/lib/python3.6/site-packages/pandas/core/generic.py:2999: SettingWithCopyWarning: \n",
      "A value is trying to be set on a copy of a slice from a DataFrame.\n",
      "Try using .loc[row_indexer,col_indexer] = value instead\n",
      "\n",
      "See the caveats in the documentation: http://pandas.pydata.org/pandas-docs/stable/indexing.html#indexing-view-versus-copy\n",
      "  self[name] = value\n"
     ]
    }
   ],
   "source": [
    "trainDf.Product_Category_2 = trainDf.Product_Category_2.astype(int)\n",
    "#print(trainDf.Product_Category_2)\n",
    "trainDf.Product_Category_3 = trainDf.Product_Category_3.astype(int)\n",
    "#print(trainDf.Product_Category_3)"
   ]
  },
  {
   "cell_type": "code",
   "execution_count": 128,
   "metadata": {},
   "outputs": [
    {
     "name": "stdout",
     "output_type": "stream",
     "text": [
      "[array([[ 0.,  0.,  0., ...,  0.,  0.,  0.],\n",
      "       [ 0.,  0.,  0., ...,  0.,  0.,  0.],\n",
      "       [ 0.,  0.,  0., ...,  0.,  0.,  0.],\n",
      "       ..., \n",
      "       [ 0.,  0.,  0., ...,  0.,  0.,  0.],\n",
      "       [ 0.,  0.,  0., ...,  0.,  0.,  0.],\n",
      "       [ 0.,  0.,  0., ...,  0.,  0.,  0.]]), array([[ 0.,  0.,  0., ...,  0.,  0.,  0.],\n",
      "       [ 0.,  0.,  0., ...,  0.,  0.,  0.],\n",
      "       [ 0.,  0.,  0., ...,  0.,  0.,  0.],\n",
      "       ..., \n",
      "       [ 0.,  0.,  0., ...,  0.,  0.,  0.],\n",
      "       [ 0.,  0.,  0., ...,  0.,  0.,  0.],\n",
      "       [ 0.,  0.,  0., ...,  0.,  0.,  0.]]), array([[ 0.,  0.,  0., ...,  0.,  0.,  0.],\n",
      "       [ 0.,  0.,  0., ...,  0.,  0.,  0.],\n",
      "       [ 0.,  0.,  0., ...,  0.,  0.,  0.],\n",
      "       ..., \n",
      "       [ 0.,  0.,  0., ...,  0.,  0.,  0.],\n",
      "       [ 0.,  0.,  0., ...,  0.,  0.,  0.],\n",
      "       [ 0.,  0.,  0., ...,  0.,  0.,  0.]])]\n"
     ]
    }
   ],
   "source": [
    "# Creates three empty arrays with equivalent rows as the data frame and \n",
    "# Eighteen columns to represent each category of product \n",
    "x = []\n",
    "Product_Category_List = ['Product_Category_1', 'Product_Category_2', 'Product_Category_3']\n",
    "for i in range(3):\n",
    "    temp = np.zeros((49125, 18))\n",
    "    x.append(temp)\n",
    "\n",
    "print(x)"
   ]
  },
  {
   "cell_type": "code",
   "execution_count": 129,
   "metadata": {},
   "outputs": [
    {
     "name": "stdout",
     "output_type": "stream",
     "text": [
      "Product_Category_1\n",
      "Product_Category_2\n",
      "Product_Category_3\n"
     ]
    }
   ],
   "source": [
    "# Iterates over each entry in the product category column x and \n",
    "# Sets the corresponding entry in the empty array to a 1\n",
    "y = []\n",
    "\n",
    "for product_cat, array in zip(Product_Category_List, x):\n",
    "    print(product_cat)\n",
    "    for index, entry in enumerate(trainDf[product_cat][:]):\n",
    "        #print(str(index) + \": \" + str(entry))\n",
    "        if entry == 0:\n",
    "            continue\n",
    "            \n",
    "        else:\n",
    "            array[index, (entry-1)] = 1 \n",
    "            #print(entry, product_cat)\n",
    "            \n",
    "    y.append(array)\n",
    "\n",
    "    "
   ]
  },
  {
   "cell_type": "code",
   "execution_count": 130,
   "metadata": {},
   "outputs": [
    {
     "name": "stdout",
     "output_type": "stream",
     "text": [
      "[[ 0.  0.  0.  0.  0.  0.  0.  0.  0.  0.  0.  0.  0.  0.  0.  0.  0.  0.]\n",
      " [ 0.  0.  0.  0.  0.  1.  0.  0.  0.  0.  0.  0.  0.  0.  0.  0.  0.  0.]\n",
      " [ 0.  0.  0.  0.  0.  0.  0.  0.  0.  0.  0.  0.  0.  0.  0.  0.  0.  0.]\n",
      " [ 0.  0.  0.  0.  0.  0.  0.  0.  0.  0.  0.  0.  0.  1.  0.  0.  0.  0.]\n",
      " [ 0.  0.  0.  0.  0.  0.  0.  0.  0.  0.  0.  0.  0.  0.  0.  0.  0.  0.]]\n"
     ]
    }
   ],
   "source": [
    "# Testing values got updated correctly\n",
    "print(y[1][0:5,:])"
   ]
  },
  {
   "cell_type": "code",
   "execution_count": 131,
   "metadata": {
    "collapsed": true
   },
   "outputs": [],
   "source": [
    "# Sums three arrays together to create a single array containing all product category data hot one encoded \n",
    "# Converts array to dataframe \n",
    "z = sum(y)\n",
    "z = pd.DataFrame(z)"
   ]
  },
  {
   "cell_type": "code",
   "execution_count": 132,
   "metadata": {},
   "outputs": [],
   "source": [
    "# Combines occupation data from previous step to trainDf data frame\n",
    "trainDf2 = pd.concat([trainDf, z], axis=1, join='inner')"
   ]
  },
  {
   "cell_type": "code",
   "execution_count": 133,
   "metadata": {
    "scrolled": true
   },
   "outputs": [
    {
     "name": "stdout",
     "output_type": "stream",
     "text": [
      "<class 'pandas.core.frame.DataFrame'>\n",
      "RangeIndex: 49124 entries, 0 to 49123\n",
      "Data columns (total 63 columns):\n",
      "User_ID                       49124 non-null int64\n",
      "Product_ID                    49124 non-null object\n",
      "Gender                        49124 non-null object\n",
      "Age                           49124 non-null object\n",
      "Occupation                    49124 non-null int64\n",
      "City_Category                 49124 non-null object\n",
      "Stay_In_Current_City_Years    49124 non-null object\n",
      "Marital_Status                49124 non-null int64\n",
      "Product_Category_1            49124 non-null int64\n",
      "Product_Category_2            49124 non-null int64\n",
      "Product_Category_3            49124 non-null int64\n",
      "Purchase                      49124 non-null int64\n",
      "F                             49124 non-null float64\n",
      "M                             49124 non-null float64\n",
      "0-17                          49124 non-null float64\n",
      "18-25                         49124 non-null float64\n",
      "26-35                         49124 non-null float64\n",
      "36-45                         49124 non-null float64\n",
      "46-50                         49124 non-null float64\n",
      "51-55                         49124 non-null float64\n",
      "55+                           49124 non-null float64\n",
      "0                             49124 non-null float64\n",
      "1                             49124 non-null float64\n",
      "2                             49124 non-null float64\n",
      "3                             49124 non-null float64\n",
      "4                             49124 non-null float64\n",
      "5                             49124 non-null float64\n",
      "6                             49124 non-null float64\n",
      "7                             49124 non-null float64\n",
      "8                             49124 non-null float64\n",
      "9                             49124 non-null float64\n",
      "10                            49124 non-null float64\n",
      "11                            49124 non-null float64\n",
      "12                            49124 non-null float64\n",
      "13                            49124 non-null float64\n",
      "14                            49124 non-null float64\n",
      "15                            49124 non-null float64\n",
      "16                            49124 non-null float64\n",
      "17                            49124 non-null float64\n",
      "18                            49124 non-null float64\n",
      "19                            49124 non-null float64\n",
      "20                            49124 non-null float64\n",
      "A                             49124 non-null float64\n",
      "B                             49124 non-null float64\n",
      "C                             49124 non-null float64\n",
      "0                             49124 non-null float64\n",
      "1                             49124 non-null float64\n",
      "2                             49124 non-null float64\n",
      "3                             49124 non-null float64\n",
      "4                             49124 non-null float64\n",
      "5                             49124 non-null float64\n",
      "6                             49124 non-null float64\n",
      "7                             49124 non-null float64\n",
      "8                             49124 non-null float64\n",
      "9                             49124 non-null float64\n",
      "10                            49124 non-null float64\n",
      "11                            49124 non-null float64\n",
      "12                            49124 non-null float64\n",
      "13                            49124 non-null float64\n",
      "14                            49124 non-null float64\n",
      "15                            49124 non-null float64\n",
      "16                            49124 non-null float64\n",
      "17                            49124 non-null float64\n",
      "dtypes: float64(51), int64(7), object(5)\n",
      "memory usage: 23.6+ MB\n"
     ]
    }
   ],
   "source": [
    "trainDf2.info()"
   ]
  },
  {
   "cell_type": "code",
   "execution_count": 134,
   "metadata": {},
   "outputs": [
    {
     "name": "stdout",
     "output_type": "stream",
     "text": [
      "{0: 'Occupation_0', 1: 'Occupation_1', 2: 'Occupation_2', 3: 'Occupation_3', 4: 'Occupation_4', 5: 'Occupation_5', 6: 'Occupation_6', 7: 'Occupation_7', 8: 'Occupation_8', 9: 'Occupation_9', 10: 'Occupation_10', 11: 'Occupation_11', 12: 'Occupation_12', 13: 'Occupation_13', 14: 'Occupation_14', 15: 'Occupation_15', 16: 'Occupation_16', 17: 'Occupation_17', 18: 'Occupation_18', 19: 'Occupation_19', 20: 'Occupation_20'}\n"
     ]
    }
   ],
   "source": [
    "# Generates map of new names for occupation data based on old names\n",
    "newNames = []\n",
    "for i in range(21):\n",
    "    temp = 'Occupation_' + str(i)\n",
    "    newNames.append(temp)\n",
    "    #print(temp)\n",
    "   \n",
    "oldNames = range(21)\n",
    "\n",
    "dictionary = dict(zip(oldNames, newNames))\n",
    "\n",
    "print(dictionary)\n",
    "\n"
   ]
  },
  {
   "cell_type": "code",
   "execution_count": 135,
   "metadata": {},
   "outputs": [],
   "source": [
    "# Renames occupation columns based on previous steps dictionary. Had to copy and paste output from last step. \n",
    "# *** NEED TO FIGURE OUT HOW TO NOT COPY AND PASTE\n",
    "trainDf = trainDf.rename(columns={0: 'Occupation_0', 1: 'Occupation_1', 2: 'Occupation_2', 3: 'Occupation_3', 4: 'Occupation_4', 5: 'Occupation_5', 6: 'Occupation_6', 7: 'Occupation_7', 8: 'Occupation_8', 9: 'Occupation_9', 10: 'Occupation_10', 11: 'Occupation_11', 12: 'Occupation_12', 13: 'Occupation_13', 14: 'Occupation_14', 15: 'Occupation_15', 16: 'Occupation_16', 17: 'Occupation_17', 18: 'Occupation_18', 19: 'Occupation_19', 20: 'Occupation_20'})"
   ]
  },
  {
   "cell_type": "code",
   "execution_count": 136,
   "metadata": {},
   "outputs": [
    {
     "name": "stdout",
     "output_type": "stream",
     "text": [
      "<class 'pandas.core.frame.DataFrame'>\n",
      "RangeIndex: 49124 entries, 0 to 49123\n",
      "Data columns (total 45 columns):\n",
      "User_ID                       49124 non-null int64\n",
      "Product_ID                    49124 non-null object\n",
      "Gender                        49124 non-null object\n",
      "Age                           49124 non-null object\n",
      "Occupation                    49124 non-null int64\n",
      "City_Category                 49124 non-null object\n",
      "Stay_In_Current_City_Years    49124 non-null object\n",
      "Marital_Status                49124 non-null int64\n",
      "Product_Category_1            49124 non-null int64\n",
      "Product_Category_2            49124 non-null int64\n",
      "Product_Category_3            49124 non-null int64\n",
      "Purchase                      49124 non-null int64\n",
      "F                             49124 non-null float64\n",
      "M                             49124 non-null float64\n",
      "0-17                          49124 non-null float64\n",
      "18-25                         49124 non-null float64\n",
      "26-35                         49124 non-null float64\n",
      "36-45                         49124 non-null float64\n",
      "46-50                         49124 non-null float64\n",
      "51-55                         49124 non-null float64\n",
      "55+                           49124 non-null float64\n",
      "Occupation_0                  49124 non-null float64\n",
      "Occupation_1                  49124 non-null float64\n",
      "Occupation_2                  49124 non-null float64\n",
      "Occupation_3                  49124 non-null float64\n",
      "Occupation_4                  49124 non-null float64\n",
      "Occupation_5                  49124 non-null float64\n",
      "Occupation_6                  49124 non-null float64\n",
      "Occupation_7                  49124 non-null float64\n",
      "Occupation_8                  49124 non-null float64\n",
      "Occupation_9                  49124 non-null float64\n",
      "Occupation_10                 49124 non-null float64\n",
      "Occupation_11                 49124 non-null float64\n",
      "Occupation_12                 49124 non-null float64\n",
      "Occupation_13                 49124 non-null float64\n",
      "Occupation_14                 49124 non-null float64\n",
      "Occupation_15                 49124 non-null float64\n",
      "Occupation_16                 49124 non-null float64\n",
      "Occupation_17                 49124 non-null float64\n",
      "Occupation_18                 49124 non-null float64\n",
      "Occupation_19                 49124 non-null float64\n",
      "Occupation_20                 49124 non-null float64\n",
      "A                             49124 non-null float64\n",
      "B                             49124 non-null float64\n",
      "C                             49124 non-null float64\n",
      "dtypes: float64(33), int64(7), object(5)\n",
      "memory usage: 16.9+ MB\n"
     ]
    }
   ],
   "source": [
    "trainDf.info()"
   ]
  },
  {
   "cell_type": "code",
   "execution_count": 137,
   "metadata": {
    "collapsed": true
   },
   "outputs": [],
   "source": [
    "# Renames all other column names with more accurate/description name\n",
    "trainDf = trainDf.rename(columns={'Purchase':'Purchase_Amount', 'F': 'Female', 'M': 'Male', '0-17': 'Age_0-17', '18-25': 'Age_18-25', '26-35': 'Age_26-35', '36-45': 'Age_36-45', '46-50': 'Age_46-50', '51-55': 'Age_51-55', '55+':'Age_55+', 'A':'City_Category_A', 'B': 'City_Category_B', 'C':'City_Category_C'})"
   ]
  },
  {
   "cell_type": "code",
   "execution_count": 138,
   "metadata": {},
   "outputs": [
    {
     "name": "stdout",
     "output_type": "stream",
     "text": [
      "<class 'pandas.core.frame.DataFrame'>\n",
      "RangeIndex: 49124 entries, 0 to 49123\n",
      "Data columns (total 45 columns):\n",
      "User_ID                       49124 non-null int64\n",
      "Product_ID                    49124 non-null object\n",
      "Gender                        49124 non-null object\n",
      "Age                           49124 non-null object\n",
      "Occupation                    49124 non-null int64\n",
      "City_Category                 49124 non-null object\n",
      "Stay_In_Current_City_Years    49124 non-null object\n",
      "Marital_Status                49124 non-null int64\n",
      "Product_Category_1            49124 non-null int64\n",
      "Product_Category_2            49124 non-null int64\n",
      "Product_Category_3            49124 non-null int64\n",
      "Purchase_Amount               49124 non-null int64\n",
      "Female                        49124 non-null float64\n",
      "Male                          49124 non-null float64\n",
      "Age_0-17                      49124 non-null float64\n",
      "Age_18-25                     49124 non-null float64\n",
      "Age_26-35                     49124 non-null float64\n",
      "Age_36-45                     49124 non-null float64\n",
      "Age_46-50                     49124 non-null float64\n",
      "Age_51-55                     49124 non-null float64\n",
      "Age_55+                       49124 non-null float64\n",
      "Occupation_0                  49124 non-null float64\n",
      "Occupation_1                  49124 non-null float64\n",
      "Occupation_2                  49124 non-null float64\n",
      "Occupation_3                  49124 non-null float64\n",
      "Occupation_4                  49124 non-null float64\n",
      "Occupation_5                  49124 non-null float64\n",
      "Occupation_6                  49124 non-null float64\n",
      "Occupation_7                  49124 non-null float64\n",
      "Occupation_8                  49124 non-null float64\n",
      "Occupation_9                  49124 non-null float64\n",
      "Occupation_10                 49124 non-null float64\n",
      "Occupation_11                 49124 non-null float64\n",
      "Occupation_12                 49124 non-null float64\n",
      "Occupation_13                 49124 non-null float64\n",
      "Occupation_14                 49124 non-null float64\n",
      "Occupation_15                 49124 non-null float64\n",
      "Occupation_16                 49124 non-null float64\n",
      "Occupation_17                 49124 non-null float64\n",
      "Occupation_18                 49124 non-null float64\n",
      "Occupation_19                 49124 non-null float64\n",
      "Occupation_20                 49124 non-null float64\n",
      "City_Category_A               49124 non-null float64\n",
      "City_Category_B               49124 non-null float64\n",
      "City_Category_C               49124 non-null float64\n",
      "dtypes: float64(33), int64(7), object(5)\n",
      "memory usage: 16.9+ MB\n"
     ]
    }
   ],
   "source": [
    "trainDf.info()"
   ]
  },
  {
   "cell_type": "code",
   "execution_count": null,
   "metadata": {
    "collapsed": true
   },
   "outputs": [],
   "source": []
  },
  {
   "cell_type": "code",
   "execution_count": null,
   "metadata": {
    "collapsed": true
   },
   "outputs": [],
   "source": []
  }
 ],
 "metadata": {
  "kernelspec": {
   "display_name": "Python 3",
   "language": "python",
   "name": "python3"
  },
  "language_info": {
   "codemirror_mode": {
    "name": "ipython",
    "version": 3
   },
   "file_extension": ".py",
   "mimetype": "text/x-python",
   "name": "python",
   "nbconvert_exporter": "python",
   "pygments_lexer": "ipython3",
   "version": "3.6.1"
  }
 },
 "nbformat": 4,
 "nbformat_minor": 2
}
