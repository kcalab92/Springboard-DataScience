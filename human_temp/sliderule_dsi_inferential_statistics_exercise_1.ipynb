{
 "cells": [
  {
   "cell_type": "markdown",
   "metadata": {},
   "source": [
    "# What is the True Normal Human Body Temperature? \n",
    "\n",
    "#### Background\n",
    "\n",
    "The mean normal body temperature was held to be 37$^{\\circ}$C or 98.6$^{\\circ}$F for more than 120 years since it was first conceptualized and reported by Carl Wunderlich in a famous 1868 book. But, is this value statistically correct?"
   ]
  },
  {
   "cell_type": "markdown",
   "metadata": {},
   "source": [
    "# <h3>Exercises</h3>\n",
    "\n",
    "<p>In this exercise, you will analyze a dataset of human body temperatures and employ the concepts of hypothesis testing, confidence intervals, and statistical significance.</p>\n",
    "\n",
    "<p>Answer the following questions <b>in this notebook below and submit to your Github account</b>.</p> \n",
    "\n",
    "<ol>\n",
    "<li>  Is the distribution of body temperatures normal? \n",
    "    <ul>\n",
    "    <li> Although this is not a requirement for CLT to hold (read CLT carefully), it gives us some peace of mind that the population may also be normally distributed if we assume that this sample is representative of the population.\n",
    "    </ul>\n",
    "<li>  Is the sample size large? Are the observations independent?\n",
    "    <ul>\n",
    "    <li> Remember that this is a condition for the CLT, and hence the statistical tests we are using, to apply.\n",
    "    </ul>\n",
    "<li>  Is the true population mean really 98.6 degrees F?\n",
    "    <ul>\n",
    "    <li> Would you use a one-sample or two-sample test? Why?\n",
    "    <li> In this situation, is it appropriate to use the $t$ or $z$ statistic? \n",
    "    <li> Now try using the other test. How is the result be different? Why?\n",
    "    </ul>\n",
    "<li>  Draw a small sample of size 10 from the data and repeat both tests. \n",
    "    <ul>\n",
    "    <li> Which one is the correct one to use? \n",
    "    <li> What do you notice? What does this tell you about the difference in application of the $t$ and $z$ statistic?\n",
    "    </ul>\n",
    "<li>  At what temperature should we consider someone's temperature to be \"abnormal\"?\n",
    "    <ul>\n",
    "    <li> Start by computing the margin of error and confidence interval.\n",
    "    </ul>\n",
    "<li>  Is there a significant difference between males and females in normal temperature?\n",
    "    <ul>\n",
    "    <li> What test did you use and why?\n",
    "    <li> Write a story with your conclusion in the context of the original problem.\n",
    "    </ul>\n",
    "</ol>\n",
    "\n",
    "You can include written notes in notebook cells using Markdown: \n",
    "   - In the control panel at the top, choose Cell > Cell Type > Markdown\n",
    "   - Markdown syntax: http://nestacms.com/docs/creating-content/markdown-cheat-sheet\n",
    "\n",
    "#### Resources\n",
    "\n",
    "+ Information and data sources: http://www.amstat.org/publications/jse/datasets/normtemp.txt, http://www.amstat.org/publications/jse/jse_data_archive.htm\n",
    "+ Markdown syntax: http://nestacms.com/docs/creating-content/markdown-cheat-sheet\n",
    "\n",
    "****"
   ]
  },
  {
   "cell_type": "code",
   "execution_count": 137,
   "metadata": {
    "collapsed": true
   },
   "outputs": [],
   "source": [
    "import pandas as pd\n",
    "import pandas as pd\n",
    "import scipy\n",
    "import numpy as np\n",
    "\n",
    "df = pd.read_csv('data/human_body_temperature.csv')"
   ]
  },
  {
   "cell_type": "markdown",
   "metadata": {},
   "source": [
    "#### 1. Is the distribution of body temperatures normal?\n",
    "\n",
    "Although this is not a requirement for CLT to hold (read CLT carefully), it gives us some peace of mind that the population may also be normally distributed if we assume that this sample is representative of the population."
   ]
  },
  {
   "cell_type": "markdown",
   "metadata": {},
   "source": [
    "#### Central Limit Theorem \n",
    "\n",
    "The Central Limit Theorem states that the sampling distribution of the sampling means approaches a normal distribution as the sample size gets larger — no matter what the shape of the population distribution. This fact holds especially true for sample sizes over 30. All this is saying is that as you take more samples, especially large ones, your graph of the sample means will look more like a normal distribution.\n"
   ]
  },
  {
   "cell_type": "code",
   "execution_count": 138,
   "metadata": {},
   "outputs": [
    {
     "data": {
      "text/html": [
       "<div>\n",
       "<style>\n",
       "    .dataframe thead tr:only-child th {\n",
       "        text-align: right;\n",
       "    }\n",
       "\n",
       "    .dataframe thead th {\n",
       "        text-align: left;\n",
       "    }\n",
       "\n",
       "    .dataframe tbody tr th {\n",
       "        vertical-align: top;\n",
       "    }\n",
       "</style>\n",
       "<table border=\"1\" class=\"dataframe\">\n",
       "  <thead>\n",
       "    <tr style=\"text-align: right;\">\n",
       "      <th></th>\n",
       "      <th>temperature</th>\n",
       "      <th>gender</th>\n",
       "      <th>heart_rate</th>\n",
       "    </tr>\n",
       "  </thead>\n",
       "  <tbody>\n",
       "    <tr>\n",
       "      <th>0</th>\n",
       "      <td>99.3</td>\n",
       "      <td>F</td>\n",
       "      <td>68.0</td>\n",
       "    </tr>\n",
       "    <tr>\n",
       "      <th>1</th>\n",
       "      <td>98.4</td>\n",
       "      <td>F</td>\n",
       "      <td>81.0</td>\n",
       "    </tr>\n",
       "    <tr>\n",
       "      <th>2</th>\n",
       "      <td>97.8</td>\n",
       "      <td>M</td>\n",
       "      <td>73.0</td>\n",
       "    </tr>\n",
       "    <tr>\n",
       "      <th>3</th>\n",
       "      <td>99.2</td>\n",
       "      <td>F</td>\n",
       "      <td>66.0</td>\n",
       "    </tr>\n",
       "    <tr>\n",
       "      <th>4</th>\n",
       "      <td>98.0</td>\n",
       "      <td>F</td>\n",
       "      <td>73.0</td>\n",
       "    </tr>\n",
       "    <tr>\n",
       "      <th>5</th>\n",
       "      <td>99.2</td>\n",
       "      <td>M</td>\n",
       "      <td>83.0</td>\n",
       "    </tr>\n",
       "    <tr>\n",
       "      <th>6</th>\n",
       "      <td>98.0</td>\n",
       "      <td>M</td>\n",
       "      <td>71.0</td>\n",
       "    </tr>\n",
       "    <tr>\n",
       "      <th>7</th>\n",
       "      <td>98.8</td>\n",
       "      <td>M</td>\n",
       "      <td>78.0</td>\n",
       "    </tr>\n",
       "    <tr>\n",
       "      <th>8</th>\n",
       "      <td>98.4</td>\n",
       "      <td>F</td>\n",
       "      <td>84.0</td>\n",
       "    </tr>\n",
       "    <tr>\n",
       "      <th>9</th>\n",
       "      <td>98.6</td>\n",
       "      <td>F</td>\n",
       "      <td>86.0</td>\n",
       "    </tr>\n",
       "  </tbody>\n",
       "</table>\n",
       "</div>"
      ],
      "text/plain": [
       "   temperature gender  heart_rate\n",
       "0         99.3      F        68.0\n",
       "1         98.4      F        81.0\n",
       "2         97.8      M        73.0\n",
       "3         99.2      F        66.0\n",
       "4         98.0      F        73.0\n",
       "5         99.2      M        83.0\n",
       "6         98.0      M        71.0\n",
       "7         98.8      M        78.0\n",
       "8         98.4      F        84.0\n",
       "9         98.6      F        86.0"
      ]
     },
     "execution_count": 138,
     "metadata": {},
     "output_type": "execute_result"
    }
   ],
   "source": [
    "df.head(10)"
   ]
  },
  {
   "cell_type": "code",
   "execution_count": 139,
   "metadata": {},
   "outputs": [
    {
     "name": "stdout",
     "output_type": "stream",
     "text": [
      "<class 'pandas.core.frame.DataFrame'>\n",
      "RangeIndex: 130 entries, 0 to 129\n",
      "Data columns (total 3 columns):\n",
      "temperature    130 non-null float64\n",
      "gender         130 non-null object\n",
      "heart_rate     130 non-null float64\n",
      "dtypes: float64(2), object(1)\n",
      "memory usage: 3.1+ KB\n"
     ]
    }
   ],
   "source": [
    "df.info()"
   ]
  },
  {
   "cell_type": "code",
   "execution_count": 140,
   "metadata": {},
   "outputs": [
    {
     "data": {
      "text/plain": [
       "count    130.000000\n",
       "mean      98.249231\n",
       "std        0.733183\n",
       "min       96.300000\n",
       "25%       97.800000\n",
       "50%       98.300000\n",
       "75%       98.700000\n",
       "max      100.800000\n",
       "Name: temperature, dtype: float64"
      ]
     },
     "execution_count": 140,
     "metadata": {},
     "output_type": "execute_result"
    }
   ],
   "source": [
    "df.temperature.describe()"
   ]
  },
  {
   "cell_type": "code",
   "execution_count": 141,
   "metadata": {
    "collapsed": true
   },
   "outputs": [],
   "source": [
    "mean = 98.249231\n",
    "std = 0.733183"
   ]
  },
  {
   "cell_type": "code",
   "execution_count": 142,
   "metadata": {
    "collapsed": true
   },
   "outputs": [],
   "source": [
    "sample1 = np.random.normal(mean, std, 100000)\n",
    "sample2 = np.random.normal(mean, std, 130)"
   ]
  },
  {
   "cell_type": "code",
   "execution_count": 143,
   "metadata": {
    "collapsed": true
   },
   "outputs": [],
   "source": [
    "def ecdf(data):\n",
    "      return np.sort(data), np.arange(1, len(data) + 1) / len(data)"
   ]
  },
  {
   "cell_type": "code",
   "execution_count": 144,
   "metadata": {
    "collapsed": true
   },
   "outputs": [],
   "source": [
    "x, y = ecdf(df['temperature'])"
   ]
  },
  {
   "cell_type": "code",
   "execution_count": 145,
   "metadata": {
    "collapsed": true
   },
   "outputs": [],
   "source": [
    "x_theor, y_theor = ecdf(sample1)"
   ]
  },
  {
   "cell_type": "code",
   "execution_count": 146,
   "metadata": {
    "collapsed": true
   },
   "outputs": [],
   "source": [
    "import matplotlib.pyplot as plt\n",
    "import seaborn as sns"
   ]
  },
  {
   "cell_type": "code",
   "execution_count": 147,
   "metadata": {
    "collapsed": true
   },
   "outputs": [],
   "source": [
    "sns.set()"
   ]
  },
  {
   "cell_type": "code",
   "execution_count": 148,
   "metadata": {
    "collapsed": true
   },
   "outputs": [],
   "source": [
    "_ = plt.plot(x_theor, y_theor)"
   ]
  },
  {
   "cell_type": "code",
   "execution_count": 149,
   "metadata": {
    "collapsed": true
   },
   "outputs": [],
   "source": [
    "_ = plt.plot(x, y, marker='.', linestyle='none')"
   ]
  },
  {
   "cell_type": "code",
   "execution_count": 150,
   "metadata": {
    "collapsed": true
   },
   "outputs": [],
   "source": [
    "_ = plt.xlabel('body temperature (fahrenheit)')"
   ]
  },
  {
   "cell_type": "code",
   "execution_count": 151,
   "metadata": {},
   "outputs": [
    {
     "data": {
      "text/plain": [
       "<matplotlib.text.Text at 0x1147a64e0>"
      ]
     },
     "execution_count": 151,
     "metadata": {},
     "output_type": "execute_result"
    }
   ],
   "source": [
    "plt.ylabel('CDF')"
   ]
  },
  {
   "cell_type": "code",
   "execution_count": 152,
   "metadata": {},
   "outputs": [
    {
     "data": {
      "image/png": "[encoded data removed]",
      "text/plain": [
       "<matplotlib.figure.Figure at 0x11478d128>"
      ]
     },
     "metadata": {},
     "output_type": "display_data"
    }
   ],
   "source": [
    "plt.show()"
   ]
  },
  {
   "cell_type": "code",
   "execution_count": 153,
   "metadata": {
    "collapsed": true
   },
   "outputs": [],
   "source": [
    "_ = plt.hist(df['temperature'], bins = 12, histtype='step', color='red')\n",
    "_ = plt.hist(sample2, bins=12, histtype='step', color='blue')"
   ]
  },
  {
   "cell_type": "code",
   "execution_count": 154,
   "metadata": {},
   "outputs": [
    {
     "data": {
      "image/png": "[encoded data removed]",
      "text/plain": [
       "<matplotlib.figure.Figure at 0x113975400>"
      ]
     },
     "metadata": {},
     "output_type": "display_data"
    }
   ],
   "source": [
    "plt.show()"
   ]
  },
  {
   "cell_type": "code",
   "execution_count": 155,
   "metadata": {},
   "outputs": [
    {
     "data": {
      "text/plain": [
       "316.22776601683796"
      ]
     },
     "execution_count": 155,
     "metadata": {},
     "output_type": "execute_result"
    }
   ],
   "source": [
    "np.sqrt(100000)"
   ]
  },
  {
   "cell_type": "code",
   "execution_count": 156,
   "metadata": {
    "collapsed": true
   },
   "outputs": [],
   "source": [
    "_ = plt.hist(sample1, bins = 310, histtype='step', color = 'green')"
   ]
  },
  {
   "cell_type": "code",
   "execution_count": 157,
   "metadata": {},
   "outputs": [
    {
     "data": {
      "image/png": "[encoded data removed]",
      "text/plain": [
       "<matplotlib.figure.Figure at 0x114c645f8>"
      ]
     },
     "metadata": {},
     "output_type": "display_data"
    }
   ],
   "source": [
    "plt.show()"
   ]
  },
  {
   "cell_type": "code",
   "execution_count": 158,
   "metadata": {},
   "outputs": [
    {
     "data": {
      "text/plain": [
       "<matplotlib.axes._subplots.AxesSubplot at 0x113eed160>"
      ]
     },
     "execution_count": 158,
     "metadata": {},
     "output_type": "execute_result"
    }
   ],
   "source": [
    "import seaborn as sns\n",
    "import matplotlib.pyplot as plt\n",
    "body_temp = df['temperature']\n",
    "sns.distplot(body_temp)"
   ]
  },
  {
   "cell_type": "code",
   "execution_count": 159,
   "metadata": {},
   "outputs": [
    {
     "data": {
      "image/png": "[encoded data removed]",
      "text/plain": [
       "<matplotlib.figure.Figure at 0x114ca55c0>"
      ]
     },
     "metadata": {},
     "output_type": "display_data"
    }
   ],
   "source": [
    "plt.show()"
   ]
  },
  {
   "cell_type": "code",
   "execution_count": 160,
   "metadata": {
    "collapsed": true
   },
   "outputs": [],
   "source": [
    "import scipy.stats as stats"
   ]
  },
  {
   "cell_type": "code",
   "execution_count": 161,
   "metadata": {},
   "outputs": [
    {
     "data": {
      "text/plain": [
       "NormaltestResult(statistic=2.7038014333192031, pvalue=0.2587479863488254)"
      ]
     },
     "execution_count": 161,
     "metadata": {},
     "output_type": "execute_result"
    }
   ],
   "source": [
    "stats.normaltest(df['temperature'])"
   ]
  },
  {
   "cell_type": "markdown",
   "metadata": {},
   "source": [
    "#### 1: Solution\n",
    "\n",
    "The data is normally distributed. All four visualizations depict normal distributions and the p value of the normal test is greater then 0.05 which indicates the data has a normal distribution at a significance level of 0.05."
   ]
  },
  {
   "cell_type": "markdown",
   "metadata": {},
   "source": [
    "#### 2: Is the sample size large? Are the observations independent?\n",
    "\n",
    "Remember that this is a condition for the CLT, and hence the statistical tests we are using, to apply."
   ]
  },
  {
   "cell_type": "code",
   "execution_count": 162,
   "metadata": {
    "collapsed": true
   },
   "outputs": [],
   "source": [
    "def necc_samp_size(pop, moe, z, std):\n",
    "    stdev = std\n",
    "    x = (z**2) * (std) * (1-std)\n",
    "    y = moe**2\n",
    "    z = y*pop\n",
    "    a = x / y\n",
    "    b = x / z\n",
    "    nec_samp_size = a / (1 + b)\n",
    "    print(\"Necessary sample size: \", '%.0f' % nec_samp_size)"
   ]
  },
  {
   "cell_type": "code",
   "execution_count": 163,
   "metadata": {},
   "outputs": [
    {
     "name": "stdout",
     "output_type": "stream",
     "text": [
      "Necessary sample size:  301\n"
     ]
    }
   ],
   "source": [
    "necc_samp_size(1000000000, .05, 1.96, 0.733183)"
   ]
  },
  {
   "cell_type": "code",
   "execution_count": 164,
   "metadata": {},
   "outputs": [
    {
     "name": "stdout",
     "output_type": "stream",
     "text": [
      "Necessary sample size:  53\n"
     ]
    }
   ],
   "source": [
    "necc_samp_size(1000000000, .1, 1.645, 0.733183)"
   ]
  },
  {
   "cell_type": "code",
   "execution_count": 165,
   "metadata": {},
   "outputs": [
    {
     "name": "stdout",
     "output_type": "stream",
     "text": [
      "   temperature  heart_rate\n",
      "0         99.3        68.0\n",
      "1         98.4        81.0\n",
      "2         97.8        73.0\n",
      "3         99.2        66.0\n",
      "4         98.0        73.0\n",
      "   temperature  heart_rate\n",
      "0     0.233504   -0.180048\n",
      "1     0.033504    0.226202\n",
      "2    -0.099829   -0.023798\n",
      "3     0.211282   -0.242548\n",
      "4    -0.055385   -0.023798\n"
     ]
    },
    {
     "data": {
      "image/png": "[encoded data removed]",
      "text/plain": [
       "<matplotlib.figure.Figure at 0x114cabe10>"
      ]
     },
     "metadata": {},
     "output_type": "display_data"
    }
   ],
   "source": [
    "df_th = df[[\"temperature\", \"heart_rate\"]]\n",
    "print(df_th.head(5))\n",
    "\n",
    "df_norm = (df_th - df_th.mean()) / (df_th.max() - df_th.min())\n",
    "print(df_norm.head(5))\n",
    "\n",
    "sns.regplot(df_norm['temperature'], df_norm['heart_rate'])\n",
    "plt.show()"
   ]
  },
  {
   "cell_type": "markdown",
   "metadata": {},
   "source": [
    "#### 2: Solution\n",
    "\n",
    "Assuming a population of 1 billion people at a 95% confidence level the neccesary sample size would be 301 people. Our actual sample size was only 130 people. If we reduce the confidence level to 90%, our neccesary sample size becomes 53 which is well below our actual sample size suggesting that at a 90% confidence level our sample size is adequately large. \n",
    "\n",
    "The observations are independent, because one persons body temperature does not impact another person's body temperature.\n",
    "\n",
    "The observations are independent, because the regression plot displays no existance of a trend between body temperature and heart rate. "
   ]
  },
  {
   "cell_type": "code",
   "execution_count": 166,
   "metadata": {},
   "outputs": [
    {
     "name": "stdout",
     "output_type": "stream",
     "text": [
      "Necessary sample size:  301\n"
     ]
    }
   ],
   "source": [
    "necc_samp_size(1000000000, .05, 1.96, .733183)"
   ]
  },
  {
   "cell_type": "markdown",
   "metadata": {},
   "source": [
    "#### 3: Is the true population mean really 98.6 degrees F?\n",
    "\n",
    "a) Would you use a one-sample or two-sample test? Why?\n",
    "\n",
    "b) In this situation, is it appropriate to use the  t  or  z  statistic?\n",
    "\n",
    "c) Now try using the other test. How is the result be different? Why?"
   ]
  },
  {
   "cell_type": "markdown",
   "metadata": {},
   "source": [
    "#### 3: Solution\n",
    "\n",
    "a) You would use a one-sample test, because we are testing a single sample of data\n",
    "\n",
    "b) It is appropriate to use either a t statistic or a z statistic, because although we do not know the population variance the data has greater then 30 observations making a z statistic also acceptable. "
   ]
  },
  {
   "cell_type": "code",
   "execution_count": 167,
   "metadata": {
    "collapsed": true
   },
   "outputs": [],
   "source": [
    "#Null Hypothesis: 98.6 degrees is the true population mean. The population mean is equal to the sample mean. \n",
    "#Alt Hypothesis: 98.6 degrees is not the true population mean. The population mean is not equal to the sample mean. "
   ]
  },
  {
   "cell_type": "code",
   "execution_count": 168,
   "metadata": {
    "collapsed": true
   },
   "outputs": [],
   "source": [
    "# T test\n",
    "t_05_two_tail = 1.97852448\n",
    "sampMean = 98.249231\n",
    "popMean = 98.6\n",
    "sampStd = 0.733183\n",
    "n = 130"
   ]
  },
  {
   "cell_type": "code",
   "execution_count": 169,
   "metadata": {},
   "outputs": [
    {
     "data": {
      "text/plain": [
       "-5.4548208794611863"
      ]
     },
     "execution_count": 169,
     "metadata": {},
     "output_type": "execute_result"
    }
   ],
   "source": [
    "t = (sampMean - popMean) / (sampStd / (np.sqrt(n)))\n",
    "t"
   ]
  },
  {
   "cell_type": "code",
   "execution_count": 170,
   "metadata": {},
   "outputs": [
    {
     "name": "stdout",
     "output_type": "stream",
     "text": [
      "Ttest_1sampResult(statistic=-5.4548232923645195, pvalue=2.4106320415561276e-07)\n"
     ]
    }
   ],
   "source": [
    "results = scipy.stats.ttest_1samp(df['temperature'],98.6)\n",
    "print(results)"
   ]
  },
  {
   "cell_type": "code",
   "execution_count": 171,
   "metadata": {
    "collapsed": true
   },
   "outputs": [],
   "source": [
    "# P-value lookup from Z value calculator:\n",
    "\n",
    "# The P-Value is < 0.00001."
   ]
  },
  {
   "cell_type": "markdown",
   "metadata": {},
   "source": [
    "#### C)\n",
    "\n",
    "##### T-Test\n",
    "The t-test statistic is ~ -5.4759 which is less than the critical t value -1.9785 for an alpha of .05 thus we reject the null hypothesis that 98.6 degrees is the true population mean and accept the alternative that the population mean is not equal equal to 98.6. \n",
    "\n",
    "##### Z-Test\n",
    "\n",
    "The z-test statisitic is also ~ -5.4759. The P-Value associated with this z-statisitic is < 0.00001. Thus at an alpha of .05 we again reject the null hypothesis that 98.6 degrees is the true population mean and accept the alternative that the population mean is not equal equal to 98.6. "
   ]
  },
  {
   "cell_type": "markdown",
   "metadata": {},
   "source": [
    "#### 4. Draw a small sample of size 10 from the data and repeat both tests.\n",
    "\n",
    "a) Which one is the correct one to use?\n",
    "\n",
    "b) What do you notice? What does this tell you about the difference in application of the  t  and  z  statistic?"
   ]
  },
  {
   "cell_type": "code",
   "execution_count": 172,
   "metadata": {},
   "outputs": [
    {
     "name": "stdout",
     "output_type": "stream",
     "text": [
      "10 [ 97.7  98.4  98.7  99.   98.5  98.7  98.2  98.8  98.1  98.3]\n"
     ]
    }
   ],
   "source": [
    "permuted_data = np.random.permutation(df['temperature'])\n",
    "permuted_data_10 = permuted_data[10:20]\n",
    "print(len(permuted_data_10),permuted_data_10)"
   ]
  },
  {
   "cell_type": "code",
   "execution_count": 173,
   "metadata": {},
   "outputs": [
    {
     "name": "stdout",
     "output_type": "stream",
     "text": [
      "98.44\n",
      "0.363868107973\n"
     ]
    }
   ],
   "source": [
    "mean10 = np.mean(permuted_data_10)\n",
    "std10 = np.std(permuted_data_10)\n",
    "n10 = 10\n",
    "print(mean10)\n",
    "print(std10)"
   ]
  },
  {
   "cell_type": "code",
   "execution_count": 174,
   "metadata": {
    "collapsed": true
   },
   "outputs": [],
   "source": [
    "t_05_two_tail = 2.262\n",
    "sampMean10 = mean10\n",
    "popMean10 = 98.6\n",
    "sampStd10 = std10"
   ]
  },
  {
   "cell_type": "code",
   "execution_count": 175,
   "metadata": {},
   "outputs": [
    {
     "data": {
      "text/plain": [
       "-1.3905159989019671"
      ]
     },
     "execution_count": 175,
     "metadata": {},
     "output_type": "execute_result"
    }
   ],
   "source": [
    "t10 = (sampMean10 - popMean) / (sampStd10 / (np.sqrt(n10)))\n",
    "t10"
   ]
  },
  {
   "cell_type": "code",
   "execution_count": 176,
   "metadata": {},
   "outputs": [
    {
     "name": "stdout",
     "output_type": "stream",
     "text": [
      "Ttest_1sampResult(statistic=-1.3191593038303229, pvalue=0.21968998449588154)\n"
     ]
    }
   ],
   "source": [
    "results10 = scipy.stats.ttest_1samp(permuted_data_10,98.6)\n",
    "results10 = results10\n",
    "print(results10)"
   ]
  },
  {
   "cell_type": "code",
   "execution_count": 177,
   "metadata": {
    "collapsed": true
   },
   "outputs": [],
   "source": [
    "# Online calculator\n",
    "\n",
    "#The P-Value is 0.106745.\n",
    "\n",
    "#The result is not significant at p < 0.05."
   ]
  },
  {
   "cell_type": "code",
   "execution_count": 178,
   "metadata": {},
   "outputs": [
    {
     "name": "stdout",
     "output_type": "stream",
     "text": [
      "0.1074\n"
     ]
    }
   ],
   "source": [
    "#Look up table\n",
    "\n",
    "#The P-Value is 0.0537 * 2 =\n",
    "p = 0.0537 * 2\n",
    "print(p)\n",
    "#The result is not significant at p < 0.5"
   ]
  },
  {
   "cell_type": "markdown",
   "metadata": {},
   "source": [
    "#### 4: Solution\n",
    "\n",
    "a) The T test is the correct test to use, because we do not know the variance of the population and the sample size is under 30.\n",
    "\n",
    "#### b)\n",
    "\n",
    "#### T-Test\n",
    "\n",
    "The t-test statistic is -1.6865 which is more than the critical t value of -2.262 for an alpha of .05 thus we fail to reject the null hypothesis that 98.6 degrees is the true population mean.\n",
    "\n",
    "#### Z-Test\n",
    "\n",
    "The z-test statisitic is also -1.6865. The P-Value associated with this z-statisitic is 0.1074 so at an alpha of .05 we thus fail to reject the null hypothesis that 98.6 degrees is the true population mean."
   ]
  },
  {
   "cell_type": "markdown",
   "metadata": {},
   "source": [
    "### 5. At what temperature should we consider someone's temperature to be \"abnormal\"?\n",
    "\n",
    "Start by computing the margin of error and confidence interval."
   ]
  },
  {
   "cell_type": "code",
   "execution_count": 179,
   "metadata": {},
   "outputs": [
    {
     "data": {
      "text/plain": [
       "(96.812218185403111, 99.686243353058444)"
      ]
     },
     "execution_count": 179,
     "metadata": {},
     "output_type": "execute_result"
    }
   ],
   "source": [
    "CI_low, CI_high = stats.norm.interval(0.95, loc=df.temperature.mean(), scale=df.temperature.std())\n",
    "CI_low, CI_high"
   ]
  },
  {
   "cell_type": "code",
   "execution_count": 180,
   "metadata": {},
   "outputs": [
    {
     "name": "stdout",
     "output_type": "stream",
     "text": [
      "margin of error is:  1.4370386800000001\n",
      "95% confidence interval:  96.81219232 ,  99.68626968\n"
     ]
    }
   ],
   "source": [
    "# Z test confidence interval\n",
    "z90 = 1.645\n",
    "z95 = 1.96\n",
    "z99 = 2.576\n",
    "\n",
    "sampStd = 0.733183\n",
    "sampMean = 98.249231\n",
    "\n",
    "marginoferror = z95 * sampStd\n",
    "\n",
    "lower = sampMean - marginoferror\n",
    "upper = sampMean + marginoferror\n",
    "\n",
    "print('margin of error is: ', marginoferror)\n",
    "print(\"95% confidence interval: \", lower, \", \", upper)"
   ]
  },
  {
   "cell_type": "code",
   "execution_count": 181,
   "metadata": {},
   "outputs": [
    {
     "name": "stdout",
     "output_type": "stream",
     "text": [
      "margin of error is:  0.352124480262\n",
      "95% confidence interval:  97.8971065197 ,  98.6013554803\n"
     ]
    }
   ],
   "source": [
    "# T test confidence interval\n",
    "\n",
    "marginoferrorT = 5.4759 * (sampStd/np.sqrt(130))\n",
    "\n",
    "upperT = sampMean + marginoferrorT\n",
    "lowerT = sampMean - marginoferrorT\n",
    "\n",
    "print('margin of error is: ', marginoferrorT)\n",
    "print(\"95% confidence interval: \", lowerT, \", \", upperT)\n"
   ]
  },
  {
   "cell_type": "markdown",
   "metadata": {
    "collapsed": true
   },
   "source": [
    "##### 5: Solution\n",
    "\n",
    "Calculated the confidence interval using the Z statistic and using the T statistic\n",
    "\n",
    "For a Z Stat the margin of error is 0.1260 and the confidence interval with 95% conifidence is (96.8122 ,  99.6863)\n",
    "\n",
    "For a T Stat the margin of error is 0.3521 and the confidnce interval with 95% confidence is ( 97.8971,  98.6014)\n",
    "\n",
    "Assuming a normal distribution we would consider a temperature of 96.8122 F abnormally low and a temperature of 99.6863 F abnormally high.\n",
    "\n",
    "Assuming a t distribution we would consider a temperature of 97.8971 F abnormally low and a temperature of 98.6014 F abnormally high."
   ]
  },
  {
   "cell_type": "markdown",
   "metadata": {},
   "source": [
    "#### 6. Is there a significant difference between males and females in normal temperature?\n",
    "\n",
    "a) What test did you use and why?\n",
    "\n",
    "b) Write a story with your conclusion in the context of the original problem."
   ]
  },
  {
   "cell_type": "code",
   "execution_count": 182,
   "metadata": {
    "collapsed": true
   },
   "outputs": [],
   "source": [
    "# Null Hypothesis: The difference between males average temperature and females average temperature is 0\n",
    "# Alternative Hypothesis: The difference between males average temperature and females average temperature is not 0"
   ]
  },
  {
   "cell_type": "code",
   "execution_count": 183,
   "metadata": {},
   "outputs": [],
   "source": [
    "males = df[df['gender'] == 'M']\n",
    "\n",
    "males = males['temperature']\n",
    "females = df[df['gender'] == 'F']\n",
    "females = females['temperature']\n",
    "male = males.as_matrix()\n",
    "female = females.as_matrix()\n",
    "difference = female - male"
   ]
  },
  {
   "cell_type": "code",
   "execution_count": 184,
   "metadata": {},
   "outputs": [
    {
     "name": "stdout",
     "output_type": "stream",
     "text": [
      "Mean differences is:  0.289230769231 Standard deviation of differences is:  1.03226756772 standard error of differences is:  0.128037033787\n"
     ]
    }
   ],
   "source": [
    "diffMean = np.mean(difference)\n",
    "diffStd = np.std(difference)\n",
    "stdM = np.std(male)\n",
    "stdF = np.std(female)\n",
    "ste = diffStd / (np.sqrt(65))\n",
    "print(\"Mean differences is: \", diffMean, \"Standard deviation of differences is: \", diffStd, \n",
    "     \"standard error of differences is: \", ste)"
   ]
  },
  {
   "cell_type": "code",
   "execution_count": 185,
   "metadata": {},
   "outputs": [
    {
     "data": {
      "text/plain": [
       "Ttest_indResult(statistic=-2.2854345381656103, pvalue=0.023931883122395609)"
      ]
     },
     "execution_count": 185,
     "metadata": {},
     "output_type": "execute_result"
    }
   ],
   "source": [
    "stats.ttest_ind(male,female)"
   ]
  },
  {
   "cell_type": "code",
   "execution_count": 188,
   "metadata": {},
   "outputs": [
    {
     "data": {
      "text/plain": [
       "2.3032202891943552"
      ]
     },
     "execution_count": 188,
     "metadata": {},
     "output_type": "execute_result"
    }
   ],
   "source": [
    "t1 = diffMean / np.sqrt(((stdM**2)/65)+((stdF**2)/65))\n",
    "t1"
   ]
  },
  {
   "cell_type": "code",
   "execution_count": 187,
   "metadata": {},
   "outputs": [
    {
     "data": {
      "text/plain": [
       "2.2589618071927862"
      ]
     },
     "execution_count": 187,
     "metadata": {},
     "output_type": "execute_result"
    }
   ],
   "source": [
    "t = (diffMean - 0) / ste\n",
    "t"
   ]
  },
  {
   "cell_type": "markdown",
   "metadata": {},
   "source": [
    "#### 6 Solution\n",
    "\n",
    "a) Two sample T test\n",
    "\n",
    "b) The t statisitic is 2.3 which falls outside the acceptance region of -2.045 to 2.045, thus we reject the null hypothesis and accept the alternate hypothesis that the mean difference of male and female body temperature is different with a significance of level of 0.05."
   ]
  }
 ],
 "metadata": {
  "kernelspec": {
   "display_name": "Python 3",
   "language": "python",
   "name": "python3"
  },
  "language_info": {
   "codemirror_mode": {
    "name": "ipython",
    "version": 3
   },
   "file_extension": ".py",
   "mimetype": "text/x-python",
   "name": "python",
   "nbconvert_exporter": "python",
   "pygments_lexer": "ipython3",
   "version": "3.6.1"
  }
 },
 "nbformat": 4,
 "nbformat_minor": 1
}
